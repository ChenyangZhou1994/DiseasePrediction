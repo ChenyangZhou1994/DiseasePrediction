{
 "cells": [
  {
   "cell_type": "markdown",
   "metadata": {
    "collapsed": true,
    "pycharm": {
     "name": "#%% md\n"
    }
   },
   "source": [
    "# BaseLine—XGB\n"
   ]
  },
  {
   "cell_type": "markdown",
   "source": [
    "## 1.包加载"
   ],
   "metadata": {
    "collapsed": false,
    "pycharm": {
     "name": "#%% md\n"
    }
   }
  },
  {
   "cell_type": "code",
   "execution_count": 1,
   "outputs": [],
   "source": [
    "import numpy as np\n",
    "import pandas as pd\n",
    "import csv\n",
    "\n",
    "#preprocessing\n",
    "from sklearn.preprocessing import StandardScaler\n",
    "from sklearn.model_selection import train_test_split\n",
    "from pandas.plotting import scatter_matrix\n",
    "\n",
    "#visualizations\n",
    "import seaborn as sns\n",
    "from matplotlib import pyplot as plt\n",
    "%matplotlib inline\n",
    "\n",
    "plt.rcParams['font.sans-serif']=['SimHei']\n",
    "plt.rcParams['axes.unicode_minus']=False\n",
    "\n",
    "#algorithms\n",
    "from xgboost import XGBClassifier\n",
    "from sklearn.ensemble import GradientBoostingClassifier\n",
    "from sklearn.ensemble import RandomForestClassifier\n",
    "from sklearn.svm import SVC\n",
    "from sklearn.linear_model import LogisticRegression\n",
    "\n",
    "#score metrics\n",
    "from sklearn.model_selection import cross_val_score\n",
    "from sklearn.metrics import accuracy_score\n",
    "from sklearn.metrics import classification_report\n",
    "from sklearn.metrics import confusion_matrix"
   ],
   "metadata": {
    "collapsed": false,
    "pycharm": {
     "name": "#%%\n"
    }
   }
  },
  {
   "cell_type": "markdown",
   "source": [
    "## 2.读取数据"
   ],
   "metadata": {
    "collapsed": false,
    "pycharm": {
     "name": "#%% md\n"
    }
   }
  },
  {
   "cell_type": "code",
   "execution_count": 2,
   "outputs": [
    {
     "data": {
      "text/plain": "   年龄 性别    区域     体重     身高   体重指数  肥胖腰围     腰围   最高血压  最低血压  好胆固醇   坏胆固醇  \\\n0  58  F  east   75.6  174.9  24.71   0.0   94.8  100.0  52.0  35.0   95.0   \n1  85  F  east   66.3  166.1  24.03   0.0   89.6  134.0  84.0  59.0  153.0   \n2  32  F  east  109.9  173.2  36.64   1.0  111.7  124.0  84.0  39.0  133.0   \n3  22  M  east   58.7  171.3  20.00   0.0   78.0  104.0  56.0  48.0   98.0   \n4  44  F  west   79.7  172.1  26.91   0.0   93.8  114.0  60.0  34.0  195.0   \n\n    总胆固醇  血脂异常  周边血管疾病  体育活动   教育   未婚   收入              护理来源  视力不佳  饮酒  高血压  \\\n0  130.0     0       0   1.0  0.0  0.0  0.0  Private Hospital   0.0   0  1.0   \n1  212.0     0       0   2.0  0.0  0.0  0.0  Private Hospital   0.0   1  0.0   \n2  172.0     0       0   2.0  1.0  0.0  1.0  Private Hospital   0.0   0  0.0   \n3  146.0     0       0   2.0  1.0  1.0  0.0  Never Counsulted   0.0   0  0.0   \n4  229.0     0       0   2.0  0.0  0.0  0.0  Private Hospital   0.0   0  0.0   \n\n   家庭高血压  糖尿病  家族糖尿病   肝炎  家族肝炎  慢性疲劳  急性肝衰竭    ID  \n0      1    0      1  1.0   0.0   1.0    0.0  4379  \n1      0    0      0  0.0   0.0   0.0    NaN  7623  \n2      0    0      0  0.0   0.0   0.0    0.0  1764  \n3      0    0      0  0.0   0.0   0.0    0.0  5450  \n4      0    0      0  0.0   0.0   0.0    0.0  5196  ",
      "text/html": "<div>\n<style scoped>\n    .dataframe tbody tr th:only-of-type {\n        vertical-align: middle;\n    }\n\n    .dataframe tbody tr th {\n        vertical-align: top;\n    }\n\n    .dataframe thead th {\n        text-align: right;\n    }\n</style>\n<table border=\"1\" class=\"dataframe\">\n  <thead>\n    <tr style=\"text-align: right;\">\n      <th></th>\n      <th>年龄</th>\n      <th>性别</th>\n      <th>区域</th>\n      <th>体重</th>\n      <th>身高</th>\n      <th>体重指数</th>\n      <th>肥胖腰围</th>\n      <th>腰围</th>\n      <th>最高血压</th>\n      <th>最低血压</th>\n      <th>好胆固醇</th>\n      <th>坏胆固醇</th>\n      <th>总胆固醇</th>\n      <th>血脂异常</th>\n      <th>周边血管疾病</th>\n      <th>体育活动</th>\n      <th>教育</th>\n      <th>未婚</th>\n      <th>收入</th>\n      <th>护理来源</th>\n      <th>视力不佳</th>\n      <th>饮酒</th>\n      <th>高血压</th>\n      <th>家庭高血压</th>\n      <th>糖尿病</th>\n      <th>家族糖尿病</th>\n      <th>肝炎</th>\n      <th>家族肝炎</th>\n      <th>慢性疲劳</th>\n      <th>急性肝衰竭</th>\n      <th>ID</th>\n    </tr>\n  </thead>\n  <tbody>\n    <tr>\n      <th>0</th>\n      <td>58</td>\n      <td>F</td>\n      <td>east</td>\n      <td>75.6</td>\n      <td>174.9</td>\n      <td>24.71</td>\n      <td>0.0</td>\n      <td>94.8</td>\n      <td>100.0</td>\n      <td>52.0</td>\n      <td>35.0</td>\n      <td>95.0</td>\n      <td>130.0</td>\n      <td>0</td>\n      <td>0</td>\n      <td>1.0</td>\n      <td>0.0</td>\n      <td>0.0</td>\n      <td>0.0</td>\n      <td>Private Hospital</td>\n      <td>0.0</td>\n      <td>0</td>\n      <td>1.0</td>\n      <td>1</td>\n      <td>0</td>\n      <td>1</td>\n      <td>1.0</td>\n      <td>0.0</td>\n      <td>1.0</td>\n      <td>0.0</td>\n      <td>4379</td>\n    </tr>\n    <tr>\n      <th>1</th>\n      <td>85</td>\n      <td>F</td>\n      <td>east</td>\n      <td>66.3</td>\n      <td>166.1</td>\n      <td>24.03</td>\n      <td>0.0</td>\n      <td>89.6</td>\n      <td>134.0</td>\n      <td>84.0</td>\n      <td>59.0</td>\n      <td>153.0</td>\n      <td>212.0</td>\n      <td>0</td>\n      <td>0</td>\n      <td>2.0</td>\n      <td>0.0</td>\n      <td>0.0</td>\n      <td>0.0</td>\n      <td>Private Hospital</td>\n      <td>0.0</td>\n      <td>1</td>\n      <td>0.0</td>\n      <td>0</td>\n      <td>0</td>\n      <td>0</td>\n      <td>0.0</td>\n      <td>0.0</td>\n      <td>0.0</td>\n      <td>NaN</td>\n      <td>7623</td>\n    </tr>\n    <tr>\n      <th>2</th>\n      <td>32</td>\n      <td>F</td>\n      <td>east</td>\n      <td>109.9</td>\n      <td>173.2</td>\n      <td>36.64</td>\n      <td>1.0</td>\n      <td>111.7</td>\n      <td>124.0</td>\n      <td>84.0</td>\n      <td>39.0</td>\n      <td>133.0</td>\n      <td>172.0</td>\n      <td>0</td>\n      <td>0</td>\n      <td>2.0</td>\n      <td>1.0</td>\n      <td>0.0</td>\n      <td>1.0</td>\n      <td>Private Hospital</td>\n      <td>0.0</td>\n      <td>0</td>\n      <td>0.0</td>\n      <td>0</td>\n      <td>0</td>\n      <td>0</td>\n      <td>0.0</td>\n      <td>0.0</td>\n      <td>0.0</td>\n      <td>0.0</td>\n      <td>1764</td>\n    </tr>\n    <tr>\n      <th>3</th>\n      <td>22</td>\n      <td>M</td>\n      <td>east</td>\n      <td>58.7</td>\n      <td>171.3</td>\n      <td>20.00</td>\n      <td>0.0</td>\n      <td>78.0</td>\n      <td>104.0</td>\n      <td>56.0</td>\n      <td>48.0</td>\n      <td>98.0</td>\n      <td>146.0</td>\n      <td>0</td>\n      <td>0</td>\n      <td>2.0</td>\n      <td>1.0</td>\n      <td>1.0</td>\n      <td>0.0</td>\n      <td>Never Counsulted</td>\n      <td>0.0</td>\n      <td>0</td>\n      <td>0.0</td>\n      <td>0</td>\n      <td>0</td>\n      <td>0</td>\n      <td>0.0</td>\n      <td>0.0</td>\n      <td>0.0</td>\n      <td>0.0</td>\n      <td>5450</td>\n    </tr>\n    <tr>\n      <th>4</th>\n      <td>44</td>\n      <td>F</td>\n      <td>west</td>\n      <td>79.7</td>\n      <td>172.1</td>\n      <td>26.91</td>\n      <td>0.0</td>\n      <td>93.8</td>\n      <td>114.0</td>\n      <td>60.0</td>\n      <td>34.0</td>\n      <td>195.0</td>\n      <td>229.0</td>\n      <td>0</td>\n      <td>0</td>\n      <td>2.0</td>\n      <td>0.0</td>\n      <td>0.0</td>\n      <td>0.0</td>\n      <td>Private Hospital</td>\n      <td>0.0</td>\n      <td>0</td>\n      <td>0.0</td>\n      <td>0</td>\n      <td>0</td>\n      <td>0</td>\n      <td>0.0</td>\n      <td>0.0</td>\n      <td>0.0</td>\n      <td>0.0</td>\n      <td>5196</td>\n    </tr>\n  </tbody>\n</table>\n</div>"
     },
     "execution_count": 2,
     "metadata": {},
     "output_type": "execute_result"
    }
   ],
   "source": [
    "train = pd.read_csv('./train/train.csv')\n",
    "pd.set_option('max_columns', 35)\n",
    "train.head(5)"
   ],
   "metadata": {
    "collapsed": false,
    "pycharm": {
     "name": "#%%\n"
    }
   }
  },
  {
   "cell_type": "code",
   "execution_count": 3,
   "outputs": [
    {
     "data": {
      "text/plain": "(6000, 31)"
     },
     "execution_count": 3,
     "metadata": {},
     "output_type": "execute_result"
    }
   ],
   "source": [
    "train.shape"
   ],
   "metadata": {
    "collapsed": false,
    "pycharm": {
     "name": "#%%\n"
    }
   }
  },
  {
   "cell_type": "markdown",
   "source": [
    "## 3.数据总样"
   ],
   "metadata": {
    "collapsed": false,
    "pycharm": {
     "name": "#%% md\n"
    }
   }
  },
  {
   "cell_type": "code",
   "execution_count": 4,
   "outputs": [
    {
     "name": "stdout",
     "output_type": "stream",
     "text": [
      "<class 'pandas.core.frame.DataFrame'>\n",
      "RangeIndex: 6000 entries, 0 to 5999\n",
      "Data columns (total 31 columns):\n",
      " #   Column  Non-Null Count  Dtype  \n",
      "---  ------  --------------  -----  \n",
      " 0   年龄      6000 non-null   int64  \n",
      " 1   性别      6000 non-null   object \n",
      " 2   区域      6000 non-null   object \n",
      " 3   体重      5860 non-null   float64\n",
      " 4   身高      5864 non-null   float64\n",
      " 5   体重指数    5791 non-null   float64\n",
      " 6   肥胖腰围    5791 non-null   float64\n",
      " 7   腰围      5776 non-null   float64\n",
      " 8   最高血压    5781 non-null   float64\n",
      " 9   最低血压    5727 non-null   float64\n",
      " 10  好胆固醇    5994 non-null   float64\n",
      " 11  坏胆固醇    5993 non-null   float64\n",
      " 12  总胆固醇    5993 non-null   float64\n",
      " 13  血脂异常    6000 non-null   int64  \n",
      " 14  周边血管疾病  6000 non-null   int64  \n",
      " 15  体育活动    5992 non-null   float64\n",
      " 16  教育      5986 non-null   float64\n",
      " 17  未婚      5692 non-null   float64\n",
      " 18  收入      5237 non-null   float64\n",
      " 19  护理来源    5999 non-null   object \n",
      " 20  视力不佳    5598 non-null   float64\n",
      " 21  饮酒      6000 non-null   int64  \n",
      " 22  高血压     5951 non-null   float64\n",
      " 23  家庭高血压   6000 non-null   int64  \n",
      " 24  糖尿病     6000 non-null   int64  \n",
      " 25  家族糖尿病   6000 non-null   int64  \n",
      " 26  肝炎      5984 non-null   float64\n",
      " 27  家族肝炎    5995 non-null   float64\n",
      " 28  慢性疲劳    5974 non-null   float64\n",
      " 29  急性肝衰竭   4119 non-null   float64\n",
      " 30  ID      6000 non-null   int64  \n",
      "dtypes: float64(20), int64(8), object(3)\n",
      "memory usage: 1.4+ MB\n"
     ]
    }
   ],
   "source": [
    "train.info()"
   ],
   "metadata": {
    "collapsed": false,
    "pycharm": {
     "name": "#%%\n"
    }
   }
  },
  {
   "cell_type": "markdown",
   "source": [
    "# 4.查找缺失值"
   ],
   "metadata": {
    "collapsed": false,
    "pycharm": {
     "name": "#%% md\n"
    }
   }
  },
  {
   "cell_type": "code",
   "source": [
    "total_missingvalues = train.isnull().sum()\n",
    "total_missingvalues"
   ],
   "metadata": {
    "collapsed": false,
    "pycharm": {
     "name": "#%%\n"
    }
   },
   "execution_count": 5,
   "outputs": [
    {
     "data": {
      "text/plain": "年龄           0\n性别           0\n区域           0\n体重         140\n身高         136\n体重指数       209\n肥胖腰围       209\n腰围         224\n最高血压       219\n最低血压       273\n好胆固醇         6\n坏胆固醇         7\n总胆固醇         7\n血脂异常         0\n周边血管疾病       0\n体育活动         8\n教育          14\n未婚         308\n收入         763\n护理来源         1\n视力不佳       402\n饮酒           0\n高血压         49\n家庭高血压        0\n糖尿病          0\n家族糖尿病        0\n肝炎          16\n家族肝炎         5\n慢性疲劳        26\n急性肝衰竭     1881\nID           0\ndtype: int64"
     },
     "execution_count": 5,
     "metadata": {},
     "output_type": "execute_result"
    }
   ]
  },
  {
   "cell_type": "markdown",
   "source": [
    "## 5.处理缺失值"
   ],
   "metadata": {
    "collapsed": false
   }
  },
  {
   "cell_type": "code",
   "execution_count": 6,
   "outputs": [
    {
     "data": {
      "text/plain": "   年龄     体重     身高   体重指数  肥胖腰围     腰围   最高血压  最低血压  好胆固醇   坏胆固醇   总胆固醇  \\\n0  58   75.6  174.9  24.71   0.0   94.8  100.0  52.0  35.0   95.0  130.0   \n1  85   66.3  166.1  24.03   0.0   89.6  134.0  84.0  59.0  153.0  212.0   \n2  32  109.9  173.2  36.64   1.0  111.7  124.0  84.0  39.0  133.0  172.0   \n3  22   58.7  171.3  20.00   0.0   78.0  104.0  56.0  48.0   98.0  146.0   \n4  44   79.7  172.1  26.91   0.0   93.8  114.0  60.0  34.0  195.0  229.0   \n\n   血脂异常  周边血管疾病  体育活动   教育   未婚   收入  视力不佳  饮酒  高血压  家庭高血压  糖尿病  家族糖尿病   肝炎  \\\n0     0       0   1.0  0.0  0.0  0.0   0.0   0  1.0      1    0      1  1.0   \n1     0       0   2.0  0.0  0.0  0.0   0.0   1  0.0      0    0      0  0.0   \n2     0       0   2.0  1.0  0.0  1.0   0.0   0  0.0      0    0      0  0.0   \n3     0       0   2.0  1.0  1.0  0.0   0.0   0  0.0      0    0      0  0.0   \n4     0       0   2.0  0.0  0.0  0.0   0.0   0  0.0      0    0      0  0.0   \n\n   家族肝炎  慢性疲劳  急性肝衰竭  \n0   0.0   1.0    0.0  \n1   0.0   0.0    NaN  \n2   0.0   0.0    0.0  \n3   0.0   0.0    0.0  \n4   0.0   0.0    0.0  ",
      "text/html": "<div>\n<style scoped>\n    .dataframe tbody tr th:only-of-type {\n        vertical-align: middle;\n    }\n\n    .dataframe tbody tr th {\n        vertical-align: top;\n    }\n\n    .dataframe thead th {\n        text-align: right;\n    }\n</style>\n<table border=\"1\" class=\"dataframe\">\n  <thead>\n    <tr style=\"text-align: right;\">\n      <th></th>\n      <th>年龄</th>\n      <th>体重</th>\n      <th>身高</th>\n      <th>体重指数</th>\n      <th>肥胖腰围</th>\n      <th>腰围</th>\n      <th>最高血压</th>\n      <th>最低血压</th>\n      <th>好胆固醇</th>\n      <th>坏胆固醇</th>\n      <th>总胆固醇</th>\n      <th>血脂异常</th>\n      <th>周边血管疾病</th>\n      <th>体育活动</th>\n      <th>教育</th>\n      <th>未婚</th>\n      <th>收入</th>\n      <th>视力不佳</th>\n      <th>饮酒</th>\n      <th>高血压</th>\n      <th>家庭高血压</th>\n      <th>糖尿病</th>\n      <th>家族糖尿病</th>\n      <th>肝炎</th>\n      <th>家族肝炎</th>\n      <th>慢性疲劳</th>\n      <th>急性肝衰竭</th>\n    </tr>\n  </thead>\n  <tbody>\n    <tr>\n      <th>0</th>\n      <td>58</td>\n      <td>75.6</td>\n      <td>174.9</td>\n      <td>24.71</td>\n      <td>0.0</td>\n      <td>94.8</td>\n      <td>100.0</td>\n      <td>52.0</td>\n      <td>35.0</td>\n      <td>95.0</td>\n      <td>130.0</td>\n      <td>0</td>\n      <td>0</td>\n      <td>1.0</td>\n      <td>0.0</td>\n      <td>0.0</td>\n      <td>0.0</td>\n      <td>0.0</td>\n      <td>0</td>\n      <td>1.0</td>\n      <td>1</td>\n      <td>0</td>\n      <td>1</td>\n      <td>1.0</td>\n      <td>0.0</td>\n      <td>1.0</td>\n      <td>0.0</td>\n    </tr>\n    <tr>\n      <th>1</th>\n      <td>85</td>\n      <td>66.3</td>\n      <td>166.1</td>\n      <td>24.03</td>\n      <td>0.0</td>\n      <td>89.6</td>\n      <td>134.0</td>\n      <td>84.0</td>\n      <td>59.0</td>\n      <td>153.0</td>\n      <td>212.0</td>\n      <td>0</td>\n      <td>0</td>\n      <td>2.0</td>\n      <td>0.0</td>\n      <td>0.0</td>\n      <td>0.0</td>\n      <td>0.0</td>\n      <td>1</td>\n      <td>0.0</td>\n      <td>0</td>\n      <td>0</td>\n      <td>0</td>\n      <td>0.0</td>\n      <td>0.0</td>\n      <td>0.0</td>\n      <td>NaN</td>\n    </tr>\n    <tr>\n      <th>2</th>\n      <td>32</td>\n      <td>109.9</td>\n      <td>173.2</td>\n      <td>36.64</td>\n      <td>1.0</td>\n      <td>111.7</td>\n      <td>124.0</td>\n      <td>84.0</td>\n      <td>39.0</td>\n      <td>133.0</td>\n      <td>172.0</td>\n      <td>0</td>\n      <td>0</td>\n      <td>2.0</td>\n      <td>1.0</td>\n      <td>0.0</td>\n      <td>1.0</td>\n      <td>0.0</td>\n      <td>0</td>\n      <td>0.0</td>\n      <td>0</td>\n      <td>0</td>\n      <td>0</td>\n      <td>0.0</td>\n      <td>0.0</td>\n      <td>0.0</td>\n      <td>0.0</td>\n    </tr>\n    <tr>\n      <th>3</th>\n      <td>22</td>\n      <td>58.7</td>\n      <td>171.3</td>\n      <td>20.00</td>\n      <td>0.0</td>\n      <td>78.0</td>\n      <td>104.0</td>\n      <td>56.0</td>\n      <td>48.0</td>\n      <td>98.0</td>\n      <td>146.0</td>\n      <td>0</td>\n      <td>0</td>\n      <td>2.0</td>\n      <td>1.0</td>\n      <td>1.0</td>\n      <td>0.0</td>\n      <td>0.0</td>\n      <td>0</td>\n      <td>0.0</td>\n      <td>0</td>\n      <td>0</td>\n      <td>0</td>\n      <td>0.0</td>\n      <td>0.0</td>\n      <td>0.0</td>\n      <td>0.0</td>\n    </tr>\n    <tr>\n      <th>4</th>\n      <td>44</td>\n      <td>79.7</td>\n      <td>172.1</td>\n      <td>26.91</td>\n      <td>0.0</td>\n      <td>93.8</td>\n      <td>114.0</td>\n      <td>60.0</td>\n      <td>34.0</td>\n      <td>195.0</td>\n      <td>229.0</td>\n      <td>0</td>\n      <td>0</td>\n      <td>2.0</td>\n      <td>0.0</td>\n      <td>0.0</td>\n      <td>0.0</td>\n      <td>0.0</td>\n      <td>0</td>\n      <td>0.0</td>\n      <td>0</td>\n      <td>0</td>\n      <td>0</td>\n      <td>0.0</td>\n      <td>0.0</td>\n      <td>0.0</td>\n      <td>0.0</td>\n    </tr>\n  </tbody>\n</table>\n</div>"
     },
     "execution_count": 6,
     "metadata": {},
     "output_type": "execute_result"
    }
   ],
   "source": [
    "train = train.drop(labels='护理来源', axis=1)\n",
    "train = train.drop(labels='ID', axis=1)\n",
    "train = train.drop(labels='区域', axis=1)\n",
    "train = train.drop(labels='性别', axis=1)\n",
    "train.head(5)"
   ],
   "metadata": {
    "collapsed": false,
    "pycharm": {
     "name": "#%%\n"
    }
   }
  },
  {
   "cell_type": "code",
   "execution_count": 7,
   "outputs": [
    {
     "data": {
      "text/plain": "   年龄     体重     身高   体重指数  肥胖腰围     腰围   最高血压  最低血压  好胆固醇   坏胆固醇   总胆固醇  \\\n0  58   75.6  174.9  24.71   0.0   94.8  100.0  52.0  35.0   95.0  130.0   \n1  85   66.3  166.1  24.03   0.0   89.6  134.0  84.0  59.0  153.0  212.0   \n2  32  109.9  173.2  36.64   1.0  111.7  124.0  84.0  39.0  133.0  172.0   \n3  22   58.7  171.3  20.00   0.0   78.0  104.0  56.0  48.0   98.0  146.0   \n4  44   79.7  172.1  26.91   0.0   93.8  114.0  60.0  34.0  195.0  229.0   \n\n   血脂异常  周边血管疾病  体育活动   教育   未婚   收入  视力不佳  饮酒  高血压  家庭高血压  糖尿病  家族糖尿病   肝炎  \\\n0     0       0   1.0  0.0  0.0  0.0   0.0   0  1.0      1    0      1  1.0   \n1     0       0   2.0  0.0  0.0  0.0   0.0   1  0.0      0    0      0  0.0   \n2     0       0   2.0  1.0  0.0  1.0   0.0   0  0.0      0    0      0  0.0   \n3     0       0   2.0  1.0  1.0  0.0   0.0   0  0.0      0    0      0  0.0   \n4     0       0   2.0  0.0  0.0  0.0   0.0   0  0.0      0    0      0  0.0   \n\n   家族肝炎  慢性疲劳  急性肝衰竭  \n0   0.0   1.0    0.0  \n1   0.0   0.0    0.0  \n2   0.0   0.0    0.0  \n3   0.0   0.0    0.0  \n4   0.0   0.0    0.0  ",
      "text/html": "<div>\n<style scoped>\n    .dataframe tbody tr th:only-of-type {\n        vertical-align: middle;\n    }\n\n    .dataframe tbody tr th {\n        vertical-align: top;\n    }\n\n    .dataframe thead th {\n        text-align: right;\n    }\n</style>\n<table border=\"1\" class=\"dataframe\">\n  <thead>\n    <tr style=\"text-align: right;\">\n      <th></th>\n      <th>年龄</th>\n      <th>体重</th>\n      <th>身高</th>\n      <th>体重指数</th>\n      <th>肥胖腰围</th>\n      <th>腰围</th>\n      <th>最高血压</th>\n      <th>最低血压</th>\n      <th>好胆固醇</th>\n      <th>坏胆固醇</th>\n      <th>总胆固醇</th>\n      <th>血脂异常</th>\n      <th>周边血管疾病</th>\n      <th>体育活动</th>\n      <th>教育</th>\n      <th>未婚</th>\n      <th>收入</th>\n      <th>视力不佳</th>\n      <th>饮酒</th>\n      <th>高血压</th>\n      <th>家庭高血压</th>\n      <th>糖尿病</th>\n      <th>家族糖尿病</th>\n      <th>肝炎</th>\n      <th>家族肝炎</th>\n      <th>慢性疲劳</th>\n      <th>急性肝衰竭</th>\n    </tr>\n  </thead>\n  <tbody>\n    <tr>\n      <th>0</th>\n      <td>58</td>\n      <td>75.6</td>\n      <td>174.9</td>\n      <td>24.71</td>\n      <td>0.0</td>\n      <td>94.8</td>\n      <td>100.0</td>\n      <td>52.0</td>\n      <td>35.0</td>\n      <td>95.0</td>\n      <td>130.0</td>\n      <td>0</td>\n      <td>0</td>\n      <td>1.0</td>\n      <td>0.0</td>\n      <td>0.0</td>\n      <td>0.0</td>\n      <td>0.0</td>\n      <td>0</td>\n      <td>1.0</td>\n      <td>1</td>\n      <td>0</td>\n      <td>1</td>\n      <td>1.0</td>\n      <td>0.0</td>\n      <td>1.0</td>\n      <td>0.0</td>\n    </tr>\n    <tr>\n      <th>1</th>\n      <td>85</td>\n      <td>66.3</td>\n      <td>166.1</td>\n      <td>24.03</td>\n      <td>0.0</td>\n      <td>89.6</td>\n      <td>134.0</td>\n      <td>84.0</td>\n      <td>59.0</td>\n      <td>153.0</td>\n      <td>212.0</td>\n      <td>0</td>\n      <td>0</td>\n      <td>2.0</td>\n      <td>0.0</td>\n      <td>0.0</td>\n      <td>0.0</td>\n      <td>0.0</td>\n      <td>1</td>\n      <td>0.0</td>\n      <td>0</td>\n      <td>0</td>\n      <td>0</td>\n      <td>0.0</td>\n      <td>0.0</td>\n      <td>0.0</td>\n      <td>0.0</td>\n    </tr>\n    <tr>\n      <th>2</th>\n      <td>32</td>\n      <td>109.9</td>\n      <td>173.2</td>\n      <td>36.64</td>\n      <td>1.0</td>\n      <td>111.7</td>\n      <td>124.0</td>\n      <td>84.0</td>\n      <td>39.0</td>\n      <td>133.0</td>\n      <td>172.0</td>\n      <td>0</td>\n      <td>0</td>\n      <td>2.0</td>\n      <td>1.0</td>\n      <td>0.0</td>\n      <td>1.0</td>\n      <td>0.0</td>\n      <td>0</td>\n      <td>0.0</td>\n      <td>0</td>\n      <td>0</td>\n      <td>0</td>\n      <td>0.0</td>\n      <td>0.0</td>\n      <td>0.0</td>\n      <td>0.0</td>\n    </tr>\n    <tr>\n      <th>3</th>\n      <td>22</td>\n      <td>58.7</td>\n      <td>171.3</td>\n      <td>20.00</td>\n      <td>0.0</td>\n      <td>78.0</td>\n      <td>104.0</td>\n      <td>56.0</td>\n      <td>48.0</td>\n      <td>98.0</td>\n      <td>146.0</td>\n      <td>0</td>\n      <td>0</td>\n      <td>2.0</td>\n      <td>1.0</td>\n      <td>1.0</td>\n      <td>0.0</td>\n      <td>0.0</td>\n      <td>0</td>\n      <td>0.0</td>\n      <td>0</td>\n      <td>0</td>\n      <td>0</td>\n      <td>0.0</td>\n      <td>0.0</td>\n      <td>0.0</td>\n      <td>0.0</td>\n    </tr>\n    <tr>\n      <th>4</th>\n      <td>44</td>\n      <td>79.7</td>\n      <td>172.1</td>\n      <td>26.91</td>\n      <td>0.0</td>\n      <td>93.8</td>\n      <td>114.0</td>\n      <td>60.0</td>\n      <td>34.0</td>\n      <td>195.0</td>\n      <td>229.0</td>\n      <td>0</td>\n      <td>0</td>\n      <td>2.0</td>\n      <td>0.0</td>\n      <td>0.0</td>\n      <td>0.0</td>\n      <td>0.0</td>\n      <td>0</td>\n      <td>0.0</td>\n      <td>0</td>\n      <td>0</td>\n      <td>0</td>\n      <td>0.0</td>\n      <td>0.0</td>\n      <td>0.0</td>\n      <td>0.0</td>\n    </tr>\n  </tbody>\n</table>\n</div>"
     },
     "execution_count": 7,
     "metadata": {},
     "output_type": "execute_result"
    }
   ],
   "source": [
    "# 用前面的值来填充\n",
    "train.fillna(method='ffill', inplace=True)\n",
    "train.head(5)\n"
   ],
   "metadata": {
    "collapsed": false,
    "pycharm": {
     "name": "#%%\n"
    }
   }
  },
  {
   "cell_type": "markdown",
   "source": [
    "## 分割数据集"
   ],
   "metadata": {
    "collapsed": false,
    "pycharm": {
     "name": "#%% md\n"
    }
   }
  },
  {
   "cell_type": "code",
   "execution_count": 8,
   "outputs": [
    {
     "name": "stdout",
     "output_type": "stream",
     "text": [
      "0       1.0\n",
      "1       0.0\n",
      "2       0.0\n",
      "3       0.0\n",
      "4       0.0\n",
      "       ... \n",
      "5995    0.0\n",
      "5996    0.0\n",
      "5997    0.0\n",
      "5998    1.0\n",
      "5999    0.0\n",
      "Name: 肝炎, Length: 6000, dtype: float64\n"
     ]
    }
   ],
   "source": [
    "y = train.iloc[:, 23]\n",
    "print(y)"
   ],
   "metadata": {
    "collapsed": false,
    "pycharm": {
     "name": "#%%\n"
    }
   }
  },
  {
   "cell_type": "code",
   "execution_count": 9,
   "outputs": [
    {
     "data": {
      "text/plain": "   年龄     体重     身高   体重指数  肥胖腰围     腰围   最高血压  最低血压  好胆固醇   坏胆固醇   总胆固醇  \\\n0  58   75.6  174.9  24.71   0.0   94.8  100.0  52.0  35.0   95.0  130.0   \n1  85   66.3  166.1  24.03   0.0   89.6  134.0  84.0  59.0  153.0  212.0   \n2  32  109.9  173.2  36.64   1.0  111.7  124.0  84.0  39.0  133.0  172.0   \n3  22   58.7  171.3  20.00   0.0   78.0  104.0  56.0  48.0   98.0  146.0   \n4  44   79.7  172.1  26.91   0.0   93.8  114.0  60.0  34.0  195.0  229.0   \n\n   血脂异常  周边血管疾病  体育活动   教育   未婚   收入  视力不佳  饮酒  高血压  家庭高血压  糖尿病  家族糖尿病  家族肝炎  \\\n0     0       0   1.0  0.0  0.0  0.0   0.0   0  1.0      1    0      1   0.0   \n1     0       0   2.0  0.0  0.0  0.0   0.0   1  0.0      0    0      0   0.0   \n2     0       0   2.0  1.0  0.0  1.0   0.0   0  0.0      0    0      0   0.0   \n3     0       0   2.0  1.0  1.0  0.0   0.0   0  0.0      0    0      0   0.0   \n4     0       0   2.0  0.0  0.0  0.0   0.0   0  0.0      0    0      0   0.0   \n\n   慢性疲劳  急性肝衰竭  \n0   1.0    0.0  \n1   0.0    0.0  \n2   0.0    0.0  \n3   0.0    0.0  \n4   0.0    0.0  ",
      "text/html": "<div>\n<style scoped>\n    .dataframe tbody tr th:only-of-type {\n        vertical-align: middle;\n    }\n\n    .dataframe tbody tr th {\n        vertical-align: top;\n    }\n\n    .dataframe thead th {\n        text-align: right;\n    }\n</style>\n<table border=\"1\" class=\"dataframe\">\n  <thead>\n    <tr style=\"text-align: right;\">\n      <th></th>\n      <th>年龄</th>\n      <th>体重</th>\n      <th>身高</th>\n      <th>体重指数</th>\n      <th>肥胖腰围</th>\n      <th>腰围</th>\n      <th>最高血压</th>\n      <th>最低血压</th>\n      <th>好胆固醇</th>\n      <th>坏胆固醇</th>\n      <th>总胆固醇</th>\n      <th>血脂异常</th>\n      <th>周边血管疾病</th>\n      <th>体育活动</th>\n      <th>教育</th>\n      <th>未婚</th>\n      <th>收入</th>\n      <th>视力不佳</th>\n      <th>饮酒</th>\n      <th>高血压</th>\n      <th>家庭高血压</th>\n      <th>糖尿病</th>\n      <th>家族糖尿病</th>\n      <th>家族肝炎</th>\n      <th>慢性疲劳</th>\n      <th>急性肝衰竭</th>\n    </tr>\n  </thead>\n  <tbody>\n    <tr>\n      <th>0</th>\n      <td>58</td>\n      <td>75.6</td>\n      <td>174.9</td>\n      <td>24.71</td>\n      <td>0.0</td>\n      <td>94.8</td>\n      <td>100.0</td>\n      <td>52.0</td>\n      <td>35.0</td>\n      <td>95.0</td>\n      <td>130.0</td>\n      <td>0</td>\n      <td>0</td>\n      <td>1.0</td>\n      <td>0.0</td>\n      <td>0.0</td>\n      <td>0.0</td>\n      <td>0.0</td>\n      <td>0</td>\n      <td>1.0</td>\n      <td>1</td>\n      <td>0</td>\n      <td>1</td>\n      <td>0.0</td>\n      <td>1.0</td>\n      <td>0.0</td>\n    </tr>\n    <tr>\n      <th>1</th>\n      <td>85</td>\n      <td>66.3</td>\n      <td>166.1</td>\n      <td>24.03</td>\n      <td>0.0</td>\n      <td>89.6</td>\n      <td>134.0</td>\n      <td>84.0</td>\n      <td>59.0</td>\n      <td>153.0</td>\n      <td>212.0</td>\n      <td>0</td>\n      <td>0</td>\n      <td>2.0</td>\n      <td>0.0</td>\n      <td>0.0</td>\n      <td>0.0</td>\n      <td>0.0</td>\n      <td>1</td>\n      <td>0.0</td>\n      <td>0</td>\n      <td>0</td>\n      <td>0</td>\n      <td>0.0</td>\n      <td>0.0</td>\n      <td>0.0</td>\n    </tr>\n    <tr>\n      <th>2</th>\n      <td>32</td>\n      <td>109.9</td>\n      <td>173.2</td>\n      <td>36.64</td>\n      <td>1.0</td>\n      <td>111.7</td>\n      <td>124.0</td>\n      <td>84.0</td>\n      <td>39.0</td>\n      <td>133.0</td>\n      <td>172.0</td>\n      <td>0</td>\n      <td>0</td>\n      <td>2.0</td>\n      <td>1.0</td>\n      <td>0.0</td>\n      <td>1.0</td>\n      <td>0.0</td>\n      <td>0</td>\n      <td>0.0</td>\n      <td>0</td>\n      <td>0</td>\n      <td>0</td>\n      <td>0.0</td>\n      <td>0.0</td>\n      <td>0.0</td>\n    </tr>\n    <tr>\n      <th>3</th>\n      <td>22</td>\n      <td>58.7</td>\n      <td>171.3</td>\n      <td>20.00</td>\n      <td>0.0</td>\n      <td>78.0</td>\n      <td>104.0</td>\n      <td>56.0</td>\n      <td>48.0</td>\n      <td>98.0</td>\n      <td>146.0</td>\n      <td>0</td>\n      <td>0</td>\n      <td>2.0</td>\n      <td>1.0</td>\n      <td>1.0</td>\n      <td>0.0</td>\n      <td>0.0</td>\n      <td>0</td>\n      <td>0.0</td>\n      <td>0</td>\n      <td>0</td>\n      <td>0</td>\n      <td>0.0</td>\n      <td>0.0</td>\n      <td>0.0</td>\n    </tr>\n    <tr>\n      <th>4</th>\n      <td>44</td>\n      <td>79.7</td>\n      <td>172.1</td>\n      <td>26.91</td>\n      <td>0.0</td>\n      <td>93.8</td>\n      <td>114.0</td>\n      <td>60.0</td>\n      <td>34.0</td>\n      <td>195.0</td>\n      <td>229.0</td>\n      <td>0</td>\n      <td>0</td>\n      <td>2.0</td>\n      <td>0.0</td>\n      <td>0.0</td>\n      <td>0.0</td>\n      <td>0.0</td>\n      <td>0</td>\n      <td>0.0</td>\n      <td>0</td>\n      <td>0</td>\n      <td>0</td>\n      <td>0.0</td>\n      <td>0.0</td>\n      <td>0.0</td>\n    </tr>\n  </tbody>\n</table>\n</div>"
     },
     "execution_count": 9,
     "metadata": {},
     "output_type": "execute_result"
    }
   ],
   "source": [
    "X = train.drop(labels='肝炎', axis=1)\n",
    "X.shape\n",
    "X.head(5)"
   ],
   "metadata": {
    "collapsed": false,
    "pycharm": {
     "name": "#%%\n"
    }
   }
  },
  {
   "cell_type": "code",
   "execution_count": 10,
   "outputs": [
    {
     "data": {
      "text/plain": "年龄        0\n体重        0\n身高        0\n体重指数      0\n肥胖腰围      0\n腰围        0\n最高血压      0\n最低血压      0\n好胆固醇      0\n坏胆固醇      0\n总胆固醇      0\n血脂异常      0\n周边血管疾病    0\n体育活动      0\n教育        0\n未婚        0\n收入        0\n视力不佳      0\n饮酒        0\n高血压       0\n家庭高血压     0\n糖尿病       0\n家族糖尿病     0\n肝炎        0\n家族肝炎      0\n慢性疲劳      0\n急性肝衰竭     0\ndtype: int64"
     },
     "execution_count": 10,
     "metadata": {},
     "output_type": "execute_result"
    }
   ],
   "source": [
    "total_missingvalues = train.isnull().sum()\n",
    "total_missingvalues"
   ],
   "metadata": {
    "collapsed": false,
    "pycharm": {
     "name": "#%%\n"
    }
   }
  },
  {
   "cell_type": "markdown",
   "source": [
    "## 6.计算相关矩阵"
   ],
   "metadata": {
    "collapsed": false
   }
  },
  {
   "cell_type": "code",
   "execution_count": 11,
   "outputs": [
    {
     "data": {
      "text/plain": "<AxesSubplot:>"
     },
     "execution_count": 11,
     "metadata": {},
     "output_type": "execute_result"
    },
    {
     "data": {
      "text/plain": "<Figure size 432x288 with 2 Axes>",
      "image/png": "[encoded data removed]"
     },
     "metadata": {
      "needs_background": "light"
     },
     "output_type": "display_data"
    }
   ],
   "source": [
    "train_corr = train.corr()\n",
    "\n",
    "sns.heatmap(train_corr,\n",
    "            xticklabels=train_corr.columns,\n",
    "            yticklabels=train_corr.columns)"
   ],
   "metadata": {
    "collapsed": false,
    "pycharm": {
     "name": "#%%\n"
    }
   }
  },
  {
   "cell_type": "code",
   "execution_count": 12,
   "outputs": [
    {
     "data": {
      "text/plain": "              年龄        体重        身高      体重指数      肥胖腰围        腰围      最高血压  \\\n年龄      1.000000 -0.202977 -0.384202 -0.069330 -0.087753  0.048663  0.775691   \n体重     -0.202977  1.000000  0.461506  0.931158  0.882071  0.947533 -0.061906   \n身高     -0.384202  0.461506  1.000000  0.107250  0.053797  0.231926 -0.297149   \n体重指数   -0.069330  0.931158  0.107250  1.000000  0.969487  0.965949  0.054556   \n肥胖腰围   -0.087753  0.882071  0.053797  0.969487  1.000000  0.916624  0.030084   \n腰围      0.048663  0.947533  0.231926  0.965949  0.916624  1.000000  0.125880   \n最高血压    0.775691 -0.061906 -0.297149  0.054556  0.030084  0.125880  1.000000   \n最低血压   -0.017003  0.241681  0.212687  0.184983  0.158329  0.195577  0.406917   \n好胆固醇    0.012363 -0.639705 -0.390019 -0.555885 -0.513509 -0.633229 -0.037111   \n坏胆固醇    0.110328  0.106826 -0.100001  0.152363  0.124107  0.205139  0.105263   \n总胆固醇    0.116539 -0.102592 -0.230859 -0.028468 -0.043260 -0.000245  0.095022   \n血脂异常   -0.053483  0.104307  0.064702  0.083621  0.072722  0.123183 -0.068281   \n周边血管疾病  0.459038 -0.220447 -0.238549 -0.148133 -0.142014 -0.094790  0.325943   \n体育活动   -0.413864 -0.181421  0.175386 -0.275375 -0.268364 -0.297433 -0.312380   \n教育     -0.388335 -0.053804  0.276461 -0.178607 -0.179143 -0.216850 -0.388467   \n未婚      0.032520 -0.207569 -0.217565 -0.139730 -0.118447 -0.185116  0.098520   \n收入     -0.407634 -0.036193  0.260794 -0.151458 -0.144783 -0.187025 -0.376219   \n视力不佳    0.263435 -0.189237 -0.169828 -0.139932 -0.140788 -0.114532  0.147435   \n饮酒      0.236982  0.047018  0.099464  0.011129 -0.019457  0.094345  0.057383   \n高血压     0.761775  0.050134 -0.291454  0.177502  0.156622  0.244708  0.865112   \n家庭高血压  -0.295256  0.091353 -0.011915  0.109330  0.094551  0.037932 -0.131503   \n糖尿病     0.423625  0.143673 -0.186415  0.237286  0.214888  0.292799  0.306496   \n家族糖尿病   0.105755  0.125188 -0.145997  0.198308  0.176793  0.193391  0.081157   \n肝炎      0.479036 -0.078612 -0.137625 -0.030863 -0.032350  0.034871  0.250177   \n家族肝炎   -0.133337 -0.145885 -0.186032 -0.083759 -0.066016 -0.137874 -0.147947   \n慢性疲劳    0.340023 -0.049391 -0.154273  0.006601  0.000421  0.043948  0.130096   \n急性肝衰竭   0.457791 -0.184212 -0.200582 -0.126154 -0.118179 -0.077028  0.294392   \n\n            最低血压      好胆固醇      坏胆固醇      总胆固醇      血脂异常    周边血管疾病      体育活动  \\\n年龄     -0.017003  0.012363  0.110328  0.116539 -0.053483  0.459038 -0.413864   \n体重      0.241681 -0.639705  0.106826 -0.102592  0.104307 -0.220447 -0.181421   \n身高      0.212687 -0.390019 -0.100001 -0.230859  0.064702 -0.238549  0.175386   \n体重指数    0.184983 -0.555885  0.152363 -0.028468  0.083621 -0.148133 -0.275375   \n肥胖腰围    0.158329 -0.513509  0.124107 -0.043260  0.072722 -0.142014 -0.268364   \n腰围      0.195577 -0.633229  0.205139 -0.000245  0.123183 -0.094790 -0.297433   \n最高血压    0.406917 -0.037111  0.105263  0.095022 -0.068281  0.325943 -0.312380   \n最低血压    1.000000 -0.187937  0.139125  0.079675  0.062160 -0.174656 -0.019936   \n好胆固醇   -0.187937  1.000000 -0.219862  0.106486 -0.373549  0.016696  0.070306   \n坏胆固醇    0.139125 -0.219862  1.000000  0.946572  0.527051 -0.044430 -0.013405   \n总胆固醇    0.079675  0.106486  0.946572  1.000000  0.413711 -0.039766  0.009579   \n血脂异常    0.062160 -0.373549  0.527051  0.413711  1.000000 -0.098839  0.034952   \n周边血管疾病 -0.174656  0.016696 -0.044430 -0.039766 -0.098839  1.000000 -0.241439   \n体育活动   -0.019936  0.070306 -0.013405  0.009579  0.034952 -0.241439  1.000000   \n教育     -0.018369  0.169169 -0.153226 -0.100253 -0.102785 -0.268461  0.046137   \n未婚     -0.134212  0.141197 -0.185691 -0.142589 -0.152176  0.075780 -0.144944   \n收入      0.012059  0.104804 -0.064076 -0.030663 -0.036457 -0.276458  0.138670   \n视力不佳   -0.153227  0.019954 -0.121812 -0.117561 -0.107587  0.144901 -0.150481   \n饮酒     -0.059120 -0.088017 -0.005619 -0.034824 -0.045093  0.084382 -0.076585   \n高血压     0.287977 -0.116817  0.058092  0.020593 -0.077034  0.307787 -0.389301   \n家庭高血压   0.082392 -0.079455 -0.052867 -0.080151 -0.057253 -0.175659 -0.001997   \n糖尿病    -0.128236 -0.289002 -0.008757 -0.104464 -0.056753  0.167781 -0.321853   \n家族糖尿病   0.001994 -0.193188  0.009270 -0.054415 -0.051374 -0.033256 -0.125056   \n肝炎     -0.185433 -0.142898 -0.144881 -0.194910 -0.089531  0.262595 -0.319136   \n家族肝炎   -0.221969  0.073292 -0.220236 -0.200247 -0.107708 -0.001674 -0.050894   \n慢性疲劳   -0.212177 -0.134121 -0.148513 -0.195710 -0.077236  0.198168 -0.282782   \n急性肝衰竭  -0.174155 -0.018489 -0.055240 -0.062415 -0.109849  0.270221 -0.263894   \n\n              教育        未婚        收入      视力不佳        饮酒       高血压     家庭高血压  \\\n年龄     -0.388335  0.032520 -0.407634  0.263435  0.236982  0.761775 -0.295256   \n体重     -0.053804 -0.207569 -0.036193 -0.189237  0.047018  0.050134  0.091353   \n身高      0.276461 -0.217565  0.260794 -0.169828  0.099464 -0.291454 -0.011915   \n体重指数   -0.178607 -0.139730 -0.151458 -0.139932  0.011129  0.177502  0.109330   \n肥胖腰围   -0.179143 -0.118447 -0.144783 -0.140788 -0.019457  0.156622  0.094551   \n腰围     -0.216850 -0.185116 -0.187025 -0.114532  0.094345  0.244708  0.037932   \n最高血压   -0.388467  0.098520 -0.376219  0.147435  0.057383  0.865112 -0.131503   \n最低血压   -0.018369 -0.134212  0.012059 -0.153227 -0.059120  0.287977  0.082392   \n好胆固醇    0.169169  0.141197  0.104804  0.019954 -0.088017 -0.116817 -0.079455   \n坏胆固醇   -0.153226 -0.185691 -0.064076 -0.121812 -0.005619  0.058092 -0.052867   \n总胆固醇   -0.100253 -0.142589 -0.030663 -0.117561 -0.034824  0.020593 -0.080151   \n血脂异常   -0.102785 -0.152176 -0.036457 -0.107587 -0.045093 -0.077034 -0.057253   \n周边血管疾病 -0.268461  0.075780 -0.276458  0.144901  0.084382  0.307787 -0.175659   \n体育活动    0.046137 -0.144944  0.138670 -0.150481 -0.076585 -0.389301 -0.001997   \n教育      1.000000 -0.168097  0.522480 -0.239092 -0.077816 -0.399531  0.039580   \n未婚     -0.168097  1.000000 -0.405760  0.124688 -0.203557  0.059791 -0.066664   \n收入      0.522480 -0.405760  1.000000 -0.240553 -0.068334 -0.398281  0.004486   \n视力不佳   -0.239092  0.124688 -0.240553  1.000000 -0.008866  0.137154 -0.161846   \n饮酒     -0.077816 -0.203557 -0.068334 -0.008866  1.000000  0.092470 -0.145816   \n高血压    -0.399531  0.059791 -0.398281  0.137154  0.092470  1.000000 -0.068659   \n家庭高血压   0.039580 -0.066664  0.004486 -0.161846 -0.145816 -0.068659  1.000000   \n糖尿病    -0.342403  0.006859 -0.336956  0.157780  0.060963  0.407884 -0.065250   \n家族糖尿病  -0.199050 -0.038625 -0.186850  0.018626 -0.049694  0.132985  0.169953   \n肝炎     -0.272194  0.035352 -0.303358  0.159648  0.115196  0.363248 -0.099153   \n家族肝炎   -0.086025  0.057955 -0.055084 -0.008966 -0.112938 -0.133847  0.008425   \n慢性疲劳   -0.247107  0.049396 -0.258188  0.087275  0.071076  0.242488 -0.094310   \n急性肝衰竭  -0.212792  0.124691 -0.250666  0.094276  0.016784  0.319723 -0.181226   \n\n             糖尿病     家族糖尿病        肝炎      家族肝炎      慢性疲劳     急性肝衰竭  \n年龄      0.423625  0.105755  0.479036 -0.133337  0.340023  0.457791  \n体重      0.143673  0.125188 -0.078612 -0.145885 -0.049391 -0.184212  \n身高     -0.186415 -0.145997 -0.137625 -0.186032 -0.154273 -0.200582  \n体重指数    0.237286  0.198308 -0.030863 -0.083759  0.006601 -0.126154  \n肥胖腰围    0.214888  0.176793 -0.032350 -0.066016  0.000421 -0.118179  \n腰围      0.292799  0.193391  0.034871 -0.137874  0.043948 -0.077028  \n最高血压    0.306496  0.081157  0.250177 -0.147947  0.130096  0.294392  \n最低血压   -0.128236  0.001994 -0.185433 -0.221969 -0.212177 -0.174155  \n好胆固醇   -0.289002 -0.193188 -0.142898  0.073292 -0.134121 -0.018489  \n坏胆固醇   -0.008757  0.009270 -0.144881 -0.220236 -0.148513 -0.055240  \n总胆固醇   -0.104464 -0.054415 -0.194910 -0.200247 -0.195710 -0.062415  \n血脂异常   -0.056753 -0.051374 -0.089531 -0.107708 -0.077236 -0.109849  \n周边血管疾病  0.167781 -0.033256  0.262595 -0.001674  0.198168  0.270221  \n体育活动   -0.321853 -0.125056 -0.319136 -0.050894 -0.282782 -0.263894  \n教育     -0.342403 -0.199050 -0.272194 -0.086025 -0.247107 -0.212792  \n未婚      0.006859 -0.038625  0.035352  0.057955  0.049396  0.124691  \n收入     -0.336956 -0.186850 -0.303358 -0.055084 -0.258188 -0.250666  \n视力不佳    0.157780  0.018626  0.159648 -0.008966  0.087275  0.094276  \n饮酒      0.060963 -0.049694  0.115196 -0.112938  0.071076  0.016784  \n高血压     0.407884  0.132985  0.363248 -0.133847  0.242488  0.319723  \n家庭高血压  -0.065250  0.169953 -0.099153  0.008425 -0.094310 -0.181226  \n糖尿病     1.000000  0.400265  0.281357 -0.043890  0.260703  0.208480  \n家族糖尿病   0.400265  1.000000  0.023155 -0.045996  0.023623 -0.048621  \n肝炎      0.281357  0.023155  1.000000 -0.027222  0.585889  0.319007  \n家族肝炎   -0.043890 -0.045996 -0.027222  1.000000 -0.001597 -0.023511  \n慢性疲劳    0.260703  0.023623  0.585889 -0.001597  1.000000  0.260583  \n急性肝衰竭   0.208480 -0.048621  0.319007 -0.023511  0.260583  1.000000  ",
      "text/html": "<div>\n<style scoped>\n    .dataframe tbody tr th:only-of-type {\n        vertical-align: middle;\n    }\n\n    .dataframe tbody tr th {\n        vertical-align: top;\n    }\n\n    .dataframe thead th {\n        text-align: right;\n    }\n</style>\n<table border=\"1\" class=\"dataframe\">\n  <thead>\n    <tr style=\"text-align: right;\">\n      <th></th>\n      <th>年龄</th>\n      <th>体重</th>\n      <th>身高</th>\n      <th>体重指数</th>\n      <th>肥胖腰围</th>\n      <th>腰围</th>\n      <th>最高血压</th>\n      <th>最低血压</th>\n      <th>好胆固醇</th>\n      <th>坏胆固醇</th>\n      <th>总胆固醇</th>\n      <th>血脂异常</th>\n      <th>周边血管疾病</th>\n      <th>体育活动</th>\n      <th>教育</th>\n      <th>未婚</th>\n      <th>收入</th>\n      <th>视力不佳</th>\n      <th>饮酒</th>\n      <th>高血压</th>\n      <th>家庭高血压</th>\n      <th>糖尿病</th>\n      <th>家族糖尿病</th>\n      <th>肝炎</th>\n      <th>家族肝炎</th>\n      <th>慢性疲劳</th>\n      <th>急性肝衰竭</th>\n    </tr>\n  </thead>\n  <tbody>\n    <tr>\n      <th>年龄</th>\n      <td>1.000000</td>\n      <td>-0.202977</td>\n      <td>-0.384202</td>\n      <td>-0.069330</td>\n      <td>-0.087753</td>\n      <td>0.048663</td>\n      <td>0.775691</td>\n      <td>-0.017003</td>\n      <td>0.012363</td>\n      <td>0.110328</td>\n      <td>0.116539</td>\n      <td>-0.053483</td>\n      <td>0.459038</td>\n      <td>-0.413864</td>\n      <td>-0.388335</td>\n      <td>0.032520</td>\n      <td>-0.407634</td>\n      <td>0.263435</td>\n      <td>0.236982</td>\n      <td>0.761775</td>\n      <td>-0.295256</td>\n      <td>0.423625</td>\n      <td>0.105755</td>\n      <td>0.479036</td>\n      <td>-0.133337</td>\n      <td>0.340023</td>\n      <td>0.457791</td>\n    </tr>\n    <tr>\n      <th>体重</th>\n      <td>-0.202977</td>\n      <td>1.000000</td>\n      <td>0.461506</td>\n      <td>0.931158</td>\n      <td>0.882071</td>\n      <td>0.947533</td>\n      <td>-0.061906</td>\n      <td>0.241681</td>\n      <td>-0.639705</td>\n      <td>0.106826</td>\n      <td>-0.102592</td>\n      <td>0.104307</td>\n      <td>-0.220447</td>\n      <td>-0.181421</td>\n      <td>-0.053804</td>\n      <td>-0.207569</td>\n      <td>-0.036193</td>\n      <td>-0.189237</td>\n      <td>0.047018</td>\n      <td>0.050134</td>\n      <td>0.091353</td>\n      <td>0.143673</td>\n      <td>0.125188</td>\n      <td>-0.078612</td>\n      <td>-0.145885</td>\n      <td>-0.049391</td>\n      <td>-0.184212</td>\n    </tr>\n    <tr>\n      <th>身高</th>\n      <td>-0.384202</td>\n      <td>0.461506</td>\n      <td>1.000000</td>\n      <td>0.107250</td>\n      <td>0.053797</td>\n      <td>0.231926</td>\n      <td>-0.297149</td>\n      <td>0.212687</td>\n      <td>-0.390019</td>\n      <td>-0.100001</td>\n      <td>-0.230859</td>\n      <td>0.064702</td>\n      <td>-0.238549</td>\n      <td>0.175386</td>\n      <td>0.276461</td>\n      <td>-0.217565</td>\n      <td>0.260794</td>\n      <td>-0.169828</td>\n      <td>0.099464</td>\n      <td>-0.291454</td>\n      <td>-0.011915</td>\n      <td>-0.186415</td>\n      <td>-0.145997</td>\n      <td>-0.137625</td>\n      <td>-0.186032</td>\n      <td>-0.154273</td>\n      <td>-0.200582</td>\n    </tr>\n    <tr>\n      <th>体重指数</th>\n      <td>-0.069330</td>\n      <td>0.931158</td>\n      <td>0.107250</td>\n      <td>1.000000</td>\n      <td>0.969487</td>\n      <td>0.965949</td>\n      <td>0.054556</td>\n      <td>0.184983</td>\n      <td>-0.555885</td>\n      <td>0.152363</td>\n      <td>-0.028468</td>\n      <td>0.083621</td>\n      <td>-0.148133</td>\n      <td>-0.275375</td>\n      <td>-0.178607</td>\n      <td>-0.139730</td>\n      <td>-0.151458</td>\n      <td>-0.139932</td>\n      <td>0.011129</td>\n      <td>0.177502</td>\n      <td>0.109330</td>\n      <td>0.237286</td>\n      <td>0.198308</td>\n      <td>-0.030863</td>\n      <td>-0.083759</td>\n      <td>0.006601</td>\n      <td>-0.126154</td>\n    </tr>\n    <tr>\n      <th>肥胖腰围</th>\n      <td>-0.087753</td>\n      <td>0.882071</td>\n      <td>0.053797</td>\n      <td>0.969487</td>\n      <td>1.000000</td>\n      <td>0.916624</td>\n      <td>0.030084</td>\n      <td>0.158329</td>\n      <td>-0.513509</td>\n      <td>0.124107</td>\n      <td>-0.043260</td>\n      <td>0.072722</td>\n      <td>-0.142014</td>\n      <td>-0.268364</td>\n      <td>-0.179143</td>\n      <td>-0.118447</td>\n      <td>-0.144783</td>\n      <td>-0.140788</td>\n      <td>-0.019457</td>\n      <td>0.156622</td>\n      <td>0.094551</td>\n      <td>0.214888</td>\n      <td>0.176793</td>\n      <td>-0.032350</td>\n      <td>-0.066016</td>\n      <td>0.000421</td>\n      <td>-0.118179</td>\n    </tr>\n    <tr>\n      <th>腰围</th>\n      <td>0.048663</td>\n      <td>0.947533</td>\n      <td>0.231926</td>\n      <td>0.965949</td>\n      <td>0.916624</td>\n      <td>1.000000</td>\n      <td>0.125880</td>\n      <td>0.195577</td>\n      <td>-0.633229</td>\n      <td>0.205139</td>\n      <td>-0.000245</td>\n      <td>0.123183</td>\n      <td>-0.094790</td>\n      <td>-0.297433</td>\n      <td>-0.216850</td>\n      <td>-0.185116</td>\n      <td>-0.187025</td>\n      <td>-0.114532</td>\n      <td>0.094345</td>\n      <td>0.244708</td>\n      <td>0.037932</td>\n      <td>0.292799</td>\n      <td>0.193391</td>\n      <td>0.034871</td>\n      <td>-0.137874</td>\n      <td>0.043948</td>\n      <td>-0.077028</td>\n    </tr>\n    <tr>\n      <th>最高血压</th>\n      <td>0.775691</td>\n      <td>-0.061906</td>\n      <td>-0.297149</td>\n      <td>0.054556</td>\n      <td>0.030084</td>\n      <td>0.125880</td>\n      <td>1.000000</td>\n      <td>0.406917</td>\n      <td>-0.037111</td>\n      <td>0.105263</td>\n      <td>0.095022</td>\n      <td>-0.068281</td>\n      <td>0.325943</td>\n      <td>-0.312380</td>\n      <td>-0.388467</td>\n      <td>0.098520</td>\n      <td>-0.376219</td>\n      <td>0.147435</td>\n      <td>0.057383</td>\n      <td>0.865112</td>\n      <td>-0.131503</td>\n      <td>0.306496</td>\n      <td>0.081157</td>\n      <td>0.250177</td>\n      <td>-0.147947</td>\n      <td>0.130096</td>\n      <td>0.294392</td>\n    </tr>\n    <tr>\n      <th>最低血压</th>\n      <td>-0.017003</td>\n      <td>0.241681</td>\n      <td>0.212687</td>\n      <td>0.184983</td>\n      <td>0.158329</td>\n      <td>0.195577</td>\n      <td>0.406917</td>\n      <td>1.000000</td>\n      <td>-0.187937</td>\n      <td>0.139125</td>\n      <td>0.079675</td>\n      <td>0.062160</td>\n      <td>-0.174656</td>\n      <td>-0.019936</td>\n      <td>-0.018369</td>\n      <td>-0.134212</td>\n      <td>0.012059</td>\n      <td>-0.153227</td>\n      <td>-0.059120</td>\n      <td>0.287977</td>\n      <td>0.082392</td>\n      <td>-0.128236</td>\n      <td>0.001994</td>\n      <td>-0.185433</td>\n      <td>-0.221969</td>\n      <td>-0.212177</td>\n      <td>-0.174155</td>\n    </tr>\n    <tr>\n      <th>好胆固醇</th>\n      <td>0.012363</td>\n      <td>-0.639705</td>\n      <td>-0.390019</td>\n      <td>-0.555885</td>\n      <td>-0.513509</td>\n      <td>-0.633229</td>\n      <td>-0.037111</td>\n      <td>-0.187937</td>\n      <td>1.000000</td>\n      <td>-0.219862</td>\n      <td>0.106486</td>\n      <td>-0.373549</td>\n      <td>0.016696</td>\n      <td>0.070306</td>\n      <td>0.169169</td>\n      <td>0.141197</td>\n      <td>0.104804</td>\n      <td>0.019954</td>\n      <td>-0.088017</td>\n      <td>-0.116817</td>\n      <td>-0.079455</td>\n      <td>-0.289002</td>\n      <td>-0.193188</td>\n      <td>-0.142898</td>\n      <td>0.073292</td>\n      <td>-0.134121</td>\n      <td>-0.018489</td>\n    </tr>\n    <tr>\n      <th>坏胆固醇</th>\n      <td>0.110328</td>\n      <td>0.106826</td>\n      <td>-0.100001</td>\n      <td>0.152363</td>\n      <td>0.124107</td>\n      <td>0.205139</td>\n      <td>0.105263</td>\n      <td>0.139125</td>\n      <td>-0.219862</td>\n      <td>1.000000</td>\n      <td>0.946572</td>\n      <td>0.527051</td>\n      <td>-0.044430</td>\n      <td>-0.013405</td>\n      <td>-0.153226</td>\n      <td>-0.185691</td>\n      <td>-0.064076</td>\n      <td>-0.121812</td>\n      <td>-0.005619</td>\n      <td>0.058092</td>\n      <td>-0.052867</td>\n      <td>-0.008757</td>\n      <td>0.009270</td>\n      <td>-0.144881</td>\n      <td>-0.220236</td>\n      <td>-0.148513</td>\n      <td>-0.055240</td>\n    </tr>\n    <tr>\n      <th>总胆固醇</th>\n      <td>0.116539</td>\n      <td>-0.102592</td>\n      <td>-0.230859</td>\n      <td>-0.028468</td>\n      <td>-0.043260</td>\n      <td>-0.000245</td>\n      <td>0.095022</td>\n      <td>0.079675</td>\n      <td>0.106486</td>\n      <td>0.946572</td>\n      <td>1.000000</td>\n      <td>0.413711</td>\n      <td>-0.039766</td>\n      <td>0.009579</td>\n      <td>-0.100253</td>\n      <td>-0.142589</td>\n      <td>-0.030663</td>\n      <td>-0.117561</td>\n      <td>-0.034824</td>\n      <td>0.020593</td>\n      <td>-0.080151</td>\n      <td>-0.104464</td>\n      <td>-0.054415</td>\n      <td>-0.194910</td>\n      <td>-0.200247</td>\n      <td>-0.195710</td>\n      <td>-0.062415</td>\n    </tr>\n    <tr>\n      <th>血脂异常</th>\n      <td>-0.053483</td>\n      <td>0.104307</td>\n      <td>0.064702</td>\n      <td>0.083621</td>\n      <td>0.072722</td>\n      <td>0.123183</td>\n      <td>-0.068281</td>\n      <td>0.062160</td>\n      <td>-0.373549</td>\n      <td>0.527051</td>\n      <td>0.413711</td>\n      <td>1.000000</td>\n      <td>-0.098839</td>\n      <td>0.034952</td>\n      <td>-0.102785</td>\n      <td>-0.152176</td>\n      <td>-0.036457</td>\n      <td>-0.107587</td>\n      <td>-0.045093</td>\n      <td>-0.077034</td>\n      <td>-0.057253</td>\n      <td>-0.056753</td>\n      <td>-0.051374</td>\n      <td>-0.089531</td>\n      <td>-0.107708</td>\n      <td>-0.077236</td>\n      <td>-0.109849</td>\n    </tr>\n    <tr>\n      <th>周边血管疾病</th>\n      <td>0.459038</td>\n      <td>-0.220447</td>\n      <td>-0.238549</td>\n      <td>-0.148133</td>\n      <td>-0.142014</td>\n      <td>-0.094790</td>\n      <td>0.325943</td>\n      <td>-0.174656</td>\n      <td>0.016696</td>\n      <td>-0.044430</td>\n      <td>-0.039766</td>\n      <td>-0.098839</td>\n      <td>1.000000</td>\n      <td>-0.241439</td>\n      <td>-0.268461</td>\n      <td>0.075780</td>\n      <td>-0.276458</td>\n      <td>0.144901</td>\n      <td>0.084382</td>\n      <td>0.307787</td>\n      <td>-0.175659</td>\n      <td>0.167781</td>\n      <td>-0.033256</td>\n      <td>0.262595</td>\n      <td>-0.001674</td>\n      <td>0.198168</td>\n      <td>0.270221</td>\n    </tr>\n    <tr>\n      <th>体育活动</th>\n      <td>-0.413864</td>\n      <td>-0.181421</td>\n      <td>0.175386</td>\n      <td>-0.275375</td>\n      <td>-0.268364</td>\n      <td>-0.297433</td>\n      <td>-0.312380</td>\n      <td>-0.019936</td>\n      <td>0.070306</td>\n      <td>-0.013405</td>\n      <td>0.009579</td>\n      <td>0.034952</td>\n      <td>-0.241439</td>\n      <td>1.000000</td>\n      <td>0.046137</td>\n      <td>-0.144944</td>\n      <td>0.138670</td>\n      <td>-0.150481</td>\n      <td>-0.076585</td>\n      <td>-0.389301</td>\n      <td>-0.001997</td>\n      <td>-0.321853</td>\n      <td>-0.125056</td>\n      <td>-0.319136</td>\n      <td>-0.050894</td>\n      <td>-0.282782</td>\n      <td>-0.263894</td>\n    </tr>\n    <tr>\n      <th>教育</th>\n      <td>-0.388335</td>\n      <td>-0.053804</td>\n      <td>0.276461</td>\n      <td>-0.178607</td>\n      <td>-0.179143</td>\n      <td>-0.216850</td>\n      <td>-0.388467</td>\n      <td>-0.018369</td>\n      <td>0.169169</td>\n      <td>-0.153226</td>\n      <td>-0.100253</td>\n      <td>-0.102785</td>\n      <td>-0.268461</td>\n      <td>0.046137</td>\n      <td>1.000000</td>\n      <td>-0.168097</td>\n      <td>0.522480</td>\n      <td>-0.239092</td>\n      <td>-0.077816</td>\n      <td>-0.399531</td>\n      <td>0.039580</td>\n      <td>-0.342403</td>\n      <td>-0.199050</td>\n      <td>-0.272194</td>\n      <td>-0.086025</td>\n      <td>-0.247107</td>\n      <td>-0.212792</td>\n    </tr>\n    <tr>\n      <th>未婚</th>\n      <td>0.032520</td>\n      <td>-0.207569</td>\n      <td>-0.217565</td>\n      <td>-0.139730</td>\n      <td>-0.118447</td>\n      <td>-0.185116</td>\n      <td>0.098520</td>\n      <td>-0.134212</td>\n      <td>0.141197</td>\n      <td>-0.185691</td>\n      <td>-0.142589</td>\n      <td>-0.152176</td>\n      <td>0.075780</td>\n      <td>-0.144944</td>\n      <td>-0.168097</td>\n      <td>1.000000</td>\n      <td>-0.405760</td>\n      <td>0.124688</td>\n      <td>-0.203557</td>\n      <td>0.059791</td>\n      <td>-0.066664</td>\n      <td>0.006859</td>\n      <td>-0.038625</td>\n      <td>0.035352</td>\n      <td>0.057955</td>\n      <td>0.049396</td>\n      <td>0.124691</td>\n    </tr>\n    <tr>\n      <th>收入</th>\n      <td>-0.407634</td>\n      <td>-0.036193</td>\n      <td>0.260794</td>\n      <td>-0.151458</td>\n      <td>-0.144783</td>\n      <td>-0.187025</td>\n      <td>-0.376219</td>\n      <td>0.012059</td>\n      <td>0.104804</td>\n      <td>-0.064076</td>\n      <td>-0.030663</td>\n      <td>-0.036457</td>\n      <td>-0.276458</td>\n      <td>0.138670</td>\n      <td>0.522480</td>\n      <td>-0.405760</td>\n      <td>1.000000</td>\n      <td>-0.240553</td>\n      <td>-0.068334</td>\n      <td>-0.398281</td>\n      <td>0.004486</td>\n      <td>-0.336956</td>\n      <td>-0.186850</td>\n      <td>-0.303358</td>\n      <td>-0.055084</td>\n      <td>-0.258188</td>\n      <td>-0.250666</td>\n    </tr>\n    <tr>\n      <th>视力不佳</th>\n      <td>0.263435</td>\n      <td>-0.189237</td>\n      <td>-0.169828</td>\n      <td>-0.139932</td>\n      <td>-0.140788</td>\n      <td>-0.114532</td>\n      <td>0.147435</td>\n      <td>-0.153227</td>\n      <td>0.019954</td>\n      <td>-0.121812</td>\n      <td>-0.117561</td>\n      <td>-0.107587</td>\n      <td>0.144901</td>\n      <td>-0.150481</td>\n      <td>-0.239092</td>\n      <td>0.124688</td>\n      <td>-0.240553</td>\n      <td>1.000000</td>\n      <td>-0.008866</td>\n      <td>0.137154</td>\n      <td>-0.161846</td>\n      <td>0.157780</td>\n      <td>0.018626</td>\n      <td>0.159648</td>\n      <td>-0.008966</td>\n      <td>0.087275</td>\n      <td>0.094276</td>\n    </tr>\n    <tr>\n      <th>饮酒</th>\n      <td>0.236982</td>\n      <td>0.047018</td>\n      <td>0.099464</td>\n      <td>0.011129</td>\n      <td>-0.019457</td>\n      <td>0.094345</td>\n      <td>0.057383</td>\n      <td>-0.059120</td>\n      <td>-0.088017</td>\n      <td>-0.005619</td>\n      <td>-0.034824</td>\n      <td>-0.045093</td>\n      <td>0.084382</td>\n      <td>-0.076585</td>\n      <td>-0.077816</td>\n      <td>-0.203557</td>\n      <td>-0.068334</td>\n      <td>-0.008866</td>\n      <td>1.000000</td>\n      <td>0.092470</td>\n      <td>-0.145816</td>\n      <td>0.060963</td>\n      <td>-0.049694</td>\n      <td>0.115196</td>\n      <td>-0.112938</td>\n      <td>0.071076</td>\n      <td>0.016784</td>\n    </tr>\n    <tr>\n      <th>高血压</th>\n      <td>0.761775</td>\n      <td>0.050134</td>\n      <td>-0.291454</td>\n      <td>0.177502</td>\n      <td>0.156622</td>\n      <td>0.244708</td>\n      <td>0.865112</td>\n      <td>0.287977</td>\n      <td>-0.116817</td>\n      <td>0.058092</td>\n      <td>0.020593</td>\n      <td>-0.077034</td>\n      <td>0.307787</td>\n      <td>-0.389301</td>\n      <td>-0.399531</td>\n      <td>0.059791</td>\n      <td>-0.398281</td>\n      <td>0.137154</td>\n      <td>0.092470</td>\n      <td>1.000000</td>\n      <td>-0.068659</td>\n      <td>0.407884</td>\n      <td>0.132985</td>\n      <td>0.363248</td>\n      <td>-0.133847</td>\n      <td>0.242488</td>\n      <td>0.319723</td>\n    </tr>\n    <tr>\n      <th>家庭高血压</th>\n      <td>-0.295256</td>\n      <td>0.091353</td>\n      <td>-0.011915</td>\n      <td>0.109330</td>\n      <td>0.094551</td>\n      <td>0.037932</td>\n      <td>-0.131503</td>\n      <td>0.082392</td>\n      <td>-0.079455</td>\n      <td>-0.052867</td>\n      <td>-0.080151</td>\n      <td>-0.057253</td>\n      <td>-0.175659</td>\n      <td>-0.001997</td>\n      <td>0.039580</td>\n      <td>-0.066664</td>\n      <td>0.004486</td>\n      <td>-0.161846</td>\n      <td>-0.145816</td>\n      <td>-0.068659</td>\n      <td>1.000000</td>\n      <td>-0.065250</td>\n      <td>0.169953</td>\n      <td>-0.099153</td>\n      <td>0.008425</td>\n      <td>-0.094310</td>\n      <td>-0.181226</td>\n    </tr>\n    <tr>\n      <th>糖尿病</th>\n      <td>0.423625</td>\n      <td>0.143673</td>\n      <td>-0.186415</td>\n      <td>0.237286</td>\n      <td>0.214888</td>\n      <td>0.292799</td>\n      <td>0.306496</td>\n      <td>-0.128236</td>\n      <td>-0.289002</td>\n      <td>-0.008757</td>\n      <td>-0.104464</td>\n      <td>-0.056753</td>\n      <td>0.167781</td>\n      <td>-0.321853</td>\n      <td>-0.342403</td>\n      <td>0.006859</td>\n      <td>-0.336956</td>\n      <td>0.157780</td>\n      <td>0.060963</td>\n      <td>0.407884</td>\n      <td>-0.065250</td>\n      <td>1.000000</td>\n      <td>0.400265</td>\n      <td>0.281357</td>\n      <td>-0.043890</td>\n      <td>0.260703</td>\n      <td>0.208480</td>\n    </tr>\n    <tr>\n      <th>家族糖尿病</th>\n      <td>0.105755</td>\n      <td>0.125188</td>\n      <td>-0.145997</td>\n      <td>0.198308</td>\n      <td>0.176793</td>\n      <td>0.193391</td>\n      <td>0.081157</td>\n      <td>0.001994</td>\n      <td>-0.193188</td>\n      <td>0.009270</td>\n      <td>-0.054415</td>\n      <td>-0.051374</td>\n      <td>-0.033256</td>\n      <td>-0.125056</td>\n      <td>-0.199050</td>\n      <td>-0.038625</td>\n      <td>-0.186850</td>\n      <td>0.018626</td>\n      <td>-0.049694</td>\n      <td>0.132985</td>\n      <td>0.169953</td>\n      <td>0.400265</td>\n      <td>1.000000</td>\n      <td>0.023155</td>\n      <td>-0.045996</td>\n      <td>0.023623</td>\n      <td>-0.048621</td>\n    </tr>\n    <tr>\n      <th>肝炎</th>\n      <td>0.479036</td>\n      <td>-0.078612</td>\n      <td>-0.137625</td>\n      <td>-0.030863</td>\n      <td>-0.032350</td>\n      <td>0.034871</td>\n      <td>0.250177</td>\n      <td>-0.185433</td>\n      <td>-0.142898</td>\n      <td>-0.144881</td>\n      <td>-0.194910</td>\n      <td>-0.089531</td>\n      <td>0.262595</td>\n      <td>-0.319136</td>\n      <td>-0.272194</td>\n      <td>0.035352</td>\n      <td>-0.303358</td>\n      <td>0.159648</td>\n      <td>0.115196</td>\n      <td>0.363248</td>\n      <td>-0.099153</td>\n      <td>0.281357</td>\n      <td>0.023155</td>\n      <td>1.000000</td>\n      <td>-0.027222</td>\n      <td>0.585889</td>\n      <td>0.319007</td>\n    </tr>\n    <tr>\n      <th>家族肝炎</th>\n      <td>-0.133337</td>\n      <td>-0.145885</td>\n      <td>-0.186032</td>\n      <td>-0.083759</td>\n      <td>-0.066016</td>\n      <td>-0.137874</td>\n      <td>-0.147947</td>\n      <td>-0.221969</td>\n      <td>0.073292</td>\n      <td>-0.220236</td>\n      <td>-0.200247</td>\n      <td>-0.107708</td>\n      <td>-0.001674</td>\n      <td>-0.050894</td>\n      <td>-0.086025</td>\n      <td>0.057955</td>\n      <td>-0.055084</td>\n      <td>-0.008966</td>\n      <td>-0.112938</td>\n      <td>-0.133847</td>\n      <td>0.008425</td>\n      <td>-0.043890</td>\n      <td>-0.045996</td>\n      <td>-0.027222</td>\n      <td>1.000000</td>\n      <td>-0.001597</td>\n      <td>-0.023511</td>\n    </tr>\n    <tr>\n      <th>慢性疲劳</th>\n      <td>0.340023</td>\n      <td>-0.049391</td>\n      <td>-0.154273</td>\n      <td>0.006601</td>\n      <td>0.000421</td>\n      <td>0.043948</td>\n      <td>0.130096</td>\n      <td>-0.212177</td>\n      <td>-0.134121</td>\n      <td>-0.148513</td>\n      <td>-0.195710</td>\n      <td>-0.077236</td>\n      <td>0.198168</td>\n      <td>-0.282782</td>\n      <td>-0.247107</td>\n      <td>0.049396</td>\n      <td>-0.258188</td>\n      <td>0.087275</td>\n      <td>0.071076</td>\n      <td>0.242488</td>\n      <td>-0.094310</td>\n      <td>0.260703</td>\n      <td>0.023623</td>\n      <td>0.585889</td>\n      <td>-0.001597</td>\n      <td>1.000000</td>\n      <td>0.260583</td>\n    </tr>\n    <tr>\n      <th>急性肝衰竭</th>\n      <td>0.457791</td>\n      <td>-0.184212</td>\n      <td>-0.200582</td>\n      <td>-0.126154</td>\n      <td>-0.118179</td>\n      <td>-0.077028</td>\n      <td>0.294392</td>\n      <td>-0.174155</td>\n      <td>-0.018489</td>\n      <td>-0.055240</td>\n      <td>-0.062415</td>\n      <td>-0.109849</td>\n      <td>0.270221</td>\n      <td>-0.263894</td>\n      <td>-0.212792</td>\n      <td>0.124691</td>\n      <td>-0.250666</td>\n      <td>0.094276</td>\n      <td>0.016784</td>\n      <td>0.319723</td>\n      <td>-0.181226</td>\n      <td>0.208480</td>\n      <td>-0.048621</td>\n      <td>0.319007</td>\n      <td>-0.023511</td>\n      <td>0.260583</td>\n      <td>1.000000</td>\n    </tr>\n  </tbody>\n</table>\n</div>"
     },
     "execution_count": 12,
     "metadata": {},
     "output_type": "execute_result"
    }
   ],
   "source": [
    "train_corr.corr()\n"
   ],
   "metadata": {
    "collapsed": false,
    "pycharm": {
     "name": "#%%\n"
    }
   }
  },
  {
   "cell_type": "markdown",
   "source": [
    "## 7.分割数据集"
   ],
   "metadata": {
    "collapsed": false,
    "pycharm": {
     "name": "#%% md\n"
    }
   }
  },
  {
   "cell_type": "code",
   "execution_count": 13,
   "outputs": [
    {
     "data": {
      "text/plain": "<Figure size 432x288 with 1 Axes>",
      "image/png": "[encoded data removed]"
     },
     "metadata": {
      "needs_background": "light"
     },
     "output_type": "display_data"
    }
   ],
   "source": [
    "# 绘制计数直方图\n",
    "sns.countplot(y)\n",
    "plt.show()"
   ],
   "metadata": {
    "collapsed": false,
    "pycharm": {
     "name": "#%%\n"
    }
   }
  },
  {
   "cell_type": "code",
   "execution_count": 14,
   "outputs": [],
   "source": [
    "from sklearn.preprocessing import MinMaxScaler\n",
    "scaler = MinMaxScaler(feature_range=(-1,1))\n",
    "scaler.fit(X)\n",
    "X_scaled = scaler.transform(X)\n"
   ],
   "metadata": {
    "collapsed": false,
    "pycharm": {
     "name": "#%%\n"
    }
   }
  },
  {
   "cell_type": "code",
   "execution_count": 15,
   "outputs": [],
   "source": [
    "from sklearn.model_selection import train_test_split\n",
    "X_train, X_test, y_train, y_test = train_test_split(X,y,stratify = y)\n"
   ],
   "metadata": {
    "collapsed": false,
    "pycharm": {
     "name": "#%%\n"
    }
   }
  },
  {
   "cell_type": "code",
   "execution_count": 16,
   "outputs": [],
   "source": [
    "xgb = XGBClassifier(random_state=10)\n",
    "xgb.fit(X_train,y_train)\n",
    "pred = xgb.predict(X_test)"
   ],
   "metadata": {
    "collapsed": false,
    "pycharm": {
     "name": "#%%\n"
    }
   }
  },
  {
   "cell_type": "code",
   "execution_count": 17,
   "outputs": [],
   "source": [
    "\n",
    "count = 0\n",
    "for i in range( len(y_test) ):\n",
    "    if pred[i] != y_test.iloc[i]:\n",
    "        count = count + 1"
   ],
   "metadata": {
    "collapsed": false,
    "pycharm": {
     "name": "#%%\n"
    }
   }
  },
  {
   "cell_type": "code",
   "execution_count": 18,
   "outputs": [
    {
     "name": "stdout",
     "output_type": "stream",
     "text": [
      "Error for XGBoost= 6.266667 %\n",
      "Accuracy for XGBoost = 93.733333 %\n"
     ]
    }
   ],
   "source": [
    "error = count/len(pred)\n",
    "print( \"Error for XGBoost= %f \" % (error*100) + '%' )\n",
    "accuracy = (1-error)\n",
    "print( \"Accuracy for XGBoost = %f \" % (accuracy*100) + '%' )"
   ],
   "metadata": {
    "collapsed": false,
    "pycharm": {
     "name": "#%%\n"
    }
   }
  },
  {
   "cell_type": "code",
   "execution_count": 19,
   "outputs": [
    {
     "data": {
      "text/plain": "   年龄 性别     区域     体重     身高   体重指数  肥胖腰围     腰围   最高血压  最低血压  好胆固醇   坏胆固醇  \\\n0  30  M   east   71.8  163.3  26.92   0.0   94.6  101.0  45.0  83.0  139.0   \n1  63  M  south   71.8  154.8  29.96   0.0   93.2  115.0  60.0  81.0   56.0   \n2  20  M  south  104.8  165.0  38.49   1.0  118.8  115.0  60.0  40.0  124.0   \n3  64  M   east   63.4  155.1  26.36   0.0   80.5   92.0  61.0  74.0   88.0   \n4  78  F   east   98.9  174.8  32.37   1.0  114.5  128.0  65.0  62.0  110.0   \n\n    总胆固醇  血脂异常  周边血管疾病  体育活动   教育   未婚   收入              护理来源  视力不佳  饮酒  高血压  \\\n0  222.0     0       0   3.0  1.0  0.0  NaN  Private Hospital   0.0   0  0.0   \n1  137.0     0       0   2.0  0.0  0.0  0.0  Private Hospital   0.0   0  1.0   \n2  164.0     0       0   3.0  0.0  1.0  0.0  Private Hospital   0.0   0  0.0   \n3  162.0     0       0   2.0  1.0  0.0  1.0  Private Hospital   0.0   1  0.0   \n4  172.0     0       0   1.0  1.0  0.0  0.0  Private Hospital   0.0   0  1.0   \n\n   家庭高血压  糖尿病  家族糖尿病  家族肝炎  慢性疲劳  急性肝衰竭    ID  \n0      1  0.0      0   0.0   0.0    NaN  7964  \n1      0  1.0      0   0.0   0.0    NaN  7320  \n2      0  0.0      0   0.0   0.0    0.0  2114  \n3      0  0.0      1   0.0   0.0    0.0  2443  \n4      0  0.0      0   0.0   0.0    0.0   473  ",
      "text/html": "<div>\n<style scoped>\n    .dataframe tbody tr th:only-of-type {\n        vertical-align: middle;\n    }\n\n    .dataframe tbody tr th {\n        vertical-align: top;\n    }\n\n    .dataframe thead th {\n        text-align: right;\n    }\n</style>\n<table border=\"1\" class=\"dataframe\">\n  <thead>\n    <tr style=\"text-align: right;\">\n      <th></th>\n      <th>年龄</th>\n      <th>性别</th>\n      <th>区域</th>\n      <th>体重</th>\n      <th>身高</th>\n      <th>体重指数</th>\n      <th>肥胖腰围</th>\n      <th>腰围</th>\n      <th>最高血压</th>\n      <th>最低血压</th>\n      <th>好胆固醇</th>\n      <th>坏胆固醇</th>\n      <th>总胆固醇</th>\n      <th>血脂异常</th>\n      <th>周边血管疾病</th>\n      <th>体育活动</th>\n      <th>教育</th>\n      <th>未婚</th>\n      <th>收入</th>\n      <th>护理来源</th>\n      <th>视力不佳</th>\n      <th>饮酒</th>\n      <th>高血压</th>\n      <th>家庭高血压</th>\n      <th>糖尿病</th>\n      <th>家族糖尿病</th>\n      <th>家族肝炎</th>\n      <th>慢性疲劳</th>\n      <th>急性肝衰竭</th>\n      <th>ID</th>\n    </tr>\n  </thead>\n  <tbody>\n    <tr>\n      <th>0</th>\n      <td>30</td>\n      <td>M</td>\n      <td>east</td>\n      <td>71.8</td>\n      <td>163.3</td>\n      <td>26.92</td>\n      <td>0.0</td>\n      <td>94.6</td>\n      <td>101.0</td>\n      <td>45.0</td>\n      <td>83.0</td>\n      <td>139.0</td>\n      <td>222.0</td>\n      <td>0</td>\n      <td>0</td>\n      <td>3.0</td>\n      <td>1.0</td>\n      <td>0.0</td>\n      <td>NaN</td>\n      <td>Private Hospital</td>\n      <td>0.0</td>\n      <td>0</td>\n      <td>0.0</td>\n      <td>1</td>\n      <td>0.0</td>\n      <td>0</td>\n      <td>0.0</td>\n      <td>0.0</td>\n      <td>NaN</td>\n      <td>7964</td>\n    </tr>\n    <tr>\n      <th>1</th>\n      <td>63</td>\n      <td>M</td>\n      <td>south</td>\n      <td>71.8</td>\n      <td>154.8</td>\n      <td>29.96</td>\n      <td>0.0</td>\n      <td>93.2</td>\n      <td>115.0</td>\n      <td>60.0</td>\n      <td>81.0</td>\n      <td>56.0</td>\n      <td>137.0</td>\n      <td>0</td>\n      <td>0</td>\n      <td>2.0</td>\n      <td>0.0</td>\n      <td>0.0</td>\n      <td>0.0</td>\n      <td>Private Hospital</td>\n      <td>0.0</td>\n      <td>0</td>\n      <td>1.0</td>\n      <td>0</td>\n      <td>1.0</td>\n      <td>0</td>\n      <td>0.0</td>\n      <td>0.0</td>\n      <td>NaN</td>\n      <td>7320</td>\n    </tr>\n    <tr>\n      <th>2</th>\n      <td>20</td>\n      <td>M</td>\n      <td>south</td>\n      <td>104.8</td>\n      <td>165.0</td>\n      <td>38.49</td>\n      <td>1.0</td>\n      <td>118.8</td>\n      <td>115.0</td>\n      <td>60.0</td>\n      <td>40.0</td>\n      <td>124.0</td>\n      <td>164.0</td>\n      <td>0</td>\n      <td>0</td>\n      <td>3.0</td>\n      <td>0.0</td>\n      <td>1.0</td>\n      <td>0.0</td>\n      <td>Private Hospital</td>\n      <td>0.0</td>\n      <td>0</td>\n      <td>0.0</td>\n      <td>0</td>\n      <td>0.0</td>\n      <td>0</td>\n      <td>0.0</td>\n      <td>0.0</td>\n      <td>0.0</td>\n      <td>2114</td>\n    </tr>\n    <tr>\n      <th>3</th>\n      <td>64</td>\n      <td>M</td>\n      <td>east</td>\n      <td>63.4</td>\n      <td>155.1</td>\n      <td>26.36</td>\n      <td>0.0</td>\n      <td>80.5</td>\n      <td>92.0</td>\n      <td>61.0</td>\n      <td>74.0</td>\n      <td>88.0</td>\n      <td>162.0</td>\n      <td>0</td>\n      <td>0</td>\n      <td>2.0</td>\n      <td>1.0</td>\n      <td>0.0</td>\n      <td>1.0</td>\n      <td>Private Hospital</td>\n      <td>0.0</td>\n      <td>1</td>\n      <td>0.0</td>\n      <td>0</td>\n      <td>0.0</td>\n      <td>1</td>\n      <td>0.0</td>\n      <td>0.0</td>\n      <td>0.0</td>\n      <td>2443</td>\n    </tr>\n    <tr>\n      <th>4</th>\n      <td>78</td>\n      <td>F</td>\n      <td>east</td>\n      <td>98.9</td>\n      <td>174.8</td>\n      <td>32.37</td>\n      <td>1.0</td>\n      <td>114.5</td>\n      <td>128.0</td>\n      <td>65.0</td>\n      <td>62.0</td>\n      <td>110.0</td>\n      <td>172.0</td>\n      <td>0</td>\n      <td>0</td>\n      <td>1.0</td>\n      <td>1.0</td>\n      <td>0.0</td>\n      <td>0.0</td>\n      <td>Private Hospital</td>\n      <td>0.0</td>\n      <td>0</td>\n      <td>1.0</td>\n      <td>0</td>\n      <td>0.0</td>\n      <td>0</td>\n      <td>0.0</td>\n      <td>0.0</td>\n      <td>0.0</td>\n      <td>473</td>\n    </tr>\n  </tbody>\n</table>\n</div>"
     },
     "execution_count": 19,
     "metadata": {},
     "output_type": "execute_result"
    }
   ],
   "source": [
    "\n",
    "test = pd.read_csv('./test/test.csv')\n",
    "pd.set_option('max_columns', 35)\n",
    "test.head(5)"
   ],
   "metadata": {
    "collapsed": false,
    "pycharm": {
     "name": "#%%\n"
    }
   }
  },
  {
   "cell_type": "code",
   "execution_count": 20,
   "outputs": [
    {
     "name": "stdout",
     "output_type": "stream",
     "text": [
      "0       7964\n",
      "1       7320\n",
      "2       2114\n",
      "3       2443\n",
      "4        473\n",
      "        ... \n",
      "2780    8485\n",
      "2781    5630\n",
      "2782    7007\n",
      "2783    1853\n",
      "2784    8091\n",
      "Name: ID, Length: 2785, dtype: int64\n"
     ]
    }
   ],
   "source": [
    "ID = test['ID']\n",
    "print(ID)\n"
   ],
   "metadata": {
    "collapsed": false,
    "pycharm": {
     "name": "#%%\n"
    }
   }
  },
  {
   "cell_type": "code",
   "execution_count": 21,
   "outputs": [
    {
     "data": {
      "text/plain": "   年龄     体重     身高   体重指数  肥胖腰围     腰围   最高血压  最低血压  好胆固醇   坏胆固醇   总胆固醇  \\\n0  30   71.8  163.3  26.92   0.0   94.6  101.0  45.0  83.0  139.0  222.0   \n1  63   71.8  154.8  29.96   0.0   93.2  115.0  60.0  81.0   56.0  137.0   \n2  20  104.8  165.0  38.49   1.0  118.8  115.0  60.0  40.0  124.0  164.0   \n3  64   63.4  155.1  26.36   0.0   80.5   92.0  61.0  74.0   88.0  162.0   \n4  78   98.9  174.8  32.37   1.0  114.5  128.0  65.0  62.0  110.0  172.0   \n\n   血脂异常  周边血管疾病  体育活动   教育   未婚   收入  视力不佳  饮酒  高血压  家庭高血压  糖尿病  家族糖尿病  家族肝炎  \\\n0     0       0   3.0  1.0  0.0  NaN   0.0   0  0.0      1  0.0      0   0.0   \n1     0       0   2.0  0.0  0.0  0.0   0.0   0  1.0      0  1.0      0   0.0   \n2     0       0   3.0  0.0  1.0  0.0   0.0   0  0.0      0  0.0      0   0.0   \n3     0       0   2.0  1.0  0.0  1.0   0.0   1  0.0      0  0.0      1   0.0   \n4     0       0   1.0  1.0  0.0  0.0   0.0   0  1.0      0  0.0      0   0.0   \n\n   慢性疲劳  急性肝衰竭  \n0   0.0    NaN  \n1   0.0    NaN  \n2   0.0    0.0  \n3   0.0    0.0  \n4   0.0    0.0  ",
      "text/html": "<div>\n<style scoped>\n    .dataframe tbody tr th:only-of-type {\n        vertical-align: middle;\n    }\n\n    .dataframe tbody tr th {\n        vertical-align: top;\n    }\n\n    .dataframe thead th {\n        text-align: right;\n    }\n</style>\n<table border=\"1\" class=\"dataframe\">\n  <thead>\n    <tr style=\"text-align: right;\">\n      <th></th>\n      <th>年龄</th>\n      <th>体重</th>\n      <th>身高</th>\n      <th>体重指数</th>\n      <th>肥胖腰围</th>\n      <th>腰围</th>\n      <th>最高血压</th>\n      <th>最低血压</th>\n      <th>好胆固醇</th>\n      <th>坏胆固醇</th>\n      <th>总胆固醇</th>\n      <th>血脂异常</th>\n      <th>周边血管疾病</th>\n      <th>体育活动</th>\n      <th>教育</th>\n      <th>未婚</th>\n      <th>收入</th>\n      <th>视力不佳</th>\n      <th>饮酒</th>\n      <th>高血压</th>\n      <th>家庭高血压</th>\n      <th>糖尿病</th>\n      <th>家族糖尿病</th>\n      <th>家族肝炎</th>\n      <th>慢性疲劳</th>\n      <th>急性肝衰竭</th>\n    </tr>\n  </thead>\n  <tbody>\n    <tr>\n      <th>0</th>\n      <td>30</td>\n      <td>71.8</td>\n      <td>163.3</td>\n      <td>26.92</td>\n      <td>0.0</td>\n      <td>94.6</td>\n      <td>101.0</td>\n      <td>45.0</td>\n      <td>83.0</td>\n      <td>139.0</td>\n      <td>222.0</td>\n      <td>0</td>\n      <td>0</td>\n      <td>3.0</td>\n      <td>1.0</td>\n      <td>0.0</td>\n      <td>NaN</td>\n      <td>0.0</td>\n      <td>0</td>\n      <td>0.0</td>\n      <td>1</td>\n      <td>0.0</td>\n      <td>0</td>\n      <td>0.0</td>\n      <td>0.0</td>\n      <td>NaN</td>\n    </tr>\n    <tr>\n      <th>1</th>\n      <td>63</td>\n      <td>71.8</td>\n      <td>154.8</td>\n      <td>29.96</td>\n      <td>0.0</td>\n      <td>93.2</td>\n      <td>115.0</td>\n      <td>60.0</td>\n      <td>81.0</td>\n      <td>56.0</td>\n      <td>137.0</td>\n      <td>0</td>\n      <td>0</td>\n      <td>2.0</td>\n      <td>0.0</td>\n      <td>0.0</td>\n      <td>0.0</td>\n      <td>0.0</td>\n      <td>0</td>\n      <td>1.0</td>\n      <td>0</td>\n      <td>1.0</td>\n      <td>0</td>\n      <td>0.0</td>\n      <td>0.0</td>\n      <td>NaN</td>\n    </tr>\n    <tr>\n      <th>2</th>\n      <td>20</td>\n      <td>104.8</td>\n      <td>165.0</td>\n      <td>38.49</td>\n      <td>1.0</td>\n      <td>118.8</td>\n      <td>115.0</td>\n      <td>60.0</td>\n      <td>40.0</td>\n      <td>124.0</td>\n      <td>164.0</td>\n      <td>0</td>\n      <td>0</td>\n      <td>3.0</td>\n      <td>0.0</td>\n      <td>1.0</td>\n      <td>0.0</td>\n      <td>0.0</td>\n      <td>0</td>\n      <td>0.0</td>\n      <td>0</td>\n      <td>0.0</td>\n      <td>0</td>\n      <td>0.0</td>\n      <td>0.0</td>\n      <td>0.0</td>\n    </tr>\n    <tr>\n      <th>3</th>\n      <td>64</td>\n      <td>63.4</td>\n      <td>155.1</td>\n      <td>26.36</td>\n      <td>0.0</td>\n      <td>80.5</td>\n      <td>92.0</td>\n      <td>61.0</td>\n      <td>74.0</td>\n      <td>88.0</td>\n      <td>162.0</td>\n      <td>0</td>\n      <td>0</td>\n      <td>2.0</td>\n      <td>1.0</td>\n      <td>0.0</td>\n      <td>1.0</td>\n      <td>0.0</td>\n      <td>1</td>\n      <td>0.0</td>\n      <td>0</td>\n      <td>0.0</td>\n      <td>1</td>\n      <td>0.0</td>\n      <td>0.0</td>\n      <td>0.0</td>\n    </tr>\n    <tr>\n      <th>4</th>\n      <td>78</td>\n      <td>98.9</td>\n      <td>174.8</td>\n      <td>32.37</td>\n      <td>1.0</td>\n      <td>114.5</td>\n      <td>128.0</td>\n      <td>65.0</td>\n      <td>62.0</td>\n      <td>110.0</td>\n      <td>172.0</td>\n      <td>0</td>\n      <td>0</td>\n      <td>1.0</td>\n      <td>1.0</td>\n      <td>0.0</td>\n      <td>0.0</td>\n      <td>0.0</td>\n      <td>0</td>\n      <td>1.0</td>\n      <td>0</td>\n      <td>0.0</td>\n      <td>0</td>\n      <td>0.0</td>\n      <td>0.0</td>\n      <td>0.0</td>\n    </tr>\n  </tbody>\n</table>\n</div>"
     },
     "execution_count": 21,
     "metadata": {},
     "output_type": "execute_result"
    }
   ],
   "source": [
    "test = test.drop(labels='护理来源', axis=1)\n",
    "test = test.drop(labels='ID', axis=1)\n",
    "test = test.drop(labels='区域', axis=1)\n",
    "test = test.drop(labels='性别', axis=1)\n",
    "test.head(5)"
   ],
   "metadata": {
    "collapsed": false,
    "pycharm": {
     "name": "#%%\n"
    }
   }
  },
  {
   "cell_type": "code",
   "execution_count": 22,
   "outputs": [
    {
     "data": {
      "text/plain": "年龄          0\n体重         54\n身高         55\n体重指数       81\n肥胖腰围       81\n腰围         90\n最高血压       85\n最低血压      103\n好胆固醇       11\n坏胆固醇       11\n总胆固醇        9\n血脂异常        0\n周边血管疾病      0\n体育活动        2\n教育          6\n未婚        144\n收入        398\n视力不佳      161\n饮酒          0\n高血压        31\n家庭高血压       0\n糖尿病         2\n家族糖尿病       0\n家族肝炎        1\n慢性疲劳        9\n急性肝衰竭     904\ndtype: int64"
     },
     "execution_count": 22,
     "metadata": {},
     "output_type": "execute_result"
    }
   ],
   "source": [
    "total_missingvalues = test.isnull().sum()\n",
    "total_missingvalues"
   ],
   "metadata": {
    "collapsed": false,
    "pycharm": {
     "name": "#%%\n"
    }
   }
  },
  {
   "cell_type": "code",
   "execution_count": 23,
   "outputs": [
    {
     "data": {
      "text/plain": "   年龄     体重     身高   体重指数  肥胖腰围     腰围   最高血压  最低血压  好胆固醇   坏胆固醇   总胆固醇  \\\n0  30   71.8  163.3  26.92   0.0   94.6  101.0  45.0  83.0  139.0  222.0   \n1  63   71.8  154.8  29.96   0.0   93.2  115.0  60.0  81.0   56.0  137.0   \n2  20  104.8  165.0  38.49   1.0  118.8  115.0  60.0  40.0  124.0  164.0   \n3  64   63.4  155.1  26.36   0.0   80.5   92.0  61.0  74.0   88.0  162.0   \n4  78   98.9  174.8  32.37   1.0  114.5  128.0  65.0  62.0  110.0  172.0   \n\n   血脂异常  周边血管疾病  体育活动   教育   未婚   收入  视力不佳  饮酒  高血压  家庭高血压  糖尿病  家族糖尿病  家族肝炎  \\\n0     0       0   3.0  1.0  0.0  0.0   0.0   0  0.0      1  0.0      0   0.0   \n1     0       0   2.0  0.0  0.0  0.0   0.0   0  1.0      0  1.0      0   0.0   \n2     0       0   3.0  0.0  1.0  0.0   0.0   0  0.0      0  0.0      0   0.0   \n3     0       0   2.0  1.0  0.0  1.0   0.0   1  0.0      0  0.0      1   0.0   \n4     0       0   1.0  1.0  0.0  0.0   0.0   0  1.0      0  0.0      0   0.0   \n\n   慢性疲劳  急性肝衰竭  \n0   0.0    0.0  \n1   0.0    0.0  \n2   0.0    0.0  \n3   0.0    0.0  \n4   0.0    0.0  ",
      "text/html": "<div>\n<style scoped>\n    .dataframe tbody tr th:only-of-type {\n        vertical-align: middle;\n    }\n\n    .dataframe tbody tr th {\n        vertical-align: top;\n    }\n\n    .dataframe thead th {\n        text-align: right;\n    }\n</style>\n<table border=\"1\" class=\"dataframe\">\n  <thead>\n    <tr style=\"text-align: right;\">\n      <th></th>\n      <th>年龄</th>\n      <th>体重</th>\n      <th>身高</th>\n      <th>体重指数</th>\n      <th>肥胖腰围</th>\n      <th>腰围</th>\n      <th>最高血压</th>\n      <th>最低血压</th>\n      <th>好胆固醇</th>\n      <th>坏胆固醇</th>\n      <th>总胆固醇</th>\n      <th>血脂异常</th>\n      <th>周边血管疾病</th>\n      <th>体育活动</th>\n      <th>教育</th>\n      <th>未婚</th>\n      <th>收入</th>\n      <th>视力不佳</th>\n      <th>饮酒</th>\n      <th>高血压</th>\n      <th>家庭高血压</th>\n      <th>糖尿病</th>\n      <th>家族糖尿病</th>\n      <th>家族肝炎</th>\n      <th>慢性疲劳</th>\n      <th>急性肝衰竭</th>\n    </tr>\n  </thead>\n  <tbody>\n    <tr>\n      <th>0</th>\n      <td>30</td>\n      <td>71.8</td>\n      <td>163.3</td>\n      <td>26.92</td>\n      <td>0.0</td>\n      <td>94.6</td>\n      <td>101.0</td>\n      <td>45.0</td>\n      <td>83.0</td>\n      <td>139.0</td>\n      <td>222.0</td>\n      <td>0</td>\n      <td>0</td>\n      <td>3.0</td>\n      <td>1.0</td>\n      <td>0.0</td>\n      <td>0.0</td>\n      <td>0.0</td>\n      <td>0</td>\n      <td>0.0</td>\n      <td>1</td>\n      <td>0.0</td>\n      <td>0</td>\n      <td>0.0</td>\n      <td>0.0</td>\n      <td>0.0</td>\n    </tr>\n    <tr>\n      <th>1</th>\n      <td>63</td>\n      <td>71.8</td>\n      <td>154.8</td>\n      <td>29.96</td>\n      <td>0.0</td>\n      <td>93.2</td>\n      <td>115.0</td>\n      <td>60.0</td>\n      <td>81.0</td>\n      <td>56.0</td>\n      <td>137.0</td>\n      <td>0</td>\n      <td>0</td>\n      <td>2.0</td>\n      <td>0.0</td>\n      <td>0.0</td>\n      <td>0.0</td>\n      <td>0.0</td>\n      <td>0</td>\n      <td>1.0</td>\n      <td>0</td>\n      <td>1.0</td>\n      <td>0</td>\n      <td>0.0</td>\n      <td>0.0</td>\n      <td>0.0</td>\n    </tr>\n    <tr>\n      <th>2</th>\n      <td>20</td>\n      <td>104.8</td>\n      <td>165.0</td>\n      <td>38.49</td>\n      <td>1.0</td>\n      <td>118.8</td>\n      <td>115.0</td>\n      <td>60.0</td>\n      <td>40.0</td>\n      <td>124.0</td>\n      <td>164.0</td>\n      <td>0</td>\n      <td>0</td>\n      <td>3.0</td>\n      <td>0.0</td>\n      <td>1.0</td>\n      <td>0.0</td>\n      <td>0.0</td>\n      <td>0</td>\n      <td>0.0</td>\n      <td>0</td>\n      <td>0.0</td>\n      <td>0</td>\n      <td>0.0</td>\n      <td>0.0</td>\n      <td>0.0</td>\n    </tr>\n    <tr>\n      <th>3</th>\n      <td>64</td>\n      <td>63.4</td>\n      <td>155.1</td>\n      <td>26.36</td>\n      <td>0.0</td>\n      <td>80.5</td>\n      <td>92.0</td>\n      <td>61.0</td>\n      <td>74.0</td>\n      <td>88.0</td>\n      <td>162.0</td>\n      <td>0</td>\n      <td>0</td>\n      <td>2.0</td>\n      <td>1.0</td>\n      <td>0.0</td>\n      <td>1.0</td>\n      <td>0.0</td>\n      <td>1</td>\n      <td>0.0</td>\n      <td>0</td>\n      <td>0.0</td>\n      <td>1</td>\n      <td>0.0</td>\n      <td>0.0</td>\n      <td>0.0</td>\n    </tr>\n    <tr>\n      <th>4</th>\n      <td>78</td>\n      <td>98.9</td>\n      <td>174.8</td>\n      <td>32.37</td>\n      <td>1.0</td>\n      <td>114.5</td>\n      <td>128.0</td>\n      <td>65.0</td>\n      <td>62.0</td>\n      <td>110.0</td>\n      <td>172.0</td>\n      <td>0</td>\n      <td>0</td>\n      <td>1.0</td>\n      <td>1.0</td>\n      <td>0.0</td>\n      <td>0.0</td>\n      <td>0.0</td>\n      <td>0</td>\n      <td>1.0</td>\n      <td>0</td>\n      <td>0.0</td>\n      <td>0</td>\n      <td>0.0</td>\n      <td>0.0</td>\n      <td>0.0</td>\n    </tr>\n  </tbody>\n</table>\n</div>"
     },
     "execution_count": 23,
     "metadata": {},
     "output_type": "execute_result"
    }
   ],
   "source": [
    "test.fillna(0.0, inplace=True)\n",
    "test.head(5)"
   ],
   "metadata": {
    "collapsed": false,
    "pycharm": {
     "name": "#%%\n"
    }
   }
  },
  {
   "cell_type": "code",
   "execution_count": 24,
   "outputs": [
    {
     "data": {
      "text/plain": "(2785, 26)"
     },
     "execution_count": 24,
     "metadata": {},
     "output_type": "execute_result"
    }
   ],
   "source": [
    "test.shape\n"
   ],
   "metadata": {
    "collapsed": false,
    "pycharm": {
     "name": "#%%\n"
    }
   }
  },
  {
   "cell_type": "code",
   "execution_count": 25,
   "outputs": [
    {
     "name": "stdout",
     "output_type": "stream",
     "text": [
      "[0. 0. 0. ... 0. 0. 0.]\n"
     ]
    }
   ],
   "source": [
    "# scaler.fit(test)\n",
    "# X_scaled_test = scaler.transform(test)\n",
    "y_real = xgb.predict(test)\n",
    "print(y_real)"
   ],
   "metadata": {
    "collapsed": false,
    "pycharm": {
     "name": "#%%\n"
    }
   }
  },
  {
   "cell_type": "code",
   "execution_count": 29,
   "outputs": [],
   "source": [
    "csvFile = open('./result/20201008-01-Result-XGBClassifier-1.csv', 'wt', encoding=\"UTF8\", newline='')\n",
    "myWriter = csv.writer(csvFile, delimiter=\",\")\n",
    "myWriter.writerow(['ID', 'hepatitis'])\n",
    "myWriter.writerows(zip(ID,y_real))\n",
    "\n",
    "csvFile.close()"
   ],
   "metadata": {
    "collapsed": false,
    "pycharm": {
     "name": "#%%\n"
    }
   }
  }
 ],
 "metadata": {
  "kernelspec": {
   "name": "pycharm-1afc687d",
   "language": "python",
   "display_name": "PyCharm (DiseasePrediction)"
  },
  "language_info": {
   "codemirror_mode": {
    "name": "ipython",
    "version": 2
   },
   "file_extension": ".py",
   "mimetype": "text/x-python",
   "name": "python",
   "nbconvert_exporter": "python",
   "pygments_lexer": "ipython2",
   "version": "2.7.6"
  }
 },
 "nbformat": 4,
 "nbformat_minor": 0
}