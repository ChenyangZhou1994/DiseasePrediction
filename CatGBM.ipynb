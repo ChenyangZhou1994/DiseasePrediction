{
 "cells": [
  {
   "cell_type": "markdown",
   "metadata": {
    "collapsed": true,
    "pycharm": {
     "name": "#%% md\n"
    }
   },
   "source": [
    "# CatGBM\n"
   ]
  },
  {
   "cell_type": "markdown",
   "source": [
    "## 1.导入相关库"
   ],
   "metadata": {
    "collapsed": false,
    "pycharm": {
     "name": "#%% md\n"
    }
   }
  },
  {
   "cell_type": "code",
   "execution_count": 57,
   "outputs": [],
   "source": [
    "import numpy as np\n",
    "import pandas as pd\n",
    "\n",
    "#preprocessing\n",
    "from sklearn.preprocessing import MinMaxScaler, StandardScaler\n",
    "from sklearn.preprocessing import LabelEncoder\n",
    "from sklearn.model_selection import train_test_split\n",
    "from pandas.plotting import scatter_matrix\n",
    "from tqdm import tqdm\n",
    "from imblearn.over_sampling import SMOTE\n",
    "\n",
    "#visualizations\n",
    "import seaborn as sns\n",
    "from matplotlib import pyplot as plt\n",
    "%matplotlib inline\n",
    "\n",
    "plt.rcParams['font.sans-serif']=['SimHei']\n",
    "plt.rcParams['axes.unicode_minus']=False\n",
    "\n",
    "pd.set_option('display.max_rows', None)\n",
    "pd.set_option('display.max_columns', None)\n",
    "\n",
    "#algorithms\n",
    "from xgboost import XGBClassifier\n",
    "from lightgbm import LGBMClassifier\n",
    "from catboost import CatBoostClassifier\n",
    "\n",
    "#score metrics\n",
    "from sklearn.model_selection import StratifiedKFold\n",
    "from sklearn.metrics import confusion_matrix\n",
    "from sklearn.model_selection import GridSearchCV\n",
    "from sklearn.metrics import roc_auc_score\n",
    "from sklearn.metrics import roc_curve, auc"
   ],
   "metadata": {
    "collapsed": false,
    "pycharm": {
     "name": "#%%\n"
    }
   }
  },
  {
   "cell_type": "markdown",
   "source": [
    "## 2.读取数据"
   ],
   "metadata": {
    "collapsed": false,
    "pycharm": {
     "name": "#%% md\n"
    }
   }
  },
  {
   "cell_type": "code",
   "execution_count": 58,
   "outputs": [
    {
     "name": "stdout",
     "output_type": "stream",
     "text": [
      "Train Shape:(6000, 31)\n",
      "Test Shape:(2785, 30)\n"
     ]
    },
    {
     "data": {
      "text/plain": "   年龄 性别    区域     体重     身高   体重指数  肥胖腰围     腰围   最高血压  最低血压  好胆固醇   坏胆固醇  \\\n0  58  F  east   75.6  174.9  24.71   0.0   94.8  100.0  52.0  35.0   95.0   \n1  85  F  east   66.3  166.1  24.03   0.0   89.6  134.0  84.0  59.0  153.0   \n2  32  F  east  109.9  173.2  36.64   1.0  111.7  124.0  84.0  39.0  133.0   \n3  22  M  east   58.7  171.3  20.00   0.0   78.0  104.0  56.0  48.0   98.0   \n4  44  F  west   79.7  172.1  26.91   0.0   93.8  114.0  60.0  34.0  195.0   \n\n    总胆固醇  血脂异常  PVD  体育活动   教育   未婚   收入              护理来源  视力不佳  饮酒  高血压  \\\n0  130.0     0    0   1.0  0.0  0.0  0.0  Private Hospital   0.0   0  1.0   \n1  212.0     0    0   2.0  0.0  0.0  0.0  Private Hospital   0.0   1  0.0   \n2  172.0     0    0   2.0  1.0  0.0  1.0  Private Hospital   0.0   0  0.0   \n3  146.0     0    0   2.0  1.0  1.0  0.0  Never Counsulted   0.0   0  0.0   \n4  229.0     0    0   2.0  0.0  0.0  0.0  Private Hospital   0.0   0  0.0   \n\n   家庭高血压  糖尿病  家族糖尿病   肝炎  家族肝炎  慢性疲劳  ALF    ID  \n0      1    0      1  1.0   0.0   1.0  0.0  4379  \n1      0    0      0  0.0   0.0   0.0  NaN  7623  \n2      0    0      0  0.0   0.0   0.0  0.0  1764  \n3      0    0      0  0.0   0.0   0.0  0.0  5450  \n4      0    0      0  0.0   0.0   0.0  0.0  5196  ",
      "text/html": "<div>\n<style scoped>\n    .dataframe tbody tr th:only-of-type {\n        vertical-align: middle;\n    }\n\n    .dataframe tbody tr th {\n        vertical-align: top;\n    }\n\n    .dataframe thead th {\n        text-align: right;\n    }\n</style>\n<table border=\"1\" class=\"dataframe\">\n  <thead>\n    <tr style=\"text-align: right;\">\n      <th></th>\n      <th>年龄</th>\n      <th>性别</th>\n      <th>区域</th>\n      <th>体重</th>\n      <th>身高</th>\n      <th>体重指数</th>\n      <th>肥胖腰围</th>\n      <th>腰围</th>\n      <th>最高血压</th>\n      <th>最低血压</th>\n      <th>好胆固醇</th>\n      <th>坏胆固醇</th>\n      <th>总胆固醇</th>\n      <th>血脂异常</th>\n      <th>PVD</th>\n      <th>体育活动</th>\n      <th>教育</th>\n      <th>未婚</th>\n      <th>收入</th>\n      <th>护理来源</th>\n      <th>视力不佳</th>\n      <th>饮酒</th>\n      <th>高血压</th>\n      <th>家庭高血压</th>\n      <th>糖尿病</th>\n      <th>家族糖尿病</th>\n      <th>肝炎</th>\n      <th>家族肝炎</th>\n      <th>慢性疲劳</th>\n      <th>ALF</th>\n      <th>ID</th>\n    </tr>\n  </thead>\n  <tbody>\n    <tr>\n      <th>0</th>\n      <td>58</td>\n      <td>F</td>\n      <td>east</td>\n      <td>75.6</td>\n      <td>174.9</td>\n      <td>24.71</td>\n      <td>0.0</td>\n      <td>94.8</td>\n      <td>100.0</td>\n      <td>52.0</td>\n      <td>35.0</td>\n      <td>95.0</td>\n      <td>130.0</td>\n      <td>0</td>\n      <td>0</td>\n      <td>1.0</td>\n      <td>0.0</td>\n      <td>0.0</td>\n      <td>0.0</td>\n      <td>Private Hospital</td>\n      <td>0.0</td>\n      <td>0</td>\n      <td>1.0</td>\n      <td>1</td>\n      <td>0</td>\n      <td>1</td>\n      <td>1.0</td>\n      <td>0.0</td>\n      <td>1.0</td>\n      <td>0.0</td>\n      <td>4379</td>\n    </tr>\n    <tr>\n      <th>1</th>\n      <td>85</td>\n      <td>F</td>\n      <td>east</td>\n      <td>66.3</td>\n      <td>166.1</td>\n      <td>24.03</td>\n      <td>0.0</td>\n      <td>89.6</td>\n      <td>134.0</td>\n      <td>84.0</td>\n      <td>59.0</td>\n      <td>153.0</td>\n      <td>212.0</td>\n      <td>0</td>\n      <td>0</td>\n      <td>2.0</td>\n      <td>0.0</td>\n      <td>0.0</td>\n      <td>0.0</td>\n      <td>Private Hospital</td>\n      <td>0.0</td>\n      <td>1</td>\n      <td>0.0</td>\n      <td>0</td>\n      <td>0</td>\n      <td>0</td>\n      <td>0.0</td>\n      <td>0.0</td>\n      <td>0.0</td>\n      <td>NaN</td>\n      <td>7623</td>\n    </tr>\n    <tr>\n      <th>2</th>\n      <td>32</td>\n      <td>F</td>\n      <td>east</td>\n      <td>109.9</td>\n      <td>173.2</td>\n      <td>36.64</td>\n      <td>1.0</td>\n      <td>111.7</td>\n      <td>124.0</td>\n      <td>84.0</td>\n      <td>39.0</td>\n      <td>133.0</td>\n      <td>172.0</td>\n      <td>0</td>\n      <td>0</td>\n      <td>2.0</td>\n      <td>1.0</td>\n      <td>0.0</td>\n      <td>1.0</td>\n      <td>Private Hospital</td>\n      <td>0.0</td>\n      <td>0</td>\n      <td>0.0</td>\n      <td>0</td>\n      <td>0</td>\n      <td>0</td>\n      <td>0.0</td>\n      <td>0.0</td>\n      <td>0.0</td>\n      <td>0.0</td>\n      <td>1764</td>\n    </tr>\n    <tr>\n      <th>3</th>\n      <td>22</td>\n      <td>M</td>\n      <td>east</td>\n      <td>58.7</td>\n      <td>171.3</td>\n      <td>20.00</td>\n      <td>0.0</td>\n      <td>78.0</td>\n      <td>104.0</td>\n      <td>56.0</td>\n      <td>48.0</td>\n      <td>98.0</td>\n      <td>146.0</td>\n      <td>0</td>\n      <td>0</td>\n      <td>2.0</td>\n      <td>1.0</td>\n      <td>1.0</td>\n      <td>0.0</td>\n      <td>Never Counsulted</td>\n      <td>0.0</td>\n      <td>0</td>\n      <td>0.0</td>\n      <td>0</td>\n      <td>0</td>\n      <td>0</td>\n      <td>0.0</td>\n      <td>0.0</td>\n      <td>0.0</td>\n      <td>0.0</td>\n      <td>5450</td>\n    </tr>\n    <tr>\n      <th>4</th>\n      <td>44</td>\n      <td>F</td>\n      <td>west</td>\n      <td>79.7</td>\n      <td>172.1</td>\n      <td>26.91</td>\n      <td>0.0</td>\n      <td>93.8</td>\n      <td>114.0</td>\n      <td>60.0</td>\n      <td>34.0</td>\n      <td>195.0</td>\n      <td>229.0</td>\n      <td>0</td>\n      <td>0</td>\n      <td>2.0</td>\n      <td>0.0</td>\n      <td>0.0</td>\n      <td>0.0</td>\n      <td>Private Hospital</td>\n      <td>0.0</td>\n      <td>0</td>\n      <td>0.0</td>\n      <td>0</td>\n      <td>0</td>\n      <td>0</td>\n      <td>0.0</td>\n      <td>0.0</td>\n      <td>0.0</td>\n      <td>0.0</td>\n      <td>5196</td>\n    </tr>\n  </tbody>\n</table>\n</div>"
     },
     "execution_count": 58,
     "metadata": {},
     "output_type": "execute_result"
    }
   ],
   "source": [
    "# path = '/home/kesci/data/competition_A/'\n",
    "path = './data/competition_A/'\n",
    "train_df = pd.read_csv(path+'train_set.csv')\n",
    "test_df  = pd.read_csv(path+'test_set.csv')\n",
    "submission  =  pd.read_csv(path+'submission_example.csv')\n",
    "print('Train Shape:{}\\nTest Shape:{}'.format(train_df.shape,test_df.shape))\n",
    "train_df.head(5)"
   ],
   "metadata": {
    "collapsed": false,
    "pycharm": {
     "name": "#%%\n"
    }
   }
  },
  {
   "cell_type": "markdown",
   "source": [
    "## 3.数据分析EDA\n"
   ],
   "metadata": {
    "collapsed": false,
    "pycharm": {
     "name": "#%% md\n"
    }
   }
  },
  {
   "cell_type": "markdown",
   "source": [
    "### 3.1 各列与肝炎的关系"
   ],
   "metadata": {
    "collapsed": false,
    "pycharm": {
     "name": "#%% md\n"
    }
   }
  },
  {
   "cell_type": "markdown",
   "source": [
    "#### 3.1.1 年龄与肝炎"
   ],
   "metadata": {
    "collapsed": false,
    "pycharm": {
     "name": "#%% md\n"
    }
   }
  },
  {
   "cell_type": "code",
   "execution_count": 59,
   "outputs": [
    {
     "data": {
      "text/plain": "<seaborn.axisgrid.FacetGrid at 0x23e5fea4208>"
     },
     "execution_count": 59,
     "metadata": {},
     "output_type": "execute_result"
    },
    {
     "data": {
      "text/plain": "<Figure size 432x216 with 2 Axes>",
      "image/png": "[encoded data removed]"
     },
     "metadata": {
      "needs_background": "light"
     },
     "output_type": "display_data"
    }
   ],
   "source": [
    "g = sns.FacetGrid(train_df, col='肝炎')\n",
    "g.map(plt.hist, '年龄', bins=20)"
   ],
   "metadata": {
    "collapsed": false,
    "pycharm": {
     "name": "#%%\n"
    }
   }
  },
  {
   "cell_type": "markdown",
   "source": [
    "#### 3.1.2 体重指数与肝炎"
   ],
   "metadata": {
    "collapsed": false,
    "pycharm": {
     "name": "#%% md\n"
    }
   }
  },
  {
   "cell_type": "code",
   "execution_count": 60,
   "outputs": [
    {
     "data": {
      "text/plain": "<seaborn.axisgrid.FacetGrid at 0x23e5c5389b0>"
     },
     "execution_count": 60,
     "metadata": {},
     "output_type": "execute_result"
    },
    {
     "data": {
      "text/plain": "<Figure size 432x216 with 2 Axes>",
      "image/png": "[encoded data removed]"
     },
     "metadata": {
      "needs_background": "light"
     },
     "output_type": "display_data"
    }
   ],
   "source": [
    "g = sns.FacetGrid(train_df, col='肝炎')\n",
    "g.map(plt.hist, '体重指数', bins=20)"
   ],
   "metadata": {
    "collapsed": false,
    "pycharm": {
     "name": "#%%\n"
    }
   }
  },
  {
   "cell_type": "markdown",
   "source": [
    "#### 3.1.3 ALF与肝炎"
   ],
   "metadata": {
    "collapsed": false,
    "pycharm": {
     "name": "#%% md\n"
    }
   }
  },
  {
   "cell_type": "code",
   "execution_count": 61,
   "outputs": [
    {
     "data": {
      "text/plain": "<seaborn.axisgrid.FacetGrid at 0x23e5c1de048>"
     },
     "execution_count": 61,
     "metadata": {},
     "output_type": "execute_result"
    },
    {
     "data": {
      "text/plain": "<Figure size 432x216 with 2 Axes>",
      "image/png": "[encoded data removed]"
     },
     "metadata": {
      "needs_background": "light"
     },
     "output_type": "display_data"
    }
   ],
   "source": [
    "g = sns.FacetGrid(train_df, col='肝炎')\n",
    "g.map(plt.hist, 'ALF', bins=20)\n"
   ],
   "metadata": {
    "collapsed": false,
    "pycharm": {
     "name": "#%%\n"
    }
   }
  },
  {
   "cell_type": "markdown",
   "source": [
    "### 3.2 删除无关列"
   ],
   "metadata": {
    "collapsed": false,
    "pycharm": {
     "name": "#%% md\n"
    }
   }
  },
  {
   "cell_type": "code",
   "execution_count": 62,
   "outputs": [
    {
     "data": {
      "text/plain": "   年龄 性别    区域     体重     身高   体重指数  肥胖腰围     腰围   最高血压  最低血压  好胆固醇   坏胆固醇  \\\n0  58  F  east   75.6  174.9  24.71   0.0   94.8  100.0  52.0  35.0   95.0   \n1  85  F  east   66.3  166.1  24.03   0.0   89.6  134.0  84.0  59.0  153.0   \n2  32  F  east  109.9  173.2  36.64   1.0  111.7  124.0  84.0  39.0  133.0   \n3  22  M  east   58.7  171.3  20.00   0.0   78.0  104.0  56.0  48.0   98.0   \n4  44  F  west   79.7  172.1  26.91   0.0   93.8  114.0  60.0  34.0  195.0   \n\n    总胆固醇  血脂异常  PVD  体育活动   教育   未婚   收入              护理来源  视力不佳  饮酒  高血压  \\\n0  130.0     0    0   1.0  0.0  0.0  0.0  Private Hospital   0.0   0  1.0   \n1  212.0     0    0   2.0  0.0  0.0  0.0  Private Hospital   0.0   1  0.0   \n2  172.0     0    0   2.0  1.0  0.0  1.0  Private Hospital   0.0   0  0.0   \n3  146.0     0    0   2.0  1.0  1.0  0.0  Never Counsulted   0.0   0  0.0   \n4  229.0     0    0   2.0  0.0  0.0  0.0  Private Hospital   0.0   0  0.0   \n\n   家庭高血压  糖尿病  家族糖尿病   肝炎  家族肝炎  慢性疲劳    ID  \n0      1    0      1  1.0   0.0   1.0  4379  \n1      0    0      0  0.0   0.0   0.0  7623  \n2      0    0      0  0.0   0.0   0.0  1764  \n3      0    0      0  0.0   0.0   0.0  5450  \n4      0    0      0  0.0   0.0   0.0  5196  ",
      "text/html": "<div>\n<style scoped>\n    .dataframe tbody tr th:only-of-type {\n        vertical-align: middle;\n    }\n\n    .dataframe tbody tr th {\n        vertical-align: top;\n    }\n\n    .dataframe thead th {\n        text-align: right;\n    }\n</style>\n<table border=\"1\" class=\"dataframe\">\n  <thead>\n    <tr style=\"text-align: right;\">\n      <th></th>\n      <th>年龄</th>\n      <th>性别</th>\n      <th>区域</th>\n      <th>体重</th>\n      <th>身高</th>\n      <th>体重指数</th>\n      <th>肥胖腰围</th>\n      <th>腰围</th>\n      <th>最高血压</th>\n      <th>最低血压</th>\n      <th>好胆固醇</th>\n      <th>坏胆固醇</th>\n      <th>总胆固醇</th>\n      <th>血脂异常</th>\n      <th>PVD</th>\n      <th>体育活动</th>\n      <th>教育</th>\n      <th>未婚</th>\n      <th>收入</th>\n      <th>护理来源</th>\n      <th>视力不佳</th>\n      <th>饮酒</th>\n      <th>高血压</th>\n      <th>家庭高血压</th>\n      <th>糖尿病</th>\n      <th>家族糖尿病</th>\n      <th>肝炎</th>\n      <th>家族肝炎</th>\n      <th>慢性疲劳</th>\n      <th>ID</th>\n    </tr>\n  </thead>\n  <tbody>\n    <tr>\n      <th>0</th>\n      <td>58</td>\n      <td>F</td>\n      <td>east</td>\n      <td>75.6</td>\n      <td>174.9</td>\n      <td>24.71</td>\n      <td>0.0</td>\n      <td>94.8</td>\n      <td>100.0</td>\n      <td>52.0</td>\n      <td>35.0</td>\n      <td>95.0</td>\n      <td>130.0</td>\n      <td>0</td>\n      <td>0</td>\n      <td>1.0</td>\n      <td>0.0</td>\n      <td>0.0</td>\n      <td>0.0</td>\n      <td>Private Hospital</td>\n      <td>0.0</td>\n      <td>0</td>\n      <td>1.0</td>\n      <td>1</td>\n      <td>0</td>\n      <td>1</td>\n      <td>1.0</td>\n      <td>0.0</td>\n      <td>1.0</td>\n      <td>4379</td>\n    </tr>\n    <tr>\n      <th>1</th>\n      <td>85</td>\n      <td>F</td>\n      <td>east</td>\n      <td>66.3</td>\n      <td>166.1</td>\n      <td>24.03</td>\n      <td>0.0</td>\n      <td>89.6</td>\n      <td>134.0</td>\n      <td>84.0</td>\n      <td>59.0</td>\n      <td>153.0</td>\n      <td>212.0</td>\n      <td>0</td>\n      <td>0</td>\n      <td>2.0</td>\n      <td>0.0</td>\n      <td>0.0</td>\n      <td>0.0</td>\n      <td>Private Hospital</td>\n      <td>0.0</td>\n      <td>1</td>\n      <td>0.0</td>\n      <td>0</td>\n      <td>0</td>\n      <td>0</td>\n      <td>0.0</td>\n      <td>0.0</td>\n      <td>0.0</td>\n      <td>7623</td>\n    </tr>\n    <tr>\n      <th>2</th>\n      <td>32</td>\n      <td>F</td>\n      <td>east</td>\n      <td>109.9</td>\n      <td>173.2</td>\n      <td>36.64</td>\n      <td>1.0</td>\n      <td>111.7</td>\n      <td>124.0</td>\n      <td>84.0</td>\n      <td>39.0</td>\n      <td>133.0</td>\n      <td>172.0</td>\n      <td>0</td>\n      <td>0</td>\n      <td>2.0</td>\n      <td>1.0</td>\n      <td>0.0</td>\n      <td>1.0</td>\n      <td>Private Hospital</td>\n      <td>0.0</td>\n      <td>0</td>\n      <td>0.0</td>\n      <td>0</td>\n      <td>0</td>\n      <td>0</td>\n      <td>0.0</td>\n      <td>0.0</td>\n      <td>0.0</td>\n      <td>1764</td>\n    </tr>\n    <tr>\n      <th>3</th>\n      <td>22</td>\n      <td>M</td>\n      <td>east</td>\n      <td>58.7</td>\n      <td>171.3</td>\n      <td>20.00</td>\n      <td>0.0</td>\n      <td>78.0</td>\n      <td>104.0</td>\n      <td>56.0</td>\n      <td>48.0</td>\n      <td>98.0</td>\n      <td>146.0</td>\n      <td>0</td>\n      <td>0</td>\n      <td>2.0</td>\n      <td>1.0</td>\n      <td>1.0</td>\n      <td>0.0</td>\n      <td>Never Counsulted</td>\n      <td>0.0</td>\n      <td>0</td>\n      <td>0.0</td>\n      <td>0</td>\n      <td>0</td>\n      <td>0</td>\n      <td>0.0</td>\n      <td>0.0</td>\n      <td>0.0</td>\n      <td>5450</td>\n    </tr>\n    <tr>\n      <th>4</th>\n      <td>44</td>\n      <td>F</td>\n      <td>west</td>\n      <td>79.7</td>\n      <td>172.1</td>\n      <td>26.91</td>\n      <td>0.0</td>\n      <td>93.8</td>\n      <td>114.0</td>\n      <td>60.0</td>\n      <td>34.0</td>\n      <td>195.0</td>\n      <td>229.0</td>\n      <td>0</td>\n      <td>0</td>\n      <td>2.0</td>\n      <td>0.0</td>\n      <td>0.0</td>\n      <td>0.0</td>\n      <td>Private Hospital</td>\n      <td>0.0</td>\n      <td>0</td>\n      <td>0.0</td>\n      <td>0</td>\n      <td>0</td>\n      <td>0</td>\n      <td>0.0</td>\n      <td>0.0</td>\n      <td>0.0</td>\n      <td>5196</td>\n    </tr>\n  </tbody>\n</table>\n</div>"
     },
     "execution_count": 62,
     "metadata": {},
     "output_type": "execute_result"
    }
   ],
   "source": [
    "train_df.drop(['ALF'], axis=1, inplace=True)\n",
    "test_df.drop(['ALF'], axis=1, inplace=True)\n",
    "\n",
    "train_df.head()"
   ],
   "metadata": {
    "collapsed": false,
    "pycharm": {
     "name": "#%%\n"
    }
   }
  },
  {
   "cell_type": "markdown",
   "source": [
    "### 3.2 查询数据缺失值"
   ],
   "metadata": {
    "collapsed": false,
    "pycharm": {
     "name": "#%% md\n"
    }
   }
  },
  {
   "cell_type": "code",
   "execution_count": 63,
   "outputs": [
    {
     "data": {
      "text/plain": "年龄         0\n性别         0\n区域         0\n体重       140\n身高       136\n体重指数     209\n肥胖腰围     209\n腰围       224\n最高血压     219\n最低血压     273\n好胆固醇       6\n坏胆固醇       7\n总胆固醇       7\n血脂异常       0\nPVD        0\n体育活动       8\n教育        14\n未婚       308\n收入       763\n护理来源       1\n视力不佳     402\n饮酒         0\n高血压       49\n家庭高血压      0\n糖尿病        0\n家族糖尿病      0\n肝炎        16\n家族肝炎       5\n慢性疲劳      26\nID         0\ndtype: int64"
     },
     "execution_count": 63,
     "metadata": {},
     "output_type": "execute_result"
    }
   ],
   "source": [
    "total_missingvalues = train_df.isnull().sum()\n",
    "total_missingvalues"
   ],
   "metadata": {
    "collapsed": false,
    "pycharm": {
     "name": "#%%\n"
    }
   }
  },
  {
   "cell_type": "code",
   "execution_count": 64,
   "outputs": [
    {
     "data": {
      "text/plain": "年龄         0\n性别         0\n区域         0\n体重       139\n身高       135\n体重指数     207\n肥胖腰围     207\n腰围       223\n最高血压     219\n最低血压     273\n好胆固醇       5\n坏胆固醇       6\n总胆固醇       6\n血脂异常       0\nPVD        0\n体育活动       8\n教育        13\n未婚       308\n收入       760\n护理来源       1\n视力不佳     399\n饮酒         0\n高血压       49\n家庭高血压      0\n糖尿病        0\n家族糖尿病      0\n肝炎         0\n家族肝炎       5\n慢性疲劳      23\nID         0\ndtype: int64"
     },
     "execution_count": 64,
     "metadata": {},
     "output_type": "execute_result"
    }
   ],
   "source": [
    "# 删除肝炎缺失值的行\n",
    "\n",
    "train_df.dropna(axis=0, how='any', subset=['肝炎'], inplace=True)\n",
    "\n",
    "train_df.isnull().sum()"
   ],
   "metadata": {
    "collapsed": false,
    "pycharm": {
     "name": "#%%\n"
    }
   }
  },
  {
   "cell_type": "code",
   "execution_count": 65,
   "outputs": [
    {
     "data": {
      "text/plain": "   年龄     体重     身高   体重指数  肥胖腰围     腰围   最高血压  最低血压  好胆固醇   坏胆固醇   总胆固醇  \\\n0  58   75.6  174.9  24.71   0.0   94.8  100.0  52.0  35.0   95.0  130.0   \n1  85   66.3  166.1  24.03   0.0   89.6  134.0  84.0  59.0  153.0  212.0   \n2  32  109.9  173.2  36.64   1.0  111.7  124.0  84.0  39.0  133.0  172.0   \n3  22   58.7  171.3  20.00   0.0   78.0  104.0  56.0  48.0   98.0  146.0   \n4  44   79.7  172.1  26.91   0.0   93.8  114.0  60.0  34.0  195.0  229.0   \n\n   血脂异常  PVD  体育活动   教育   未婚   收入  视力不佳  饮酒  高血压  家庭高血压  糖尿病  家族糖尿病   肝炎  \\\n0     0    0   1.0  0.0  0.0  0.0   0.0   0  1.0      1    0      1  1.0   \n1     0    0   2.0  0.0  0.0  0.0   0.0   1  0.0      0    0      0  0.0   \n2     0    0   2.0  1.0  0.0  1.0   0.0   0  0.0      0    0      0  0.0   \n3     0    0   2.0  1.0  1.0  0.0   0.0   0  0.0      0    0      0  0.0   \n4     0    0   2.0  0.0  0.0  0.0   0.0   0  0.0      0    0      0  0.0   \n\n   家族肝炎  慢性疲劳    ID  性别_F  性别_M  区域_east  区域_north  区域_south  区域_west  \\\n0   0.0   1.0  4379     1     0        1         0         0        0   \n1   0.0   0.0  7623     1     0        1         0         0        0   \n2   0.0   0.0  1764     1     0        1         0         0        0   \n3   0.0   0.0  5450     0     1        1         0         0        0   \n4   0.0   0.0  5196     1     0        0         0         0        1   \n\n   护理来源_Governament Hospital  护理来源_Never Counsulted  护理来源_Private Hospital  \\\n0                          0                      0                      1   \n1                          0                      0                      1   \n2                          0                      0                      1   \n3                          0                      1                      0   \n4                          0                      0                      1   \n\n   护理来源_clinic  \n0            0  \n1            0  \n2            0  \n3            0  \n4            0  ",
      "text/html": "<div>\n<style scoped>\n    .dataframe tbody tr th:only-of-type {\n        vertical-align: middle;\n    }\n\n    .dataframe tbody tr th {\n        vertical-align: top;\n    }\n\n    .dataframe thead th {\n        text-align: right;\n    }\n</style>\n<table border=\"1\" class=\"dataframe\">\n  <thead>\n    <tr style=\"text-align: right;\">\n      <th></th>\n      <th>年龄</th>\n      <th>体重</th>\n      <th>身高</th>\n      <th>体重指数</th>\n      <th>肥胖腰围</th>\n      <th>腰围</th>\n      <th>最高血压</th>\n      <th>最低血压</th>\n      <th>好胆固醇</th>\n      <th>坏胆固醇</th>\n      <th>总胆固醇</th>\n      <th>血脂异常</th>\n      <th>PVD</th>\n      <th>体育活动</th>\n      <th>教育</th>\n      <th>未婚</th>\n      <th>收入</th>\n      <th>视力不佳</th>\n      <th>饮酒</th>\n      <th>高血压</th>\n      <th>家庭高血压</th>\n      <th>糖尿病</th>\n      <th>家族糖尿病</th>\n      <th>肝炎</th>\n      <th>家族肝炎</th>\n      <th>慢性疲劳</th>\n      <th>ID</th>\n      <th>性别_F</th>\n      <th>性别_M</th>\n      <th>区域_east</th>\n      <th>区域_north</th>\n      <th>区域_south</th>\n      <th>区域_west</th>\n      <th>护理来源_Governament Hospital</th>\n      <th>护理来源_Never Counsulted</th>\n      <th>护理来源_Private Hospital</th>\n      <th>护理来源_clinic</th>\n    </tr>\n  </thead>\n  <tbody>\n    <tr>\n      <th>0</th>\n      <td>58</td>\n      <td>75.6</td>\n      <td>174.9</td>\n      <td>24.71</td>\n      <td>0.0</td>\n      <td>94.8</td>\n      <td>100.0</td>\n      <td>52.0</td>\n      <td>35.0</td>\n      <td>95.0</td>\n      <td>130.0</td>\n      <td>0</td>\n      <td>0</td>\n      <td>1.0</td>\n      <td>0.0</td>\n      <td>0.0</td>\n      <td>0.0</td>\n      <td>0.0</td>\n      <td>0</td>\n      <td>1.0</td>\n      <td>1</td>\n      <td>0</td>\n      <td>1</td>\n      <td>1.0</td>\n      <td>0.0</td>\n      <td>1.0</td>\n      <td>4379</td>\n      <td>1</td>\n      <td>0</td>\n      <td>1</td>\n      <td>0</td>\n      <td>0</td>\n      <td>0</td>\n      <td>0</td>\n      <td>0</td>\n      <td>1</td>\n      <td>0</td>\n    </tr>\n    <tr>\n      <th>1</th>\n      <td>85</td>\n      <td>66.3</td>\n      <td>166.1</td>\n      <td>24.03</td>\n      <td>0.0</td>\n      <td>89.6</td>\n      <td>134.0</td>\n      <td>84.0</td>\n      <td>59.0</td>\n      <td>153.0</td>\n      <td>212.0</td>\n      <td>0</td>\n      <td>0</td>\n      <td>2.0</td>\n      <td>0.0</td>\n      <td>0.0</td>\n      <td>0.0</td>\n      <td>0.0</td>\n      <td>1</td>\n      <td>0.0</td>\n      <td>0</td>\n      <td>0</td>\n      <td>0</td>\n      <td>0.0</td>\n      <td>0.0</td>\n      <td>0.0</td>\n      <td>7623</td>\n      <td>1</td>\n      <td>0</td>\n      <td>1</td>\n      <td>0</td>\n      <td>0</td>\n      <td>0</td>\n      <td>0</td>\n      <td>0</td>\n      <td>1</td>\n      <td>0</td>\n    </tr>\n    <tr>\n      <th>2</th>\n      <td>32</td>\n      <td>109.9</td>\n      <td>173.2</td>\n      <td>36.64</td>\n      <td>1.0</td>\n      <td>111.7</td>\n      <td>124.0</td>\n      <td>84.0</td>\n      <td>39.0</td>\n      <td>133.0</td>\n      <td>172.0</td>\n      <td>0</td>\n      <td>0</td>\n      <td>2.0</td>\n      <td>1.0</td>\n      <td>0.0</td>\n      <td>1.0</td>\n      <td>0.0</td>\n      <td>0</td>\n      <td>0.0</td>\n      <td>0</td>\n      <td>0</td>\n      <td>0</td>\n      <td>0.0</td>\n      <td>0.0</td>\n      <td>0.0</td>\n      <td>1764</td>\n      <td>1</td>\n      <td>0</td>\n      <td>1</td>\n      <td>0</td>\n      <td>0</td>\n      <td>0</td>\n      <td>0</td>\n      <td>0</td>\n      <td>1</td>\n      <td>0</td>\n    </tr>\n    <tr>\n      <th>3</th>\n      <td>22</td>\n      <td>58.7</td>\n      <td>171.3</td>\n      <td>20.00</td>\n      <td>0.0</td>\n      <td>78.0</td>\n      <td>104.0</td>\n      <td>56.0</td>\n      <td>48.0</td>\n      <td>98.0</td>\n      <td>146.0</td>\n      <td>0</td>\n      <td>0</td>\n      <td>2.0</td>\n      <td>1.0</td>\n      <td>1.0</td>\n      <td>0.0</td>\n      <td>0.0</td>\n      <td>0</td>\n      <td>0.0</td>\n      <td>0</td>\n      <td>0</td>\n      <td>0</td>\n      <td>0.0</td>\n      <td>0.0</td>\n      <td>0.0</td>\n      <td>5450</td>\n      <td>0</td>\n      <td>1</td>\n      <td>1</td>\n      <td>0</td>\n      <td>0</td>\n      <td>0</td>\n      <td>0</td>\n      <td>1</td>\n      <td>0</td>\n      <td>0</td>\n    </tr>\n    <tr>\n      <th>4</th>\n      <td>44</td>\n      <td>79.7</td>\n      <td>172.1</td>\n      <td>26.91</td>\n      <td>0.0</td>\n      <td>93.8</td>\n      <td>114.0</td>\n      <td>60.0</td>\n      <td>34.0</td>\n      <td>195.0</td>\n      <td>229.0</td>\n      <td>0</td>\n      <td>0</td>\n      <td>2.0</td>\n      <td>0.0</td>\n      <td>0.0</td>\n      <td>0.0</td>\n      <td>0.0</td>\n      <td>0</td>\n      <td>0.0</td>\n      <td>0</td>\n      <td>0</td>\n      <td>0</td>\n      <td>0.0</td>\n      <td>0.0</td>\n      <td>0.0</td>\n      <td>5196</td>\n      <td>1</td>\n      <td>0</td>\n      <td>0</td>\n      <td>0</td>\n      <td>0</td>\n      <td>1</td>\n      <td>0</td>\n      <td>0</td>\n      <td>1</td>\n      <td>0</td>\n    </tr>\n  </tbody>\n</table>\n</div>"
     },
     "execution_count": 65,
     "metadata": {},
     "output_type": "execute_result"
    }
   ],
   "source": [
    "# One-hot编码\n",
    "train_df = pd.get_dummies(train_df)\n",
    "test_df = pd.get_dummies(test_df)\n",
    "\n",
    "train_df.fillna(0, inplace=True)\n",
    "test_df.fillna(0, inplace=True)\n",
    "\n",
    "train_df.head(5)"
   ],
   "metadata": {
    "collapsed": false,
    "pycharm": {
     "name": "#%%\n"
    }
   }
  },
  {
   "cell_type": "markdown",
   "source": [
    "### 3.1 根据训练集的列可以得到大致如下三种特征：数字列、二值列（0或1）、字符列"
   ],
   "metadata": {
    "collapsed": false
   }
  },
  {
   "cell_type": "code",
   "execution_count": 66,
   "outputs": [],
   "source": [
    "# 数字列\n",
    "num_columns = ['年龄','体重','身高','体重指数', '腰围', '最高血压', '最低血压',\n",
    "                '好胆固醇', '坏胆固醇', '总胆固醇','收入']\n",
    "# # 二值列\n",
    "# zero_to_one_columns = ['肥胖腰围','血脂异常','PVD']\n",
    "#\n",
    "# # 字符列\n",
    "# str_columns = ['性别','区域','体育活动','教育','未婚','护理来源','视力不佳','饮酒','高血压',\n",
    "#                 '家庭高血压', '糖尿病', '家族糖尿病','家族肝炎', '慢性疲劳','ALF']\n",
    "#"
   ],
   "metadata": {
    "collapsed": false,
    "pycharm": {
     "name": "#%%\n"
    }
   }
  },
  {
   "cell_type": "markdown",
   "source": [
    "### 3.2 特征工程"
   ],
   "metadata": {
    "collapsed": false,
    "pycharm": {
     "name": "#%% md\n"
    }
   }
  },
  {
   "cell_type": "code",
   "execution_count": 67,
   "outputs": [
    {
     "data": {
      "text/plain": "         年龄        体重        身高      体重指数  肥胖腰围        腰围      最高血压      最低血压  \\\n0  0.584615  0.395604  0.874063  0.371915   0.0  0.571084  0.429185  0.393939   \n1  1.000000  0.346939  0.830085  0.361680   0.0  0.539759  0.575107  0.636364   \n2  0.184615  0.575092  0.865567  0.551475   1.0  0.672892  0.532189  0.636364   \n3  0.030769  0.307169  0.856072  0.301023   0.0  0.469880  0.446352  0.424242   \n4  0.369231  0.417059  0.860070  0.405027   0.0  0.565060  0.489270  0.454545   \n\n      好胆固醇      坏胆固醇      总胆固醇  血脂异常  PVD  体育活动   教育   未婚   收入  视力不佳  饮酒  高血压  \\\n0  0.21875  0.138889  0.178817     0    0   1.0  0.0  0.0  0.0   0.0   0  1.0   \n1  0.36875  0.223684  0.291609     0    0   2.0  0.0  0.0  0.0   0.0   1  0.0   \n2  0.24375  0.194444  0.236589     0    0   2.0  1.0  0.0  1.0   0.0   0  0.0   \n3  0.30000  0.143275  0.200825     0    0   2.0  1.0  1.0  0.0   0.0   0  0.0   \n4  0.21250  0.285088  0.314993     0    0   2.0  0.0  0.0  0.0   0.0   0  0.0   \n\n   家庭高血压  糖尿病  家族糖尿病   肝炎  家族肝炎  慢性疲劳    ID  性别_F  性别_M  区域_east  区域_north  \\\n0      1    0      1  1.0   0.0   1.0  4379     1     0        1         0   \n1      0    0      0  0.0   0.0   0.0  7623     1     0        1         0   \n2      0    0      0  0.0   0.0   0.0  1764     1     0        1         0   \n3      0    0      0  0.0   0.0   0.0  5450     0     1        1         0   \n4      0    0      0  0.0   0.0   0.0  5196     1     0        0         0   \n\n   区域_south  区域_west  护理来源_Governament Hospital  护理来源_Never Counsulted  \\\n0         0        0                          0                      0   \n1         0        0                          0                      0   \n2         0        0                          0                      0   \n3         0        0                          0                      1   \n4         0        1                          0                      0   \n\n   护理来源_Private Hospital  护理来源_clinic  \n0                      1            0  \n1                      1            0  \n2                      1            0  \n3                      0            0  \n4                      1            0  ",
      "text/html": "<div>\n<style scoped>\n    .dataframe tbody tr th:only-of-type {\n        vertical-align: middle;\n    }\n\n    .dataframe tbody tr th {\n        vertical-align: top;\n    }\n\n    .dataframe thead th {\n        text-align: right;\n    }\n</style>\n<table border=\"1\" class=\"dataframe\">\n  <thead>\n    <tr style=\"text-align: right;\">\n      <th></th>\n      <th>年龄</th>\n      <th>体重</th>\n      <th>身高</th>\n      <th>体重指数</th>\n      <th>肥胖腰围</th>\n      <th>腰围</th>\n      <th>最高血压</th>\n      <th>最低血压</th>\n      <th>好胆固醇</th>\n      <th>坏胆固醇</th>\n      <th>总胆固醇</th>\n      <th>血脂异常</th>\n      <th>PVD</th>\n      <th>体育活动</th>\n      <th>教育</th>\n      <th>未婚</th>\n      <th>收入</th>\n      <th>视力不佳</th>\n      <th>饮酒</th>\n      <th>高血压</th>\n      <th>家庭高血压</th>\n      <th>糖尿病</th>\n      <th>家族糖尿病</th>\n      <th>肝炎</th>\n      <th>家族肝炎</th>\n      <th>慢性疲劳</th>\n      <th>ID</th>\n      <th>性别_F</th>\n      <th>性别_M</th>\n      <th>区域_east</th>\n      <th>区域_north</th>\n      <th>区域_south</th>\n      <th>区域_west</th>\n      <th>护理来源_Governament Hospital</th>\n      <th>护理来源_Never Counsulted</th>\n      <th>护理来源_Private Hospital</th>\n      <th>护理来源_clinic</th>\n    </tr>\n  </thead>\n  <tbody>\n    <tr>\n      <th>0</th>\n      <td>0.584615</td>\n      <td>0.395604</td>\n      <td>0.874063</td>\n      <td>0.371915</td>\n      <td>0.0</td>\n      <td>0.571084</td>\n      <td>0.429185</td>\n      <td>0.393939</td>\n      <td>0.21875</td>\n      <td>0.138889</td>\n      <td>0.178817</td>\n      <td>0</td>\n      <td>0</td>\n      <td>1.0</td>\n      <td>0.0</td>\n      <td>0.0</td>\n      <td>0.0</td>\n      <td>0.0</td>\n      <td>0</td>\n      <td>1.0</td>\n      <td>1</td>\n      <td>0</td>\n      <td>1</td>\n      <td>1.0</td>\n      <td>0.0</td>\n      <td>1.0</td>\n      <td>4379</td>\n      <td>1</td>\n      <td>0</td>\n      <td>1</td>\n      <td>0</td>\n      <td>0</td>\n      <td>0</td>\n      <td>0</td>\n      <td>0</td>\n      <td>1</td>\n      <td>0</td>\n    </tr>\n    <tr>\n      <th>1</th>\n      <td>1.000000</td>\n      <td>0.346939</td>\n      <td>0.830085</td>\n      <td>0.361680</td>\n      <td>0.0</td>\n      <td>0.539759</td>\n      <td>0.575107</td>\n      <td>0.636364</td>\n      <td>0.36875</td>\n      <td>0.223684</td>\n      <td>0.291609</td>\n      <td>0</td>\n      <td>0</td>\n      <td>2.0</td>\n      <td>0.0</td>\n      <td>0.0</td>\n      <td>0.0</td>\n      <td>0.0</td>\n      <td>1</td>\n      <td>0.0</td>\n      <td>0</td>\n      <td>0</td>\n      <td>0</td>\n      <td>0.0</td>\n      <td>0.0</td>\n      <td>0.0</td>\n      <td>7623</td>\n      <td>1</td>\n      <td>0</td>\n      <td>1</td>\n      <td>0</td>\n      <td>0</td>\n      <td>0</td>\n      <td>0</td>\n      <td>0</td>\n      <td>1</td>\n      <td>0</td>\n    </tr>\n    <tr>\n      <th>2</th>\n      <td>0.184615</td>\n      <td>0.575092</td>\n      <td>0.865567</td>\n      <td>0.551475</td>\n      <td>1.0</td>\n      <td>0.672892</td>\n      <td>0.532189</td>\n      <td>0.636364</td>\n      <td>0.24375</td>\n      <td>0.194444</td>\n      <td>0.236589</td>\n      <td>0</td>\n      <td>0</td>\n      <td>2.0</td>\n      <td>1.0</td>\n      <td>0.0</td>\n      <td>1.0</td>\n      <td>0.0</td>\n      <td>0</td>\n      <td>0.0</td>\n      <td>0</td>\n      <td>0</td>\n      <td>0</td>\n      <td>0.0</td>\n      <td>0.0</td>\n      <td>0.0</td>\n      <td>1764</td>\n      <td>1</td>\n      <td>0</td>\n      <td>1</td>\n      <td>0</td>\n      <td>0</td>\n      <td>0</td>\n      <td>0</td>\n      <td>0</td>\n      <td>1</td>\n      <td>0</td>\n    </tr>\n    <tr>\n      <th>3</th>\n      <td>0.030769</td>\n      <td>0.307169</td>\n      <td>0.856072</td>\n      <td>0.301023</td>\n      <td>0.0</td>\n      <td>0.469880</td>\n      <td>0.446352</td>\n      <td>0.424242</td>\n      <td>0.30000</td>\n      <td>0.143275</td>\n      <td>0.200825</td>\n      <td>0</td>\n      <td>0</td>\n      <td>2.0</td>\n      <td>1.0</td>\n      <td>1.0</td>\n      <td>0.0</td>\n      <td>0.0</td>\n      <td>0</td>\n      <td>0.0</td>\n      <td>0</td>\n      <td>0</td>\n      <td>0</td>\n      <td>0.0</td>\n      <td>0.0</td>\n      <td>0.0</td>\n      <td>5450</td>\n      <td>0</td>\n      <td>1</td>\n      <td>1</td>\n      <td>0</td>\n      <td>0</td>\n      <td>0</td>\n      <td>0</td>\n      <td>1</td>\n      <td>0</td>\n      <td>0</td>\n    </tr>\n    <tr>\n      <th>4</th>\n      <td>0.369231</td>\n      <td>0.417059</td>\n      <td>0.860070</td>\n      <td>0.405027</td>\n      <td>0.0</td>\n      <td>0.565060</td>\n      <td>0.489270</td>\n      <td>0.454545</td>\n      <td>0.21250</td>\n      <td>0.285088</td>\n      <td>0.314993</td>\n      <td>0</td>\n      <td>0</td>\n      <td>2.0</td>\n      <td>0.0</td>\n      <td>0.0</td>\n      <td>0.0</td>\n      <td>0.0</td>\n      <td>0</td>\n      <td>0.0</td>\n      <td>0</td>\n      <td>0</td>\n      <td>0</td>\n      <td>0.0</td>\n      <td>0.0</td>\n      <td>0.0</td>\n      <td>5196</td>\n      <td>1</td>\n      <td>0</td>\n      <td>0</td>\n      <td>0</td>\n      <td>0</td>\n      <td>1</td>\n      <td>0</td>\n      <td>0</td>\n      <td>1</td>\n      <td>0</td>\n    </tr>\n  </tbody>\n</table>\n</div>"
     },
     "execution_count": 67,
     "metadata": {},
     "output_type": "execute_result"
    }
   ],
   "source": [
    "# 处理缺失值\n",
    "# train_df.fillna(0, inplace=True)\n",
    "# test_df.fillna(0, inplace=True)\n",
    "\n",
    "\n",
    "# One-hot编码\n",
    "# train_df = pd.get_dummies(train_df)\n",
    "# test_df = pd.get_dummies(test_df)\n",
    "#\n",
    "\n",
    "# # 字符编码\n",
    "# for i in tqdm(str_columns):\n",
    "#     lbl = LabelEncoder()\n",
    "#     train_df[i] = lbl.fit_transform(train_df[i].astype(str))\n",
    "#     test_df[i] = lbl.fit_transform(test_df[i].astype(str))\n",
    "#\n",
    "features = num_columns\n",
    "# #\n",
    "# # 数值归一化\n",
    "train_df[features] = MinMaxScaler().fit_transform(train_df[features])\n",
    "test_df[features] = MinMaxScaler().fit_transform(test_df[features])\n",
    "\n",
    "train_df.head(5)"
   ],
   "metadata": {
    "collapsed": false,
    "pycharm": {
     "name": "#%%\n"
    }
   }
  },
  {
   "cell_type": "markdown",
   "source": [
    "## 4.模型"
   ],
   "metadata": {
    "collapsed": false,
    "pycharm": {
     "name": "#%% md\n"
    }
   }
  },
  {
   "cell_type": "markdown",
   "source": [
    "### 4.1 准备数据集"
   ],
   "metadata": {
    "collapsed": false,
    "pycharm": {
     "name": "#%% md\n"
    }
   }
  },
  {
   "cell_type": "code",
   "execution_count": 68,
   "outputs": [
    {
     "data": {
      "text/plain": "<Figure size 432x288 with 1 Axes>",
      "image/png": "[encoded data removed]"
     },
     "metadata": {
      "needs_background": "light"
     },
     "output_type": "display_data"
    },
    {
     "name": "stdout",
     "output_type": "stream",
     "text": [
      "Before OverSampling, counts of label '1': 402\n",
      "Before OverSampling, counts of label '0': 5582 \n",
      "\n"
     ]
    }
   ],
   "source": [
    "all_columns = [i for i in train_df.columns if i not in ['肝炎','ID']]\n",
    "\n",
    "train_x, train_y = train_df[all_columns].values, train_df['肝炎'].values\n",
    "test_x  = test_df[all_columns].values\n",
    "submission['hepatitis'] = 0\n",
    "\n",
    "# 绘制计数直方图\n",
    "sns.countplot(train_y)\n",
    "plt.show()\n",
    "\n",
    "print(\"Before OverSampling, counts of label '1': {}\".format(sum(train_y==1)))\n",
    "print(\"Before OverSampling, counts of label '0': {} \\n\".format(sum(train_y==0)))"
   ],
   "metadata": {
    "collapsed": false,
    "pycharm": {
     "name": "#%%\n"
    }
   }
  },
  {
   "cell_type": "code",
   "execution_count": 69,
   "outputs": [
    {
     "data": {
      "text/plain": "<Figure size 432x288 with 1 Axes>",
      "image/png": "[encoded data removed]"
     },
     "metadata": {
      "needs_background": "light"
     },
     "output_type": "display_data"
    },
    {
     "name": "stdout",
     "output_type": "stream",
     "text": [
      "After OverSampling, counts of label '1': 5582\n",
      "After OverSampling, counts of label '0': 5582\n"
     ]
    }
   ],
   "source": [
    "sm = SMOTE(random_state=2)\n",
    "train_x, train_y = sm.fit_sample(train_x, train_y.ravel())\n",
    "\n",
    "# 绘制计数直方图\n",
    "sns.countplot(train_y)\n",
    "plt.show()\n",
    "\n",
    "print(\"After OverSampling, counts of label '1': {}\".format(sum(train_y==1)))\n",
    "print(\"After OverSampling, counts of label '0': {}\".format(sum(train_y==0)))"
   ],
   "metadata": {
    "collapsed": false,
    "pycharm": {
     "name": "#%%\n"
    }
   }
  },
  {
   "cell_type": "markdown",
   "source": [
    "### 4.2 训练模型"
   ],
   "metadata": {
    "collapsed": false,
    "pycharm": {
     "name": "#%% md\n"
    }
   }
  },
  {
   "cell_type": "code",
   "execution_count": 70,
   "outputs": [
    {
     "name": "stdout",
     "output_type": "stream",
     "text": [
      "0:\ttest: 0.8850097\tbest: 0.8850097 (0)\ttotal: 1.09s\tremaining: 3h 2m\n",
      "1:\ttest: 0.8980194\tbest: 0.8980194 (1)\ttotal: 2.09s\tremaining: 2h 53m 58s\n",
      "2:\ttest: 0.8972532\tbest: 0.8980194 (1)\ttotal: 3.08s\tremaining: 2h 51m 6s\n",
      "3:\ttest: 0.8962337\tbest: 0.8980194 (1)\ttotal: 4.05s\tremaining: 2h 48m 50s\n",
      "4:\ttest: 0.8953889\tbest: 0.8980194 (1)\ttotal: 5s\tremaining: 2h 46m 27s\n",
      "5:\ttest: 0.8954626\tbest: 0.8980194 (1)\ttotal: 5.99s\tremaining: 2h 46m 11s\n",
      "6:\ttest: 0.8955300\tbest: 0.8980194 (1)\ttotal: 6.99s\tremaining: 2h 46m 13s\n",
      "7:\ttest: 0.8963299\tbest: 0.8980194 (1)\ttotal: 7.98s\tremaining: 2h 46m 7s\n",
      "8:\ttest: 0.8963683\tbest: 0.8980194 (1)\ttotal: 9.12s\tremaining: 2h 48m 49s\n",
      "9:\ttest: 0.8976106\tbest: 0.8980194 (1)\ttotal: 10.2s\tremaining: 2h 49m 10s\n",
      "10:\ttest: 0.8998211\tbest: 0.8998211 (10)\ttotal: 11.2s\tremaining: 2h 49m 19s\n",
      "11:\ttest: 0.9000359\tbest: 0.9000359 (11)\ttotal: 12.2s\tremaining: 2h 49m 8s\n",
      "12:\ttest: 0.9007524\tbest: 0.9007524 (12)\ttotal: 13.2s\tremaining: 2h 48m 29s\n",
      "13:\ttest: 0.9036907\tbest: 0.9036907 (13)\ttotal: 14.1s\tremaining: 2h 48m 9s\n",
      "14:\ttest: 0.9043094\tbest: 0.9043094 (14)\ttotal: 15.1s\tremaining: 2h 47m 37s\n",
      "15:\ttest: 0.9050660\tbest: 0.9050660 (15)\ttotal: 16.1s\tremaining: 2h 47m 38s\n",
      "16:\ttest: 0.9050820\tbest: 0.9050820 (16)\ttotal: 17.1s\tremaining: 2h 47m 17s\n",
      "17:\ttest: 0.9058707\tbest: 0.9058707 (17)\ttotal: 18s\tremaining: 2h 46m 47s\n",
      "18:\ttest: 0.9067459\tbest: 0.9067459 (18)\ttotal: 19s\tremaining: 2h 46m 39s\n",
      "19:\ttest: 0.9079898\tbest: 0.9079898 (19)\ttotal: 20s\tremaining: 2h 46m 33s\n",
      "20:\ttest: 0.9083296\tbest: 0.9083296 (20)\ttotal: 21s\tremaining: 2h 46m 5s\n",
      "21:\ttest: 0.9083841\tbest: 0.9083841 (21)\ttotal: 22s\tremaining: 2h 46m 34s\n",
      "22:\ttest: 0.9089259\tbest: 0.9089259 (22)\ttotal: 23.6s\tremaining: 2h 50m 18s\n",
      "23:\ttest: 0.9095415\tbest: 0.9095415 (23)\ttotal: 25.1s\tremaining: 2h 53m 52s\n",
      "24:\ttest: 0.9098428\tbest: 0.9098428 (24)\ttotal: 26.4s\tremaining: 2h 55m 45s\n",
      "25:\ttest: 0.9094389\tbest: 0.9098428 (24)\ttotal: 27.7s\tremaining: 2h 56m 53s\n",
      "26:\ttest: 0.9094870\tbest: 0.9098428 (24)\ttotal: 29.1s\tremaining: 2h 58m 59s\n",
      "27:\ttest: 0.9104456\tbest: 0.9104456 (27)\ttotal: 30.5s\tremaining: 3h 1m 5s\n",
      "28:\ttest: 0.9110579\tbest: 0.9110579 (28)\ttotal: 32.1s\tremaining: 3h 3m 47s\n",
      "29:\ttest: 0.9111925\tbest: 0.9111925 (29)\ttotal: 33.2s\tremaining: 3h 4m 1s\n",
      "30:\ttest: 0.9113400\tbest: 0.9113400 (30)\ttotal: 34.2s\tremaining: 3h 3m 26s\n",
      "31:\ttest: 0.9113368\tbest: 0.9113400 (30)\ttotal: 35.2s\tremaining: 3h 2m 52s\n",
      "32:\ttest: 0.9119748\tbest: 0.9119748 (32)\ttotal: 36.3s\tremaining: 3h 2m 42s\n",
      "33:\ttest: 0.9121800\tbest: 0.9121800 (33)\ttotal: 37.3s\tremaining: 3h 2m 21s\n",
      "34:\ttest: 0.9127474\tbest: 0.9127474 (34)\ttotal: 38.5s\tremaining: 3h 2m 47s\n",
      "35:\ttest: 0.9138471\tbest: 0.9138471 (35)\ttotal: 39.6s\tremaining: 3h 2m 37s\n",
      "36:\ttest: 0.9137509\tbest: 0.9138471 (35)\ttotal: 40.6s\tremaining: 3h 2m 19s\n",
      "37:\ttest: 0.9137958\tbest: 0.9138471 (35)\ttotal: 41.7s\tremaining: 3h 2m 6s\n",
      "38:\ttest: 0.9137413\tbest: 0.9138471 (35)\ttotal: 42.7s\tremaining: 3h 1m 47s\n",
      "39:\ttest: 0.9139080\tbest: 0.9139080 (39)\ttotal: 43.7s\tremaining: 3h 1m 28s\n",
      "40:\ttest: 0.9141035\tbest: 0.9141035 (40)\ttotal: 44.7s\tremaining: 3h 59s\n",
      "41:\ttest: 0.9148088\tbest: 0.9148088 (41)\ttotal: 45.7s\tremaining: 3h 37s\n",
      "42:\ttest: 0.9147543\tbest: 0.9148088 (41)\ttotal: 46.8s\tremaining: 3h 43s\n",
      "43:\ttest: 0.9150044\tbest: 0.9150044 (43)\ttotal: 48s\tremaining: 3h 58s\n",
      "44:\ttest: 0.9148184\tbest: 0.9150044 (43)\ttotal: 49.5s\tremaining: 3h 2m 32s\n",
      "45:\ttest: 0.9152737\tbest: 0.9152737 (45)\ttotal: 50.7s\tremaining: 3h 2m 51s\n",
      "46:\ttest: 0.9150332\tbest: 0.9152737 (45)\ttotal: 51.7s\tremaining: 3h 2m 35s\n",
      "47:\ttest: 0.9148762\tbest: 0.9152737 (45)\ttotal: 52.8s\tremaining: 3h 2m 27s\n",
      "48:\ttest: 0.9147960\tbest: 0.9152737 (45)\ttotal: 54.2s\tremaining: 3h 3m 31s\n",
      "49:\ttest: 0.9151422\tbest: 0.9152737 (45)\ttotal: 55.6s\tremaining: 3h 4m 30s\n",
      "50:\ttest: 0.9149755\tbest: 0.9152737 (45)\ttotal: 57.2s\tremaining: 3h 6m\n",
      "51:\ttest: 0.9150974\tbest: 0.9152737 (45)\ttotal: 58.7s\tremaining: 3h 7m 2s\n",
      "52:\ttest: 0.9153122\tbest: 0.9153122 (52)\ttotal: 1m\tremaining: 3h 7m 49s\n",
      "53:\ttest: 0.9154436\tbest: 0.9154436 (53)\ttotal: 1m 1s\tremaining: 3h 8m 26s\n",
      "54:\ttest: 0.9154821\tbest: 0.9154821 (54)\ttotal: 1m 2s\tremaining: 3h 8m 46s\n",
      "55:\ttest: 0.9152032\tbest: 0.9154821 (54)\ttotal: 1m 4s\tremaining: 3h 9m 30s\n",
      "56:\ttest: 0.9151390\tbest: 0.9154821 (54)\ttotal: 1m 5s\tremaining: 3h 9m 14s\n",
      "57:\ttest: 0.9150204\tbest: 0.9154821 (54)\ttotal: 1m 6s\tremaining: 3h 8m 49s\n",
      "58:\ttest: 0.9150172\tbest: 0.9154821 (54)\ttotal: 1m 7s\tremaining: 3h 8m 29s\n",
      "59:\ttest: 0.9150717\tbest: 0.9154821 (54)\ttotal: 1m 8s\tremaining: 3h 8m 22s\n",
      "60:\ttest: 0.9152032\tbest: 0.9154821 (54)\ttotal: 1m 9s\tremaining: 3h 8m 22s\n",
      "61:\ttest: 0.9149563\tbest: 0.9154821 (54)\ttotal: 1m 10s\tremaining: 3h 8m 49s\n",
      "62:\ttest: 0.9151871\tbest: 0.9154821 (54)\ttotal: 1m 11s\tremaining: 3h 8m 50s\n",
      "63:\ttest: 0.9151102\tbest: 0.9154821 (54)\ttotal: 1m 12s\tremaining: 3h 8m 48s\n",
      "64:\ttest: 0.9154148\tbest: 0.9154821 (54)\ttotal: 1m 14s\tremaining: 3h 9m 25s\n",
      "65:\ttest: 0.9153987\tbest: 0.9154821 (54)\ttotal: 1m 15s\tremaining: 3h 9m 33s\n",
      "66:\ttest: 0.9153763\tbest: 0.9154821 (54)\ttotal: 1m 16s\tremaining: 3h 9m 10s\n",
      "67:\ttest: 0.9151551\tbest: 0.9154821 (54)\ttotal: 1m 17s\tremaining: 3h 9m 6s\n",
      "68:\ttest: 0.9152737\tbest: 0.9154821 (54)\ttotal: 1m 19s\tremaining: 3h 9m 35s\n",
      "69:\ttest: 0.9153859\tbest: 0.9154821 (54)\ttotal: 1m 20s\tremaining: 3h 10m\n",
      "70:\ttest: 0.9155334\tbest: 0.9155334 (70)\ttotal: 1m 21s\tremaining: 3h 10m 18s\n",
      "71:\ttest: 0.9156905\tbest: 0.9156905 (71)\ttotal: 1m 22s\tremaining: 3h 10m 26s\n",
      "72:\ttest: 0.9156039\tbest: 0.9156905 (71)\ttotal: 1m 23s\tremaining: 3h 10m 11s\n",
      "73:\ttest: 0.9157578\tbest: 0.9157578 (73)\ttotal: 1m 25s\tremaining: 3h 10m 14s\n",
      "74:\ttest: 0.9160591\tbest: 0.9160591 (74)\ttotal: 1m 26s\tremaining: 3h 10m 10s\n",
      "75:\ttest: 0.9162932\tbest: 0.9162932 (75)\ttotal: 1m 27s\tremaining: 3h 10m 6s\n",
      "76:\ttest: 0.9163381\tbest: 0.9163381 (76)\ttotal: 1m 28s\tremaining: 3h 10m\n",
      "77:\ttest: 0.9164054\tbest: 0.9164054 (77)\ttotal: 1m 29s\tremaining: 3h 9m 54s\n",
      "78:\ttest: 0.9167484\tbest: 0.9167484 (78)\ttotal: 1m 30s\tremaining: 3h 9m 50s\n",
      "79:\ttest: 0.9169408\tbest: 0.9169408 (79)\ttotal: 1m 32s\tremaining: 3h 10m 31s\n",
      "80:\ttest: 0.9169857\tbest: 0.9169857 (80)\ttotal: 1m 33s\tremaining: 3h 10m 41s\n",
      "81:\ttest: 0.9168606\tbest: 0.9169857 (80)\ttotal: 1m 34s\tremaining: 3h 10m 50s\n",
      "82:\ttest: 0.9169055\tbest: 0.9169857 (80)\ttotal: 1m 35s\tremaining: 3h 10m 49s\n",
      "83:\ttest: 0.9169504\tbest: 0.9169857 (80)\ttotal: 1m 37s\tremaining: 3h 12m 12s\n",
      "84:\ttest: 0.9170305\tbest: 0.9170305 (84)\ttotal: 1m 38s\tremaining: 3h 12m 16s\n",
      "85:\ttest: 0.9172838\tbest: 0.9172838 (85)\ttotal: 1m 40s\tremaining: 3h 12m 30s\n",
      "86:\ttest: 0.9170882\tbest: 0.9172838 (85)\ttotal: 1m 41s\tremaining: 3h 12m 35s\n",
      "87:\ttest: 0.9173640\tbest: 0.9173640 (87)\ttotal: 1m 42s\tremaining: 3h 12m 37s\n",
      "88:\ttest: 0.9172550\tbest: 0.9173640 (87)\ttotal: 1m 43s\tremaining: 3h 12m 26s\n",
      "89:\ttest: 0.9174441\tbest: 0.9174441 (89)\ttotal: 1m 44s\tremaining: 3h 12m 10s\n",
      "90:\ttest: 0.9174890\tbest: 0.9174890 (90)\ttotal: 1m 45s\tremaining: 3h 11m 54s\n",
      "91:\ttest: 0.9174505\tbest: 0.9174890 (90)\ttotal: 1m 47s\tremaining: 3h 12m 54s\n",
      "92:\ttest: 0.9174954\tbest: 0.9174954 (92)\ttotal: 1m 48s\tremaining: 3h 13m 10s\n",
      "93:\ttest: 0.9175595\tbest: 0.9175595 (93)\ttotal: 1m 50s\tremaining: 3h 13m 15s\n",
      "94:\ttest: 0.9173960\tbest: 0.9175595 (93)\ttotal: 1m 51s\tremaining: 3h 13m 36s\n",
      "95:\ttest: 0.9177391\tbest: 0.9177391 (95)\ttotal: 1m 52s\tremaining: 3h 13m 37s\n",
      "96:\ttest: 0.9179763\tbest: 0.9179763 (96)\ttotal: 1m 53s\tremaining: 3h 13m 51s\n",
      "97:\ttest: 0.9180308\tbest: 0.9180308 (97)\ttotal: 1m 55s\tremaining: 3h 13m 41s\n",
      "98:\ttest: 0.9179090\tbest: 0.9180308 (97)\ttotal: 1m 56s\tremaining: 3h 13m 24s\n",
      "99:\ttest: 0.9179603\tbest: 0.9180308 (97)\ttotal: 1m 57s\tremaining: 3h 13m 7s\n",
      "100:\ttest: 0.9178737\tbest: 0.9180308 (97)\ttotal: 1m 58s\tremaining: 3h 12m 51s\n",
      "101:\ttest: 0.9178641\tbest: 0.9180308 (97)\ttotal: 1m 59s\tremaining: 3h 12m 34s\n",
      "102:\ttest: 0.9178641\tbest: 0.9180308 (97)\ttotal: 2m\tremaining: 3h 12m 20s\n",
      "103:\ttest: 0.9177294\tbest: 0.9180308 (97)\ttotal: 2m 1s\tremaining: 3h 11m 57s\n",
      "104:\ttest: 0.9174730\tbest: 0.9180308 (97)\ttotal: 2m 2s\tremaining: 3h 11m 39s\n",
      "105:\ttest: 0.9174153\tbest: 0.9180308 (97)\ttotal: 2m 2s\tremaining: 3h 11m 16s\n",
      "106:\ttest: 0.9176589\tbest: 0.9180308 (97)\ttotal: 2m 3s\tremaining: 3h 10m 56s\n",
      "107:\ttest: 0.9177807\tbest: 0.9180308 (97)\ttotal: 2m 5s\tremaining: 3h 10m 50s\n",
      "108:\ttest: 0.9176910\tbest: 0.9180308 (97)\ttotal: 2m 6s\tremaining: 3h 10m 34s\n",
      "109:\ttest: 0.9176813\tbest: 0.9180308 (97)\ttotal: 2m 7s\tremaining: 3h 10m 23s\n",
      "110:\ttest: 0.9174473\tbest: 0.9180308 (97)\ttotal: 2m 8s\tremaining: 3h 10m 3s\n",
      "111:\ttest: 0.9175146\tbest: 0.9180308 (97)\ttotal: 2m 8s\tremaining: 3h 9m 48s\n",
      "112:\ttest: 0.9175114\tbest: 0.9180308 (97)\ttotal: 2m 9s\tremaining: 3h 9m 28s\n",
      "113:\ttest: 0.9175980\tbest: 0.9180308 (97)\ttotal: 2m 11s\tremaining: 3h 9m 20s\n",
      "114:\ttest: 0.9177006\tbest: 0.9180308 (97)\ttotal: 2m 12s\tremaining: 3h 9m 23s\n",
      "115:\ttest: 0.9176749\tbest: 0.9180308 (97)\ttotal: 2m 13s\tremaining: 3h 9m 15s\n",
      "116:\ttest: 0.9178769\tbest: 0.9180308 (97)\ttotal: 2m 14s\tremaining: 3h 9m\n",
      "117:\ttest: 0.9181686\tbest: 0.9181686 (117)\ttotal: 2m 15s\tremaining: 3h 8m 43s\n",
      "118:\ttest: 0.9181847\tbest: 0.9181847 (118)\ttotal: 2m 16s\tremaining: 3h 8m 36s\n",
      "119:\ttest: 0.9182488\tbest: 0.9182488 (119)\ttotal: 2m 17s\tremaining: 3h 8m 25s\n",
      "120:\ttest: 0.9182616\tbest: 0.9182616 (120)\ttotal: 2m 18s\tremaining: 3h 8m 45s\n",
      "121:\ttest: 0.9182360\tbest: 0.9182616 (120)\ttotal: 2m 20s\tremaining: 3h 8m 56s\n",
      "122:\ttest: 0.9181238\tbest: 0.9182616 (120)\ttotal: 2m 21s\tremaining: 3h 9m 7s\n",
      "123:\ttest: 0.9182007\tbest: 0.9182616 (120)\ttotal: 2m 22s\tremaining: 3h 9m 17s\n",
      "124:\ttest: 0.9182616\tbest: 0.9182616 (120)\ttotal: 2m 24s\tremaining: 3h 9m 45s\n",
      "125:\ttest: 0.9183802\tbest: 0.9183802 (125)\ttotal: 2m 25s\tremaining: 3h 10m 23s\n",
      "126:\ttest: 0.9183386\tbest: 0.9183802 (125)\ttotal: 2m 26s\tremaining: 3h 10m 10s\n",
      "127:\ttest: 0.9186784\tbest: 0.9186784 (127)\ttotal: 2m 27s\tremaining: 3h 10m 1s\n",
      "128:\ttest: 0.9187104\tbest: 0.9187104 (128)\ttotal: 2m 28s\tremaining: 3h 10m\n",
      "129:\ttest: 0.9188932\tbest: 0.9188932 (129)\ttotal: 2m 30s\tremaining: 3h 10m 1s\n",
      "130:\ttest: 0.9190118\tbest: 0.9190118 (130)\ttotal: 2m 31s\tremaining: 3h 9m 59s\n",
      "131:\ttest: 0.9191144\tbest: 0.9191144 (131)\ttotal: 2m 32s\tremaining: 3h 9m 43s\n",
      "132:\ttest: 0.9191368\tbest: 0.9191368 (132)\ttotal: 2m 33s\tremaining: 3h 9m 35s\n",
      "133:\ttest: 0.9189573\tbest: 0.9191368 (132)\ttotal: 2m 34s\tremaining: 3h 9m 20s\n",
      "134:\ttest: 0.9191336\tbest: 0.9191368 (132)\ttotal: 2m 35s\tremaining: 3h 9m 5s\n",
      "135:\ttest: 0.9192619\tbest: 0.9192619 (135)\ttotal: 2m 36s\tremaining: 3h 8m 55s\n",
      "136:\ttest: 0.9195632\tbest: 0.9195632 (136)\ttotal: 2m 37s\tremaining: 3h 8m 47s\n",
      "137:\ttest: 0.9194670\tbest: 0.9195632 (136)\ttotal: 2m 38s\tremaining: 3h 8m 42s\n",
      "138:\ttest: 0.9196850\tbest: 0.9196850 (138)\ttotal: 2m 39s\tremaining: 3h 8m 52s\n",
      "139:\ttest: 0.9197267\tbest: 0.9197267 (139)\ttotal: 2m 41s\tremaining: 3h 9m 2s\n",
      "140:\ttest: 0.9197652\tbest: 0.9197652 (140)\ttotal: 2m 42s\tremaining: 3h 9m 17s\n",
      "141:\ttest: 0.9198005\tbest: 0.9198005 (141)\ttotal: 2m 43s\tremaining: 3h 9m 27s\n",
      "142:\ttest: 0.9197524\tbest: 0.9198005 (141)\ttotal: 2m 44s\tremaining: 3h 9m 23s\n",
      "143:\ttest: 0.9196690\tbest: 0.9198005 (141)\ttotal: 2m 45s\tremaining: 3h 9m 18s\n",
      "144:\ttest: 0.9197844\tbest: 0.9198005 (141)\ttotal: 2m 47s\tremaining: 3h 9m 21s\n",
      "145:\ttest: 0.9198165\tbest: 0.9198165 (145)\ttotal: 2m 48s\tremaining: 3h 9m 17s\n",
      "146:\ttest: 0.9199287\tbest: 0.9199287 (146)\ttotal: 2m 49s\tremaining: 3h 9m 13s\n",
      "147:\ttest: 0.9198261\tbest: 0.9199287 (146)\ttotal: 2m 50s\tremaining: 3h 9m 3s\n",
      "148:\ttest: 0.9199191\tbest: 0.9199287 (146)\ttotal: 2m 51s\tremaining: 3h 8m 49s\n",
      "149:\ttest: 0.9199031\tbest: 0.9199287 (146)\ttotal: 2m 52s\tremaining: 3h 8m 36s\n",
      "150:\ttest: 0.9197331\tbest: 0.9199287 (146)\ttotal: 2m 53s\tremaining: 3h 8m 21s\n",
      "151:\ttest: 0.9197075\tbest: 0.9199287 (146)\ttotal: 2m 54s\tremaining: 3h 8m 8s\n",
      "152:\ttest: 0.9196241\tbest: 0.9199287 (146)\ttotal: 2m 55s\tremaining: 3h 7m 56s\n",
      "153:\ttest: 0.9195857\tbest: 0.9199287 (146)\ttotal: 2m 56s\tremaining: 3h 7m 44s\n",
      "154:\ttest: 0.9194799\tbest: 0.9199287 (146)\ttotal: 2m 57s\tremaining: 3h 7m 34s\n",
      "155:\ttest: 0.9196947\tbest: 0.9199287 (146)\ttotal: 2m 58s\tremaining: 3h 7m 21s\n",
      "156:\ttest: 0.9197844\tbest: 0.9199287 (146)\ttotal: 2m 59s\tremaining: 3h 7m 10s\n",
      "157:\ttest: 0.9199255\tbest: 0.9199287 (146)\ttotal: 3m\tremaining: 3h 7m 1s\n",
      "158:\ttest: 0.9198261\tbest: 0.9199287 (146)\ttotal: 3m 1s\tremaining: 3h 7m 5s\n",
      "159:\ttest: 0.9197684\tbest: 0.9199287 (146)\ttotal: 3m 2s\tremaining: 3h 7m\n",
      "160:\ttest: 0.9198357\tbest: 0.9199287 (146)\ttotal: 3m 4s\tremaining: 3h 7m 31s\n",
      "161:\ttest: 0.9197460\tbest: 0.9199287 (146)\ttotal: 3m 5s\tremaining: 3h 7m 20s\n",
      "162:\ttest: 0.9197524\tbest: 0.9199287 (146)\ttotal: 3m 6s\tremaining: 3h 7m 7s\n",
      "163:\ttest: 0.9197780\tbest: 0.9199287 (146)\ttotal: 3m 7s\tremaining: 3h 6m 58s\n",
      "164:\ttest: 0.9198421\tbest: 0.9199287 (146)\ttotal: 3m 7s\tremaining: 3h 6m 45s\n",
      "165:\ttest: 0.9200377\tbest: 0.9200377 (165)\ttotal: 3m 9s\tremaining: 3h 6m 36s\n",
      "166:\ttest: 0.9201018\tbest: 0.9201018 (166)\ttotal: 3m 10s\tremaining: 3h 6m 28s\n",
      "167:\ttest: 0.9202333\tbest: 0.9202333 (167)\ttotal: 3m 10s\tremaining: 3h 6m 16s\n",
      "168:\ttest: 0.9202589\tbest: 0.9202589 (168)\ttotal: 3m 11s\tremaining: 3h 6m 7s\n",
      "169:\ttest: 0.9201403\tbest: 0.9202589 (168)\ttotal: 3m 12s\tremaining: 3h 5m 56s\n",
      "170:\ttest: 0.9202108\tbest: 0.9202589 (168)\ttotal: 3m 13s\tremaining: 3h 5m 43s\n",
      "171:\ttest: 0.9203006\tbest: 0.9203006 (171)\ttotal: 3m 14s\tremaining: 3h 5m 33s\n",
      "172:\ttest: 0.9201884\tbest: 0.9203006 (171)\ttotal: 3m 15s\tremaining: 3h 5m 20s\n",
      "173:\ttest: 0.9202397\tbest: 0.9203006 (171)\ttotal: 3m 16s\tremaining: 3h 5m 12s\n",
      "174:\ttest: 0.9203423\tbest: 0.9203423 (174)\ttotal: 3m 17s\tremaining: 3h 5m 6s\n",
      "175:\ttest: 0.9203326\tbest: 0.9203423 (174)\ttotal: 3m 19s\tremaining: 3h 5m 14s\n",
      "176:\ttest: 0.9203647\tbest: 0.9203647 (176)\ttotal: 3m 20s\tremaining: 3h 5m 18s\n",
      "177:\ttest: 0.9203871\tbest: 0.9203871 (177)\ttotal: 3m 21s\tremaining: 3h 5m 26s\n",
      "178:\ttest: 0.9203968\tbest: 0.9203968 (178)\ttotal: 3m 22s\tremaining: 3h 5m 36s\n",
      "179:\ttest: 0.9203262\tbest: 0.9203968 (178)\ttotal: 3m 24s\tremaining: 3h 5m 40s\n",
      "180:\ttest: 0.9204449\tbest: 0.9204449 (180)\ttotal: 3m 25s\tremaining: 3h 5m 50s\n",
      "181:\ttest: 0.9203423\tbest: 0.9204449 (180)\ttotal: 3m 26s\tremaining: 3h 5m 49s\n",
      "182:\ttest: 0.9202942\tbest: 0.9204449 (180)\ttotal: 3m 27s\tremaining: 3h 5m 42s\n",
      "183:\ttest: 0.9202974\tbest: 0.9204449 (180)\ttotal: 3m 28s\tremaining: 3h 5m 36s\n",
      "184:\ttest: 0.9203455\tbest: 0.9204449 (180)\ttotal: 3m 29s\tremaining: 3h 5m 33s\n",
      "185:\ttest: 0.9204384\tbest: 0.9204449 (180)\ttotal: 3m 31s\tremaining: 3h 5m 33s\n",
      "186:\ttest: 0.9205442\tbest: 0.9205442 (186)\ttotal: 3m 32s\tremaining: 3h 5m 35s\n",
      "187:\ttest: 0.9205122\tbest: 0.9205442 (186)\ttotal: 3m 33s\tremaining: 3h 5m 27s\n",
      "188:\ttest: 0.9206019\tbest: 0.9206019 (188)\ttotal: 3m 34s\tremaining: 3h 5m 24s\n",
      "189:\ttest: 0.9206308\tbest: 0.9206308 (189)\ttotal: 3m 35s\tremaining: 3h 5m 22s\n",
      "190:\ttest: 0.9207334\tbest: 0.9207334 (190)\ttotal: 3m 36s\tremaining: 3h 5m 16s\n",
      "191:\ttest: 0.9206789\tbest: 0.9207334 (190)\ttotal: 3m 37s\tremaining: 3h 5m 8s\n",
      "192:\ttest: 0.9207911\tbest: 0.9207911 (192)\ttotal: 3m 38s\tremaining: 3h 5m 1s\n",
      "193:\ttest: 0.9208039\tbest: 0.9208039 (193)\ttotal: 3m 39s\tremaining: 3h 4m 56s\n",
      "194:\ttest: 0.9209065\tbest: 0.9209065 (194)\ttotal: 3m 40s\tremaining: 3h 4m 47s\n",
      "195:\ttest: 0.9208199\tbest: 0.9209065 (194)\ttotal: 3m 41s\tremaining: 3h 4m 46s\n",
      "196:\ttest: 0.9208167\tbest: 0.9209065 (194)\ttotal: 3m 42s\tremaining: 3h 4m 54s\n",
      "197:\ttest: 0.9208424\tbest: 0.9209065 (194)\ttotal: 3m 44s\tremaining: 3h 5m 10s\n",
      "198:\ttest: 0.9209354\tbest: 0.9209354 (198)\ttotal: 3m 45s\tremaining: 3h 5m 8s\n",
      "199:\ttest: 0.9210892\tbest: 0.9210892 (199)\ttotal: 3m 46s\tremaining: 3h 5m 6s\n",
      "200:\ttest: 0.9211437\tbest: 0.9211437 (200)\ttotal: 3m 47s\tremaining: 3h 5m 1s\n",
      "201:\ttest: 0.9211694\tbest: 0.9211694 (201)\ttotal: 3m 48s\tremaining: 3h 4m 57s\n",
      "202:\ttest: 0.9210380\tbest: 0.9211694 (201)\ttotal: 3m 49s\tremaining: 3h 4m 47s\n",
      "203:\ttest: 0.9210989\tbest: 0.9211694 (201)\ttotal: 3m 50s\tremaining: 3h 4m 41s\n",
      "204:\ttest: 0.9210700\tbest: 0.9211694 (201)\ttotal: 3m 51s\tremaining: 3h 4m 34s\n",
      "205:\ttest: 0.9211309\tbest: 0.9211694 (201)\ttotal: 3m 52s\tremaining: 3h 4m 30s\n",
      "206:\ttest: 0.9212752\tbest: 0.9212752 (206)\ttotal: 3m 54s\tremaining: 3h 4m 34s\n",
      "207:\ttest: 0.9213329\tbest: 0.9213329 (207)\ttotal: 3m 55s\tremaining: 3h 4m 32s\n",
      "208:\ttest: 0.9213489\tbest: 0.9213489 (208)\ttotal: 3m 56s\tremaining: 3h 4m 29s\n",
      "209:\ttest: 0.9213233\tbest: 0.9213489 (208)\ttotal: 3m 57s\tremaining: 3h 4m 23s\n",
      "210:\ttest: 0.9213393\tbest: 0.9213489 (208)\ttotal: 3m 58s\tremaining: 3h 4m 14s\n",
      "211:\ttest: 0.9213585\tbest: 0.9213585 (211)\ttotal: 3m 59s\tremaining: 3h 4m 7s\n",
      "212:\ttest: 0.9213585\tbest: 0.9213585 (211)\ttotal: 4m\tremaining: 3h 4m 3s\n",
      "213:\ttest: 0.9214515\tbest: 0.9214515 (213)\ttotal: 4m 1s\tremaining: 3h 4m 4s\n",
      "214:\ttest: 0.9214002\tbest: 0.9214515 (213)\ttotal: 4m 2s\tremaining: 3h 4m 2s\n",
      "215:\ttest: 0.9213906\tbest: 0.9214515 (213)\ttotal: 4m 3s\tremaining: 3h 3m 57s\n",
      "216:\ttest: 0.9216022\tbest: 0.9216022 (216)\ttotal: 4m 4s\tremaining: 3h 3m 52s\n",
      "217:\ttest: 0.9216118\tbest: 0.9216118 (217)\ttotal: 4m 5s\tremaining: 3h 3m 43s\n",
      "218:\ttest: 0.9215990\tbest: 0.9216118 (217)\ttotal: 4m 6s\tremaining: 3h 3m 38s\n",
      "219:\ttest: 0.9216310\tbest: 0.9216310 (219)\ttotal: 4m 7s\tremaining: 3h 3m 36s\n",
      "220:\ttest: 0.9217881\tbest: 0.9217881 (220)\ttotal: 4m 8s\tremaining: 3h 3m 32s\n",
      "221:\ttest: 0.9218298\tbest: 0.9218298 (221)\ttotal: 4m 9s\tremaining: 3h 3m 29s\n",
      "222:\ttest: 0.9217849\tbest: 0.9218298 (221)\ttotal: 4m 11s\tremaining: 3h 3m 29s\n",
      "223:\ttest: 0.9218170\tbest: 0.9218298 (221)\ttotal: 4m 12s\tremaining: 3h 3m 27s\n",
      "224:\ttest: 0.9218170\tbest: 0.9218298 (221)\ttotal: 4m 13s\tremaining: 3h 3m 26s\n",
      "225:\ttest: 0.9218587\tbest: 0.9218587 (225)\ttotal: 4m 14s\tremaining: 3h 3m 26s\n",
      "226:\ttest: 0.9217753\tbest: 0.9218587 (225)\ttotal: 4m 15s\tremaining: 3h 3m 38s\n",
      "227:\ttest: 0.9217272\tbest: 0.9218587 (225)\ttotal: 4m 17s\tremaining: 3h 3m 51s\n",
      "228:\ttest: 0.9218491\tbest: 0.9218587 (225)\ttotal: 4m 18s\tremaining: 3h 3m 48s\n",
      "229:\ttest: 0.9218266\tbest: 0.9218587 (225)\ttotal: 4m 19s\tremaining: 3h 3m 41s\n",
      "230:\ttest: 0.9219645\tbest: 0.9219645 (230)\ttotal: 4m 20s\tremaining: 3h 3m 38s\n",
      "231:\ttest: 0.9219901\tbest: 0.9219901 (231)\ttotal: 4m 21s\tremaining: 3h 3m 30s\n",
      "232:\ttest: 0.9219613\tbest: 0.9219901 (231)\ttotal: 4m 22s\tremaining: 3h 3m 32s\n",
      "233:\ttest: 0.9219356\tbest: 0.9219901 (231)\ttotal: 4m 23s\tremaining: 3h 3m 31s\n",
      "234:\ttest: 0.9219388\tbest: 0.9219901 (231)\ttotal: 4m 24s\tremaining: 3h 3m 26s\n",
      "235:\ttest: 0.9218971\tbest: 0.9219901 (231)\ttotal: 4m 25s\tremaining: 3h 3m 20s\n",
      "236:\ttest: 0.9218747\tbest: 0.9219901 (231)\ttotal: 4m 26s\tremaining: 3h 3m 17s\n",
      "237:\ttest: 0.9219869\tbest: 0.9219901 (231)\ttotal: 4m 28s\tremaining: 3h 3m 13s\n",
      "238:\ttest: 0.9220093\tbest: 0.9220093 (238)\ttotal: 4m 28s\tremaining: 3h 3m 6s\n",
      "239:\ttest: 0.9220222\tbest: 0.9220222 (239)\ttotal: 4m 30s\tremaining: 3h 3m\n",
      "240:\ttest: 0.9221344\tbest: 0.9221344 (240)\ttotal: 4m 31s\tremaining: 3h 2m 57s\n",
      "241:\ttest: 0.9221985\tbest: 0.9221985 (241)\ttotal: 4m 32s\tremaining: 3h 2m 55s\n",
      "242:\ttest: 0.9222466\tbest: 0.9222466 (242)\ttotal: 4m 33s\tremaining: 3h 2m 50s\n",
      "243:\ttest: 0.9221857\tbest: 0.9222466 (242)\ttotal: 4m 34s\tremaining: 3h 2m 47s\n",
      "244:\ttest: 0.9221729\tbest: 0.9222466 (242)\ttotal: 4m 35s\tremaining: 3h 2m 40s\n",
      "245:\ttest: 0.9221023\tbest: 0.9222466 (242)\ttotal: 4m 36s\tremaining: 3h 2m 37s\n",
      "246:\ttest: 0.9222338\tbest: 0.9222466 (242)\ttotal: 4m 37s\tremaining: 3h 2m 31s\n",
      "247:\ttest: 0.9221953\tbest: 0.9222466 (242)\ttotal: 4m 38s\tremaining: 3h 2m 24s\n",
      "248:\ttest: 0.9221696\tbest: 0.9222466 (242)\ttotal: 4m 39s\tremaining: 3h 2m 21s\n",
      "249:\ttest: 0.9222947\tbest: 0.9222947 (249)\ttotal: 4m 40s\tremaining: 3h 2m 17s\n",
      "250:\ttest: 0.9221985\tbest: 0.9222947 (249)\ttotal: 4m 41s\tremaining: 3h 2m 10s\n",
      "251:\ttest: 0.9222466\tbest: 0.9222947 (249)\ttotal: 4m 42s\tremaining: 3h 2m 4s\n",
      "252:\ttest: 0.9222915\tbest: 0.9222947 (249)\ttotal: 4m 43s\tremaining: 3h 1m 57s\n",
      "253:\ttest: 0.9221504\tbest: 0.9222947 (249)\ttotal: 4m 44s\tremaining: 3h 1m 49s\n",
      "254:\ttest: 0.9221280\tbest: 0.9222947 (249)\ttotal: 4m 45s\tremaining: 3h 1m 42s\n",
      "255:\ttest: 0.9222177\tbest: 0.9222947 (249)\ttotal: 4m 46s\tremaining: 3h 1m 38s\n",
      "256:\ttest: 0.9222658\tbest: 0.9222947 (249)\ttotal: 4m 47s\tremaining: 3h 1m 34s\n",
      "257:\ttest: 0.9222915\tbest: 0.9222947 (249)\ttotal: 4m 48s\tremaining: 3h 1m 32s\n",
      "258:\ttest: 0.9225095\tbest: 0.9225095 (258)\ttotal: 4m 49s\tremaining: 3h 1m 27s\n",
      "259:\ttest: 0.9224454\tbest: 0.9225095 (258)\ttotal: 4m 50s\tremaining: 3h 1m 20s\n",
      "260:\ttest: 0.9225383\tbest: 0.9225383 (260)\ttotal: 4m 51s\tremaining: 3h 1m 13s\n",
      "261:\ttest: 0.9224454\tbest: 0.9225383 (260)\ttotal: 4m 52s\tremaining: 3h 1m 5s\n",
      "262:\ttest: 0.9224934\tbest: 0.9225383 (260)\ttotal: 4m 53s\tremaining: 3h 58s\n",
      "263:\ttest: 0.9225383\tbest: 0.9225383 (260)\ttotal: 4m 54s\tremaining: 3h 53s\n",
      "264:\ttest: 0.9225191\tbest: 0.9225383 (260)\ttotal: 4m 55s\tremaining: 3h 45s\n",
      "265:\ttest: 0.9225928\tbest: 0.9225928 (265)\ttotal: 4m 56s\tremaining: 3h 38s\n",
      "266:\ttest: 0.9225576\tbest: 0.9225928 (265)\ttotal: 4m 57s\tremaining: 3h 32s\n",
      "267:\ttest: 0.9225351\tbest: 0.9225928 (265)\ttotal: 4m 58s\tremaining: 3h 30s\n",
      "268:\ttest: 0.9225223\tbest: 0.9225928 (265)\ttotal: 4m 59s\tremaining: 3h 23s\n",
      "269:\ttest: 0.9224357\tbest: 0.9225928 (265)\ttotal: 5m\tremaining: 3h 23s\n",
      "270:\ttest: 0.9224037\tbest: 0.9225928 (265)\ttotal: 5m 1s\tremaining: 3h 26s\n",
      "271:\ttest: 0.9225159\tbest: 0.9225928 (265)\ttotal: 5m 2s\tremaining: 3h 22s\n",
      "272:\ttest: 0.9224133\tbest: 0.9225928 (265)\ttotal: 5m 3s\tremaining: 3h 16s\n",
      "273:\ttest: 0.9224902\tbest: 0.9225928 (265)\ttotal: 5m 4s\tremaining: 3h 11s\n",
      "274:\ttest: 0.9225415\tbest: 0.9225928 (265)\ttotal: 5m 5s\tremaining: 3h 7s\n",
      "275:\ttest: 0.9225832\tbest: 0.9225928 (265)\ttotal: 5m 6s\tremaining: 3h 6s\n",
      "276:\ttest: 0.9225768\tbest: 0.9225928 (265)\ttotal: 5m 7s\tremaining: 3h 3s\n",
      "277:\ttest: 0.9225095\tbest: 0.9225928 (265)\ttotal: 5m 9s\tremaining: 3h 6s\n",
      "278:\ttest: 0.9225383\tbest: 0.9225928 (265)\ttotal: 5m 9s\tremaining: 3h\n",
      "279:\ttest: 0.9225896\tbest: 0.9225928 (265)\ttotal: 5m 11s\tremaining: 2h 59m 59s\n",
      "280:\ttest: 0.9226313\tbest: 0.9226313 (280)\ttotal: 5m 12s\tremaining: 2h 59m 55s\n",
      "281:\ttest: 0.9226569\tbest: 0.9226569 (281)\ttotal: 5m 13s\tremaining: 2h 59m 51s\n",
      "282:\ttest: 0.9226698\tbest: 0.9226698 (282)\ttotal: 5m 14s\tremaining: 2h 59m 45s\n",
      "283:\ttest: 0.9227050\tbest: 0.9227050 (283)\ttotal: 5m 15s\tremaining: 2h 59m 38s\n",
      "284:\ttest: 0.9227275\tbest: 0.9227275 (284)\ttotal: 5m 16s\tremaining: 2h 59m 33s\n",
      "285:\ttest: 0.9227307\tbest: 0.9227307 (285)\ttotal: 5m 17s\tremaining: 2h 59m 27s\n",
      "286:\ttest: 0.9228108\tbest: 0.9228108 (286)\ttotal: 5m 17s\tremaining: 2h 59m 21s\n",
      "287:\ttest: 0.9228493\tbest: 0.9228493 (287)\ttotal: 5m 18s\tremaining: 2h 59m 15s\n",
      "288:\ttest: 0.9229327\tbest: 0.9229327 (288)\ttotal: 5m 19s\tremaining: 2h 59m 10s\n",
      "289:\ttest: 0.9229327\tbest: 0.9229327 (288)\ttotal: 5m 20s\tremaining: 2h 59m 5s\n",
      "290:\ttest: 0.9229038\tbest: 0.9229327 (288)\ttotal: 5m 21s\tremaining: 2h 58m 59s\n",
      "291:\ttest: 0.9229391\tbest: 0.9229391 (291)\ttotal: 5m 22s\tremaining: 2h 58m 52s\n",
      "292:\ttest: 0.9229647\tbest: 0.9229647 (292)\ttotal: 5m 23s\tremaining: 2h 58m 48s\n",
      "293:\ttest: 0.9228397\tbest: 0.9229647 (292)\ttotal: 5m 24s\tremaining: 2h 58m 42s\n",
      "294:\ttest: 0.9228589\tbest: 0.9229647 (292)\ttotal: 5m 25s\tremaining: 2h 58m 36s\n",
      "295:\ttest: 0.9227756\tbest: 0.9229647 (292)\ttotal: 5m 26s\tremaining: 2h 58m 32s\n",
      "296:\ttest: 0.9228172\tbest: 0.9229647 (292)\ttotal: 5m 27s\tremaining: 2h 58m 26s\n",
      "297:\ttest: 0.9228685\tbest: 0.9229647 (292)\ttotal: 5m 28s\tremaining: 2h 58m 22s\n",
      "298:\ttest: 0.9229230\tbest: 0.9229647 (292)\ttotal: 5m 29s\tremaining: 2h 58m 19s\n",
      "299:\ttest: 0.9229840\tbest: 0.9229840 (299)\ttotal: 5m 30s\tremaining: 2h 58m 18s\n",
      "300:\ttest: 0.9230096\tbest: 0.9230096 (300)\ttotal: 5m 32s\tremaining: 2h 58m 18s\n",
      "301:\ttest: 0.9231250\tbest: 0.9231250 (301)\ttotal: 5m 33s\tremaining: 2h 58m 14s\n",
      "302:\ttest: 0.9231539\tbest: 0.9231539 (302)\ttotal: 5m 34s\tremaining: 2h 58m 10s\n",
      "303:\ttest: 0.9231667\tbest: 0.9231667 (303)\ttotal: 5m 35s\tremaining: 2h 58m 6s\n",
      "304:\ttest: 0.9231603\tbest: 0.9231667 (303)\ttotal: 5m 36s\tremaining: 2h 58m 3s\n",
      "305:\ttest: 0.9231090\tbest: 0.9231667 (303)\ttotal: 5m 37s\tremaining: 2h 58m 1s\n",
      "306:\ttest: 0.9230930\tbest: 0.9231667 (303)\ttotal: 5m 38s\tremaining: 2h 57m 56s\n",
      "307:\ttest: 0.9230577\tbest: 0.9231667 (303)\ttotal: 5m 39s\tremaining: 2h 57m 55s\n",
      "308:\ttest: 0.9231346\tbest: 0.9231667 (303)\ttotal: 5m 40s\tremaining: 2h 57m 56s\n",
      "309:\ttest: 0.9231378\tbest: 0.9231667 (303)\ttotal: 5m 41s\tremaining: 2h 57m 54s\n",
      "310:\ttest: 0.9231987\tbest: 0.9231987 (310)\ttotal: 5m 42s\tremaining: 2h 57m 51s\n",
      "311:\ttest: 0.9232949\tbest: 0.9232949 (311)\ttotal: 5m 43s\tremaining: 2h 57m 47s\n",
      "312:\ttest: 0.9233398\tbest: 0.9233398 (312)\ttotal: 5m 44s\tremaining: 2h 57m 46s\n",
      "313:\ttest: 0.9232981\tbest: 0.9233398 (312)\ttotal: 5m 45s\tremaining: 2h 57m 48s\n",
      "314:\ttest: 0.9232821\tbest: 0.9233398 (312)\ttotal: 5m 46s\tremaining: 2h 57m 46s\n",
      "315:\ttest: 0.9233879\tbest: 0.9233879 (315)\ttotal: 5m 47s\tremaining: 2h 57m 44s\n",
      "316:\ttest: 0.9233911\tbest: 0.9233911 (316)\ttotal: 5m 48s\tremaining: 2h 57m 40s\n",
      "317:\ttest: 0.9233302\tbest: 0.9233911 (316)\ttotal: 5m 49s\tremaining: 2h 57m 34s\n",
      "318:\ttest: 0.9234488\tbest: 0.9234488 (318)\ttotal: 5m 50s\tremaining: 2h 57m 28s\n",
      "319:\ttest: 0.9233911\tbest: 0.9234488 (318)\ttotal: 5m 51s\tremaining: 2h 57m 22s\n",
      "320:\ttest: 0.9234520\tbest: 0.9234520 (320)\ttotal: 5m 52s\tremaining: 2h 57m 16s\n",
      "321:\ttest: 0.9235161\tbest: 0.9235161 (321)\ttotal: 5m 53s\tremaining: 2h 57m 11s\n",
      "322:\ttest: 0.9235290\tbest: 0.9235290 (322)\ttotal: 5m 54s\tremaining: 2h 57m 5s\n",
      "323:\ttest: 0.9236700\tbest: 0.9236700 (323)\ttotal: 5m 55s\tremaining: 2h 57m 8s\n",
      "324:\ttest: 0.9237149\tbest: 0.9237149 (324)\ttotal: 5m 57s\tremaining: 2h 57m 10s\n",
      "325:\ttest: 0.9236732\tbest: 0.9237149 (324)\ttotal: 5m 58s\tremaining: 2h 57m 5s\n",
      "326:\ttest: 0.9236828\tbest: 0.9237149 (324)\ttotal: 5m 59s\tremaining: 2h 56m 59s\n",
      "327:\ttest: 0.9237181\tbest: 0.9237181 (327)\ttotal: 6m\tremaining: 2h 57m 3s\n",
      "328:\ttest: 0.9237886\tbest: 0.9237886 (328)\ttotal: 6m 1s\tremaining: 2h 57m 18s\n",
      "329:\ttest: 0.9238848\tbest: 0.9238848 (329)\ttotal: 6m 3s\tremaining: 2h 57m 20s\n",
      "330:\ttest: 0.9238848\tbest: 0.9238848 (329)\ttotal: 6m 4s\tremaining: 2h 57m 17s\n",
      "331:\ttest: 0.9238880\tbest: 0.9238880 (331)\ttotal: 6m 5s\tremaining: 2h 57m 12s\n",
      "332:\ttest: 0.9238720\tbest: 0.9238880 (331)\ttotal: 6m 6s\tremaining: 2h 57m 10s\n",
      "333:\ttest: 0.9238656\tbest: 0.9238880 (331)\ttotal: 6m 7s\tremaining: 2h 57m 6s\n",
      "334:\ttest: 0.9238912\tbest: 0.9238912 (334)\ttotal: 6m 8s\tremaining: 2h 57m\n",
      "335:\ttest: 0.9239073\tbest: 0.9239073 (335)\ttotal: 6m 9s\tremaining: 2h 56m 56s\n",
      "336:\ttest: 0.9239425\tbest: 0.9239425 (336)\ttotal: 6m 10s\tremaining: 2h 56m 51s\n",
      "337:\ttest: 0.9240034\tbest: 0.9240034 (337)\ttotal: 6m 11s\tremaining: 2h 56m 46s\n",
      "338:\ttest: 0.9240195\tbest: 0.9240195 (338)\ttotal: 6m 11s\tremaining: 2h 56m 41s\n",
      "339:\ttest: 0.9240836\tbest: 0.9240836 (339)\ttotal: 6m 12s\tremaining: 2h 56m 36s\n",
      "340:\ttest: 0.9240996\tbest: 0.9240996 (340)\ttotal: 6m 13s\tremaining: 2h 56m 31s\n",
      "341:\ttest: 0.9241477\tbest: 0.9241477 (341)\ttotal: 6m 15s\tremaining: 2h 56m 32s\n",
      "342:\ttest: 0.9241701\tbest: 0.9241701 (342)\ttotal: 6m 16s\tremaining: 2h 56m 39s\n",
      "343:\ttest: 0.9242343\tbest: 0.9242343 (343)\ttotal: 6m 17s\tremaining: 2h 56m 45s\n",
      "344:\ttest: 0.9242311\tbest: 0.9242343 (343)\ttotal: 6m 18s\tremaining: 2h 56m 42s\n",
      "345:\ttest: 0.9241734\tbest: 0.9242343 (343)\ttotal: 6m 19s\tremaining: 2h 56m 37s\n",
      "346:\ttest: 0.9241990\tbest: 0.9242343 (343)\ttotal: 6m 20s\tremaining: 2h 56m 35s\n",
      "347:\ttest: 0.9241605\tbest: 0.9242343 (343)\ttotal: 6m 21s\tremaining: 2h 56m 34s\n",
      "348:\ttest: 0.9241573\tbest: 0.9242343 (343)\ttotal: 6m 23s\tremaining: 2h 56m 38s\n",
      "349:\ttest: 0.9242663\tbest: 0.9242663 (349)\ttotal: 6m 24s\tremaining: 2h 56m 37s\n",
      "350:\ttest: 0.9242952\tbest: 0.9242952 (350)\ttotal: 6m 25s\tremaining: 2h 56m 34s\n",
      "351:\ttest: 0.9242791\tbest: 0.9242952 (350)\ttotal: 6m 26s\tremaining: 2h 56m 31s\n",
      "352:\ttest: 0.9242856\tbest: 0.9242952 (350)\ttotal: 6m 27s\tremaining: 2h 56m 30s\n",
      "353:\ttest: 0.9242695\tbest: 0.9242952 (350)\ttotal: 6m 28s\tremaining: 2h 56m 27s\n",
      "354:\ttest: 0.9243112\tbest: 0.9243112 (354)\ttotal: 6m 29s\tremaining: 2h 56m 24s\n",
      "355:\ttest: 0.9243272\tbest: 0.9243272 (355)\ttotal: 6m 30s\tremaining: 2h 56m 22s\n",
      "356:\ttest: 0.9243465\tbest: 0.9243465 (356)\ttotal: 6m 31s\tremaining: 2h 56m 22s\n",
      "357:\ttest: 0.9244523\tbest: 0.9244523 (357)\ttotal: 6m 32s\tremaining: 2h 56m 23s\n",
      "358:\ttest: 0.9244875\tbest: 0.9244875 (358)\ttotal: 6m 34s\tremaining: 2h 56m 33s\n",
      "359:\ttest: 0.9244811\tbest: 0.9244875 (358)\ttotal: 6m 35s\tremaining: 2h 56m 43s\n",
      "360:\ttest: 0.9246029\tbest: 0.9246029 (360)\ttotal: 6m 37s\tremaining: 2h 56m 45s\n",
      "361:\ttest: 0.9246029\tbest: 0.9246029 (360)\ttotal: 6m 38s\tremaining: 2h 56m 44s\n",
      "362:\ttest: 0.9245901\tbest: 0.9246029 (360)\ttotal: 6m 39s\tremaining: 2h 56m 44s\n",
      "363:\ttest: 0.9245420\tbest: 0.9246029 (360)\ttotal: 6m 40s\tremaining: 2h 56m 39s\n",
      "364:\ttest: 0.9246350\tbest: 0.9246350 (364)\ttotal: 6m 41s\tremaining: 2h 56m 39s\n",
      "365:\ttest: 0.9246446\tbest: 0.9246446 (365)\ttotal: 6m 42s\tremaining: 2h 56m 37s\n",
      "366:\ttest: 0.9245933\tbest: 0.9246446 (365)\ttotal: 6m 43s\tremaining: 2h 56m 36s\n",
      "367:\ttest: 0.9246094\tbest: 0.9246446 (365)\ttotal: 6m 44s\tremaining: 2h 56m 36s\n",
      "368:\ttest: 0.9246318\tbest: 0.9246446 (365)\ttotal: 6m 45s\tremaining: 2h 56m 32s\n",
      "369:\ttest: 0.9247087\tbest: 0.9247087 (369)\ttotal: 6m 46s\tremaining: 2h 56m 30s\n",
      "370:\ttest: 0.9248017\tbest: 0.9248017 (370)\ttotal: 6m 47s\tremaining: 2h 56m 28s\n",
      "371:\ttest: 0.9248883\tbest: 0.9248883 (371)\ttotal: 6m 48s\tremaining: 2h 56m 24s\n",
      "372:\ttest: 0.9248754\tbest: 0.9248883 (371)\ttotal: 6m 49s\tremaining: 2h 56m 20s\n",
      "373:\ttest: 0.9248626\tbest: 0.9248883 (371)\ttotal: 6m 50s\tremaining: 2h 56m 16s\n",
      "374:\ttest: 0.9249139\tbest: 0.9249139 (374)\ttotal: 6m 51s\tremaining: 2h 56m 11s\n",
      "375:\ttest: 0.9250390\tbest: 0.9250390 (375)\ttotal: 6m 53s\tremaining: 2h 56m 18s\n",
      "376:\ttest: 0.9250774\tbest: 0.9250774 (376)\ttotal: 6m 54s\tremaining: 2h 56m 30s\n",
      "377:\ttest: 0.9250005\tbest: 0.9250774 (376)\ttotal: 6m 56s\tremaining: 2h 56m 36s\n",
      "378:\ttest: 0.9249973\tbest: 0.9250774 (376)\ttotal: 6m 57s\tremaining: 2h 56m 34s\n",
      "379:\ttest: 0.9249716\tbest: 0.9250774 (376)\ttotal: 6m 58s\tremaining: 2h 56m 29s\n",
      "380:\ttest: 0.9250005\tbest: 0.9250774 (376)\ttotal: 6m 59s\tremaining: 2h 56m 24s\n",
      "381:\ttest: 0.9250229\tbest: 0.9250774 (376)\ttotal: 7m\tremaining: 2h 56m 20s\n",
      "382:\ttest: 0.9250325\tbest: 0.9250774 (376)\ttotal: 7m 1s\tremaining: 2h 56m 14s\n",
      "383:\ttest: 0.9251127\tbest: 0.9251127 (383)\ttotal: 7m 2s\tremaining: 2h 56m 10s\n",
      "384:\ttest: 0.9250678\tbest: 0.9251127 (383)\ttotal: 7m 3s\tremaining: 2h 56m 7s\n",
      "385:\ttest: 0.9250838\tbest: 0.9251127 (383)\ttotal: 7m 4s\tremaining: 2h 56m 3s\n",
      "386:\ttest: 0.9250325\tbest: 0.9251127 (383)\ttotal: 7m 5s\tremaining: 2h 55m 58s\n",
      "387:\ttest: 0.9249877\tbest: 0.9251127 (383)\ttotal: 7m 6s\tremaining: 2h 55m 54s\n",
      "388:\ttest: 0.9250422\tbest: 0.9251127 (383)\ttotal: 7m 7s\tremaining: 2h 55m 53s\n",
      "389:\ttest: 0.9250999\tbest: 0.9251127 (383)\ttotal: 7m 8s\tremaining: 2h 55m 53s\n",
      "390:\ttest: 0.9252057\tbest: 0.9252057 (390)\ttotal: 7m 9s\tremaining: 2h 55m 52s\n",
      "391:\ttest: 0.9252281\tbest: 0.9252281 (391)\ttotal: 7m 10s\tremaining: 2h 55m 49s\n",
      "392:\ttest: 0.9253628\tbest: 0.9253628 (392)\ttotal: 7m 11s\tremaining: 2h 55m 45s\n",
      "393:\ttest: 0.9254108\tbest: 0.9254108 (393)\ttotal: 7m 12s\tremaining: 2h 55m 41s\n",
      "394:\ttest: 0.9254269\tbest: 0.9254269 (394)\ttotal: 7m 13s\tremaining: 2h 55m 35s\n",
      "395:\ttest: 0.9253852\tbest: 0.9254269 (394)\ttotal: 7m 14s\tremaining: 2h 55m 29s\n",
      "396:\ttest: 0.9254140\tbest: 0.9254269 (394)\ttotal: 7m 15s\tremaining: 2h 55m 26s\n",
      "397:\ttest: 0.9254589\tbest: 0.9254589 (397)\ttotal: 7m 16s\tremaining: 2h 55m 26s\n",
      "398:\ttest: 0.9255038\tbest: 0.9255038 (398)\ttotal: 7m 17s\tremaining: 2h 55m 33s\n",
      "399:\ttest: 0.9255487\tbest: 0.9255487 (399)\ttotal: 7m 18s\tremaining: 2h 55m 31s\n",
      "400:\ttest: 0.9255808\tbest: 0.9255808 (400)\ttotal: 7m 19s\tremaining: 2h 55m 27s\n",
      "401:\ttest: 0.9255615\tbest: 0.9255808 (400)\ttotal: 7m 20s\tremaining: 2h 55m 29s\n",
      "402:\ttest: 0.9255583\tbest: 0.9255808 (400)\ttotal: 7m 22s\tremaining: 2h 55m 27s\n",
      "403:\ttest: 0.9255583\tbest: 0.9255808 (400)\ttotal: 7m 23s\tremaining: 2h 55m 23s\n",
      "404:\ttest: 0.9255391\tbest: 0.9255808 (400)\ttotal: 7m 24s\tremaining: 2h 55m 20s\n",
      "405:\ttest: 0.9255166\tbest: 0.9255808 (400)\ttotal: 7m 25s\tremaining: 2h 55m 20s\n",
      "406:\ttest: 0.9254750\tbest: 0.9255808 (400)\ttotal: 7m 26s\tremaining: 2h 55m 22s\n",
      "407:\ttest: 0.9255359\tbest: 0.9255808 (400)\ttotal: 7m 27s\tremaining: 2h 55m 26s\n",
      "408:\ttest: 0.9255936\tbest: 0.9255936 (408)\ttotal: 7m 28s\tremaining: 2h 55m 26s\n",
      "409:\ttest: 0.9256032\tbest: 0.9256032 (409)\ttotal: 7m 30s\tremaining: 2h 55m 27s\n",
      "410:\ttest: 0.9256641\tbest: 0.9256641 (410)\ttotal: 7m 31s\tremaining: 2h 55m 27s\n",
      "411:\ttest: 0.9258148\tbest: 0.9258148 (411)\ttotal: 7m 32s\tremaining: 2h 55m 24s\n",
      "412:\ttest: 0.9258725\tbest: 0.9258725 (412)\ttotal: 7m 33s\tremaining: 2h 55m 22s\n",
      "413:\ttest: 0.9258853\tbest: 0.9258853 (413)\ttotal: 7m 34s\tremaining: 2h 55m 18s\n",
      "414:\ttest: 0.9258821\tbest: 0.9258853 (413)\ttotal: 7m 35s\tremaining: 2h 55m 14s\n",
      "415:\ttest: 0.9258949\tbest: 0.9258949 (415)\ttotal: 7m 36s\tremaining: 2h 55m 13s\n",
      "416:\ttest: 0.9258789\tbest: 0.9258949 (415)\ttotal: 7m 37s\tremaining: 2h 55m 12s\n",
      "417:\ttest: 0.9258949\tbest: 0.9258949 (415)\ttotal: 7m 38s\tremaining: 2h 55m 8s\n",
      "418:\ttest: 0.9258661\tbest: 0.9258949 (415)\ttotal: 7m 39s\tremaining: 2h 55m 3s\n",
      "419:\ttest: 0.9258629\tbest: 0.9258949 (415)\ttotal: 7m 40s\tremaining: 2h 54m 59s\n",
      "420:\ttest: 0.9259013\tbest: 0.9259013 (420)\ttotal: 7m 41s\tremaining: 2h 54m 54s\n",
      "421:\ttest: 0.9258404\tbest: 0.9259013 (420)\ttotal: 7m 42s\tremaining: 2h 54m 49s\n",
      "422:\ttest: 0.9258853\tbest: 0.9259013 (420)\ttotal: 7m 43s\tremaining: 2h 54m 45s\n",
      "423:\ttest: 0.9258372\tbest: 0.9259013 (420)\ttotal: 7m 44s\tremaining: 2h 54m 44s\n",
      "424:\ttest: 0.9258693\tbest: 0.9259013 (420)\ttotal: 7m 45s\tremaining: 2h 54m 41s\n",
      "425:\ttest: 0.9259623\tbest: 0.9259623 (425)\ttotal: 7m 46s\tremaining: 2h 54m 38s\n",
      "426:\ttest: 0.9259687\tbest: 0.9259687 (426)\ttotal: 7m 47s\tremaining: 2h 54m 35s\n",
      "427:\ttest: 0.9259975\tbest: 0.9259975 (427)\ttotal: 7m 48s\tremaining: 2h 54m 33s\n",
      "428:\ttest: 0.9260264\tbest: 0.9260264 (428)\ttotal: 7m 49s\tremaining: 2h 54m 29s\n",
      "429:\ttest: 0.9260777\tbest: 0.9260777 (429)\ttotal: 7m 50s\tremaining: 2h 54m 24s\n",
      "430:\ttest: 0.9260552\tbest: 0.9260777 (429)\ttotal: 7m 51s\tremaining: 2h 54m 20s\n",
      "431:\ttest: 0.9260777\tbest: 0.9260777 (429)\ttotal: 7m 52s\tremaining: 2h 54m 16s\n",
      "432:\ttest: 0.9259847\tbest: 0.9260777 (429)\ttotal: 7m 53s\tremaining: 2h 54m 14s\n",
      "433:\ttest: 0.9260071\tbest: 0.9260777 (429)\ttotal: 7m 54s\tremaining: 2h 54m 20s\n",
      "434:\ttest: 0.9260905\tbest: 0.9260905 (434)\ttotal: 7m 55s\tremaining: 2h 54m 17s\n",
      "435:\ttest: 0.9261354\tbest: 0.9261354 (435)\ttotal: 7m 56s\tremaining: 2h 54m 13s\n",
      "436:\ttest: 0.9261418\tbest: 0.9261418 (436)\ttotal: 7m 57s\tremaining: 2h 54m 9s\n",
      "437:\ttest: 0.9262027\tbest: 0.9262027 (437)\ttotal: 7m 58s\tremaining: 2h 54m 10s\n",
      "438:\ttest: 0.9263309\tbest: 0.9263309 (438)\ttotal: 7m 59s\tremaining: 2h 54m 13s\n",
      "439:\ttest: 0.9263854\tbest: 0.9263854 (439)\ttotal: 8m 1s\tremaining: 2h 54m 13s\n",
      "440:\ttest: 0.9264688\tbest: 0.9264688 (440)\ttotal: 8m 2s\tremaining: 2h 54m 11s\n",
      "441:\ttest: 0.9264944\tbest: 0.9264944 (441)\ttotal: 8m 3s\tremaining: 2h 54m 9s\n",
      "442:\ttest: 0.9265650\tbest: 0.9265650 (442)\ttotal: 8m 4s\tremaining: 2h 54m 10s\n",
      "443:\ttest: 0.9266547\tbest: 0.9266547 (443)\ttotal: 8m 5s\tremaining: 2h 54m 13s\n",
      "444:\ttest: 0.9266579\tbest: 0.9266579 (444)\ttotal: 8m 6s\tremaining: 2h 54m 12s\n",
      "445:\ttest: 0.9266996\tbest: 0.9266996 (445)\ttotal: 8m 7s\tremaining: 2h 54m 11s\n",
      "446:\ttest: 0.9266932\tbest: 0.9266996 (445)\ttotal: 8m 8s\tremaining: 2h 54m 7s\n",
      "447:\ttest: 0.9266772\tbest: 0.9266996 (445)\ttotal: 8m 9s\tremaining: 2h 54m 3s\n",
      "448:\ttest: 0.9267124\tbest: 0.9267124 (448)\ttotal: 8m 11s\tremaining: 2h 54m 5s\n",
      "449:\ttest: 0.9267124\tbest: 0.9267124 (448)\ttotal: 8m 12s\tremaining: 2h 54m 8s\n",
      "450:\ttest: 0.9267221\tbest: 0.9267221 (450)\ttotal: 8m 13s\tremaining: 2h 54m 10s\n",
      "451:\ttest: 0.9267637\tbest: 0.9267637 (451)\ttotal: 8m 14s\tremaining: 2h 54m 12s\n",
      "452:\ttest: 0.9267381\tbest: 0.9267637 (451)\ttotal: 8m 16s\tremaining: 2h 54m 16s\n",
      "453:\ttest: 0.9267253\tbest: 0.9267637 (451)\ttotal: 8m 17s\tremaining: 2h 54m 18s\n",
      "454:\ttest: 0.9266804\tbest: 0.9267637 (451)\ttotal: 8m 18s\tremaining: 2h 54m 19s\n",
      "455:\ttest: 0.9266772\tbest: 0.9267637 (451)\ttotal: 8m 20s\tremaining: 2h 54m 30s\n",
      "456:\ttest: 0.9266996\tbest: 0.9267637 (451)\ttotal: 8m 21s\tremaining: 2h 54m 31s\n",
      "457:\ttest: 0.9266612\tbest: 0.9267637 (451)\ttotal: 8m 22s\tremaining: 2h 54m 37s\n",
      "458:\ttest: 0.9267862\tbest: 0.9267862 (458)\ttotal: 8m 24s\tremaining: 2h 54m 45s\n",
      "459:\ttest: 0.9267669\tbest: 0.9267862 (458)\ttotal: 8m 25s\tremaining: 2h 54m 47s\n",
      "460:\ttest: 0.9268086\tbest: 0.9268086 (460)\ttotal: 8m 26s\tremaining: 2h 54m 47s\n",
      "461:\ttest: 0.9267509\tbest: 0.9268086 (460)\ttotal: 8m 27s\tremaining: 2h 54m 45s\n",
      "462:\ttest: 0.9267285\tbest: 0.9268086 (460)\ttotal: 8m 28s\tremaining: 2h 54m 44s\n",
      "463:\ttest: 0.9267285\tbest: 0.9268086 (460)\ttotal: 8m 30s\tremaining: 2h 54m 43s\n",
      "464:\ttest: 0.9266964\tbest: 0.9268086 (460)\ttotal: 8m 31s\tremaining: 2h 54m 42s\n",
      "465:\ttest: 0.9266868\tbest: 0.9268086 (460)\ttotal: 8m 32s\tremaining: 2h 54m 39s\n",
      "466:\ttest: 0.9266547\tbest: 0.9268086 (460)\ttotal: 8m 33s\tremaining: 2h 54m 42s\n",
      "467:\ttest: 0.9266483\tbest: 0.9268086 (460)\ttotal: 8m 34s\tremaining: 2h 54m 43s\n",
      "468:\ttest: 0.9266900\tbest: 0.9268086 (460)\ttotal: 8m 35s\tremaining: 2h 54m 44s\n",
      "469:\ttest: 0.9267669\tbest: 0.9268086 (460)\ttotal: 8m 37s\tremaining: 2h 54m 44s\n",
      "470:\ttest: 0.9267445\tbest: 0.9268086 (460)\ttotal: 8m 38s\tremaining: 2h 54m 40s\n",
      "471:\ttest: 0.9267349\tbest: 0.9268086 (460)\ttotal: 8m 38s\tremaining: 2h 54m 36s\n",
      "472:\ttest: 0.9267221\tbest: 0.9268086 (460)\ttotal: 8m 40s\tremaining: 2h 54m 41s\n",
      "473:\ttest: 0.9267285\tbest: 0.9268086 (460)\ttotal: 8m 41s\tremaining: 2h 54m 42s\n",
      "474:\ttest: 0.9266740\tbest: 0.9268086 (460)\ttotal: 8m 42s\tremaining: 2h 54m 42s\n",
      "475:\ttest: 0.9266515\tbest: 0.9268086 (460)\ttotal: 8m 43s\tremaining: 2h 54m 40s\n",
      "476:\ttest: 0.9267092\tbest: 0.9268086 (460)\ttotal: 8m 44s\tremaining: 2h 54m 39s\n",
      "477:\ttest: 0.9267317\tbest: 0.9268086 (460)\ttotal: 8m 45s\tremaining: 2h 54m 37s\n",
      "478:\ttest: 0.9267637\tbest: 0.9268086 (460)\ttotal: 8m 47s\tremaining: 2h 54m 37s\n",
      "479:\ttest: 0.9268311\tbest: 0.9268311 (479)\ttotal: 8m 48s\tremaining: 2h 54m 38s\n",
      "480:\ttest: 0.9268920\tbest: 0.9268920 (480)\ttotal: 8m 49s\tremaining: 2h 54m 40s\n",
      "481:\ttest: 0.9269465\tbest: 0.9269465 (481)\ttotal: 8m 50s\tremaining: 2h 54m 40s\n",
      "482:\ttest: 0.9269240\tbest: 0.9269465 (481)\ttotal: 8m 51s\tremaining: 2h 54m 39s\n",
      "483:\ttest: 0.9269240\tbest: 0.9269465 (481)\ttotal: 8m 52s\tremaining: 2h 54m 39s\n",
      "484:\ttest: 0.9269753\tbest: 0.9269753 (484)\ttotal: 8m 54s\tremaining: 2h 54m 38s\n",
      "485:\ttest: 0.9269753\tbest: 0.9269753 (484)\ttotal: 8m 55s\tremaining: 2h 54m 36s\n",
      "486:\ttest: 0.9270427\tbest: 0.9270427 (486)\ttotal: 8m 56s\tremaining: 2h 54m 37s\n",
      "487:\ttest: 0.9270395\tbest: 0.9270427 (486)\ttotal: 8m 57s\tremaining: 2h 54m 41s\n",
      "488:\ttest: 0.9270619\tbest: 0.9270619 (488)\ttotal: 8m 58s\tremaining: 2h 54m 42s\n",
      "489:\ttest: 0.9271004\tbest: 0.9271004 (489)\ttotal: 9m\tremaining: 2h 54m 43s\n",
      "490:\ttest: 0.9270651\tbest: 0.9271004 (489)\ttotal: 9m 1s\tremaining: 2h 54m 44s\n",
      "491:\ttest: 0.9270779\tbest: 0.9271004 (489)\ttotal: 9m 2s\tremaining: 2h 54m 44s\n",
      "492:\ttest: 0.9270491\tbest: 0.9271004 (489)\ttotal: 9m 3s\tremaining: 2h 54m 43s\n",
      "493:\ttest: 0.9270362\tbest: 0.9271004 (489)\ttotal: 9m 4s\tremaining: 2h 54m 44s\n",
      "494:\ttest: 0.9270202\tbest: 0.9271004 (489)\ttotal: 9m 6s\tremaining: 2h 54m 45s\n",
      "495:\ttest: 0.9269817\tbest: 0.9271004 (489)\ttotal: 9m 7s\tremaining: 2h 54m 48s\n",
      "496:\ttest: 0.9270170\tbest: 0.9271004 (489)\ttotal: 9m 8s\tremaining: 2h 54m 49s\n",
      "497:\ttest: 0.9270010\tbest: 0.9271004 (489)\ttotal: 9m 9s\tremaining: 2h 54m 51s\n",
      "498:\ttest: 0.9269817\tbest: 0.9271004 (489)\ttotal: 9m 10s\tremaining: 2h 54m 49s\n",
      "499:\ttest: 0.9269946\tbest: 0.9271004 (489)\ttotal: 9m 12s\tremaining: 2h 54m 48s\n",
      "500:\ttest: 0.9269850\tbest: 0.9271004 (489)\ttotal: 9m 13s\tremaining: 2h 54m 48s\n",
      "501:\ttest: 0.9269721\tbest: 0.9271004 (489)\ttotal: 9m 14s\tremaining: 2h 54m 49s\n",
      "502:\ttest: 0.9270266\tbest: 0.9271004 (489)\ttotal: 9m 15s\tremaining: 2h 54m 50s\n",
      "503:\ttest: 0.9270042\tbest: 0.9271004 (489)\ttotal: 9m 16s\tremaining: 2h 54m 51s\n",
      "504:\ttest: 0.9270234\tbest: 0.9271004 (489)\ttotal: 9m 18s\tremaining: 2h 54m 54s\n",
      "505:\ttest: 0.9270042\tbest: 0.9271004 (489)\ttotal: 9m 20s\tremaining: 2h 55m 7s\n",
      "506:\ttest: 0.9271036\tbest: 0.9271036 (506)\ttotal: 9m 21s\tremaining: 2h 55m 10s\n",
      "507:\ttest: 0.9271100\tbest: 0.9271100 (507)\ttotal: 9m 22s\tremaining: 2h 55m 12s\n",
      "508:\ttest: 0.9270555\tbest: 0.9271100 (507)\ttotal: 9m 23s\tremaining: 2h 55m 14s\n",
      "509:\ttest: 0.9270651\tbest: 0.9271100 (507)\ttotal: 9m 25s\tremaining: 2h 55m 15s\n",
      "510:\ttest: 0.9271004\tbest: 0.9271100 (507)\ttotal: 9m 26s\tremaining: 2h 55m 14s\n",
      "511:\ttest: 0.9271260\tbest: 0.9271260 (511)\ttotal: 9m 27s\tremaining: 2h 55m 17s\n",
      "512:\ttest: 0.9270875\tbest: 0.9271260 (511)\ttotal: 9m 28s\tremaining: 2h 55m 18s\n",
      "513:\ttest: 0.9271773\tbest: 0.9271773 (513)\ttotal: 9m 29s\tremaining: 2h 55m 19s\n",
      "514:\ttest: 0.9272286\tbest: 0.9272286 (514)\ttotal: 9m 31s\tremaining: 2h 55m 20s\n",
      "515:\ttest: 0.9272607\tbest: 0.9272607 (515)\ttotal: 9m 32s\tremaining: 2h 55m 22s\n",
      "516:\ttest: 0.9272799\tbest: 0.9272799 (516)\ttotal: 9m 33s\tremaining: 2h 55m 24s\n",
      "517:\ttest: 0.9273248\tbest: 0.9273248 (517)\ttotal: 9m 35s\tremaining: 2h 55m 25s\n",
      "518:\ttest: 0.9274306\tbest: 0.9274306 (518)\ttotal: 9m 36s\tremaining: 2h 55m 28s\n",
      "519:\ttest: 0.9274530\tbest: 0.9274530 (519)\ttotal: 9m 37s\tremaining: 2h 55m 30s\n",
      "520:\ttest: 0.9275139\tbest: 0.9275139 (520)\ttotal: 9m 38s\tremaining: 2h 55m 31s\n",
      "521:\ttest: 0.9275300\tbest: 0.9275300 (521)\ttotal: 9m 40s\tremaining: 2h 55m 32s\n",
      "522:\ttest: 0.9276422\tbest: 0.9276422 (522)\ttotal: 9m 41s\tremaining: 2h 55m 34s\n",
      "523:\ttest: 0.9276614\tbest: 0.9276614 (523)\ttotal: 9m 42s\tremaining: 2h 55m 36s\n",
      "524:\ttest: 0.9276390\tbest: 0.9276614 (523)\ttotal: 9m 43s\tremaining: 2h 55m 38s\n",
      "525:\ttest: 0.9276550\tbest: 0.9276614 (523)\ttotal: 9m 45s\tremaining: 2h 55m 38s\n",
      "526:\ttest: 0.9276838\tbest: 0.9276838 (526)\ttotal: 9m 46s\tremaining: 2h 55m 39s\n",
      "527:\ttest: 0.9276742\tbest: 0.9276838 (526)\ttotal: 9m 47s\tremaining: 2h 55m 42s\n",
      "528:\ttest: 0.9277127\tbest: 0.9277127 (528)\ttotal: 9m 48s\tremaining: 2h 55m 43s\n",
      "529:\ttest: 0.9277800\tbest: 0.9277800 (529)\ttotal: 9m 50s\tremaining: 2h 55m 44s\n",
      "530:\ttest: 0.9278121\tbest: 0.9278121 (530)\ttotal: 9m 51s\tremaining: 2h 55m 45s\n",
      "531:\ttest: 0.9278057\tbest: 0.9278121 (530)\ttotal: 9m 52s\tremaining: 2h 55m 47s\n",
      "532:\ttest: 0.9277896\tbest: 0.9278121 (530)\ttotal: 9m 53s\tremaining: 2h 55m 47s\n",
      "533:\ttest: 0.9278025\tbest: 0.9278121 (530)\ttotal: 9m 55s\tremaining: 2h 55m 50s\n",
      "534:\ttest: 0.9277864\tbest: 0.9278121 (530)\ttotal: 9m 56s\tremaining: 2h 55m 51s\n",
      "535:\ttest: 0.9278409\tbest: 0.9278409 (535)\ttotal: 9m 57s\tremaining: 2h 55m 52s\n",
      "536:\ttest: 0.9279179\tbest: 0.9279179 (536)\ttotal: 9m 58s\tremaining: 2h 55m 54s\n",
      "537:\ttest: 0.9279563\tbest: 0.9279563 (537)\ttotal: 10m\tremaining: 2h 55m 55s\n",
      "538:\ttest: 0.9279692\tbest: 0.9279692 (538)\ttotal: 10m 1s\tremaining: 2h 55m 58s\n",
      "539:\ttest: 0.9279628\tbest: 0.9279692 (538)\ttotal: 10m 2s\tremaining: 2h 55m 59s\n",
      "540:\ttest: 0.9279884\tbest: 0.9279884 (540)\ttotal: 10m 4s\tremaining: 2h 56m\n",
      "541:\ttest: 0.9280429\tbest: 0.9280429 (541)\ttotal: 10m 5s\tremaining: 2h 56m 2s\n",
      "542:\ttest: 0.9279756\tbest: 0.9280429 (541)\ttotal: 10m 6s\tremaining: 2h 56m 5s\n",
      "543:\ttest: 0.9280012\tbest: 0.9280429 (541)\ttotal: 10m 7s\tremaining: 2h 56m 7s\n",
      "544:\ttest: 0.9280653\tbest: 0.9280653 (544)\ttotal: 10m 9s\tremaining: 2h 56m 10s\n",
      "545:\ttest: 0.9280782\tbest: 0.9280782 (545)\ttotal: 10m 10s\tremaining: 2h 56m 12s\n",
      "546:\ttest: 0.9281102\tbest: 0.9281102 (546)\ttotal: 10m 11s\tremaining: 2h 56m 13s\n",
      "547:\ttest: 0.9281359\tbest: 0.9281359 (547)\ttotal: 10m 13s\tremaining: 2h 56m 16s\n",
      "548:\ttest: 0.9280910\tbest: 0.9281359 (547)\ttotal: 10m 14s\tremaining: 2h 56m 16s\n",
      "549:\ttest: 0.9280557\tbest: 0.9281359 (547)\ttotal: 10m 15s\tremaining: 2h 56m 18s\n",
      "550:\ttest: 0.9280878\tbest: 0.9281359 (547)\ttotal: 10m 16s\tremaining: 2h 56m 19s\n",
      "551:\ttest: 0.9281391\tbest: 0.9281391 (551)\ttotal: 10m 18s\tremaining: 2h 56m 20s\n",
      "552:\ttest: 0.9281808\tbest: 0.9281808 (552)\ttotal: 10m 19s\tremaining: 2h 56m 21s\n",
      "553:\ttest: 0.9282032\tbest: 0.9282032 (553)\ttotal: 10m 20s\tremaining: 2h 56m 23s\n",
      "554:\ttest: 0.9282353\tbest: 0.9282353 (554)\ttotal: 10m 21s\tremaining: 2h 56m 24s\n",
      "555:\ttest: 0.9282673\tbest: 0.9282673 (555)\ttotal: 10m 23s\tremaining: 2h 56m 26s\n",
      "556:\ttest: 0.9282545\tbest: 0.9282673 (555)\ttotal: 10m 24s\tremaining: 2h 56m 27s\n",
      "557:\ttest: 0.9283282\tbest: 0.9283282 (557)\ttotal: 10m 25s\tremaining: 2h 56m 28s\n",
      "558:\ttest: 0.9283218\tbest: 0.9283282 (557)\ttotal: 10m 27s\tremaining: 2h 56m 30s\n",
      "559:\ttest: 0.9283090\tbest: 0.9283282 (557)\ttotal: 10m 28s\tremaining: 2h 56m 31s\n",
      "560:\ttest: 0.9283090\tbest: 0.9283282 (557)\ttotal: 10m 29s\tremaining: 2h 56m 32s\n",
      "561:\ttest: 0.9282801\tbest: 0.9283282 (557)\ttotal: 10m 30s\tremaining: 2h 56m 32s\n",
      "562:\ttest: 0.9283090\tbest: 0.9283282 (557)\ttotal: 10m 31s\tremaining: 2h 56m 33s\n",
      "563:\ttest: 0.9283154\tbest: 0.9283282 (557)\ttotal: 10m 33s\tremaining: 2h 56m 35s\n",
      "564:\ttest: 0.9283250\tbest: 0.9283282 (557)\ttotal: 10m 34s\tremaining: 2h 56m 36s\n",
      "565:\ttest: 0.9282994\tbest: 0.9283282 (557)\ttotal: 10m 35s\tremaining: 2h 56m 38s\n",
      "566:\ttest: 0.9283891\tbest: 0.9283891 (566)\ttotal: 10m 37s\tremaining: 2h 56m 39s\n",
      "567:\ttest: 0.9283571\tbest: 0.9283891 (566)\ttotal: 10m 38s\tremaining: 2h 56m 41s\n",
      "568:\ttest: 0.9283635\tbest: 0.9283891 (566)\ttotal: 10m 39s\tremaining: 2h 56m 42s\n",
      "569:\ttest: 0.9284372\tbest: 0.9284372 (569)\ttotal: 10m 40s\tremaining: 2h 56m 44s\n",
      "570:\ttest: 0.9284789\tbest: 0.9284789 (570)\ttotal: 10m 42s\tremaining: 2h 56m 45s\n",
      "571:\ttest: 0.9284597\tbest: 0.9284789 (570)\ttotal: 10m 43s\tremaining: 2h 56m 45s\n",
      "572:\ttest: 0.9284372\tbest: 0.9284789 (570)\ttotal: 10m 44s\tremaining: 2h 56m 45s\n",
      "573:\ttest: 0.9284501\tbest: 0.9284789 (570)\ttotal: 10m 45s\tremaining: 2h 56m 46s\n",
      "574:\ttest: 0.9284597\tbest: 0.9284789 (570)\ttotal: 10m 47s\tremaining: 2h 56m 47s\n",
      "575:\ttest: 0.9284917\tbest: 0.9284917 (575)\ttotal: 10m 48s\tremaining: 2h 56m 49s\n",
      "576:\ttest: 0.9285430\tbest: 0.9285430 (576)\ttotal: 10m 49s\tremaining: 2h 56m 50s\n",
      "577:\ttest: 0.9285110\tbest: 0.9285430 (576)\ttotal: 10m 50s\tremaining: 2h 56m 51s\n",
      "578:\ttest: 0.9285142\tbest: 0.9285430 (576)\ttotal: 10m 52s\tremaining: 2h 56m 51s\n",
      "579:\ttest: 0.9285655\tbest: 0.9285655 (579)\ttotal: 10m 53s\tremaining: 2h 56m 52s\n",
      "580:\ttest: 0.9285014\tbest: 0.9285655 (579)\ttotal: 10m 54s\tremaining: 2h 56m 53s\n",
      "581:\ttest: 0.9285046\tbest: 0.9285655 (579)\ttotal: 10m 55s\tremaining: 2h 56m 53s\n",
      "582:\ttest: 0.9285430\tbest: 0.9285655 (579)\ttotal: 10m 57s\tremaining: 2h 56m 53s\n",
      "583:\ttest: 0.9286232\tbest: 0.9286232 (583)\ttotal: 10m 58s\tremaining: 2h 56m 53s\n",
      "584:\ttest: 0.9286841\tbest: 0.9286841 (584)\ttotal: 10m 59s\tremaining: 2h 56m 54s\n",
      "585:\ttest: 0.9286392\tbest: 0.9286841 (584)\ttotal: 11m\tremaining: 2h 56m 55s\n",
      "586:\ttest: 0.9286681\tbest: 0.9286841 (584)\ttotal: 11m 2s\tremaining: 2h 56m 56s\n",
      "587:\ttest: 0.9286905\tbest: 0.9286905 (587)\ttotal: 11m 3s\tremaining: 2h 56m 56s\n",
      "588:\ttest: 0.9286617\tbest: 0.9286905 (587)\ttotal: 11m 4s\tremaining: 2h 56m 57s\n",
      "589:\ttest: 0.9285847\tbest: 0.9286905 (587)\ttotal: 11m 5s\tremaining: 2h 56m 58s\n",
      "590:\ttest: 0.9286007\tbest: 0.9286905 (587)\ttotal: 11m 7s\tremaining: 2h 56m 59s\n",
      "591:\ttest: 0.9286617\tbest: 0.9286905 (587)\ttotal: 11m 8s\tremaining: 2h 56m 59s\n",
      "592:\ttest: 0.9286456\tbest: 0.9286905 (587)\ttotal: 11m 9s\tremaining: 2h 57m 1s\n",
      "593:\ttest: 0.9286937\tbest: 0.9286937 (593)\ttotal: 11m 10s\tremaining: 2h 57m 2s\n",
      "594:\ttest: 0.9286745\tbest: 0.9286937 (593)\ttotal: 11m 12s\tremaining: 2h 57m 2s\n",
      "595:\ttest: 0.9286520\tbest: 0.9286937 (593)\ttotal: 11m 13s\tremaining: 2h 57m 2s\n",
      "596:\ttest: 0.9286264\tbest: 0.9286937 (593)\ttotal: 11m 14s\tremaining: 2h 57m 3s\n",
      "597:\ttest: 0.9286072\tbest: 0.9286937 (593)\ttotal: 11m 15s\tremaining: 2h 57m 5s\n",
      "598:\ttest: 0.9285687\tbest: 0.9286937 (593)\ttotal: 11m 17s\tremaining: 2h 57m 5s\n",
      "599:\ttest: 0.9286328\tbest: 0.9286937 (593)\ttotal: 11m 18s\tremaining: 2h 57m 6s\n",
      "600:\ttest: 0.9286007\tbest: 0.9286937 (593)\ttotal: 11m 19s\tremaining: 2h 57m 10s\n",
      "601:\ttest: 0.9286937\tbest: 0.9286937 (593)\ttotal: 11m 21s\tremaining: 2h 57m 12s\n",
      "602:\ttest: 0.9287129\tbest: 0.9287129 (602)\ttotal: 11m 22s\tremaining: 2h 57m 13s\n",
      "603:\ttest: 0.9287610\tbest: 0.9287610 (603)\ttotal: 11m 23s\tremaining: 2h 57m 15s\n",
      "604:\ttest: 0.9287258\tbest: 0.9287610 (603)\ttotal: 11m 25s\tremaining: 2h 57m 17s\n",
      "605:\ttest: 0.9287514\tbest: 0.9287610 (603)\ttotal: 11m 26s\tremaining: 2h 57m 19s\n",
      "606:\ttest: 0.9287322\tbest: 0.9287610 (603)\ttotal: 11m 27s\tremaining: 2h 57m 21s\n",
      "607:\ttest: 0.9287386\tbest: 0.9287610 (603)\ttotal: 11m 29s\tremaining: 2h 57m 23s\n",
      "608:\ttest: 0.9287514\tbest: 0.9287610 (603)\ttotal: 11m 30s\tremaining: 2h 57m 26s\n",
      "609:\ttest: 0.9287258\tbest: 0.9287610 (603)\ttotal: 11m 31s\tremaining: 2h 57m 27s\n",
      "610:\ttest: 0.9287674\tbest: 0.9287674 (610)\ttotal: 11m 32s\tremaining: 2h 57m 26s\n",
      "611:\ttest: 0.9288059\tbest: 0.9288059 (611)\ttotal: 11m 34s\tremaining: 2h 57m 26s\n",
      "612:\ttest: 0.9288732\tbest: 0.9288732 (612)\ttotal: 11m 35s\tremaining: 2h 57m 28s\n",
      "613:\ttest: 0.9288764\tbest: 0.9288764 (613)\ttotal: 11m 36s\tremaining: 2h 57m 29s\n",
      "614:\ttest: 0.9288572\tbest: 0.9288764 (613)\ttotal: 11m 37s\tremaining: 2h 57m 30s\n",
      "615:\ttest: 0.9288764\tbest: 0.9288764 (613)\ttotal: 11m 39s\tremaining: 2h 57m 32s\n",
      "616:\ttest: 0.9288732\tbest: 0.9288764 (613)\ttotal: 11m 40s\tremaining: 2h 57m 38s\n",
      "617:\ttest: 0.9288380\tbest: 0.9288764 (613)\ttotal: 11m 42s\tremaining: 2h 57m 42s\n",
      "618:\ttest: 0.9288668\tbest: 0.9288764 (613)\ttotal: 11m 43s\tremaining: 2h 57m 42s\n",
      "619:\ttest: 0.9288412\tbest: 0.9288764 (613)\ttotal: 11m 44s\tremaining: 2h 57m 45s\n",
      "620:\ttest: 0.9288412\tbest: 0.9288764 (613)\ttotal: 11m 46s\tremaining: 2h 57m 45s\n",
      "621:\ttest: 0.9288893\tbest: 0.9288893 (621)\ttotal: 11m 47s\tremaining: 2h 57m 45s\n",
      "622:\ttest: 0.9289406\tbest: 0.9289406 (622)\ttotal: 11m 48s\tremaining: 2h 57m 44s\n",
      "623:\ttest: 0.9289374\tbest: 0.9289406 (622)\ttotal: 11m 49s\tremaining: 2h 57m 43s\n",
      "624:\ttest: 0.9290239\tbest: 0.9290239 (624)\ttotal: 11m 50s\tremaining: 2h 57m 42s\n",
      "625:\ttest: 0.9290784\tbest: 0.9290784 (625)\ttotal: 11m 51s\tremaining: 2h 57m 41s\n",
      "626:\ttest: 0.9290784\tbest: 0.9290784 (625)\ttotal: 11m 53s\tremaining: 2h 57m 39s\n",
      "627:\ttest: 0.9291041\tbest: 0.9291041 (627)\ttotal: 11m 54s\tremaining: 2h 57m 38s\n",
      "628:\ttest: 0.9290496\tbest: 0.9291041 (627)\ttotal: 11m 55s\tremaining: 2h 57m 37s\n",
      "629:\ttest: 0.9290143\tbest: 0.9291041 (627)\ttotal: 11m 56s\tremaining: 2h 57m 36s\n",
      "630:\ttest: 0.9291009\tbest: 0.9291041 (627)\ttotal: 11m 57s\tremaining: 2h 57m 34s\n",
      "631:\ttest: 0.9290720\tbest: 0.9291041 (627)\ttotal: 11m 58s\tremaining: 2h 57m 33s\n",
      "632:\ttest: 0.9291201\tbest: 0.9291201 (632)\ttotal: 11m 59s\tremaining: 2h 57m 31s\n",
      "633:\ttest: 0.9291009\tbest: 0.9291201 (632)\ttotal: 12m\tremaining: 2h 57m 30s\n",
      "634:\ttest: 0.9290848\tbest: 0.9291201 (632)\ttotal: 12m 2s\tremaining: 2h 57m 29s\n",
      "635:\ttest: 0.9291201\tbest: 0.9291201 (632)\ttotal: 12m 3s\tremaining: 2h 57m 27s\n",
      "636:\ttest: 0.9290977\tbest: 0.9291201 (632)\ttotal: 12m 4s\tremaining: 2h 57m 25s\n",
      "637:\ttest: 0.9291265\tbest: 0.9291265 (637)\ttotal: 12m 5s\tremaining: 2h 57m 24s\n",
      "638:\ttest: 0.9290945\tbest: 0.9291265 (637)\ttotal: 12m 6s\tremaining: 2h 57m 23s\n",
      "639:\ttest: 0.9290592\tbest: 0.9291265 (637)\ttotal: 12m 7s\tremaining: 2h 57m 21s\n",
      "640:\ttest: 0.9290720\tbest: 0.9291265 (637)\ttotal: 12m 8s\tremaining: 2h 57m 21s\n",
      "641:\ttest: 0.9290945\tbest: 0.9291265 (637)\ttotal: 12m 9s\tremaining: 2h 57m 20s\n",
      "642:\ttest: 0.9290592\tbest: 0.9291265 (637)\ttotal: 12m 11s\tremaining: 2h 57m 20s\n",
      "643:\ttest: 0.9290464\tbest: 0.9291265 (637)\ttotal: 12m 12s\tremaining: 2h 57m 18s\n",
      "644:\ttest: 0.9291778\tbest: 0.9291778 (644)\ttotal: 12m 13s\tremaining: 2h 57m 17s\n",
      "645:\ttest: 0.9292259\tbest: 0.9292259 (645)\ttotal: 12m 14s\tremaining: 2h 57m 15s\n",
      "646:\ttest: 0.9292547\tbest: 0.9292547 (646)\ttotal: 12m 15s\tremaining: 2h 57m 14s\n",
      "647:\ttest: 0.9292612\tbest: 0.9292612 (647)\ttotal: 12m 16s\tremaining: 2h 57m 12s\n",
      "648:\ttest: 0.9292515\tbest: 0.9292612 (647)\ttotal: 12m 17s\tremaining: 2h 57m 11s\n",
      "649:\ttest: 0.9293285\tbest: 0.9293285 (649)\ttotal: 12m 19s\tremaining: 2h 57m 10s\n",
      "650:\ttest: 0.9293445\tbest: 0.9293445 (650)\ttotal: 12m 20s\tremaining: 2h 57m 9s\n",
      "651:\ttest: 0.9292996\tbest: 0.9293445 (650)\ttotal: 12m 21s\tremaining: 2h 57m 9s\n",
      "652:\ttest: 0.9292996\tbest: 0.9293445 (650)\ttotal: 12m 22s\tremaining: 2h 57m 8s\n",
      "653:\ttest: 0.9292964\tbest: 0.9293445 (650)\ttotal: 12m 23s\tremaining: 2h 57m 6s\n",
      "654:\ttest: 0.9292868\tbest: 0.9293445 (650)\ttotal: 12m 24s\tremaining: 2h 57m 5s\n",
      "655:\ttest: 0.9292419\tbest: 0.9293445 (650)\ttotal: 12m 25s\tremaining: 2h 57m 4s\n",
      "656:\ttest: 0.9292644\tbest: 0.9293445 (650)\ttotal: 12m 26s\tremaining: 2h 57m 2s\n",
      "657:\ttest: 0.9292291\tbest: 0.9293445 (650)\ttotal: 12m 28s\tremaining: 2h 57m\n",
      "658:\ttest: 0.9292131\tbest: 0.9293445 (650)\ttotal: 12m 29s\tremaining: 2h 57m\n",
      "659:\ttest: 0.9292387\tbest: 0.9293445 (650)\ttotal: 12m 30s\tremaining: 2h 56m 58s\n",
      "660:\ttest: 0.9292772\tbest: 0.9293445 (650)\ttotal: 12m 31s\tremaining: 2h 56m 57s\n",
      "661:\ttest: 0.9292163\tbest: 0.9293445 (650)\ttotal: 12m 32s\tremaining: 2h 56m 55s\n",
      "662:\ttest: 0.9292676\tbest: 0.9293445 (650)\ttotal: 12m 33s\tremaining: 2h 56m 54s\n",
      "663:\ttest: 0.9292836\tbest: 0.9293445 (650)\ttotal: 12m 34s\tremaining: 2h 56m 52s\n",
      "664:\ttest: 0.9292515\tbest: 0.9293445 (650)\ttotal: 12m 35s\tremaining: 2h 56m 51s\n",
      "665:\ttest: 0.9292483\tbest: 0.9293445 (650)\ttotal: 12m 37s\tremaining: 2h 56m 51s\n",
      "666:\ttest: 0.9292740\tbest: 0.9293445 (650)\ttotal: 12m 38s\tremaining: 2h 56m 52s\n",
      "667:\ttest: 0.9292900\tbest: 0.9293445 (650)\ttotal: 12m 39s\tremaining: 2h 56m 52s\n",
      "668:\ttest: 0.9292772\tbest: 0.9293445 (650)\ttotal: 12m 41s\tremaining: 2h 56m 55s\n",
      "669:\ttest: 0.9292451\tbest: 0.9293445 (650)\ttotal: 12m 42s\tremaining: 2h 56m 56s\n",
      "670:\ttest: 0.9292451\tbest: 0.9293445 (650)\ttotal: 12m 43s\tremaining: 2h 56m 57s\n",
      "671:\ttest: 0.9293253\tbest: 0.9293445 (650)\ttotal: 12m 44s\tremaining: 2h 56m 58s\n",
      "672:\ttest: 0.9294311\tbest: 0.9294311 (672)\ttotal: 12m 46s\tremaining: 2h 56m 59s\n",
      "673:\ttest: 0.9294343\tbest: 0.9294343 (673)\ttotal: 12m 47s\tremaining: 2h 56m 58s\n",
      "674:\ttest: 0.9293381\tbest: 0.9294343 (673)\ttotal: 12m 48s\tremaining: 2h 56m 55s\n",
      "675:\ttest: 0.9293253\tbest: 0.9294343 (673)\ttotal: 12m 49s\tremaining: 2h 56m 53s\n",
      "676:\ttest: 0.9293958\tbest: 0.9294343 (673)\ttotal: 12m 50s\tremaining: 2h 56m 49s\n",
      "677:\ttest: 0.9294086\tbest: 0.9294343 (673)\ttotal: 12m 51s\tremaining: 2h 56m 45s\n",
      "678:\ttest: 0.9293798\tbest: 0.9294343 (673)\ttotal: 12m 52s\tremaining: 2h 56m 41s\n",
      "679:\ttest: 0.9293381\tbest: 0.9294343 (673)\ttotal: 12m 53s\tremaining: 2h 56m 37s\n",
      "680:\ttest: 0.9293573\tbest: 0.9294343 (673)\ttotal: 12m 54s\tremaining: 2h 56m 35s\n",
      "681:\ttest: 0.9292996\tbest: 0.9294343 (673)\ttotal: 12m 55s\tremaining: 2h 56m 31s\n",
      "682:\ttest: 0.9293253\tbest: 0.9294343 (673)\ttotal: 12m 56s\tremaining: 2h 56m 27s\n",
      "683:\ttest: 0.9293509\tbest: 0.9294343 (673)\ttotal: 12m 57s\tremaining: 2h 56m 23s\n",
      "684:\ttest: 0.9292708\tbest: 0.9294343 (673)\ttotal: 12m 57s\tremaining: 2h 56m 19s\n",
      "685:\ttest: 0.9292323\tbest: 0.9294343 (673)\ttotal: 12m 58s\tremaining: 2h 56m 15s\n",
      "686:\ttest: 0.9292227\tbest: 0.9294343 (673)\ttotal: 12m 59s\tremaining: 2h 56m 11s\n",
      "687:\ttest: 0.9292964\tbest: 0.9294343 (673)\ttotal: 13m\tremaining: 2h 56m 7s\n",
      "688:\ttest: 0.9293798\tbest: 0.9294343 (673)\ttotal: 13m 1s\tremaining: 2h 56m 4s\n",
      "689:\ttest: 0.9294535\tbest: 0.9294535 (689)\ttotal: 13m 2s\tremaining: 2h 56m 1s\n",
      "690:\ttest: 0.9294888\tbest: 0.9294888 (690)\ttotal: 13m 3s\tremaining: 2h 55m 57s\n",
      "691:\ttest: 0.9294503\tbest: 0.9294888 (690)\ttotal: 13m 4s\tremaining: 2h 55m 54s\n",
      "692:\ttest: 0.9294920\tbest: 0.9294920 (692)\ttotal: 13m 5s\tremaining: 2h 55m 50s\n",
      "693:\ttest: 0.9294792\tbest: 0.9294920 (692)\ttotal: 13m 6s\tremaining: 2h 55m 46s\n",
      "694:\ttest: 0.9294215\tbest: 0.9294920 (692)\ttotal: 13m 7s\tremaining: 2h 55m 43s\n",
      "695:\ttest: 0.9294215\tbest: 0.9294920 (692)\ttotal: 13m 8s\tremaining: 2h 55m 39s\n",
      "696:\ttest: 0.9294631\tbest: 0.9294920 (692)\ttotal: 13m 9s\tremaining: 2h 55m 35s\n",
      "697:\ttest: 0.9294567\tbest: 0.9294920 (692)\ttotal: 13m 10s\tremaining: 2h 55m 32s\n",
      "698:\ttest: 0.9294022\tbest: 0.9294920 (692)\ttotal: 13m 11s\tremaining: 2h 55m 28s\n",
      "699:\ttest: 0.9294631\tbest: 0.9294920 (692)\ttotal: 13m 12s\tremaining: 2h 55m 24s\n",
      "700:\ttest: 0.9295144\tbest: 0.9295144 (700)\ttotal: 13m 13s\tremaining: 2h 55m 21s\n",
      "701:\ttest: 0.9295144\tbest: 0.9295144 (700)\ttotal: 13m 14s\tremaining: 2h 55m 18s\n",
      "702:\ttest: 0.9295401\tbest: 0.9295401 (702)\ttotal: 13m 15s\tremaining: 2h 55m 14s\n",
      "703:\ttest: 0.9295561\tbest: 0.9295561 (703)\ttotal: 13m 16s\tremaining: 2h 55m 11s\n",
      "704:\ttest: 0.9295465\tbest: 0.9295561 (703)\ttotal: 13m 16s\tremaining: 2h 55m 7s\n",
      "705:\ttest: 0.9295625\tbest: 0.9295625 (705)\ttotal: 13m 17s\tremaining: 2h 55m 4s\n",
      "706:\ttest: 0.9295689\tbest: 0.9295689 (706)\ttotal: 13m 18s\tremaining: 2h 55m\n",
      "707:\ttest: 0.9296106\tbest: 0.9296106 (707)\ttotal: 13m 19s\tremaining: 2h 54m 56s\n",
      "708:\ttest: 0.9296170\tbest: 0.9296170 (708)\ttotal: 13m 20s\tremaining: 2h 54m 53s\n",
      "709:\ttest: 0.9296074\tbest: 0.9296170 (708)\ttotal: 13m 21s\tremaining: 2h 54m 50s\n",
      "710:\ttest: 0.9295753\tbest: 0.9296170 (708)\ttotal: 13m 22s\tremaining: 2h 54m 46s\n",
      "711:\ttest: 0.9295850\tbest: 0.9296170 (708)\ttotal: 13m 23s\tremaining: 2h 54m 42s\n",
      "712:\ttest: 0.9295433\tbest: 0.9296170 (708)\ttotal: 13m 24s\tremaining: 2h 54m 39s\n",
      "713:\ttest: 0.9295721\tbest: 0.9296170 (708)\ttotal: 13m 25s\tremaining: 2h 54m 35s\n",
      "714:\ttest: 0.9295593\tbest: 0.9296170 (708)\ttotal: 13m 26s\tremaining: 2h 54m 32s\n",
      "715:\ttest: 0.9295914\tbest: 0.9296170 (708)\ttotal: 13m 27s\tremaining: 2h 54m 29s\n",
      "716:\ttest: 0.9296010\tbest: 0.9296170 (708)\ttotal: 13m 28s\tremaining: 2h 54m 25s\n",
      "717:\ttest: 0.9295946\tbest: 0.9296170 (708)\ttotal: 13m 29s\tremaining: 2h 54m 21s\n",
      "718:\ttest: 0.9295657\tbest: 0.9296170 (708)\ttotal: 13m 30s\tremaining: 2h 54m 18s\n",
      "719:\ttest: 0.9295401\tbest: 0.9296170 (708)\ttotal: 13m 31s\tremaining: 2h 54m 14s\n",
      "720:\ttest: 0.9295721\tbest: 0.9296170 (708)\ttotal: 13m 32s\tremaining: 2h 54m 11s\n",
      "721:\ttest: 0.9295785\tbest: 0.9296170 (708)\ttotal: 13m 33s\tremaining: 2h 54m 8s\n",
      "722:\ttest: 0.9295882\tbest: 0.9296170 (708)\ttotal: 13m 34s\tremaining: 2h 54m 4s\n",
      "723:\ttest: 0.9296170\tbest: 0.9296170 (708)\ttotal: 13m 34s\tremaining: 2h 54m 1s\n",
      "724:\ttest: 0.9295850\tbest: 0.9296170 (708)\ttotal: 13m 35s\tremaining: 2h 53m 57s\n",
      "725:\ttest: 0.9295625\tbest: 0.9296170 (708)\ttotal: 13m 36s\tremaining: 2h 53m 54s\n",
      "726:\ttest: 0.9295882\tbest: 0.9296170 (708)\ttotal: 13m 37s\tremaining: 2h 53m 51s\n",
      "727:\ttest: 0.9296266\tbest: 0.9296266 (727)\ttotal: 13m 38s\tremaining: 2h 53m 48s\n",
      "728:\ttest: 0.9295882\tbest: 0.9296266 (727)\ttotal: 13m 39s\tremaining: 2h 53m 44s\n",
      "729:\ttest: 0.9296170\tbest: 0.9296266 (727)\ttotal: 13m 40s\tremaining: 2h 53m 41s\n",
      "730:\ttest: 0.9296106\tbest: 0.9296266 (727)\ttotal: 13m 41s\tremaining: 2h 53m 38s\n",
      "731:\ttest: 0.9296427\tbest: 0.9296427 (731)\ttotal: 13m 42s\tremaining: 2h 53m 35s\n",
      "732:\ttest: 0.9297100\tbest: 0.9297100 (732)\ttotal: 13m 43s\tremaining: 2h 53m 31s\n",
      "733:\ttest: 0.9296811\tbest: 0.9297100 (732)\ttotal: 13m 44s\tremaining: 2h 53m 29s\n",
      "734:\ttest: 0.9296811\tbest: 0.9297100 (732)\ttotal: 13m 45s\tremaining: 2h 53m 25s\n",
      "735:\ttest: 0.9296940\tbest: 0.9297100 (732)\ttotal: 13m 46s\tremaining: 2h 53m 22s\n",
      "736:\ttest: 0.9297068\tbest: 0.9297100 (732)\ttotal: 13m 47s\tremaining: 2h 53m 19s\n",
      "737:\ttest: 0.9297228\tbest: 0.9297228 (737)\ttotal: 13m 48s\tremaining: 2h 53m 15s\n",
      "738:\ttest: 0.9297228\tbest: 0.9297228 (737)\ttotal: 13m 49s\tremaining: 2h 53m 12s\n",
      "739:\ttest: 0.9297324\tbest: 0.9297324 (739)\ttotal: 13m 50s\tremaining: 2h 53m 10s\n",
      "740:\ttest: 0.9297356\tbest: 0.9297356 (740)\ttotal: 13m 51s\tremaining: 2h 53m 7s\n",
      "741:\ttest: 0.9297388\tbest: 0.9297388 (741)\ttotal: 13m 52s\tremaining: 2h 53m 4s\n",
      "742:\ttest: 0.9298382\tbest: 0.9298382 (742)\ttotal: 13m 53s\tremaining: 2h 53m\n",
      "743:\ttest: 0.9298286\tbest: 0.9298382 (742)\ttotal: 13m 54s\tremaining: 2h 52m 57s\n",
      "744:\ttest: 0.9298190\tbest: 0.9298382 (742)\ttotal: 13m 55s\tremaining: 2h 52m 53s\n",
      "745:\ttest: 0.9298607\tbest: 0.9298607 (745)\ttotal: 13m 56s\tremaining: 2h 52m 50s\n",
      "746:\ttest: 0.9298318\tbest: 0.9298607 (745)\ttotal: 13m 56s\tremaining: 2h 52m 47s\n",
      "747:\ttest: 0.9298446\tbest: 0.9298607 (745)\ttotal: 13m 57s\tremaining: 2h 52m 43s\n",
      "748:\ttest: 0.9298158\tbest: 0.9298607 (745)\ttotal: 13m 58s\tremaining: 2h 52m 40s\n",
      "749:\ttest: 0.9298382\tbest: 0.9298607 (745)\ttotal: 13m 59s\tremaining: 2h 52m 37s\n",
      "750:\ttest: 0.9298991\tbest: 0.9298991 (750)\ttotal: 14m\tremaining: 2h 52m 34s\n",
      "751:\ttest: 0.9299152\tbest: 0.9299152 (751)\ttotal: 14m 1s\tremaining: 2h 52m 30s\n",
      "752:\ttest: 0.9299248\tbest: 0.9299248 (752)\ttotal: 14m 2s\tremaining: 2h 52m 27s\n",
      "753:\ttest: 0.9299216\tbest: 0.9299248 (752)\ttotal: 14m 3s\tremaining: 2h 52m 24s\n",
      "754:\ttest: 0.9299761\tbest: 0.9299761 (754)\ttotal: 14m 4s\tremaining: 2h 52m 26s\n",
      "755:\ttest: 0.9300178\tbest: 0.9300178 (755)\ttotal: 14m 6s\tremaining: 2h 52m 26s\n",
      "756:\ttest: 0.9300691\tbest: 0.9300691 (756)\ttotal: 14m 7s\tremaining: 2h 52m 28s\n",
      "757:\ttest: 0.9300530\tbest: 0.9300691 (756)\ttotal: 14m 9s\tremaining: 2h 52m 31s\n",
      "758:\ttest: 0.9300851\tbest: 0.9300851 (758)\ttotal: 14m 10s\tremaining: 2h 52m 33s\n",
      "759:\ttest: 0.9301460\tbest: 0.9301460 (759)\ttotal: 14m 12s\tremaining: 2h 52m 42s\n",
      "760:\ttest: 0.9301043\tbest: 0.9301460 (759)\ttotal: 14m 14s\tremaining: 2h 52m 48s\n",
      "761:\ttest: 0.9301428\tbest: 0.9301460 (759)\ttotal: 14m 15s\tremaining: 2h 52m 52s\n",
      "762:\ttest: 0.9301043\tbest: 0.9301460 (759)\ttotal: 14m 17s\tremaining: 2h 52m 57s\n",
      "763:\ttest: 0.9300979\tbest: 0.9301460 (759)\ttotal: 14m 18s\tremaining: 2h 52m 57s\n",
      "764:\ttest: 0.9301043\tbest: 0.9301460 (759)\ttotal: 14m 19s\tremaining: 2h 52m 59s\n",
      "765:\ttest: 0.9300819\tbest: 0.9301460 (759)\ttotal: 14m 21s\tremaining: 2h 53m 1s\n",
      "766:\ttest: 0.9300498\tbest: 0.9301460 (759)\ttotal: 14m 22s\tremaining: 2h 53m 2s\n",
      "767:\ttest: 0.9300562\tbest: 0.9301460 (759)\ttotal: 14m 23s\tremaining: 2h 53m 2s\n",
      "768:\ttest: 0.9300723\tbest: 0.9301460 (759)\ttotal: 14m 24s\tremaining: 2h 53m 3s\n",
      "769:\ttest: 0.9300947\tbest: 0.9301460 (759)\ttotal: 14m 26s\tremaining: 2h 53m 1s\n",
      "770:\ttest: 0.9300562\tbest: 0.9301460 (759)\ttotal: 14m 27s\tremaining: 2h 53m\n",
      "771:\ttest: 0.9300210\tbest: 0.9301460 (759)\ttotal: 14m 28s\tremaining: 2h 52m 58s\n",
      "772:\ttest: 0.9300210\tbest: 0.9301460 (759)\ttotal: 14m 29s\tremaining: 2h 52m 59s\n",
      "773:\ttest: 0.9300306\tbest: 0.9301460 (759)\ttotal: 14m 30s\tremaining: 2h 52m 57s\n",
      "774:\ttest: 0.9300146\tbest: 0.9301460 (759)\ttotal: 14m 32s\tremaining: 2h 53m\n",
      "775:\ttest: 0.9300242\tbest: 0.9301460 (759)\ttotal: 14m 33s\tremaining: 2h 53m 1s\n",
      "776:\ttest: 0.9300274\tbest: 0.9301460 (759)\ttotal: 14m 34s\tremaining: 2h 52m 59s\n",
      "777:\ttest: 0.9300370\tbest: 0.9301460 (759)\ttotal: 14m 35s\tremaining: 2h 52m 58s\n",
      "778:\ttest: 0.9300274\tbest: 0.9301460 (759)\ttotal: 14m 36s\tremaining: 2h 52m 57s\n",
      "779:\ttest: 0.9300146\tbest: 0.9301460 (759)\ttotal: 14m 37s\tremaining: 2h 52m 57s\n",
      "780:\ttest: 0.9300723\tbest: 0.9301460 (759)\ttotal: 14m 39s\tremaining: 2h 52m 56s\n",
      "781:\ttest: 0.9300755\tbest: 0.9301460 (759)\ttotal: 14m 40s\tremaining: 2h 52m 58s\n",
      "782:\ttest: 0.9300723\tbest: 0.9301460 (759)\ttotal: 14m 41s\tremaining: 2h 53m\n",
      "783:\ttest: 0.9301268\tbest: 0.9301460 (759)\ttotal: 14m 43s\tremaining: 2h 53m 1s\n",
      "784:\ttest: 0.9301364\tbest: 0.9301460 (759)\ttotal: 14m 44s\tremaining: 2h 53m 1s\n",
      "785:\ttest: 0.9301236\tbest: 0.9301460 (759)\ttotal: 14m 45s\tremaining: 2h 53m\n",
      "786:\ttest: 0.9301492\tbest: 0.9301492 (786)\ttotal: 14m 46s\tremaining: 2h 52m 58s\n",
      "787:\ttest: 0.9301588\tbest: 0.9301588 (787)\ttotal: 14m 47s\tremaining: 2h 52m 50s\n",
      "788:\ttest: 0.9301588\tbest: 0.9301588 (787)\ttotal: 14m 48s\tremaining: 2h 52m 52s\n",
      "789:\ttest: 0.9301588\tbest: 0.9301588 (787)\ttotal: 14m 49s\tremaining: 2h 52m 55s\n",
      "790:\ttest: 0.9300979\tbest: 0.9301588 (787)\ttotal: 14m 51s\tremaining: 2h 52m 53s\n",
      "791:\ttest: 0.9301268\tbest: 0.9301588 (787)\ttotal: 14m 52s\tremaining: 2h 52m 54s\n",
      "792:\ttest: 0.9301236\tbest: 0.9301588 (787)\ttotal: 14m 53s\tremaining: 2h 52m 58s\n",
      "793:\ttest: 0.9301300\tbest: 0.9301588 (787)\ttotal: 14m 54s\tremaining: 2h 52m 56s\n",
      "794:\ttest: 0.9301396\tbest: 0.9301588 (787)\ttotal: 14m 56s\tremaining: 2h 52m 57s\n"
     ]
    },
    {
     "ename": "KeyboardInterrupt",
     "evalue": "",
     "output_type": "error",
     "traceback": [
      "\u001B[1;31m---------------------------------------------------------------------------\u001B[0m",
      "\u001B[1;31mKeyboardInterrupt\u001B[0m                         Traceback (most recent call last)",
      "\u001B[1;32m<ipython-input-70-7e2af0a023bf>\u001B[0m in \u001B[0;36m<module>\u001B[1;34m\u001B[0m\n\u001B[0;32m     17\u001B[0m     \u001B[0mX_train\u001B[0m\u001B[1;33m,\u001B[0m \u001B[0mY_train\u001B[0m \u001B[1;33m=\u001B[0m \u001B[0mtrain_x\u001B[0m\u001B[1;33m[\u001B[0m\u001B[0mtrain\u001B[0m\u001B[1;33m]\u001B[0m\u001B[1;33m,\u001B[0m \u001B[0mtrain_y\u001B[0m\u001B[1;33m[\u001B[0m\u001B[0mtrain\u001B[0m\u001B[1;33m]\u001B[0m\u001B[1;33m\u001B[0m\u001B[1;33m\u001B[0m\u001B[0m\n\u001B[0;32m     18\u001B[0m     \u001B[0mX_valid\u001B[0m\u001B[1;33m,\u001B[0m \u001B[0mY_valid\u001B[0m \u001B[1;33m=\u001B[0m \u001B[0mtrain_x\u001B[0m\u001B[1;33m[\u001B[0m\u001B[0mvalid\u001B[0m\u001B[1;33m]\u001B[0m\u001B[1;33m,\u001B[0m \u001B[0mtrain_y\u001B[0m\u001B[1;33m[\u001B[0m\u001B[0mvalid\u001B[0m\u001B[1;33m]\u001B[0m\u001B[1;33m\u001B[0m\u001B[1;33m\u001B[0m\u001B[0m\n\u001B[1;32m---> 19\u001B[1;33m     \u001B[0mmodel\u001B[0m\u001B[1;33m.\u001B[0m\u001B[0mfit\u001B[0m\u001B[1;33m(\u001B[0m\u001B[0mX_train\u001B[0m\u001B[1;33m,\u001B[0m\u001B[0mY_train\u001B[0m\u001B[1;33m,\u001B[0m \u001B[0meval_set\u001B[0m\u001B[1;33m=\u001B[0m\u001B[1;33m(\u001B[0m\u001B[0mX_valid\u001B[0m\u001B[1;33m,\u001B[0m \u001B[0mY_valid\u001B[0m\u001B[1;33m)\u001B[0m\u001B[1;33m,\u001B[0m\u001B[0muse_best_model\u001B[0m\u001B[1;33m=\u001B[0m\u001B[1;32mTrue\u001B[0m\u001B[1;33m)\u001B[0m\u001B[1;33m\u001B[0m\u001B[1;33m\u001B[0m\u001B[0m\n\u001B[0m\u001B[0;32m     20\u001B[0m     \u001B[0mY_valid_pred_prob\u001B[0m \u001B[1;33m=\u001B[0m \u001B[0mmodel\u001B[0m\u001B[1;33m.\u001B[0m\u001B[0mpredict_proba\u001B[0m\u001B[1;33m(\u001B[0m\u001B[0mX_valid\u001B[0m\u001B[1;33m)\u001B[0m\u001B[1;33m\u001B[0m\u001B[1;33m\u001B[0m\u001B[0m\n\u001B[0;32m     21\u001B[0m     \u001B[0mprint\u001B[0m\u001B[1;33m(\u001B[0m\u001B[1;34m\"AUC = \"\u001B[0m\u001B[1;33m,\u001B[0m \u001B[0mroc_auc_score\u001B[0m\u001B[1;33m(\u001B[0m\u001B[0mY_valid\u001B[0m\u001B[1;33m,\u001B[0m \u001B[0mY_valid_pred_prob\u001B[0m\u001B[1;33m[\u001B[0m\u001B[1;33m:\u001B[0m\u001B[1;33m,\u001B[0m\u001B[1;36m1\u001B[0m\u001B[1;33m]\u001B[0m\u001B[1;33m)\u001B[0m\u001B[1;33m)\u001B[0m\u001B[1;33m\u001B[0m\u001B[1;33m\u001B[0m\u001B[0m\n",
      "\u001B[1;32m~\\.conda\\envs\\python36\\lib\\site-packages\\catboost\\core.py\u001B[0m in \u001B[0;36mfit\u001B[1;34m(self, X, y, cat_features, sample_weight, baseline, use_best_model, eval_set, verbose, logging_level, plot, column_description, verbose_eval, metric_period, silent, early_stopping_rounds, save_snapshot, snapshot_file, snapshot_interval)\u001B[0m\n\u001B[0;32m   2452\u001B[0m         self._fit(X, y, cat_features, None, sample_weight, None, None, None, None, baseline, use_best_model,\n\u001B[0;32m   2453\u001B[0m                   \u001B[0meval_set\u001B[0m\u001B[1;33m,\u001B[0m \u001B[0mverbose\u001B[0m\u001B[1;33m,\u001B[0m \u001B[0mlogging_level\u001B[0m\u001B[1;33m,\u001B[0m \u001B[0mplot\u001B[0m\u001B[1;33m,\u001B[0m \u001B[0mcolumn_description\u001B[0m\u001B[1;33m,\u001B[0m \u001B[0mverbose_eval\u001B[0m\u001B[1;33m,\u001B[0m \u001B[0mmetric_period\u001B[0m\u001B[1;33m,\u001B[0m\u001B[1;33m\u001B[0m\u001B[1;33m\u001B[0m\u001B[0m\n\u001B[1;32m-> 2454\u001B[1;33m                   silent, early_stopping_rounds, save_snapshot, snapshot_file, snapshot_interval)\n\u001B[0m\u001B[0;32m   2455\u001B[0m         \u001B[1;32mreturn\u001B[0m \u001B[0mself\u001B[0m\u001B[1;33m\u001B[0m\u001B[1;33m\u001B[0m\u001B[0m\n\u001B[0;32m   2456\u001B[0m \u001B[1;33m\u001B[0m\u001B[0m\n",
      "\u001B[1;32m~\\.conda\\envs\\python36\\lib\\site-packages\\catboost\\core.py\u001B[0m in \u001B[0;36m_fit\u001B[1;34m(self, X, y, cat_features, pairs, sample_weight, group_id, group_weight, subgroup_id, pairs_weight, baseline, use_best_model, eval_set, verbose, logging_level, plot, column_description, verbose_eval, metric_period, silent, early_stopping_rounds, save_snapshot, snapshot_file, snapshot_interval)\u001B[0m\n\u001B[0;32m   1199\u001B[0m \u001B[1;33m\u001B[0m\u001B[0m\n\u001B[0;32m   1200\u001B[0m         \u001B[1;32mwith\u001B[0m \u001B[0mlog_fixup\u001B[0m\u001B[1;33m(\u001B[0m\u001B[1;33m)\u001B[0m\u001B[1;33m,\u001B[0m \u001B[0mplot_wrapper\u001B[0m\u001B[1;33m(\u001B[0m\u001B[0mplot\u001B[0m\u001B[1;33m,\u001B[0m \u001B[0mself\u001B[0m\u001B[1;33m.\u001B[0m\u001B[0mget_params\u001B[0m\u001B[1;33m(\u001B[0m\u001B[1;33m)\u001B[0m\u001B[1;33m)\u001B[0m\u001B[1;33m:\u001B[0m\u001B[1;33m\u001B[0m\u001B[1;33m\u001B[0m\u001B[0m\n\u001B[1;32m-> 1201\u001B[1;33m             \u001B[0mself\u001B[0m\u001B[1;33m.\u001B[0m\u001B[0m_train\u001B[0m\u001B[1;33m(\u001B[0m\u001B[0mtrain_pool\u001B[0m\u001B[1;33m,\u001B[0m \u001B[0meval_sets\u001B[0m\u001B[1;33m,\u001B[0m \u001B[0mparams\u001B[0m\u001B[1;33m,\u001B[0m \u001B[0mallow_clear_pool\u001B[0m\u001B[1;33m)\u001B[0m\u001B[1;33m\u001B[0m\u001B[1;33m\u001B[0m\u001B[0m\n\u001B[0m\u001B[0;32m   1202\u001B[0m \u001B[1;33m\u001B[0m\u001B[0m\n\u001B[0;32m   1203\u001B[0m         \u001B[1;32mif\u001B[0m \u001B[1;33m(\u001B[0m\u001B[1;32mnot\u001B[0m \u001B[0mself\u001B[0m\u001B[1;33m.\u001B[0m\u001B[0m_object\u001B[0m\u001B[1;33m.\u001B[0m\u001B[0m_has_leaf_weights_in_model\u001B[0m\u001B[1;33m(\u001B[0m\u001B[1;33m)\u001B[0m\u001B[1;33m)\u001B[0m \u001B[1;32mand\u001B[0m \u001B[0mallow_clear_pool\u001B[0m\u001B[1;33m:\u001B[0m\u001B[1;33m\u001B[0m\u001B[1;33m\u001B[0m\u001B[0m\n",
      "\u001B[1;32m~\\.conda\\envs\\python36\\lib\\site-packages\\catboost\\core.py\u001B[0m in \u001B[0;36m_train\u001B[1;34m(self, train_pool, test_pool, params, allow_clear_pool)\u001B[0m\n\u001B[0;32m    892\u001B[0m \u001B[1;33m\u001B[0m\u001B[0m\n\u001B[0;32m    893\u001B[0m     \u001B[1;32mdef\u001B[0m \u001B[0m_train\u001B[0m\u001B[1;33m(\u001B[0m\u001B[0mself\u001B[0m\u001B[1;33m,\u001B[0m \u001B[0mtrain_pool\u001B[0m\u001B[1;33m,\u001B[0m \u001B[0mtest_pool\u001B[0m\u001B[1;33m,\u001B[0m \u001B[0mparams\u001B[0m\u001B[1;33m,\u001B[0m \u001B[0mallow_clear_pool\u001B[0m\u001B[1;33m)\u001B[0m\u001B[1;33m:\u001B[0m\u001B[1;33m\u001B[0m\u001B[1;33m\u001B[0m\u001B[0m\n\u001B[1;32m--> 894\u001B[1;33m         \u001B[0mself\u001B[0m\u001B[1;33m.\u001B[0m\u001B[0m_object\u001B[0m\u001B[1;33m.\u001B[0m\u001B[0m_train\u001B[0m\u001B[1;33m(\u001B[0m\u001B[0mtrain_pool\u001B[0m\u001B[1;33m,\u001B[0m \u001B[0mtest_pool\u001B[0m\u001B[1;33m,\u001B[0m \u001B[0mparams\u001B[0m\u001B[1;33m,\u001B[0m \u001B[0mallow_clear_pool\u001B[0m\u001B[1;33m)\u001B[0m\u001B[1;33m\u001B[0m\u001B[1;33m\u001B[0m\u001B[0m\n\u001B[0m\u001B[0;32m    895\u001B[0m         \u001B[0mself\u001B[0m\u001B[1;33m.\u001B[0m\u001B[0m_set_trained_model_attributes\u001B[0m\u001B[1;33m(\u001B[0m\u001B[1;33m)\u001B[0m\u001B[1;33m\u001B[0m\u001B[1;33m\u001B[0m\u001B[0m\n\u001B[0;32m    896\u001B[0m \u001B[1;33m\u001B[0m\u001B[0m\n",
      "\u001B[1;32m_catboost.pyx\u001B[0m in \u001B[0;36m_catboost._CatBoost._train\u001B[1;34m()\u001B[0m\n",
      "\u001B[1;32m_catboost.pyx\u001B[0m in \u001B[0;36m_catboost._CatBoost._train\u001B[1;34m()\u001B[0m\n",
      "\u001B[1;31mKeyboardInterrupt\u001B[0m: "
     ]
    }
   ],
   "source": [
    "kfold = StratifiedKFold(n_splits=10, shuffle=False)\n",
    "\n",
    "model = CatBoostClassifier(\n",
    "    loss_function=\"Logloss\",\n",
    "    eval_metric=\"AUC\",\n",
    "    learning_rate=0.01,\n",
    "    iterations=10000,\n",
    "    random_seed=42,\n",
    "    od_type=\"Iter\",\n",
    "    depth=10,\n",
    "    # task_type = 'GPU',\n",
    "    early_stopping_rounds=100\n",
    "    )\n",
    "\n",
    "\n",
    "for train, valid in kfold.split(train_x, train_y):\n",
    "    X_train, Y_train = train_x[train], train_y[train]\n",
    "    X_valid, Y_valid = train_x[valid], train_y[valid]\n",
    "    model.fit(X_train,Y_train, eval_set=(X_valid, Y_valid),use_best_model=True)\n",
    "    Y_valid_pred_prob = model.predict_proba(X_valid)\n",
    "    print(\"AUC = \", roc_auc_score(Y_valid, Y_valid_pred_prob[:,1]))\n",
    "    fpr, tpr, thresholds = roc_curve(Y_valid, Y_valid_pred_prob[:,1], pos_label=2)\n",
    "    plt.plot(fpr, tpr, )\n",
    "    plt.plot([0, 1], [0, 1], ls=\"--\", c=\".3\")\n",
    "    plt.xlim([0.0, 1.0])\n",
    "    plt.ylim([0.0, 1.0])\n",
    "    plt.rcParams['font.size']=12\n",
    "    plt.title('ROC curve')\n",
    "    plt.xlabel(\"False Positive Rate (1 - Specificity)\")\n",
    "    plt.ylabel(\"True Positive Rate (Specificity)\")\n",
    "    plt.grid(True)\n",
    "    submission['hepatitis'] += model.predict_proba(test_x)[:,1] / 10\n"
   ],
   "metadata": {
    "collapsed": false,
    "pycharm": {
     "name": "#%%\n"
    }
   }
  },
  {
   "cell_type": "code",
   "execution_count": null,
   "outputs": [],
   "source": [
    "submission.to_csv('submission.csv',index=False)\n",
    "# !wget -nv -O kesci_submit https://cdn.kesci.com/submit_tool/v4/kesci_submit&&chmod +x kesci_submit\n",
    "# !./kesci_submit -token f3de41fac72af731 -file '/home/kesci/work/submission.csv'\n"
   ],
   "metadata": {
    "collapsed": false,
    "pycharm": {
     "name": "#%%\n"
    }
   }
  }
 ],
 "metadata": {
  "kernelspec": {
   "name": "pycharm-1afc687d",
   "language": "python",
   "display_name": "PyCharm (DiseasePrediction)"
  },
  "language_info": {
   "codemirror_mode": {
    "name": "ipython",
    "version": 2
   },
   "file_extension": ".py",
   "mimetype": "text/x-python",
   "name": "python",
   "nbconvert_exporter": "python",
   "pygments_lexer": "ipython2",
   "version": "2.7.6"
  }
 },
 "nbformat": 4,
 "nbformat_minor": 0
}