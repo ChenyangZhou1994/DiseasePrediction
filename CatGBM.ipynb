{
 "cells": [
  {
   "cell_type": "markdown",
   "metadata": {
    "collapsed": true,
    "pycharm": {
     "name": "#%% md\n"
    }
   },
   "source": [
    "# CatGBM\n"
   ]
  },
  {
   "cell_type": "markdown",
   "source": [
    "## 1.导入相关库"
   ],
   "metadata": {
    "collapsed": false,
    "pycharm": {
     "name": "#%% md\n"
    }
   }
  },
  {
   "cell_type": "code",
   "execution_count": 110,
   "outputs": [],
   "source": [
    "import numpy as np\n",
    "import pandas as pd\n",
    "\n",
    "#preprocessing\n",
    "from sklearn.preprocessing import MinMaxScaler, StandardScaler\n",
    "from sklearn.preprocessing import LabelEncoder\n",
    "from sklearn.model_selection import train_test_split\n",
    "from pandas.plotting import scatter_matrix\n",
    "from tqdm import tqdm\n",
    "\n",
    "#visualizations\n",
    "import seaborn as sns\n",
    "from matplotlib import pyplot as plt\n",
    "%matplotlib inline\n",
    "\n",
    "plt.rcParams['font.sans-serif']=['SimHei']\n",
    "plt.rcParams['axes.unicode_minus']=False\n",
    "\n",
    "pd.set_option('display.max_rows', None)\n",
    "pd.set_option('display.max_columns', None)\n",
    "\n",
    "#algorithms\n",
    "from xgboost import XGBClassifier\n",
    "from lightgbm import LGBMClassifier\n",
    "from catboost import CatBoostClassifier\n",
    "\n",
    "#score metrics\n",
    "from sklearn.model_selection import StratifiedKFold\n",
    "from sklearn.metrics import confusion_matrix\n",
    "from sklearn.model_selection import GridSearchCV\n",
    "from sklearn.metrics import roc_auc_score\n",
    "from sklearn.metrics import roc_curve, auc"
   ],
   "metadata": {
    "collapsed": false,
    "pycharm": {
     "name": "#%%\n"
    }
   }
  },
  {
   "cell_type": "markdown",
   "source": [
    "## 2.读取数据"
   ],
   "metadata": {
    "collapsed": false,
    "pycharm": {
     "name": "#%% md\n"
    }
   }
  },
  {
   "cell_type": "code",
   "execution_count": 111,
   "outputs": [
    {
     "name": "stdout",
     "output_type": "stream",
     "text": [
      "Train Shape:(6000, 31)\n",
      "Test Shape:(2785, 30)\n"
     ]
    },
    {
     "data": {
      "text/plain": "   年龄 性别    区域     体重     身高   体重指数  肥胖腰围     腰围   最高血压  最低血压  好胆固醇   坏胆固醇  \\\n0  58  F  east   75.6  174.9  24.71   0.0   94.8  100.0  52.0  35.0   95.0   \n1  85  F  east   66.3  166.1  24.03   0.0   89.6  134.0  84.0  59.0  153.0   \n2  32  F  east  109.9  173.2  36.64   1.0  111.7  124.0  84.0  39.0  133.0   \n3  22  M  east   58.7  171.3  20.00   0.0   78.0  104.0  56.0  48.0   98.0   \n4  44  F  west   79.7  172.1  26.91   0.0   93.8  114.0  60.0  34.0  195.0   \n\n    总胆固醇  血脂异常  PVD  体育活动   教育   未婚   收入              护理来源  视力不佳  饮酒  高血压  \\\n0  130.0     0    0   1.0  0.0  0.0  0.0  Private Hospital   0.0   0  1.0   \n1  212.0     0    0   2.0  0.0  0.0  0.0  Private Hospital   0.0   1  0.0   \n2  172.0     0    0   2.0  1.0  0.0  1.0  Private Hospital   0.0   0  0.0   \n3  146.0     0    0   2.0  1.0  1.0  0.0  Never Counsulted   0.0   0  0.0   \n4  229.0     0    0   2.0  0.0  0.0  0.0  Private Hospital   0.0   0  0.0   \n\n   家庭高血压  糖尿病  家族糖尿病   肝炎  家族肝炎  慢性疲劳  ALF    ID  \n0      1    0      1  1.0   0.0   1.0  0.0  4379  \n1      0    0      0  0.0   0.0   0.0  NaN  7623  \n2      0    0      0  0.0   0.0   0.0  0.0  1764  \n3      0    0      0  0.0   0.0   0.0  0.0  5450  \n4      0    0      0  0.0   0.0   0.0  0.0  5196  ",
      "text/html": "<div>\n<style scoped>\n    .dataframe tbody tr th:only-of-type {\n        vertical-align: middle;\n    }\n\n    .dataframe tbody tr th {\n        vertical-align: top;\n    }\n\n    .dataframe thead th {\n        text-align: right;\n    }\n</style>\n<table border=\"1\" class=\"dataframe\">\n  <thead>\n    <tr style=\"text-align: right;\">\n      <th></th>\n      <th>年龄</th>\n      <th>性别</th>\n      <th>区域</th>\n      <th>体重</th>\n      <th>身高</th>\n      <th>体重指数</th>\n      <th>肥胖腰围</th>\n      <th>腰围</th>\n      <th>最高血压</th>\n      <th>最低血压</th>\n      <th>好胆固醇</th>\n      <th>坏胆固醇</th>\n      <th>总胆固醇</th>\n      <th>血脂异常</th>\n      <th>PVD</th>\n      <th>体育活动</th>\n      <th>教育</th>\n      <th>未婚</th>\n      <th>收入</th>\n      <th>护理来源</th>\n      <th>视力不佳</th>\n      <th>饮酒</th>\n      <th>高血压</th>\n      <th>家庭高血压</th>\n      <th>糖尿病</th>\n      <th>家族糖尿病</th>\n      <th>肝炎</th>\n      <th>家族肝炎</th>\n      <th>慢性疲劳</th>\n      <th>ALF</th>\n      <th>ID</th>\n    </tr>\n  </thead>\n  <tbody>\n    <tr>\n      <th>0</th>\n      <td>58</td>\n      <td>F</td>\n      <td>east</td>\n      <td>75.6</td>\n      <td>174.9</td>\n      <td>24.71</td>\n      <td>0.0</td>\n      <td>94.8</td>\n      <td>100.0</td>\n      <td>52.0</td>\n      <td>35.0</td>\n      <td>95.0</td>\n      <td>130.0</td>\n      <td>0</td>\n      <td>0</td>\n      <td>1.0</td>\n      <td>0.0</td>\n      <td>0.0</td>\n      <td>0.0</td>\n      <td>Private Hospital</td>\n      <td>0.0</td>\n      <td>0</td>\n      <td>1.0</td>\n      <td>1</td>\n      <td>0</td>\n      <td>1</td>\n      <td>1.0</td>\n      <td>0.0</td>\n      <td>1.0</td>\n      <td>0.0</td>\n      <td>4379</td>\n    </tr>\n    <tr>\n      <th>1</th>\n      <td>85</td>\n      <td>F</td>\n      <td>east</td>\n      <td>66.3</td>\n      <td>166.1</td>\n      <td>24.03</td>\n      <td>0.0</td>\n      <td>89.6</td>\n      <td>134.0</td>\n      <td>84.0</td>\n      <td>59.0</td>\n      <td>153.0</td>\n      <td>212.0</td>\n      <td>0</td>\n      <td>0</td>\n      <td>2.0</td>\n      <td>0.0</td>\n      <td>0.0</td>\n      <td>0.0</td>\n      <td>Private Hospital</td>\n      <td>0.0</td>\n      <td>1</td>\n      <td>0.0</td>\n      <td>0</td>\n      <td>0</td>\n      <td>0</td>\n      <td>0.0</td>\n      <td>0.0</td>\n      <td>0.0</td>\n      <td>NaN</td>\n      <td>7623</td>\n    </tr>\n    <tr>\n      <th>2</th>\n      <td>32</td>\n      <td>F</td>\n      <td>east</td>\n      <td>109.9</td>\n      <td>173.2</td>\n      <td>36.64</td>\n      <td>1.0</td>\n      <td>111.7</td>\n      <td>124.0</td>\n      <td>84.0</td>\n      <td>39.0</td>\n      <td>133.0</td>\n      <td>172.0</td>\n      <td>0</td>\n      <td>0</td>\n      <td>2.0</td>\n      <td>1.0</td>\n      <td>0.0</td>\n      <td>1.0</td>\n      <td>Private Hospital</td>\n      <td>0.0</td>\n      <td>0</td>\n      <td>0.0</td>\n      <td>0</td>\n      <td>0</td>\n      <td>0</td>\n      <td>0.0</td>\n      <td>0.0</td>\n      <td>0.0</td>\n      <td>0.0</td>\n      <td>1764</td>\n    </tr>\n    <tr>\n      <th>3</th>\n      <td>22</td>\n      <td>M</td>\n      <td>east</td>\n      <td>58.7</td>\n      <td>171.3</td>\n      <td>20.00</td>\n      <td>0.0</td>\n      <td>78.0</td>\n      <td>104.0</td>\n      <td>56.0</td>\n      <td>48.0</td>\n      <td>98.0</td>\n      <td>146.0</td>\n      <td>0</td>\n      <td>0</td>\n      <td>2.0</td>\n      <td>1.0</td>\n      <td>1.0</td>\n      <td>0.0</td>\n      <td>Never Counsulted</td>\n      <td>0.0</td>\n      <td>0</td>\n      <td>0.0</td>\n      <td>0</td>\n      <td>0</td>\n      <td>0</td>\n      <td>0.0</td>\n      <td>0.0</td>\n      <td>0.0</td>\n      <td>0.0</td>\n      <td>5450</td>\n    </tr>\n    <tr>\n      <th>4</th>\n      <td>44</td>\n      <td>F</td>\n      <td>west</td>\n      <td>79.7</td>\n      <td>172.1</td>\n      <td>26.91</td>\n      <td>0.0</td>\n      <td>93.8</td>\n      <td>114.0</td>\n      <td>60.0</td>\n      <td>34.0</td>\n      <td>195.0</td>\n      <td>229.0</td>\n      <td>0</td>\n      <td>0</td>\n      <td>2.0</td>\n      <td>0.0</td>\n      <td>0.0</td>\n      <td>0.0</td>\n      <td>Private Hospital</td>\n      <td>0.0</td>\n      <td>0</td>\n      <td>0.0</td>\n      <td>0</td>\n      <td>0</td>\n      <td>0</td>\n      <td>0.0</td>\n      <td>0.0</td>\n      <td>0.0</td>\n      <td>0.0</td>\n      <td>5196</td>\n    </tr>\n  </tbody>\n</table>\n</div>"
     },
     "execution_count": 111,
     "metadata": {},
     "output_type": "execute_result"
    }
   ],
   "source": [
    "# path = '/home/kesci/data/competition_A/'\n",
    "path = './data/competition_A/'\n",
    "train_df = pd.read_csv(path+'train_set.csv')\n",
    "test_df  = pd.read_csv(path+'test_set.csv')\n",
    "submission  =  pd.read_csv(path+'submission_example.csv')\n",
    "print('Train Shape:{}\\nTest Shape:{}'.format(train_df.shape,test_df.shape))\n",
    "train_df.head(5)"
   ],
   "metadata": {
    "collapsed": false,
    "pycharm": {
     "name": "#%%\n"
    }
   }
  },
  {
   "cell_type": "markdown",
   "source": [
    "## 3.数据分析EDA\n"
   ],
   "metadata": {
    "collapsed": false,
    "pycharm": {
     "name": "#%% md\n"
    }
   }
  },
  {
   "cell_type": "markdown",
   "source": [
    "### 3.1 各列与肝炎的关系"
   ],
   "metadata": {
    "collapsed": false,
    "pycharm": {
     "name": "#%% md\n"
    }
   }
  },
  {
   "cell_type": "markdown",
   "source": [
    "#### 3.1.1 年龄与肝炎"
   ],
   "metadata": {
    "collapsed": false,
    "pycharm": {
     "name": "#%% md\n"
    }
   }
  },
  {
   "cell_type": "code",
   "execution_count": 112,
   "outputs": [
    {
     "data": {
      "text/plain": "<seaborn.axisgrid.FacetGrid at 0x23f7895f0b8>"
     },
     "execution_count": 112,
     "metadata": {},
     "output_type": "execute_result"
    },
    {
     "data": {
      "text/plain": "<Figure size 432x216 with 2 Axes>",
      "image/png": "[encoded data removed]"
     },
     "metadata": {
      "needs_background": "light"
     },
     "output_type": "display_data"
    }
   ],
   "source": [
    "g = sns.FacetGrid(train_df, col='肝炎')\n",
    "g.map(plt.hist, '年龄', bins=20)"
   ],
   "metadata": {
    "collapsed": false,
    "pycharm": {
     "name": "#%%\n"
    }
   }
  },
  {
   "cell_type": "markdown",
   "source": [
    "#### 3.1.2 体重指数与肝炎"
   ],
   "metadata": {
    "collapsed": false,
    "pycharm": {
     "name": "#%% md\n"
    }
   }
  },
  {
   "cell_type": "code",
   "execution_count": 113,
   "outputs": [
    {
     "data": {
      "text/plain": "<seaborn.axisgrid.FacetGrid at 0x23f788215c0>"
     },
     "execution_count": 113,
     "metadata": {},
     "output_type": "execute_result"
    },
    {
     "data": {
      "text/plain": "<Figure size 432x216 with 2 Axes>",
      "image/png": "[encoded data removed]"
     },
     "metadata": {
      "needs_background": "light"
     },
     "output_type": "display_data"
    }
   ],
   "source": [
    "g = sns.FacetGrid(train_df, col='肝炎')\n",
    "g.map(plt.hist, '体重指数', bins=20)"
   ],
   "metadata": {
    "collapsed": false,
    "pycharm": {
     "name": "#%%\n"
    }
   }
  },
  {
   "cell_type": "markdown",
   "source": [
    "#### 3.1.3 ALF与肝炎"
   ],
   "metadata": {
    "collapsed": false,
    "pycharm": {
     "name": "#%% md\n"
    }
   }
  },
  {
   "cell_type": "code",
   "execution_count": 114,
   "outputs": [
    {
     "data": {
      "text/plain": "<seaborn.axisgrid.FacetGrid at 0x23f789ae588>"
     },
     "execution_count": 114,
     "metadata": {},
     "output_type": "execute_result"
    },
    {
     "data": {
      "text/plain": "<Figure size 432x216 with 2 Axes>",
      "image/png": "[encoded data removed]"
     },
     "metadata": {
      "needs_background": "light"
     },
     "output_type": "display_data"
    }
   ],
   "source": [
    "g = sns.FacetGrid(train_df, col='肝炎')\n",
    "g.map(plt.hist, 'ALF', bins=20)\n"
   ],
   "metadata": {
    "collapsed": false,
    "pycharm": {
     "name": "#%%\n"
    }
   }
  },
  {
   "cell_type": "markdown",
   "source": [
    "### 3.2 删除无关列"
   ],
   "metadata": {
    "collapsed": false,
    "pycharm": {
     "name": "#%% md\n"
    }
   }
  },
  {
   "cell_type": "code",
   "execution_count": 115,
   "outputs": [
    {
     "data": {
      "text/plain": "   年龄 性别    区域     体重     身高   体重指数  肥胖腰围     腰围   最高血压  最低血压  好胆固醇   坏胆固醇  \\\n0  58  F  east   75.6  174.9  24.71   0.0   94.8  100.0  52.0  35.0   95.0   \n1  85  F  east   66.3  166.1  24.03   0.0   89.6  134.0  84.0  59.0  153.0   \n2  32  F  east  109.9  173.2  36.64   1.0  111.7  124.0  84.0  39.0  133.0   \n3  22  M  east   58.7  171.3  20.00   0.0   78.0  104.0  56.0  48.0   98.0   \n4  44  F  west   79.7  172.1  26.91   0.0   93.8  114.0  60.0  34.0  195.0   \n\n    总胆固醇  血脂异常  PVD  体育活动   教育   未婚   收入              护理来源  视力不佳  饮酒  高血压  \\\n0  130.0     0    0   1.0  0.0  0.0  0.0  Private Hospital   0.0   0  1.0   \n1  212.0     0    0   2.0  0.0  0.0  0.0  Private Hospital   0.0   1  0.0   \n2  172.0     0    0   2.0  1.0  0.0  1.0  Private Hospital   0.0   0  0.0   \n3  146.0     0    0   2.0  1.0  1.0  0.0  Never Counsulted   0.0   0  0.0   \n4  229.0     0    0   2.0  0.0  0.0  0.0  Private Hospital   0.0   0  0.0   \n\n   家庭高血压  糖尿病  家族糖尿病   肝炎  家族肝炎  慢性疲劳    ID  \n0      1    0      1  1.0   0.0   1.0  4379  \n1      0    0      0  0.0   0.0   0.0  7623  \n2      0    0      0  0.0   0.0   0.0  1764  \n3      0    0      0  0.0   0.0   0.0  5450  \n4      0    0      0  0.0   0.0   0.0  5196  ",
      "text/html": "<div>\n<style scoped>\n    .dataframe tbody tr th:only-of-type {\n        vertical-align: middle;\n    }\n\n    .dataframe tbody tr th {\n        vertical-align: top;\n    }\n\n    .dataframe thead th {\n        text-align: right;\n    }\n</style>\n<table border=\"1\" class=\"dataframe\">\n  <thead>\n    <tr style=\"text-align: right;\">\n      <th></th>\n      <th>年龄</th>\n      <th>性别</th>\n      <th>区域</th>\n      <th>体重</th>\n      <th>身高</th>\n      <th>体重指数</th>\n      <th>肥胖腰围</th>\n      <th>腰围</th>\n      <th>最高血压</th>\n      <th>最低血压</th>\n      <th>好胆固醇</th>\n      <th>坏胆固醇</th>\n      <th>总胆固醇</th>\n      <th>血脂异常</th>\n      <th>PVD</th>\n      <th>体育活动</th>\n      <th>教育</th>\n      <th>未婚</th>\n      <th>收入</th>\n      <th>护理来源</th>\n      <th>视力不佳</th>\n      <th>饮酒</th>\n      <th>高血压</th>\n      <th>家庭高血压</th>\n      <th>糖尿病</th>\n      <th>家族糖尿病</th>\n      <th>肝炎</th>\n      <th>家族肝炎</th>\n      <th>慢性疲劳</th>\n      <th>ID</th>\n    </tr>\n  </thead>\n  <tbody>\n    <tr>\n      <th>0</th>\n      <td>58</td>\n      <td>F</td>\n      <td>east</td>\n      <td>75.6</td>\n      <td>174.9</td>\n      <td>24.71</td>\n      <td>0.0</td>\n      <td>94.8</td>\n      <td>100.0</td>\n      <td>52.0</td>\n      <td>35.0</td>\n      <td>95.0</td>\n      <td>130.0</td>\n      <td>0</td>\n      <td>0</td>\n      <td>1.0</td>\n      <td>0.0</td>\n      <td>0.0</td>\n      <td>0.0</td>\n      <td>Private Hospital</td>\n      <td>0.0</td>\n      <td>0</td>\n      <td>1.0</td>\n      <td>1</td>\n      <td>0</td>\n      <td>1</td>\n      <td>1.0</td>\n      <td>0.0</td>\n      <td>1.0</td>\n      <td>4379</td>\n    </tr>\n    <tr>\n      <th>1</th>\n      <td>85</td>\n      <td>F</td>\n      <td>east</td>\n      <td>66.3</td>\n      <td>166.1</td>\n      <td>24.03</td>\n      <td>0.0</td>\n      <td>89.6</td>\n      <td>134.0</td>\n      <td>84.0</td>\n      <td>59.0</td>\n      <td>153.0</td>\n      <td>212.0</td>\n      <td>0</td>\n      <td>0</td>\n      <td>2.0</td>\n      <td>0.0</td>\n      <td>0.0</td>\n      <td>0.0</td>\n      <td>Private Hospital</td>\n      <td>0.0</td>\n      <td>1</td>\n      <td>0.0</td>\n      <td>0</td>\n      <td>0</td>\n      <td>0</td>\n      <td>0.0</td>\n      <td>0.0</td>\n      <td>0.0</td>\n      <td>7623</td>\n    </tr>\n    <tr>\n      <th>2</th>\n      <td>32</td>\n      <td>F</td>\n      <td>east</td>\n      <td>109.9</td>\n      <td>173.2</td>\n      <td>36.64</td>\n      <td>1.0</td>\n      <td>111.7</td>\n      <td>124.0</td>\n      <td>84.0</td>\n      <td>39.0</td>\n      <td>133.0</td>\n      <td>172.0</td>\n      <td>0</td>\n      <td>0</td>\n      <td>2.0</td>\n      <td>1.0</td>\n      <td>0.0</td>\n      <td>1.0</td>\n      <td>Private Hospital</td>\n      <td>0.0</td>\n      <td>0</td>\n      <td>0.0</td>\n      <td>0</td>\n      <td>0</td>\n      <td>0</td>\n      <td>0.0</td>\n      <td>0.0</td>\n      <td>0.0</td>\n      <td>1764</td>\n    </tr>\n    <tr>\n      <th>3</th>\n      <td>22</td>\n      <td>M</td>\n      <td>east</td>\n      <td>58.7</td>\n      <td>171.3</td>\n      <td>20.00</td>\n      <td>0.0</td>\n      <td>78.0</td>\n      <td>104.0</td>\n      <td>56.0</td>\n      <td>48.0</td>\n      <td>98.0</td>\n      <td>146.0</td>\n      <td>0</td>\n      <td>0</td>\n      <td>2.0</td>\n      <td>1.0</td>\n      <td>1.0</td>\n      <td>0.0</td>\n      <td>Never Counsulted</td>\n      <td>0.0</td>\n      <td>0</td>\n      <td>0.0</td>\n      <td>0</td>\n      <td>0</td>\n      <td>0</td>\n      <td>0.0</td>\n      <td>0.0</td>\n      <td>0.0</td>\n      <td>5450</td>\n    </tr>\n    <tr>\n      <th>4</th>\n      <td>44</td>\n      <td>F</td>\n      <td>west</td>\n      <td>79.7</td>\n      <td>172.1</td>\n      <td>26.91</td>\n      <td>0.0</td>\n      <td>93.8</td>\n      <td>114.0</td>\n      <td>60.0</td>\n      <td>34.0</td>\n      <td>195.0</td>\n      <td>229.0</td>\n      <td>0</td>\n      <td>0</td>\n      <td>2.0</td>\n      <td>0.0</td>\n      <td>0.0</td>\n      <td>0.0</td>\n      <td>Private Hospital</td>\n      <td>0.0</td>\n      <td>0</td>\n      <td>0.0</td>\n      <td>0</td>\n      <td>0</td>\n      <td>0</td>\n      <td>0.0</td>\n      <td>0.0</td>\n      <td>0.0</td>\n      <td>5196</td>\n    </tr>\n  </tbody>\n</table>\n</div>"
     },
     "execution_count": 115,
     "metadata": {},
     "output_type": "execute_result"
    }
   ],
   "source": [
    "train_df.drop(['ALF'], axis=1, inplace=True)\n",
    "test_df.drop(['ALF'], axis=1, inplace=True)\n",
    "\n",
    "train_df.head()"
   ],
   "metadata": {
    "collapsed": false,
    "pycharm": {
     "name": "#%%\n"
    }
   }
  },
  {
   "cell_type": "markdown",
   "source": [
    "### 3.2 查询数据缺失值"
   ],
   "metadata": {
    "collapsed": false,
    "pycharm": {
     "name": "#%% md\n"
    }
   }
  },
  {
   "cell_type": "code",
   "execution_count": 116,
   "outputs": [
    {
     "data": {
      "text/plain": "年龄         0\n性别         0\n区域         0\n体重       140\n身高       136\n体重指数     209\n肥胖腰围     209\n腰围       224\n最高血压     219\n最低血压     273\n好胆固醇       6\n坏胆固醇       7\n总胆固醇       7\n血脂异常       0\nPVD        0\n体育活动       8\n教育        14\n未婚       308\n收入       763\n护理来源       1\n视力不佳     402\n饮酒         0\n高血压       49\n家庭高血压      0\n糖尿病        0\n家族糖尿病      0\n肝炎        16\n家族肝炎       5\n慢性疲劳      26\nID         0\ndtype: int64"
     },
     "execution_count": 116,
     "metadata": {},
     "output_type": "execute_result"
    }
   ],
   "source": [
    "total_missingvalues = train_df.isnull().sum()\n",
    "total_missingvalues"
   ],
   "metadata": {
    "collapsed": false,
    "pycharm": {
     "name": "#%%\n"
    }
   }
  },
  {
   "cell_type": "code",
   "execution_count": 117,
   "outputs": [
    {
     "data": {
      "text/plain": "年龄         0\n性别         0\n区域         0\n体重       139\n身高       135\n体重指数     207\n肥胖腰围     207\n腰围       223\n最高血压     219\n最低血压     273\n好胆固醇       5\n坏胆固醇       6\n总胆固醇       6\n血脂异常       0\nPVD        0\n体育活动       8\n教育        13\n未婚       308\n收入       760\n护理来源       1\n视力不佳     399\n饮酒         0\n高血压       49\n家庭高血压      0\n糖尿病        0\n家族糖尿病      0\n肝炎         0\n家族肝炎       5\n慢性疲劳      23\nID         0\ndtype: int64"
     },
     "execution_count": 117,
     "metadata": {},
     "output_type": "execute_result"
    }
   ],
   "source": [
    "# 删除肝炎缺失值的行\n",
    "\n",
    "train_df.dropna(axis=0, how='any', subset=['肝炎'], inplace=True)\n",
    "\n",
    "train_df.isnull().sum()"
   ],
   "metadata": {
    "collapsed": false,
    "pycharm": {
     "name": "#%%\n"
    }
   }
  },
  {
   "cell_type": "code",
   "execution_count": 118,
   "outputs": [
    {
     "data": {
      "text/plain": "   年龄     体重     身高   体重指数  肥胖腰围     腰围   最高血压  最低血压  好胆固醇   坏胆固醇   总胆固醇  \\\n0  58   75.6  174.9  24.71   0.0   94.8  100.0  52.0  35.0   95.0  130.0   \n1  85   66.3  166.1  24.03   0.0   89.6  134.0  84.0  59.0  153.0  212.0   \n2  32  109.9  173.2  36.64   1.0  111.7  124.0  84.0  39.0  133.0  172.0   \n3  22   58.7  171.3  20.00   0.0   78.0  104.0  56.0  48.0   98.0  146.0   \n4  44   79.7  172.1  26.91   0.0   93.8  114.0  60.0  34.0  195.0  229.0   \n\n   血脂异常  PVD  体育活动   教育   未婚   收入  视力不佳  饮酒  高血压  家庭高血压  糖尿病  家族糖尿病   肝炎  \\\n0     0    0   1.0  0.0  0.0  0.0   0.0   0  1.0      1    0      1  1.0   \n1     0    0   2.0  0.0  0.0  0.0   0.0   1  0.0      0    0      0  0.0   \n2     0    0   2.0  1.0  0.0  1.0   0.0   0  0.0      0    0      0  0.0   \n3     0    0   2.0  1.0  1.0  0.0   0.0   0  0.0      0    0      0  0.0   \n4     0    0   2.0  0.0  0.0  0.0   0.0   0  0.0      0    0      0  0.0   \n\n   家族肝炎  慢性疲劳    ID  性别_F  性别_M  区域_east  区域_north  区域_south  区域_west  \\\n0   0.0   1.0  4379     1     0        1         0         0        0   \n1   0.0   0.0  7623     1     0        1         0         0        0   \n2   0.0   0.0  1764     1     0        1         0         0        0   \n3   0.0   0.0  5450     0     1        1         0         0        0   \n4   0.0   0.0  5196     1     0        0         0         0        1   \n\n   护理来源_Governament Hospital  护理来源_Never Counsulted  护理来源_Private Hospital  \\\n0                          0                      0                      1   \n1                          0                      0                      1   \n2                          0                      0                      1   \n3                          0                      1                      0   \n4                          0                      0                      1   \n\n   护理来源_clinic  \n0            0  \n1            0  \n2            0  \n3            0  \n4            0  ",
      "text/html": "<div>\n<style scoped>\n    .dataframe tbody tr th:only-of-type {\n        vertical-align: middle;\n    }\n\n    .dataframe tbody tr th {\n        vertical-align: top;\n    }\n\n    .dataframe thead th {\n        text-align: right;\n    }\n</style>\n<table border=\"1\" class=\"dataframe\">\n  <thead>\n    <tr style=\"text-align: right;\">\n      <th></th>\n      <th>年龄</th>\n      <th>体重</th>\n      <th>身高</th>\n      <th>体重指数</th>\n      <th>肥胖腰围</th>\n      <th>腰围</th>\n      <th>最高血压</th>\n      <th>最低血压</th>\n      <th>好胆固醇</th>\n      <th>坏胆固醇</th>\n      <th>总胆固醇</th>\n      <th>血脂异常</th>\n      <th>PVD</th>\n      <th>体育活动</th>\n      <th>教育</th>\n      <th>未婚</th>\n      <th>收入</th>\n      <th>视力不佳</th>\n      <th>饮酒</th>\n      <th>高血压</th>\n      <th>家庭高血压</th>\n      <th>糖尿病</th>\n      <th>家族糖尿病</th>\n      <th>肝炎</th>\n      <th>家族肝炎</th>\n      <th>慢性疲劳</th>\n      <th>ID</th>\n      <th>性别_F</th>\n      <th>性别_M</th>\n      <th>区域_east</th>\n      <th>区域_north</th>\n      <th>区域_south</th>\n      <th>区域_west</th>\n      <th>护理来源_Governament Hospital</th>\n      <th>护理来源_Never Counsulted</th>\n      <th>护理来源_Private Hospital</th>\n      <th>护理来源_clinic</th>\n    </tr>\n  </thead>\n  <tbody>\n    <tr>\n      <th>0</th>\n      <td>58</td>\n      <td>75.6</td>\n      <td>174.9</td>\n      <td>24.71</td>\n      <td>0.0</td>\n      <td>94.8</td>\n      <td>100.0</td>\n      <td>52.0</td>\n      <td>35.0</td>\n      <td>95.0</td>\n      <td>130.0</td>\n      <td>0</td>\n      <td>0</td>\n      <td>1.0</td>\n      <td>0.0</td>\n      <td>0.0</td>\n      <td>0.0</td>\n      <td>0.0</td>\n      <td>0</td>\n      <td>1.0</td>\n      <td>1</td>\n      <td>0</td>\n      <td>1</td>\n      <td>1.0</td>\n      <td>0.0</td>\n      <td>1.0</td>\n      <td>4379</td>\n      <td>1</td>\n      <td>0</td>\n      <td>1</td>\n      <td>0</td>\n      <td>0</td>\n      <td>0</td>\n      <td>0</td>\n      <td>0</td>\n      <td>1</td>\n      <td>0</td>\n    </tr>\n    <tr>\n      <th>1</th>\n      <td>85</td>\n      <td>66.3</td>\n      <td>166.1</td>\n      <td>24.03</td>\n      <td>0.0</td>\n      <td>89.6</td>\n      <td>134.0</td>\n      <td>84.0</td>\n      <td>59.0</td>\n      <td>153.0</td>\n      <td>212.0</td>\n      <td>0</td>\n      <td>0</td>\n      <td>2.0</td>\n      <td>0.0</td>\n      <td>0.0</td>\n      <td>0.0</td>\n      <td>0.0</td>\n      <td>1</td>\n      <td>0.0</td>\n      <td>0</td>\n      <td>0</td>\n      <td>0</td>\n      <td>0.0</td>\n      <td>0.0</td>\n      <td>0.0</td>\n      <td>7623</td>\n      <td>1</td>\n      <td>0</td>\n      <td>1</td>\n      <td>0</td>\n      <td>0</td>\n      <td>0</td>\n      <td>0</td>\n      <td>0</td>\n      <td>1</td>\n      <td>0</td>\n    </tr>\n    <tr>\n      <th>2</th>\n      <td>32</td>\n      <td>109.9</td>\n      <td>173.2</td>\n      <td>36.64</td>\n      <td>1.0</td>\n      <td>111.7</td>\n      <td>124.0</td>\n      <td>84.0</td>\n      <td>39.0</td>\n      <td>133.0</td>\n      <td>172.0</td>\n      <td>0</td>\n      <td>0</td>\n      <td>2.0</td>\n      <td>1.0</td>\n      <td>0.0</td>\n      <td>1.0</td>\n      <td>0.0</td>\n      <td>0</td>\n      <td>0.0</td>\n      <td>0</td>\n      <td>0</td>\n      <td>0</td>\n      <td>0.0</td>\n      <td>0.0</td>\n      <td>0.0</td>\n      <td>1764</td>\n      <td>1</td>\n      <td>0</td>\n      <td>1</td>\n      <td>0</td>\n      <td>0</td>\n      <td>0</td>\n      <td>0</td>\n      <td>0</td>\n      <td>1</td>\n      <td>0</td>\n    </tr>\n    <tr>\n      <th>3</th>\n      <td>22</td>\n      <td>58.7</td>\n      <td>171.3</td>\n      <td>20.00</td>\n      <td>0.0</td>\n      <td>78.0</td>\n      <td>104.0</td>\n      <td>56.0</td>\n      <td>48.0</td>\n      <td>98.0</td>\n      <td>146.0</td>\n      <td>0</td>\n      <td>0</td>\n      <td>2.0</td>\n      <td>1.0</td>\n      <td>1.0</td>\n      <td>0.0</td>\n      <td>0.0</td>\n      <td>0</td>\n      <td>0.0</td>\n      <td>0</td>\n      <td>0</td>\n      <td>0</td>\n      <td>0.0</td>\n      <td>0.0</td>\n      <td>0.0</td>\n      <td>5450</td>\n      <td>0</td>\n      <td>1</td>\n      <td>1</td>\n      <td>0</td>\n      <td>0</td>\n      <td>0</td>\n      <td>0</td>\n      <td>1</td>\n      <td>0</td>\n      <td>0</td>\n    </tr>\n    <tr>\n      <th>4</th>\n      <td>44</td>\n      <td>79.7</td>\n      <td>172.1</td>\n      <td>26.91</td>\n      <td>0.0</td>\n      <td>93.8</td>\n      <td>114.0</td>\n      <td>60.0</td>\n      <td>34.0</td>\n      <td>195.0</td>\n      <td>229.0</td>\n      <td>0</td>\n      <td>0</td>\n      <td>2.0</td>\n      <td>0.0</td>\n      <td>0.0</td>\n      <td>0.0</td>\n      <td>0.0</td>\n      <td>0</td>\n      <td>0.0</td>\n      <td>0</td>\n      <td>0</td>\n      <td>0</td>\n      <td>0.0</td>\n      <td>0.0</td>\n      <td>0.0</td>\n      <td>5196</td>\n      <td>1</td>\n      <td>0</td>\n      <td>0</td>\n      <td>0</td>\n      <td>0</td>\n      <td>1</td>\n      <td>0</td>\n      <td>0</td>\n      <td>1</td>\n      <td>0</td>\n    </tr>\n  </tbody>\n</table>\n</div>"
     },
     "execution_count": 118,
     "metadata": {},
     "output_type": "execute_result"
    }
   ],
   "source": [
    "# One-hot编码\n",
    "train_df = pd.get_dummies(train_df)\n",
    "test_df = pd.get_dummies(test_df)\n",
    "\n",
    "train_df.fillna(0, inplace=True)\n",
    "test_df.fillna(0, inplace=True)\n",
    "\n",
    "train_df.head(5)"
   ],
   "metadata": {
    "collapsed": false,
    "pycharm": {
     "name": "#%%\n"
    }
   }
  },
  {
   "cell_type": "markdown",
   "source": [
    "### 3.1 根据训练集的列可以得到大致如下三种特征：数字列、二值列（0或1）、字符列"
   ],
   "metadata": {
    "collapsed": false
   }
  },
  {
   "cell_type": "code",
   "execution_count": 119,
   "outputs": [],
   "source": [
    "# 数字列\n",
    "num_columns = ['年龄','体重','身高','体重指数', '腰围', '最高血压', '最低血压',\n",
    "                '好胆固醇', '坏胆固醇', '总胆固醇','收入']\n",
    "# # 二值列\n",
    "# zero_to_one_columns = ['肥胖腰围','血脂异常','PVD']\n",
    "#\n",
    "# # 字符列\n",
    "# str_columns = ['性别','区域','体育活动','教育','未婚','护理来源','视力不佳','饮酒','高血压',\n",
    "#                 '家庭高血压', '糖尿病', '家族糖尿病','家族肝炎', '慢性疲劳','ALF']\n",
    "#"
   ],
   "metadata": {
    "collapsed": false,
    "pycharm": {
     "name": "#%%\n"
    }
   }
  },
  {
   "cell_type": "markdown",
   "source": [
    "### 3.2 特征工程"
   ],
   "metadata": {
    "collapsed": false,
    "pycharm": {
     "name": "#%% md\n"
    }
   }
  },
  {
   "cell_type": "code",
   "execution_count": 120,
   "outputs": [
    {
     "data": {
      "text/plain": "         年龄        体重        身高      体重指数  肥胖腰围        腰围      最高血压      最低血压  \\\n0  0.584615  0.395604  0.874063  0.371915   0.0  0.571084  0.429185  0.393939   \n1  1.000000  0.346939  0.830085  0.361680   0.0  0.539759  0.575107  0.636364   \n2  0.184615  0.575092  0.865567  0.551475   1.0  0.672892  0.532189  0.636364   \n3  0.030769  0.307169  0.856072  0.301023   0.0  0.469880  0.446352  0.424242   \n4  0.369231  0.417059  0.860070  0.405027   0.0  0.565060  0.489270  0.454545   \n\n      好胆固醇      坏胆固醇      总胆固醇  血脂异常  PVD  体育活动   教育   未婚   收入  视力不佳  饮酒  高血压  \\\n0  0.21875  0.138889  0.178817     0    0   1.0  0.0  0.0  0.0   0.0   0  1.0   \n1  0.36875  0.223684  0.291609     0    0   2.0  0.0  0.0  0.0   0.0   1  0.0   \n2  0.24375  0.194444  0.236589     0    0   2.0  1.0  0.0  1.0   0.0   0  0.0   \n3  0.30000  0.143275  0.200825     0    0   2.0  1.0  1.0  0.0   0.0   0  0.0   \n4  0.21250  0.285088  0.314993     0    0   2.0  0.0  0.0  0.0   0.0   0  0.0   \n\n   家庭高血压  糖尿病  家族糖尿病   肝炎  家族肝炎  慢性疲劳    ID  性别_F  性别_M  区域_east  区域_north  \\\n0      1    0      1  1.0   0.0   1.0  4379     1     0        1         0   \n1      0    0      0  0.0   0.0   0.0  7623     1     0        1         0   \n2      0    0      0  0.0   0.0   0.0  1764     1     0        1         0   \n3      0    0      0  0.0   0.0   0.0  5450     0     1        1         0   \n4      0    0      0  0.0   0.0   0.0  5196     1     0        0         0   \n\n   区域_south  区域_west  护理来源_Governament Hospital  护理来源_Never Counsulted  \\\n0         0        0                          0                      0   \n1         0        0                          0                      0   \n2         0        0                          0                      0   \n3         0        0                          0                      1   \n4         0        1                          0                      0   \n\n   护理来源_Private Hospital  护理来源_clinic  \n0                      1            0  \n1                      1            0  \n2                      1            0  \n3                      0            0  \n4                      1            0  ",
      "text/html": "<div>\n<style scoped>\n    .dataframe tbody tr th:only-of-type {\n        vertical-align: middle;\n    }\n\n    .dataframe tbody tr th {\n        vertical-align: top;\n    }\n\n    .dataframe thead th {\n        text-align: right;\n    }\n</style>\n<table border=\"1\" class=\"dataframe\">\n  <thead>\n    <tr style=\"text-align: right;\">\n      <th></th>\n      <th>年龄</th>\n      <th>体重</th>\n      <th>身高</th>\n      <th>体重指数</th>\n      <th>肥胖腰围</th>\n      <th>腰围</th>\n      <th>最高血压</th>\n      <th>最低血压</th>\n      <th>好胆固醇</th>\n      <th>坏胆固醇</th>\n      <th>总胆固醇</th>\n      <th>血脂异常</th>\n      <th>PVD</th>\n      <th>体育活动</th>\n      <th>教育</th>\n      <th>未婚</th>\n      <th>收入</th>\n      <th>视力不佳</th>\n      <th>饮酒</th>\n      <th>高血压</th>\n      <th>家庭高血压</th>\n      <th>糖尿病</th>\n      <th>家族糖尿病</th>\n      <th>肝炎</th>\n      <th>家族肝炎</th>\n      <th>慢性疲劳</th>\n      <th>ID</th>\n      <th>性别_F</th>\n      <th>性别_M</th>\n      <th>区域_east</th>\n      <th>区域_north</th>\n      <th>区域_south</th>\n      <th>区域_west</th>\n      <th>护理来源_Governament Hospital</th>\n      <th>护理来源_Never Counsulted</th>\n      <th>护理来源_Private Hospital</th>\n      <th>护理来源_clinic</th>\n    </tr>\n  </thead>\n  <tbody>\n    <tr>\n      <th>0</th>\n      <td>0.584615</td>\n      <td>0.395604</td>\n      <td>0.874063</td>\n      <td>0.371915</td>\n      <td>0.0</td>\n      <td>0.571084</td>\n      <td>0.429185</td>\n      <td>0.393939</td>\n      <td>0.21875</td>\n      <td>0.138889</td>\n      <td>0.178817</td>\n      <td>0</td>\n      <td>0</td>\n      <td>1.0</td>\n      <td>0.0</td>\n      <td>0.0</td>\n      <td>0.0</td>\n      <td>0.0</td>\n      <td>0</td>\n      <td>1.0</td>\n      <td>1</td>\n      <td>0</td>\n      <td>1</td>\n      <td>1.0</td>\n      <td>0.0</td>\n      <td>1.0</td>\n      <td>4379</td>\n      <td>1</td>\n      <td>0</td>\n      <td>1</td>\n      <td>0</td>\n      <td>0</td>\n      <td>0</td>\n      <td>0</td>\n      <td>0</td>\n      <td>1</td>\n      <td>0</td>\n    </tr>\n    <tr>\n      <th>1</th>\n      <td>1.000000</td>\n      <td>0.346939</td>\n      <td>0.830085</td>\n      <td>0.361680</td>\n      <td>0.0</td>\n      <td>0.539759</td>\n      <td>0.575107</td>\n      <td>0.636364</td>\n      <td>0.36875</td>\n      <td>0.223684</td>\n      <td>0.291609</td>\n      <td>0</td>\n      <td>0</td>\n      <td>2.0</td>\n      <td>0.0</td>\n      <td>0.0</td>\n      <td>0.0</td>\n      <td>0.0</td>\n      <td>1</td>\n      <td>0.0</td>\n      <td>0</td>\n      <td>0</td>\n      <td>0</td>\n      <td>0.0</td>\n      <td>0.0</td>\n      <td>0.0</td>\n      <td>7623</td>\n      <td>1</td>\n      <td>0</td>\n      <td>1</td>\n      <td>0</td>\n      <td>0</td>\n      <td>0</td>\n      <td>0</td>\n      <td>0</td>\n      <td>1</td>\n      <td>0</td>\n    </tr>\n    <tr>\n      <th>2</th>\n      <td>0.184615</td>\n      <td>0.575092</td>\n      <td>0.865567</td>\n      <td>0.551475</td>\n      <td>1.0</td>\n      <td>0.672892</td>\n      <td>0.532189</td>\n      <td>0.636364</td>\n      <td>0.24375</td>\n      <td>0.194444</td>\n      <td>0.236589</td>\n      <td>0</td>\n      <td>0</td>\n      <td>2.0</td>\n      <td>1.0</td>\n      <td>0.0</td>\n      <td>1.0</td>\n      <td>0.0</td>\n      <td>0</td>\n      <td>0.0</td>\n      <td>0</td>\n      <td>0</td>\n      <td>0</td>\n      <td>0.0</td>\n      <td>0.0</td>\n      <td>0.0</td>\n      <td>1764</td>\n      <td>1</td>\n      <td>0</td>\n      <td>1</td>\n      <td>0</td>\n      <td>0</td>\n      <td>0</td>\n      <td>0</td>\n      <td>0</td>\n      <td>1</td>\n      <td>0</td>\n    </tr>\n    <tr>\n      <th>3</th>\n      <td>0.030769</td>\n      <td>0.307169</td>\n      <td>0.856072</td>\n      <td>0.301023</td>\n      <td>0.0</td>\n      <td>0.469880</td>\n      <td>0.446352</td>\n      <td>0.424242</td>\n      <td>0.30000</td>\n      <td>0.143275</td>\n      <td>0.200825</td>\n      <td>0</td>\n      <td>0</td>\n      <td>2.0</td>\n      <td>1.0</td>\n      <td>1.0</td>\n      <td>0.0</td>\n      <td>0.0</td>\n      <td>0</td>\n      <td>0.0</td>\n      <td>0</td>\n      <td>0</td>\n      <td>0</td>\n      <td>0.0</td>\n      <td>0.0</td>\n      <td>0.0</td>\n      <td>5450</td>\n      <td>0</td>\n      <td>1</td>\n      <td>1</td>\n      <td>0</td>\n      <td>0</td>\n      <td>0</td>\n      <td>0</td>\n      <td>1</td>\n      <td>0</td>\n      <td>0</td>\n    </tr>\n    <tr>\n      <th>4</th>\n      <td>0.369231</td>\n      <td>0.417059</td>\n      <td>0.860070</td>\n      <td>0.405027</td>\n      <td>0.0</td>\n      <td>0.565060</td>\n      <td>0.489270</td>\n      <td>0.454545</td>\n      <td>0.21250</td>\n      <td>0.285088</td>\n      <td>0.314993</td>\n      <td>0</td>\n      <td>0</td>\n      <td>2.0</td>\n      <td>0.0</td>\n      <td>0.0</td>\n      <td>0.0</td>\n      <td>0.0</td>\n      <td>0</td>\n      <td>0.0</td>\n      <td>0</td>\n      <td>0</td>\n      <td>0</td>\n      <td>0.0</td>\n      <td>0.0</td>\n      <td>0.0</td>\n      <td>5196</td>\n      <td>1</td>\n      <td>0</td>\n      <td>0</td>\n      <td>0</td>\n      <td>0</td>\n      <td>1</td>\n      <td>0</td>\n      <td>0</td>\n      <td>1</td>\n      <td>0</td>\n    </tr>\n  </tbody>\n</table>\n</div>"
     },
     "execution_count": 120,
     "metadata": {},
     "output_type": "execute_result"
    }
   ],
   "source": [
    "# 处理缺失值\n",
    "# train_df.fillna(0, inplace=True)\n",
    "# test_df.fillna(0, inplace=True)\n",
    "\n",
    "\n",
    "# One-hot编码\n",
    "# train_df = pd.get_dummies(train_df)\n",
    "# test_df = pd.get_dummies(test_df)\n",
    "#\n",
    "\n",
    "# # 字符编码\n",
    "# for i in tqdm(str_columns):\n",
    "#     lbl = LabelEncoder()\n",
    "#     train_df[i] = lbl.fit_transform(train_df[i].astype(str))\n",
    "#     test_df[i] = lbl.fit_transform(test_df[i].astype(str))\n",
    "#\n",
    "features = num_columns\n",
    "# #\n",
    "# # 数值归一化\n",
    "train_df[features] = MinMaxScaler().fit_transform(train_df[features])\n",
    "test_df[features] = MinMaxScaler().fit_transform(test_df[features])\n",
    "\n",
    "train_df.head(5)"
   ],
   "metadata": {
    "collapsed": false,
    "pycharm": {
     "name": "#%%\n"
    }
   }
  },
  {
   "cell_type": "markdown",
   "source": [
    "## 4.模型"
   ],
   "metadata": {
    "collapsed": false,
    "pycharm": {
     "name": "#%% md\n"
    }
   }
  },
  {
   "cell_type": "markdown",
   "source": [
    "### 4.1 准备数据集"
   ],
   "metadata": {
    "collapsed": false,
    "pycharm": {
     "name": "#%% md\n"
    }
   }
  },
  {
   "cell_type": "code",
   "execution_count": 121,
   "outputs": [],
   "source": [
    "all_columns = [i for i in train_df.columns if i not in ['肝炎','ID']]\n",
    "\n",
    "train_x, train_y = train_df[all_columns].values, train_df['肝炎'].values\n",
    "test_x  = test_df[all_columns].values\n",
    "submission['hepatitis'] = 0\n"
   ],
   "metadata": {
    "collapsed": false,
    "pycharm": {
     "name": "#%%\n"
    }
   }
  },
  {
   "cell_type": "markdown",
   "source": [
    "### 4.2 训练模型"
   ],
   "metadata": {
    "collapsed": false,
    "pycharm": {
     "name": "#%% md\n"
    }
   }
  },
  {
   "cell_type": "code",
   "execution_count": 122,
   "outputs": [
    {
     "name": "stdout",
     "output_type": "stream",
     "text": [
      "0:\ttest: 0.5368984\tbest: 0.5368984 (0)\ttotal: 45.3ms\tremaining: 9.02s\n",
      "1:\ttest: 0.7162956\tbest: 0.7162956 (1)\ttotal: 90.9ms\tremaining: 9s\n",
      "2:\ttest: 0.8353136\tbest: 0.8353136 (2)\ttotal: 134ms\tremaining: 8.82s\n",
      "3:\ttest: 0.8461327\tbest: 0.8461327 (3)\ttotal: 179ms\tremaining: 8.75s\n",
      "4:\ttest: 0.8514982\tbest: 0.8514982 (4)\ttotal: 223ms\tremaining: 8.69s\n",
      "5:\ttest: 0.8549087\tbest: 0.8549087 (5)\ttotal: 279ms\tremaining: 9.03s\n",
      "6:\ttest: 0.8567814\tbest: 0.8567814 (6)\ttotal: 306ms\tremaining: 8.45s\n",
      "7:\ttest: 0.8525007\tbest: 0.8567814 (6)\ttotal: 373ms\tremaining: 8.95s\n",
      "8:\ttest: 0.8598070\tbest: 0.8598070 (8)\ttotal: 420ms\tremaining: 8.91s\n",
      "9:\ttest: 0.8592375\tbest: 0.8598070 (8)\ttotal: 469ms\tremaining: 8.91s\n",
      "10:\ttest: 0.8572145\tbest: 0.8598070 (8)\ttotal: 514ms\tremaining: 8.83s\n",
      "11:\ttest: 0.8583814\tbest: 0.8598070 (8)\ttotal: 561ms\tremaining: 8.79s\n",
      "12:\ttest: 0.8609999\tbest: 0.8609999 (12)\ttotal: 607ms\tremaining: 8.73s\n",
      "13:\ttest: 0.8625278\tbest: 0.8625278 (13)\ttotal: 662ms\tremaining: 8.79s\n",
      "14:\ttest: 0.8625839\tbest: 0.8625839 (14)\ttotal: 705ms\tremaining: 8.69s\n",
      "15:\ttest: 0.8645368\tbest: 0.8645368 (15)\ttotal: 747ms\tremaining: 8.59s\n",
      "16:\ttest: 0.8646411\tbest: 0.8646411 (16)\ttotal: 803ms\tremaining: 8.65s\n",
      "17:\ttest: 0.8677208\tbest: 0.8677208 (17)\ttotal: 874ms\tremaining: 8.84s\n",
      "18:\ttest: 0.8677288\tbest: 0.8677288 (18)\ttotal: 910ms\tremaining: 8.67s\n",
      "19:\ttest: 0.8692847\tbest: 0.8692847 (19)\ttotal: 944ms\tremaining: 8.49s\n",
      "20:\ttest: 0.8717629\tbest: 0.8717629 (20)\ttotal: 1.03s\tremaining: 8.75s\n",
      "21:\ttest: 0.8729819\tbest: 0.8729819 (21)\ttotal: 1.09s\tremaining: 8.83s\n",
      "22:\ttest: 0.8718511\tbest: 0.8729819 (21)\ttotal: 1.16s\tremaining: 8.91s\n",
      "23:\ttest: 0.8717509\tbest: 0.8729819 (21)\ttotal: 1.21s\tremaining: 8.89s\n",
      "24:\ttest: 0.8718952\tbest: 0.8729819 (21)\ttotal: 1.26s\tremaining: 8.85s\n",
      "25:\ttest: 0.8717950\tbest: 0.8729819 (21)\ttotal: 1.32s\tremaining: 8.83s\n",
      "26:\ttest: 0.8713218\tbest: 0.8729819 (21)\ttotal: 1.36s\tremaining: 8.73s\n",
      "27:\ttest: 0.8696496\tbest: 0.8729819 (21)\ttotal: 1.41s\tremaining: 8.65s\n",
      "28:\ttest: 0.8704035\tbest: 0.8729819 (21)\ttotal: 1.46s\tremaining: 8.59s\n",
      "29:\ttest: 0.8703113\tbest: 0.8729819 (21)\ttotal: 1.51s\tremaining: 8.54s\n",
      "30:\ttest: 0.8706361\tbest: 0.8729819 (21)\ttotal: 1.55s\tremaining: 8.47s\n",
      "31:\ttest: 0.8701067\tbest: 0.8729819 (21)\ttotal: 1.6s\tremaining: 8.4s\n",
      "32:\ttest: 0.8706561\tbest: 0.8729819 (21)\ttotal: 1.66s\tremaining: 8.38s\n",
      "33:\ttest: 0.8708687\tbest: 0.8729819 (21)\ttotal: 1.7s\tremaining: 8.31s\n",
      "34:\ttest: 0.8701749\tbest: 0.8729819 (21)\ttotal: 1.75s\tremaining: 8.26s\n",
      "35:\ttest: 0.8702992\tbest: 0.8729819 (21)\ttotal: 1.81s\tremaining: 8.23s\n",
      "36:\ttest: 0.8694932\tbest: 0.8729819 (21)\ttotal: 1.86s\tremaining: 8.19s\n",
      "37:\ttest: 0.8695494\tbest: 0.8729819 (21)\ttotal: 1.91s\tremaining: 8.13s\n",
      "38:\ttest: 0.8700506\tbest: 0.8729819 (21)\ttotal: 1.95s\tremaining: 8.05s\n",
      "39:\ttest: 0.8713980\tbest: 0.8729819 (21)\ttotal: 2s\tremaining: 8s\n",
      "40:\ttest: 0.8713138\tbest: 0.8729819 (21)\ttotal: 2.05s\tremaining: 7.95s\n",
      "41:\ttest: 0.8719794\tbest: 0.8729819 (21)\ttotal: 2.1s\tremaining: 7.88s\n",
      "42:\ttest: 0.8720957\tbest: 0.8729819 (21)\ttotal: 2.14s\tremaining: 7.81s\n",
      "43:\ttest: 0.8723002\tbest: 0.8729819 (21)\ttotal: 2.18s\tremaining: 7.74s\n",
      "44:\ttest: 0.8727093\tbest: 0.8729819 (21)\ttotal: 2.23s\tremaining: 7.68s\n",
      "45:\ttest: 0.8732466\tbest: 0.8732466 (45)\ttotal: 2.28s\tremaining: 7.65s\n",
      "46:\ttest: 0.8735113\tbest: 0.8735113 (46)\ttotal: 2.33s\tremaining: 7.6s\n",
      "47:\ttest: 0.8732586\tbest: 0.8735113 (46)\ttotal: 2.38s\tremaining: 7.54s\n",
      "48:\ttest: 0.8740486\tbest: 0.8740486 (48)\ttotal: 2.44s\tremaining: 7.52s\n",
      "49:\ttest: 0.8736276\tbest: 0.8740486 (48)\ttotal: 2.47s\tremaining: 7.41s\n",
      "50:\ttest: 0.8732025\tbest: 0.8740486 (48)\ttotal: 2.54s\tremaining: 7.43s\n",
      "51:\ttest: 0.8722361\tbest: 0.8740486 (48)\ttotal: 2.63s\tremaining: 7.5s\n",
      "52:\ttest: 0.8723845\tbest: 0.8740486 (48)\ttotal: 2.73s\tremaining: 7.57s\n",
      "53:\ttest: 0.8723002\tbest: 0.8740486 (48)\ttotal: 2.8s\tremaining: 7.58s\n",
      "54:\ttest: 0.8716025\tbest: 0.8740486 (48)\ttotal: 2.86s\tremaining: 7.55s\n",
      "55:\ttest: 0.8717308\tbest: 0.8740486 (48)\ttotal: 2.93s\tremaining: 7.54s\n",
      "56:\ttest: 0.8712576\tbest: 0.8740486 (48)\ttotal: 2.99s\tremaining: 7.5s\n",
      "57:\ttest: 0.8716707\tbest: 0.8740486 (48)\ttotal: 3.04s\tremaining: 7.45s\n",
      "58:\ttest: 0.8718030\tbest: 0.8740486 (48)\ttotal: 3.12s\tremaining: 7.46s\n",
      "59:\ttest: 0.8708807\tbest: 0.8740486 (48)\ttotal: 3.18s\tremaining: 7.41s\n",
      "60:\ttest: 0.8715022\tbest: 0.8740486 (48)\ttotal: 3.23s\tremaining: 7.37s\n",
      "61:\ttest: 0.8717990\tbest: 0.8740486 (48)\ttotal: 3.29s\tremaining: 7.31s\n",
      "62:\ttest: 0.8720596\tbest: 0.8740486 (48)\ttotal: 3.42s\tremaining: 7.43s\n",
      "63:\ttest: 0.8716346\tbest: 0.8740486 (48)\ttotal: 3.46s\tremaining: 7.36s\n",
      "64:\ttest: 0.8715183\tbest: 0.8740486 (48)\ttotal: 3.53s\tremaining: 7.33s\n",
      "65:\ttest: 0.8712616\tbest: 0.8740486 (48)\ttotal: 3.6s\tremaining: 7.31s\n",
      "66:\ttest: 0.8711814\tbest: 0.8740486 (48)\ttotal: 3.66s\tremaining: 7.27s\n",
      "67:\ttest: 0.8721198\tbest: 0.8740486 (48)\ttotal: 3.73s\tremaining: 7.23s\n",
      "68:\ttest: 0.8725609\tbest: 0.8740486 (48)\ttotal: 3.79s\tremaining: 7.19s\n",
      "69:\ttest: 0.8727012\tbest: 0.8740486 (48)\ttotal: 3.84s\tremaining: 7.13s\n",
      "70:\ttest: 0.8725529\tbest: 0.8740486 (48)\ttotal: 3.9s\tremaining: 7.09s\n",
      "71:\ttest: 0.8719474\tbest: 0.8740486 (48)\ttotal: 3.95s\tremaining: 7.03s\n",
      "72:\ttest: 0.8720155\tbest: 0.8740486 (48)\ttotal: 4s\tremaining: 6.96s\n",
      "73:\ttest: 0.8720757\tbest: 0.8740486 (48)\ttotal: 4.04s\tremaining: 6.88s\n",
      "74:\ttest: 0.8719193\tbest: 0.8740486 (48)\ttotal: 4.09s\tremaining: 6.81s\n",
      "75:\ttest: 0.8716185\tbest: 0.8740486 (48)\ttotal: 4.14s\tremaining: 6.76s\n",
      "76:\ttest: 0.8715423\tbest: 0.8740486 (48)\ttotal: 4.21s\tremaining: 6.72s\n",
      "77:\ttest: 0.8712857\tbest: 0.8740486 (48)\ttotal: 4.27s\tremaining: 6.68s\n",
      "78:\ttest: 0.8706200\tbest: 0.8740486 (48)\ttotal: 4.33s\tremaining: 6.64s\n",
      "79:\ttest: 0.8705880\tbest: 0.8740486 (48)\ttotal: 4.38s\tremaining: 6.57s\n",
      "80:\ttest: 0.8703193\tbest: 0.8740486 (48)\ttotal: 4.43s\tremaining: 6.5s\n",
      "81:\ttest: 0.8705398\tbest: 0.8740486 (48)\ttotal: 4.48s\tremaining: 6.44s\n",
      "82:\ttest: 0.8705158\tbest: 0.8740486 (48)\ttotal: 4.53s\tremaining: 6.39s\n",
      "83:\ttest: 0.8704797\tbest: 0.8740486 (48)\ttotal: 4.58s\tremaining: 6.33s\n",
      "84:\ttest: 0.8707083\tbest: 0.8740486 (48)\ttotal: 4.68s\tremaining: 6.34s\n",
      "85:\ttest: 0.8709609\tbest: 0.8740486 (48)\ttotal: 4.78s\tremaining: 6.34s\n",
      "86:\ttest: 0.8710371\tbest: 0.8740486 (48)\ttotal: 4.86s\tremaining: 6.32s\n",
      "87:\ttest: 0.8707002\tbest: 0.8740486 (48)\ttotal: 4.93s\tremaining: 6.27s\n",
      "88:\ttest: 0.8705238\tbest: 0.8740486 (48)\ttotal: 4.99s\tremaining: 6.22s\n",
      "89:\ttest: 0.8702952\tbest: 0.8740486 (48)\ttotal: 5.07s\tremaining: 6.19s\n",
      "90:\ttest: 0.8701148\tbest: 0.8740486 (48)\ttotal: 5.13s\tremaining: 6.15s\n",
      "91:\ttest: 0.8703273\tbest: 0.8740486 (48)\ttotal: 5.2s\tremaining: 6.1s\n",
      "92:\ttest: 0.8703193\tbest: 0.8740486 (48)\ttotal: 5.31s\tremaining: 6.11s\n",
      "93:\ttest: 0.8704957\tbest: 0.8740486 (48)\ttotal: 5.43s\tremaining: 6.12s\n",
      "94:\ttest: 0.8705158\tbest: 0.8740486 (48)\ttotal: 5.5s\tremaining: 6.08s\n",
      "95:\ttest: 0.8703233\tbest: 0.8740486 (48)\ttotal: 5.57s\tremaining: 6.04s\n",
      "96:\ttest: 0.8704717\tbest: 0.8740486 (48)\ttotal: 5.69s\tremaining: 6.04s\n",
      "97:\ttest: 0.8709489\tbest: 0.8740486 (48)\ttotal: 5.77s\tremaining: 6.01s\n",
      "98:\ttest: 0.8709408\tbest: 0.8740486 (48)\ttotal: 5.9s\tremaining: 6.02s\n",
      "99:\ttest: 0.8711012\tbest: 0.8740486 (48)\ttotal: 6.01s\tremaining: 6.01s\n",
      "100:\ttest: 0.8710772\tbest: 0.8740486 (48)\ttotal: 6.09s\tremaining: 5.97s\n",
      "101:\ttest: 0.8712296\tbest: 0.8740486 (48)\ttotal: 6.17s\tremaining: 5.92s\n",
      "102:\ttest: 0.8710170\tbest: 0.8740486 (48)\ttotal: 6.23s\tremaining: 5.87s\n",
      "103:\ttest: 0.8710090\tbest: 0.8740486 (48)\ttotal: 6.31s\tremaining: 5.82s\n",
      "104:\ttest: 0.8709408\tbest: 0.8740486 (48)\ttotal: 6.38s\tremaining: 5.77s\n",
      "105:\ttest: 0.8713579\tbest: 0.8740486 (48)\ttotal: 6.44s\tremaining: 5.71s\n",
      "106:\ttest: 0.8714261\tbest: 0.8740486 (48)\ttotal: 6.48s\tremaining: 5.63s\n",
      "107:\ttest: 0.8715704\tbest: 0.8740486 (48)\ttotal: 6.54s\tremaining: 5.57s\n",
      "108:\ttest: 0.8717950\tbest: 0.8740486 (48)\ttotal: 6.6s\tremaining: 5.51s\n",
      "109:\ttest: 0.8716466\tbest: 0.8740486 (48)\ttotal: 6.65s\tremaining: 5.44s\n",
      "110:\ttest: 0.8715704\tbest: 0.8740486 (48)\ttotal: 6.72s\tremaining: 5.38s\n",
      "111:\ttest: 0.8716707\tbest: 0.8740486 (48)\ttotal: 6.77s\tremaining: 5.32s\n",
      "112:\ttest: 0.8717148\tbest: 0.8740486 (48)\ttotal: 6.84s\tremaining: 5.26s\n",
      "113:\ttest: 0.8724326\tbest: 0.8740486 (48)\ttotal: 6.89s\tremaining: 5.2s\n",
      "114:\ttest: 0.8724647\tbest: 0.8740486 (48)\ttotal: 6.94s\tremaining: 5.13s\n",
      "115:\ttest: 0.8722802\tbest: 0.8740486 (48)\ttotal: 7s\tremaining: 5.07s\n",
      "116:\ttest: 0.8721278\tbest: 0.8740486 (48)\ttotal: 7.05s\tremaining: 5s\n",
      "117:\ttest: 0.8720957\tbest: 0.8740486 (48)\ttotal: 7.12s\tremaining: 4.95s\n",
      "118:\ttest: 0.8720436\tbest: 0.8740486 (48)\ttotal: 7.17s\tremaining: 4.88s\n",
      "119:\ttest: 0.8718992\tbest: 0.8740486 (48)\ttotal: 7.23s\tremaining: 4.82s\n",
      "120:\ttest: 0.8718591\tbest: 0.8740486 (48)\ttotal: 7.29s\tremaining: 4.76s\n",
      "121:\ttest: 0.8718190\tbest: 0.8740486 (48)\ttotal: 7.34s\tremaining: 4.7s\n",
      "122:\ttest: 0.8719875\tbest: 0.8740486 (48)\ttotal: 7.4s\tremaining: 4.63s\n",
      "123:\ttest: 0.8720396\tbest: 0.8740486 (48)\ttotal: 7.47s\tremaining: 4.58s\n",
      "124:\ttest: 0.8718471\tbest: 0.8740486 (48)\ttotal: 7.55s\tremaining: 4.53s\n",
      "125:\ttest: 0.8719313\tbest: 0.8740486 (48)\ttotal: 7.62s\tremaining: 4.47s\n",
      "126:\ttest: 0.8717910\tbest: 0.8740486 (48)\ttotal: 7.68s\tremaining: 4.42s\n",
      "127:\ttest: 0.8717188\tbest: 0.8740486 (48)\ttotal: 7.76s\tremaining: 4.36s\n",
      "128:\ttest: 0.8715704\tbest: 0.8740486 (48)\ttotal: 7.84s\tremaining: 4.32s\n",
      "129:\ttest: 0.8718712\tbest: 0.8740486 (48)\ttotal: 7.96s\tremaining: 4.29s\n",
      "130:\ttest: 0.8719313\tbest: 0.8740486 (48)\ttotal: 8.02s\tremaining: 4.23s\n",
      "131:\ttest: 0.8720195\tbest: 0.8740486 (48)\ttotal: 8.09s\tremaining: 4.17s\n",
      "132:\ttest: 0.8720997\tbest: 0.8740486 (48)\ttotal: 8.18s\tremaining: 4.12s\n",
      "133:\ttest: 0.8719514\tbest: 0.8740486 (48)\ttotal: 8.36s\tremaining: 4.12s\n",
      "134:\ttest: 0.8720356\tbest: 0.8740486 (48)\ttotal: 8.46s\tremaining: 4.07s\n",
      "135:\ttest: 0.8716987\tbest: 0.8740486 (48)\ttotal: 8.55s\tremaining: 4.02s\n",
      "136:\ttest: 0.8716747\tbest: 0.8740486 (48)\ttotal: 8.67s\tremaining: 3.98s\n",
      "137:\ttest: 0.8717910\tbest: 0.8740486 (48)\ttotal: 8.73s\tremaining: 3.92s\n",
      "138:\ttest: 0.8718912\tbest: 0.8740486 (48)\ttotal: 8.81s\tremaining: 3.87s\n",
      "139:\ttest: 0.8718110\tbest: 0.8740486 (48)\ttotal: 8.91s\tremaining: 3.82s\n",
      "140:\ttest: 0.8716105\tbest: 0.8740486 (48)\ttotal: 8.97s\tremaining: 3.75s\n",
      "141:\ttest: 0.8718110\tbest: 0.8740486 (48)\ttotal: 9.03s\tremaining: 3.69s\n",
      "142:\ttest: 0.8718150\tbest: 0.8740486 (48)\ttotal: 9.09s\tremaining: 3.63s\n",
      "143:\ttest: 0.8716466\tbest: 0.8740486 (48)\ttotal: 9.16s\tremaining: 3.56s\n",
      "144:\ttest: 0.8719915\tbest: 0.8740486 (48)\ttotal: 9.21s\tremaining: 3.49s\n",
      "145:\ttest: 0.8721118\tbest: 0.8740486 (48)\ttotal: 9.26s\tremaining: 3.43s\n",
      "146:\ttest: 0.8720677\tbest: 0.8740486 (48)\ttotal: 9.33s\tremaining: 3.36s\n",
      "147:\ttest: 0.8721479\tbest: 0.8740486 (48)\ttotal: 9.39s\tremaining: 3.3s\n",
      "148:\ttest: 0.8722000\tbest: 0.8740486 (48)\ttotal: 9.44s\tremaining: 3.23s\n",
      "149:\ttest: 0.8722200\tbest: 0.8740486 (48)\ttotal: 9.49s\tremaining: 3.16s\n",
      "150:\ttest: 0.8725970\tbest: 0.8740486 (48)\ttotal: 9.56s\tremaining: 3.1s\n",
      "151:\ttest: 0.8727213\tbest: 0.8740486 (48)\ttotal: 9.62s\tremaining: 3.04s\n",
      "152:\ttest: 0.8728737\tbest: 0.8740486 (48)\ttotal: 9.69s\tremaining: 2.98s\n",
      "153:\ttest: 0.8727454\tbest: 0.8740486 (48)\ttotal: 9.74s\tremaining: 2.91s\n",
      "154:\ttest: 0.8727734\tbest: 0.8740486 (48)\ttotal: 9.81s\tremaining: 2.85s\n",
      "155:\ttest: 0.8725609\tbest: 0.8740486 (48)\ttotal: 9.88s\tremaining: 2.79s\n",
      "156:\ttest: 0.8725248\tbest: 0.8740486 (48)\ttotal: 9.94s\tremaining: 2.72s\n",
      "157:\ttest: 0.8725128\tbest: 0.8740486 (48)\ttotal: 10s\tremaining: 2.66s\n",
      "158:\ttest: 0.8727614\tbest: 0.8740486 (48)\ttotal: 10.1s\tremaining: 2.6s\n",
      "159:\ttest: 0.8725529\tbest: 0.8740486 (48)\ttotal: 10.1s\tremaining: 2.53s\n",
      "160:\ttest: 0.8725850\tbest: 0.8740486 (48)\ttotal: 10.2s\tremaining: 2.46s\n",
      "161:\ttest: 0.8729218\tbest: 0.8740486 (48)\ttotal: 10.2s\tremaining: 2.4s\n",
      "162:\ttest: 0.8730020\tbest: 0.8740486 (48)\ttotal: 10.3s\tremaining: 2.33s\n",
      "163:\ttest: 0.8729619\tbest: 0.8740486 (48)\ttotal: 10.3s\tremaining: 2.27s\n",
      "164:\ttest: 0.8729980\tbest: 0.8740486 (48)\ttotal: 10.4s\tremaining: 2.21s\n",
      "165:\ttest: 0.8730902\tbest: 0.8740486 (48)\ttotal: 10.5s\tremaining: 2.14s\n",
      "166:\ttest: 0.8729900\tbest: 0.8740486 (48)\ttotal: 10.5s\tremaining: 2.08s\n",
      "167:\ttest: 0.8729499\tbest: 0.8740486 (48)\ttotal: 10.6s\tremaining: 2.02s\n",
      "168:\ttest: 0.8729940\tbest: 0.8740486 (48)\ttotal: 10.7s\tremaining: 1.96s\n",
      "169:\ttest: 0.8733268\tbest: 0.8740486 (48)\ttotal: 10.8s\tremaining: 1.9s\n",
      "170:\ttest: 0.8733589\tbest: 0.8740486 (48)\ttotal: 10.9s\tremaining: 1.84s\n",
      "171:\ttest: 0.8733749\tbest: 0.8740486 (48)\ttotal: 11s\tremaining: 1.78s\n",
      "172:\ttest: 0.8732907\tbest: 0.8740486 (48)\ttotal: 11s\tremaining: 1.72s\n",
      "173:\ttest: 0.8732466\tbest: 0.8740486 (48)\ttotal: 11.1s\tremaining: 1.66s\n",
      "174:\ttest: 0.8733068\tbest: 0.8740486 (48)\ttotal: 11.2s\tremaining: 1.59s\n",
      "175:\ttest: 0.8735393\tbest: 0.8740486 (48)\ttotal: 11.2s\tremaining: 1.53s\n",
      "176:\ttest: 0.8734431\tbest: 0.8740486 (48)\ttotal: 11.3s\tremaining: 1.47s\n",
      "177:\ttest: 0.8734551\tbest: 0.8740486 (48)\ttotal: 11.4s\tremaining: 1.4s\n",
      "178:\ttest: 0.8734832\tbest: 0.8740486 (48)\ttotal: 11.5s\tremaining: 1.34s\n",
      "179:\ttest: 0.8733990\tbest: 0.8740486 (48)\ttotal: 11.5s\tremaining: 1.28s\n",
      "180:\ttest: 0.8733549\tbest: 0.8740486 (48)\ttotal: 11.6s\tremaining: 1.22s\n",
      "181:\ttest: 0.8730862\tbest: 0.8740486 (48)\ttotal: 11.7s\tremaining: 1.15s\n",
      "182:\ttest: 0.8730581\tbest: 0.8740486 (48)\ttotal: 11.7s\tremaining: 1.09s\n",
      "183:\ttest: 0.8734792\tbest: 0.8740486 (48)\ttotal: 11.8s\tremaining: 1.02s\n",
      "184:\ttest: 0.8734672\tbest: 0.8740486 (48)\ttotal: 11.8s\tremaining: 960ms\n",
      "185:\ttest: 0.8733749\tbest: 0.8740486 (48)\ttotal: 11.9s\tremaining: 895ms\n",
      "186:\ttest: 0.8733348\tbest: 0.8740486 (48)\ttotal: 11.9s\tremaining: 831ms\n",
      "187:\ttest: 0.8733870\tbest: 0.8740486 (48)\ttotal: 12s\tremaining: 767ms\n",
      "188:\ttest: 0.8733990\tbest: 0.8740486 (48)\ttotal: 12.1s\tremaining: 703ms\n",
      "189:\ttest: 0.8733268\tbest: 0.8740486 (48)\ttotal: 12.2s\tremaining: 639ms\n",
      "190:\ttest: 0.8731945\tbest: 0.8740486 (48)\ttotal: 12.2s\tremaining: 575ms\n",
      "191:\ttest: 0.8730782\tbest: 0.8740486 (48)\ttotal: 12.3s\tremaining: 511ms\n",
      "192:\ttest: 0.8729900\tbest: 0.8740486 (48)\ttotal: 12.3s\tremaining: 447ms\n",
      "193:\ttest: 0.8729378\tbest: 0.8740486 (48)\ttotal: 12.4s\tremaining: 383ms\n",
      "194:\ttest: 0.8729539\tbest: 0.8740486 (48)\ttotal: 12.4s\tremaining: 319ms\n",
      "195:\ttest: 0.8730702\tbest: 0.8740486 (48)\ttotal: 12.5s\tremaining: 255ms\n",
      "196:\ttest: 0.8729298\tbest: 0.8740486 (48)\ttotal: 12.5s\tremaining: 191ms\n",
      "197:\ttest: 0.8727534\tbest: 0.8740486 (48)\ttotal: 12.6s\tremaining: 127ms\n",
      "198:\ttest: 0.8726491\tbest: 0.8740486 (48)\ttotal: 12.7s\tremaining: 63.7ms\n",
      "199:\ttest: 0.8725930\tbest: 0.8740486 (48)\ttotal: 12.7s\tremaining: 0us\n",
      "\n",
      "bestTest = 0.8740486177\n",
      "bestIteration = 48\n",
      "\n",
      "Shrink model to first 49 iterations.\n",
      "0:\ttest: 0.5933497\tbest: 0.5933497 (0)\ttotal: 54.3ms\tremaining: 10.8s\n",
      "1:\ttest: 0.7552572\tbest: 0.7552572 (1)\ttotal: 103ms\tremaining: 10.2s\n",
      "2:\ttest: 0.7957445\tbest: 0.7957445 (2)\ttotal: 170ms\tremaining: 11.2s\n",
      "3:\ttest: 0.8234038\tbest: 0.8234038 (3)\ttotal: 267ms\tremaining: 13.1s\n",
      "4:\ttest: 0.8377818\tbest: 0.8377818 (4)\ttotal: 329ms\tremaining: 12.8s\n",
      "5:\ttest: 0.8379923\tbest: 0.8379923 (5)\ttotal: 388ms\tremaining: 12.6s\n",
      "6:\ttest: 0.8392234\tbest: 0.8392234 (6)\ttotal: 461ms\tremaining: 12.7s\n",
      "7:\ttest: 0.8419041\tbest: 0.8419041 (7)\ttotal: 522ms\tremaining: 12.5s\n",
      "8:\ttest: 0.8460846\tbest: 0.8460846 (8)\ttotal: 579ms\tremaining: 12.3s\n",
      "9:\ttest: 0.8460726\tbest: 0.8460846 (8)\ttotal: 604ms\tremaining: 11.5s\n",
      "10:\ttest: 0.8439813\tbest: 0.8460846 (8)\ttotal: 667ms\tremaining: 11.5s\n",
      "11:\ttest: 0.8438209\tbest: 0.8460846 (8)\ttotal: 749ms\tremaining: 11.7s\n",
      "12:\ttest: 0.8460706\tbest: 0.8460846 (8)\ttotal: 810ms\tremaining: 11.7s\n",
      "13:\ttest: 0.8465959\tbest: 0.8465959 (13)\ttotal: 896ms\tremaining: 11.9s\n",
      "14:\ttest: 0.8465959\tbest: 0.8465959 (13)\ttotal: 920ms\tremaining: 11.4s\n",
      "15:\ttest: 0.8456655\tbest: 0.8465959 (13)\ttotal: 990ms\tremaining: 11.4s\n",
      "16:\ttest: 0.8433317\tbest: 0.8465959 (13)\ttotal: 1.06s\tremaining: 11.4s\n",
      "17:\ttest: 0.8413788\tbest: 0.8465959 (13)\ttotal: 1.13s\tremaining: 11.4s\n",
      "18:\ttest: 0.8419242\tbest: 0.8465959 (13)\ttotal: 1.19s\tremaining: 11.4s\n",
      "19:\ttest: 0.8413989\tbest: 0.8465959 (13)\ttotal: 1.23s\tremaining: 11s\n",
      "20:\ttest: 0.8419482\tbest: 0.8465959 (13)\ttotal: 1.28s\tremaining: 10.9s\n",
      "21:\ttest: 0.8443302\tbest: 0.8465959 (13)\ttotal: 1.34s\tremaining: 10.9s\n",
      "22:\ttest: 0.8427101\tbest: 0.8465959 (13)\ttotal: 1.4s\tremaining: 10.8s\n",
      "23:\ttest: 0.8438891\tbest: 0.8465959 (13)\ttotal: 1.46s\tremaining: 10.7s\n",
      "24:\ttest: 0.8442300\tbest: 0.8465959 (13)\ttotal: 1.49s\tremaining: 10.5s\n",
      "25:\ttest: 0.8466480\tbest: 0.8466480 (25)\ttotal: 1.55s\tremaining: 10.4s\n",
      "26:\ttest: 0.8469287\tbest: 0.8469287 (26)\ttotal: 1.62s\tremaining: 10.4s\n",
      "27:\ttest: 0.8460184\tbest: 0.8469287 (26)\ttotal: 1.68s\tremaining: 10.3s\n",
      "28:\ttest: 0.8488054\tbest: 0.8488054 (28)\ttotal: 1.74s\tremaining: 10.2s\n",
      "29:\ttest: 0.8510270\tbest: 0.8510270 (29)\ttotal: 1.8s\tremaining: 10.2s\n",
      "30:\ttest: 0.8508626\tbest: 0.8510270 (29)\ttotal: 1.85s\tremaining: 10.1s\n",
      "31:\ttest: 0.8505819\tbest: 0.8510270 (29)\ttotal: 1.91s\tremaining: 10s\n",
      "32:\ttest: 0.8511152\tbest: 0.8511152 (32)\ttotal: 1.98s\tremaining: 10s\n",
      "33:\ttest: 0.8517167\tbest: 0.8517167 (33)\ttotal: 2.03s\tremaining: 9.93s\n",
      "34:\ttest: 0.8512756\tbest: 0.8517167 (33)\ttotal: 2.08s\tremaining: 9.83s\n",
      "35:\ttest: 0.8513317\tbest: 0.8517167 (33)\ttotal: 2.14s\tremaining: 9.75s\n",
      "36:\ttest: 0.8516846\tbest: 0.8517167 (33)\ttotal: 2.2s\tremaining: 9.71s\n",
      "37:\ttest: 0.8514681\tbest: 0.8517167 (33)\ttotal: 2.26s\tremaining: 9.64s\n",
      "38:\ttest: 0.8509708\tbest: 0.8517167 (33)\ttotal: 2.31s\tremaining: 9.56s\n",
      "39:\ttest: 0.8509227\tbest: 0.8517167 (33)\ttotal: 2.37s\tremaining: 9.47s\n",
      "40:\ttest: 0.8508746\tbest: 0.8517167 (33)\ttotal: 2.42s\tremaining: 9.41s\n",
      "41:\ttest: 0.8511673\tbest: 0.8517167 (33)\ttotal: 2.49s\tremaining: 9.35s\n",
      "42:\ttest: 0.8511072\tbest: 0.8517167 (33)\ttotal: 2.54s\tremaining: 9.28s\n",
      "43:\ttest: 0.8518530\tbest: 0.8518530 (43)\ttotal: 2.59s\tremaining: 9.2s\n",
      "44:\ttest: 0.8521939\tbest: 0.8521939 (44)\ttotal: 2.67s\tremaining: 9.19s\n",
      "45:\ttest: 0.8525307\tbest: 0.8525307 (45)\ttotal: 2.73s\tremaining: 9.13s\n",
      "46:\ttest: 0.8522099\tbest: 0.8525307 (45)\ttotal: 2.78s\tremaining: 9.06s\n",
      "47:\ttest: 0.8525187\tbest: 0.8525307 (45)\ttotal: 2.85s\tremaining: 9.03s\n",
      "48:\ttest: 0.8525267\tbest: 0.8525307 (45)\ttotal: 2.92s\tremaining: 9s\n",
      "49:\ttest: 0.8527272\tbest: 0.8527272 (49)\ttotal: 2.98s\tremaining: 8.94s\n",
      "50:\ttest: 0.8530520\tbest: 0.8530520 (50)\ttotal: 3.04s\tremaining: 8.88s\n",
      "51:\ttest: 0.8539262\tbest: 0.8539262 (51)\ttotal: 3.11s\tremaining: 8.84s\n",
      "52:\ttest: 0.8537738\tbest: 0.8539262 (51)\ttotal: 3.19s\tremaining: 8.86s\n",
      "53:\ttest: 0.8536094\tbest: 0.8539262 (51)\ttotal: 3.28s\tremaining: 8.88s\n",
      "54:\ttest: 0.8542069\tbest: 0.8542069 (54)\ttotal: 3.35s\tremaining: 8.84s\n",
      "55:\ttest: 0.8532405\tbest: 0.8542069 (54)\ttotal: 3.42s\tremaining: 8.8s\n",
      "56:\ttest: 0.8529518\tbest: 0.8542069 (54)\ttotal: 3.49s\tremaining: 8.76s\n",
      "57:\ttest: 0.8536175\tbest: 0.8542069 (54)\ttotal: 3.56s\tremaining: 8.71s\n",
      "58:\ttest: 0.8536535\tbest: 0.8542069 (54)\ttotal: 3.61s\tremaining: 8.64s\n",
      "59:\ttest: 0.8535373\tbest: 0.8542069 (54)\ttotal: 3.67s\tremaining: 8.55s\n",
      "60:\ttest: 0.8534691\tbest: 0.8542069 (54)\ttotal: 3.76s\tremaining: 8.57s\n",
      "61:\ttest: 0.8535252\tbest: 0.8542069 (54)\ttotal: 3.83s\tremaining: 8.53s\n",
      "62:\ttest: 0.8534972\tbest: 0.8542069 (54)\ttotal: 3.9s\tremaining: 8.48s\n",
      "63:\ttest: 0.8533408\tbest: 0.8542069 (54)\ttotal: 3.97s\tremaining: 8.44s\n",
      "64:\ttest: 0.8536896\tbest: 0.8542069 (54)\ttotal: 4.04s\tremaining: 8.38s\n",
      "65:\ttest: 0.8539503\tbest: 0.8542069 (54)\ttotal: 4.08s\tremaining: 8.27s\n",
      "66:\ttest: 0.8543673\tbest: 0.8543673 (66)\ttotal: 4.13s\tremaining: 8.19s\n",
      "67:\ttest: 0.8545518\tbest: 0.8545518 (67)\ttotal: 4.17s\tremaining: 8.09s\n",
      "68:\ttest: 0.8543353\tbest: 0.8545518 (67)\ttotal: 4.24s\tremaining: 8.06s\n",
      "69:\ttest: 0.8539182\tbest: 0.8545518 (67)\ttotal: 4.3s\tremaining: 7.99s\n",
      "70:\ttest: 0.8539142\tbest: 0.8545518 (67)\ttotal: 4.37s\tremaining: 7.94s\n",
      "71:\ttest: 0.8537578\tbest: 0.8545518 (67)\ttotal: 4.43s\tremaining: 7.88s\n",
      "72:\ttest: 0.8535894\tbest: 0.8545518 (67)\ttotal: 4.49s\tremaining: 7.81s\n",
      "73:\ttest: 0.8537097\tbest: 0.8545518 (67)\ttotal: 4.53s\tremaining: 7.72s\n",
      "74:\ttest: 0.8536014\tbest: 0.8545518 (67)\ttotal: 4.6s\tremaining: 7.66s\n",
      "75:\ttest: 0.8538260\tbest: 0.8545518 (67)\ttotal: 4.68s\tremaining: 7.63s\n",
      "76:\ttest: 0.8542551\tbest: 0.8545518 (67)\ttotal: 4.72s\tremaining: 7.54s\n",
      "77:\ttest: 0.8548846\tbest: 0.8548846 (77)\ttotal: 4.77s\tremaining: 7.46s\n",
      "78:\ttest: 0.8551774\tbest: 0.8551774 (78)\ttotal: 4.83s\tremaining: 7.4s\n",
      "79:\ttest: 0.8553297\tbest: 0.8553297 (79)\ttotal: 4.88s\tremaining: 7.33s\n",
      "80:\ttest: 0.8556866\tbest: 0.8556866 (80)\ttotal: 4.93s\tremaining: 7.24s\n",
      "81:\ttest: 0.8558310\tbest: 0.8558310 (81)\ttotal: 4.97s\tremaining: 7.16s\n",
      "82:\ttest: 0.8561518\tbest: 0.8561518 (82)\ttotal: 5.02s\tremaining: 7.08s\n",
      "83:\ttest: 0.8563924\tbest: 0.8563924 (83)\ttotal: 5.08s\tremaining: 7.02s\n",
      "84:\ttest: 0.8561478\tbest: 0.8563924 (83)\ttotal: 5.13s\tremaining: 6.95s\n",
      "85:\ttest: 0.8558310\tbest: 0.8563924 (83)\ttotal: 5.18s\tremaining: 6.87s\n",
      "86:\ttest: 0.8558390\tbest: 0.8563924 (83)\ttotal: 5.21s\tremaining: 6.77s\n",
      "87:\ttest: 0.8558150\tbest: 0.8563924 (83)\ttotal: 5.27s\tremaining: 6.7s\n",
      "88:\ttest: 0.8562360\tbest: 0.8563924 (83)\ttotal: 5.31s\tremaining: 6.63s\n",
      "89:\ttest: 0.8557428\tbest: 0.8563924 (83)\ttotal: 5.36s\tremaining: 6.55s\n",
      "90:\ttest: 0.8559513\tbest: 0.8563924 (83)\ttotal: 5.41s\tremaining: 6.48s\n",
      "91:\ttest: 0.8559633\tbest: 0.8563924 (83)\ttotal: 5.47s\tremaining: 6.42s\n",
      "92:\ttest: 0.8561598\tbest: 0.8563924 (83)\ttotal: 5.52s\tremaining: 6.35s\n",
      "93:\ttest: 0.8560115\tbest: 0.8563924 (83)\ttotal: 5.58s\tremaining: 6.29s\n",
      "94:\ttest: 0.8564967\tbest: 0.8564967 (94)\ttotal: 5.68s\tremaining: 6.28s\n",
      "95:\ttest: 0.8561879\tbest: 0.8564967 (94)\ttotal: 5.79s\tremaining: 6.27s\n",
      "96:\ttest: 0.8560074\tbest: 0.8564967 (94)\ttotal: 5.87s\tremaining: 6.24s\n",
      "97:\ttest: 0.8557588\tbest: 0.8564967 (94)\ttotal: 5.94s\tremaining: 6.18s\n",
      "98:\ttest: 0.8557348\tbest: 0.8564967 (94)\ttotal: 5.99s\tremaining: 6.11s\n",
      "99:\ttest: 0.8555904\tbest: 0.8564967 (94)\ttotal: 6.03s\tremaining: 6.03s\n",
      "100:\ttest: 0.8554019\tbest: 0.8564967 (94)\ttotal: 6.08s\tremaining: 5.96s\n",
      "101:\ttest: 0.8558791\tbest: 0.8564967 (94)\ttotal: 6.14s\tremaining: 5.9s\n",
      "102:\ttest: 0.8555784\tbest: 0.8564967 (94)\ttotal: 6.18s\tremaining: 5.82s\n",
      "103:\ttest: 0.8555784\tbest: 0.8564967 (94)\ttotal: 6.23s\tremaining: 5.75s\n",
      "104:\ttest: 0.8558350\tbest: 0.8564967 (94)\ttotal: 6.27s\tremaining: 5.68s\n",
      "105:\ttest: 0.8564967\tbest: 0.8564967 (94)\ttotal: 6.33s\tremaining: 5.62s\n",
      "106:\ttest: 0.8566210\tbest: 0.8566210 (106)\ttotal: 6.38s\tremaining: 5.54s\n",
      "107:\ttest: 0.8566651\tbest: 0.8566651 (107)\ttotal: 6.43s\tremaining: 5.48s\n",
      "108:\ttest: 0.8568776\tbest: 0.8568776 (108)\ttotal: 6.47s\tremaining: 5.4s\n",
      "109:\ttest: 0.8569899\tbest: 0.8569899 (109)\ttotal: 6.54s\tremaining: 5.35s\n",
      "110:\ttest: 0.8571142\tbest: 0.8571142 (110)\ttotal: 6.58s\tremaining: 5.28s\n",
      "111:\ttest: 0.8570140\tbest: 0.8571142 (110)\ttotal: 6.63s\tremaining: 5.21s\n",
      "112:\ttest: 0.8572987\tbest: 0.8572987 (112)\ttotal: 6.67s\tremaining: 5.14s\n",
      "113:\ttest: 0.8571303\tbest: 0.8572987 (112)\ttotal: 6.73s\tremaining: 5.08s\n",
      "114:\ttest: 0.8571142\tbest: 0.8572987 (112)\ttotal: 6.78s\tremaining: 5.01s\n",
      "115:\ttest: 0.8572706\tbest: 0.8572987 (112)\ttotal: 6.83s\tremaining: 4.94s\n",
      "116:\ttest: 0.8567734\tbest: 0.8572987 (112)\ttotal: 6.87s\tremaining: 4.87s\n",
      "117:\ttest: 0.8565929\tbest: 0.8572987 (112)\ttotal: 6.95s\tremaining: 4.83s\n",
      "118:\ttest: 0.8565287\tbest: 0.8572987 (112)\ttotal: 7s\tremaining: 4.77s\n",
      "119:\ttest: 0.8565849\tbest: 0.8572987 (112)\ttotal: 7.05s\tremaining: 4.7s\n",
      "120:\ttest: 0.8565007\tbest: 0.8572987 (112)\ttotal: 7.11s\tremaining: 4.64s\n",
      "121:\ttest: 0.8565087\tbest: 0.8572987 (112)\ttotal: 7.16s\tremaining: 4.58s\n",
      "122:\ttest: 0.8564084\tbest: 0.8572987 (112)\ttotal: 7.2s\tremaining: 4.51s\n",
      "123:\ttest: 0.8560836\tbest: 0.8572987 (112)\ttotal: 7.25s\tremaining: 4.44s\n",
      "124:\ttest: 0.8560235\tbest: 0.8572987 (112)\ttotal: 7.3s\tremaining: 4.38s\n",
      "125:\ttest: 0.8560435\tbest: 0.8572987 (112)\ttotal: 7.33s\tremaining: 4.31s\n",
      "126:\ttest: 0.8563603\tbest: 0.8572987 (112)\ttotal: 7.39s\tremaining: 4.25s\n",
      "127:\ttest: 0.8565247\tbest: 0.8572987 (112)\ttotal: 7.44s\tremaining: 4.19s\n",
      "128:\ttest: 0.8566049\tbest: 0.8572987 (112)\ttotal: 7.49s\tremaining: 4.12s\n",
      "129:\ttest: 0.8563483\tbest: 0.8572987 (112)\ttotal: 7.55s\tremaining: 4.07s\n",
      "130:\ttest: 0.8561598\tbest: 0.8572987 (112)\ttotal: 7.6s\tremaining: 4s\n",
      "131:\ttest: 0.8562160\tbest: 0.8572987 (112)\ttotal: 7.67s\tremaining: 3.95s\n",
      "132:\ttest: 0.8563403\tbest: 0.8572987 (112)\ttotal: 7.75s\tremaining: 3.9s\n",
      "133:\ttest: 0.8565688\tbest: 0.8572987 (112)\ttotal: 7.81s\tremaining: 3.85s\n",
      "134:\ttest: 0.8564205\tbest: 0.8572987 (112)\ttotal: 7.88s\tremaining: 3.79s\n",
      "135:\ttest: 0.8563844\tbest: 0.8572987 (112)\ttotal: 7.95s\tremaining: 3.74s\n",
      "136:\ttest: 0.8561518\tbest: 0.8572987 (112)\ttotal: 8s\tremaining: 3.68s\n",
      "137:\ttest: 0.8561478\tbest: 0.8572987 (112)\ttotal: 8.06s\tremaining: 3.62s\n",
      "138:\ttest: 0.8561999\tbest: 0.8572987 (112)\ttotal: 8.15s\tremaining: 3.58s\n",
      "139:\ttest: 0.8563323\tbest: 0.8572987 (112)\ttotal: 8.25s\tremaining: 3.54s\n",
      "140:\ttest: 0.8563002\tbest: 0.8572987 (112)\ttotal: 8.35s\tremaining: 3.49s\n",
      "141:\ttest: 0.8562601\tbest: 0.8572987 (112)\ttotal: 8.43s\tremaining: 3.44s\n",
      "142:\ttest: 0.8563042\tbest: 0.8572987 (112)\ttotal: 8.49s\tremaining: 3.38s\n",
      "143:\ttest: 0.8563242\tbest: 0.8572987 (112)\ttotal: 8.57s\tremaining: 3.33s\n",
      "144:\ttest: 0.8561759\tbest: 0.8572987 (112)\ttotal: 8.64s\tremaining: 3.27s\n",
      "145:\ttest: 0.8563002\tbest: 0.8572987 (112)\ttotal: 8.69s\tremaining: 3.21s\n",
      "146:\ttest: 0.8561037\tbest: 0.8572987 (112)\ttotal: 8.76s\tremaining: 3.16s\n",
      "147:\ttest: 0.8564806\tbest: 0.8572987 (112)\ttotal: 8.82s\tremaining: 3.1s\n",
      "148:\ttest: 0.8563363\tbest: 0.8572987 (112)\ttotal: 8.88s\tremaining: 3.04s\n",
      "149:\ttest: 0.8560836\tbest: 0.8572987 (112)\ttotal: 8.93s\tremaining: 2.98s\n",
      "150:\ttest: 0.8559433\tbest: 0.8572987 (112)\ttotal: 8.99s\tremaining: 2.92s\n",
      "151:\ttest: 0.8559914\tbest: 0.8572987 (112)\ttotal: 9.05s\tremaining: 2.86s\n",
      "152:\ttest: 0.8559834\tbest: 0.8572987 (112)\ttotal: 9.11s\tremaining: 2.8s\n",
      "153:\ttest: 0.8558912\tbest: 0.8572987 (112)\ttotal: 9.17s\tremaining: 2.74s\n",
      "154:\ttest: 0.8557428\tbest: 0.8572987 (112)\ttotal: 9.23s\tremaining: 2.68s\n",
      "155:\ttest: 0.8554661\tbest: 0.8572987 (112)\ttotal: 9.28s\tremaining: 2.62s\n",
      "156:\ttest: 0.8557227\tbest: 0.8572987 (112)\ttotal: 9.35s\tremaining: 2.56s\n",
      "157:\ttest: 0.8558310\tbest: 0.8572987 (112)\ttotal: 9.41s\tremaining: 2.5s\n",
      "158:\ttest: 0.8555343\tbest: 0.8572987 (112)\ttotal: 9.47s\tremaining: 2.44s\n",
      "159:\ttest: 0.8554821\tbest: 0.8572987 (112)\ttotal: 9.54s\tremaining: 2.38s\n",
      "160:\ttest: 0.8554019\tbest: 0.8572987 (112)\ttotal: 9.59s\tremaining: 2.32s\n",
      "161:\ttest: 0.8556546\tbest: 0.8572987 (112)\ttotal: 9.65s\tremaining: 2.26s\n",
      "162:\ttest: 0.8555262\tbest: 0.8572987 (112)\ttotal: 9.7s\tremaining: 2.2s\n",
      "163:\ttest: 0.8556826\tbest: 0.8572987 (112)\ttotal: 9.75s\tremaining: 2.14s\n",
      "164:\ttest: 0.8557468\tbest: 0.8572987 (112)\ttotal: 9.81s\tremaining: 2.08s\n",
      "165:\ttest: 0.8556666\tbest: 0.8572987 (112)\ttotal: 9.88s\tremaining: 2.02s\n",
      "166:\ttest: 0.8557348\tbest: 0.8572987 (112)\ttotal: 9.94s\tremaining: 1.96s\n",
      "167:\ttest: 0.8559192\tbest: 0.8572987 (112)\ttotal: 10s\tremaining: 1.9s\n",
      "168:\ttest: 0.8560475\tbest: 0.8572987 (112)\ttotal: 10.1s\tremaining: 1.84s\n",
      "169:\ttest: 0.8561518\tbest: 0.8572987 (112)\ttotal: 10.1s\tremaining: 1.78s\n",
      "170:\ttest: 0.8555904\tbest: 0.8572987 (112)\ttotal: 10.2s\tremaining: 1.72s\n",
      "171:\ttest: 0.8556505\tbest: 0.8572987 (112)\ttotal: 10.2s\tremaining: 1.67s\n",
      "172:\ttest: 0.8556666\tbest: 0.8572987 (112)\ttotal: 10.3s\tremaining: 1.61s\n",
      "173:\ttest: 0.8556546\tbest: 0.8572987 (112)\ttotal: 10.3s\tremaining: 1.55s\n",
      "174:\ttest: 0.8555343\tbest: 0.8572987 (112)\ttotal: 10.4s\tremaining: 1.49s\n",
      "175:\ttest: 0.8556345\tbest: 0.8572987 (112)\ttotal: 10.5s\tremaining: 1.43s\n",
      "176:\ttest: 0.8556626\tbest: 0.8572987 (112)\ttotal: 10.5s\tremaining: 1.37s\n",
      "177:\ttest: 0.8558390\tbest: 0.8572987 (112)\ttotal: 10.6s\tremaining: 1.31s\n",
      "178:\ttest: 0.8559112\tbest: 0.8572987 (112)\ttotal: 10.6s\tremaining: 1.25s\n",
      "179:\ttest: 0.8555383\tbest: 0.8572987 (112)\ttotal: 10.7s\tremaining: 1.19s\n",
      "180:\ttest: 0.8555503\tbest: 0.8572987 (112)\ttotal: 10.8s\tremaining: 1.13s\n",
      "181:\ttest: 0.8556786\tbest: 0.8572987 (112)\ttotal: 10.8s\tremaining: 1.07s\n",
      "182:\ttest: 0.8558310\tbest: 0.8572987 (112)\ttotal: 10.9s\tremaining: 1.01s\n",
      "183:\ttest: 0.8556345\tbest: 0.8572987 (112)\ttotal: 11s\tremaining: 953ms\n",
      "184:\ttest: 0.8556064\tbest: 0.8572987 (112)\ttotal: 11s\tremaining: 893ms\n",
      "185:\ttest: 0.8560435\tbest: 0.8572987 (112)\ttotal: 11.1s\tremaining: 833ms\n",
      "186:\ttest: 0.8559754\tbest: 0.8572987 (112)\ttotal: 11.1s\tremaining: 774ms\n",
      "187:\ttest: 0.8560034\tbest: 0.8572987 (112)\ttotal: 11.2s\tremaining: 716ms\n",
      "188:\ttest: 0.8559914\tbest: 0.8572987 (112)\ttotal: 11.3s\tremaining: 656ms\n",
      "189:\ttest: 0.8559473\tbest: 0.8572987 (112)\ttotal: 11.3s\tremaining: 597ms\n",
      "190:\ttest: 0.8559954\tbest: 0.8572987 (112)\ttotal: 11.4s\tremaining: 535ms\n",
      "191:\ttest: 0.8559593\tbest: 0.8572987 (112)\ttotal: 11.4s\tremaining: 476ms\n",
      "192:\ttest: 0.8561237\tbest: 0.8572987 (112)\ttotal: 11.5s\tremaining: 417ms\n",
      "193:\ttest: 0.8561598\tbest: 0.8572987 (112)\ttotal: 11.5s\tremaining: 357ms\n",
      "194:\ttest: 0.8560155\tbest: 0.8572987 (112)\ttotal: 11.6s\tremaining: 298ms\n",
      "195:\ttest: 0.8559433\tbest: 0.8572987 (112)\ttotal: 11.7s\tremaining: 238ms\n",
      "196:\ttest: 0.8560115\tbest: 0.8572987 (112)\ttotal: 11.8s\tremaining: 179ms\n",
      "197:\ttest: 0.8561919\tbest: 0.8572987 (112)\ttotal: 11.9s\tremaining: 120ms\n",
      "198:\ttest: 0.8560435\tbest: 0.8572987 (112)\ttotal: 11.9s\tremaining: 59.9ms\n",
      "199:\ttest: 0.8562079\tbest: 0.8572987 (112)\ttotal: 12s\tremaining: 0us\n",
      "\n",
      "bestTest = 0.8572986759\n",
      "bestIteration = 112\n",
      "\n",
      "Shrink model to first 113 iterations.\n",
      "0:\ttest: 0.5994644\tbest: 0.5994644 (0)\ttotal: 36.4ms\tremaining: 7.25s\n",
      "1:\ttest: 0.7261274\tbest: 0.7261274 (1)\ttotal: 90.1ms\tremaining: 8.92s\n",
      "2:\ttest: 0.8055328\tbest: 0.8055328 (2)\ttotal: 148ms\tremaining: 9.71s\n",
      "3:\ttest: 0.8058137\tbest: 0.8058137 (3)\ttotal: 206ms\tremaining: 10.1s\n",
      "4:\ttest: 0.8150939\tbest: 0.8150939 (4)\ttotal: 265ms\tremaining: 10.3s\n",
      "5:\ttest: 0.8354337\tbest: 0.8354337 (5)\ttotal: 353ms\tremaining: 11.4s\n",
      "6:\ttest: 0.8673367\tbest: 0.8673367 (6)\ttotal: 414ms\tremaining: 11.4s\n",
      "7:\ttest: 0.8731163\tbest: 0.8731163 (7)\ttotal: 486ms\tremaining: 11.7s\n",
      "8:\ttest: 0.8735997\tbest: 0.8735997 (8)\ttotal: 551ms\tremaining: 11.7s\n",
      "9:\ttest: 0.8725726\tbest: 0.8735997 (8)\ttotal: 614ms\tremaining: 11.7s\n",
      "10:\ttest: 0.8742738\tbest: 0.8742738 (10)\ttotal: 673ms\tremaining: 11.6s\n",
      "11:\ttest: 0.8737522\tbest: 0.8742738 (10)\ttotal: 747ms\tremaining: 11.7s\n",
      "12:\ttest: 0.8748877\tbest: 0.8748877 (12)\ttotal: 820ms\tremaining: 11.8s\n",
      "13:\ttest: 0.8752809\tbest: 0.8752809 (13)\ttotal: 910ms\tremaining: 12.1s\n",
      "14:\ttest: 0.8735877\tbest: 0.8752809 (13)\ttotal: 990ms\tremaining: 12.2s\n",
      "15:\ttest: 0.8728615\tbest: 0.8752809 (13)\ttotal: 1.05s\tremaining: 12.1s\n",
      "16:\ttest: 0.8726087\tbest: 0.8752809 (13)\ttotal: 1.1s\tremaining: 11.9s\n",
      "17:\ttest: 0.8714291\tbest: 0.8752809 (13)\ttotal: 1.16s\tremaining: 11.7s\n",
      "18:\ttest: 0.8723921\tbest: 0.8752809 (13)\ttotal: 1.21s\tremaining: 11.5s\n",
      "19:\ttest: 0.8731785\tbest: 0.8752809 (13)\ttotal: 1.3s\tremaining: 11.7s\n",
      "20:\ttest: 0.8759750\tbest: 0.8759750 (20)\ttotal: 1.37s\tremaining: 11.7s\n",
      "21:\ttest: 0.8744182\tbest: 0.8759750 (20)\ttotal: 1.45s\tremaining: 11.8s\n",
      "22:\ttest: 0.8756139\tbest: 0.8759750 (20)\ttotal: 1.52s\tremaining: 11.7s\n",
      "23:\ttest: 0.8753089\tbest: 0.8759750 (20)\ttotal: 1.56s\tremaining: 11.4s\n",
      "24:\ttest: 0.8750682\tbest: 0.8759750 (20)\ttotal: 1.6s\tremaining: 11.2s\n",
      "25:\ttest: 0.8769018\tbest: 0.8769018 (25)\ttotal: 1.66s\tremaining: 11.1s\n",
      "26:\ttest: 0.8762077\tbest: 0.8769018 (25)\ttotal: 1.72s\tremaining: 11s\n",
      "27:\ttest: 0.8765688\tbest: 0.8769018 (25)\ttotal: 1.77s\tremaining: 10.9s\n",
      "28:\ttest: 0.8764805\tbest: 0.8769018 (25)\ttotal: 1.84s\tremaining: 10.9s\n",
      "29:\ttest: 0.8767132\tbest: 0.8769018 (25)\ttotal: 1.97s\tremaining: 11.2s\n",
      "30:\ttest: 0.8762277\tbest: 0.8769018 (25)\ttotal: 2.05s\tremaining: 11.2s\n",
      "31:\ttest: 0.8751404\tbest: 0.8769018 (25)\ttotal: 2.16s\tremaining: 11.3s\n",
      "32:\ttest: 0.8748435\tbest: 0.8769018 (25)\ttotal: 2.23s\tremaining: 11.3s\n",
      "33:\ttest: 0.8752809\tbest: 0.8769018 (25)\ttotal: 2.31s\tremaining: 11.3s\n",
      "34:\ttest: 0.8747071\tbest: 0.8769018 (25)\ttotal: 2.38s\tremaining: 11.2s\n",
      "35:\ttest: 0.8744303\tbest: 0.8769018 (25)\ttotal: 2.44s\tremaining: 11.1s\n",
      "36:\ttest: 0.8740331\tbest: 0.8769018 (25)\ttotal: 2.5s\tremaining: 11s\n",
      "37:\ttest: 0.8737883\tbest: 0.8769018 (25)\ttotal: 2.57s\tremaining: 10.9s\n",
      "38:\ttest: 0.8738645\tbest: 0.8769018 (25)\ttotal: 2.62s\tremaining: 10.8s\n",
      "39:\ttest: 0.8730701\tbest: 0.8769018 (25)\ttotal: 2.67s\tremaining: 10.7s\n",
      "40:\ttest: 0.8737402\tbest: 0.8769018 (25)\ttotal: 2.73s\tremaining: 10.6s\n",
      "41:\ttest: 0.8743821\tbest: 0.8769018 (25)\ttotal: 2.82s\tremaining: 10.6s\n",
      "42:\ttest: 0.8742577\tbest: 0.8769018 (25)\ttotal: 2.88s\tremaining: 10.5s\n",
      "43:\ttest: 0.8750562\tbest: 0.8769018 (25)\ttotal: 2.93s\tremaining: 10.4s\n",
      "44:\ttest: 0.8746630\tbest: 0.8769018 (25)\ttotal: 3s\tremaining: 10.3s\n",
      "45:\ttest: 0.8750281\tbest: 0.8769018 (25)\ttotal: 3.06s\tremaining: 10.2s\n",
      "46:\ttest: 0.8756460\tbest: 0.8769018 (25)\ttotal: 3.11s\tremaining: 10.1s\n",
      "47:\ttest: 0.8763040\tbest: 0.8769018 (25)\ttotal: 3.17s\tremaining: 10.1s\n",
      "48:\ttest: 0.8762358\tbest: 0.8769018 (25)\ttotal: 3.23s\tremaining: 9.96s\n",
      "49:\ttest: 0.8764645\tbest: 0.8769018 (25)\ttotal: 3.26s\tremaining: 9.78s\n",
      "50:\ttest: 0.8760432\tbest: 0.8769018 (25)\ttotal: 3.32s\tremaining: 9.7s\n",
      "51:\ttest: 0.8757222\tbest: 0.8769018 (25)\ttotal: 3.37s\tremaining: 9.6s\n",
      "52:\ttest: 0.8764324\tbest: 0.8769018 (25)\ttotal: 3.43s\tremaining: 9.53s\n",
      "53:\ttest: 0.8760873\tbest: 0.8769018 (25)\ttotal: 3.49s\tremaining: 9.44s\n",
      "54:\ttest: 0.8761515\tbest: 0.8769018 (25)\ttotal: 3.54s\tremaining: 9.33s\n",
      "55:\ttest: 0.8758506\tbest: 0.8769018 (25)\ttotal: 3.62s\tremaining: 9.3s\n",
      "56:\ttest: 0.8752046\tbest: 0.8769018 (25)\ttotal: 3.7s\tremaining: 9.28s\n",
      "57:\ttest: 0.8753330\tbest: 0.8769018 (25)\ttotal: 3.77s\tremaining: 9.24s\n",
      "58:\ttest: 0.8752247\tbest: 0.8769018 (25)\ttotal: 3.84s\tremaining: 9.19s\n",
      "59:\ttest: 0.8751565\tbest: 0.8769018 (25)\ttotal: 3.92s\tremaining: 9.15s\n",
      "60:\ttest: 0.8749077\tbest: 0.8769018 (25)\ttotal: 3.99s\tremaining: 9.1s\n",
      "61:\ttest: 0.8744945\tbest: 0.8769018 (25)\ttotal: 4.06s\tremaining: 9.03s\n",
      "62:\ttest: 0.8744022\tbest: 0.8769018 (25)\ttotal: 4.12s\tremaining: 8.96s\n",
      "63:\ttest: 0.8743099\tbest: 0.8769018 (25)\ttotal: 4.21s\tremaining: 8.94s\n",
      "64:\ttest: 0.8748756\tbest: 0.8769018 (25)\ttotal: 4.27s\tremaining: 8.87s\n",
      "65:\ttest: 0.8745346\tbest: 0.8769018 (25)\ttotal: 4.36s\tremaining: 8.85s\n",
      "66:\ttest: 0.8745105\tbest: 0.8769018 (25)\ttotal: 4.44s\tremaining: 8.81s\n",
      "67:\ttest: 0.8748716\tbest: 0.8769018 (25)\ttotal: 4.52s\tremaining: 8.78s\n",
      "68:\ttest: 0.8750321\tbest: 0.8769018 (25)\ttotal: 4.6s\tremaining: 8.74s\n",
      "69:\ttest: 0.8750843\tbest: 0.8769018 (25)\ttotal: 4.67s\tremaining: 8.68s\n",
      "70:\ttest: 0.8755898\tbest: 0.8769018 (25)\ttotal: 4.74s\tremaining: 8.61s\n",
      "71:\ttest: 0.8758546\tbest: 0.8769018 (25)\ttotal: 4.8s\tremaining: 8.54s\n",
      "72:\ttest: 0.8759108\tbest: 0.8769018 (25)\ttotal: 4.88s\tremaining: 8.49s\n",
      "73:\ttest: 0.8761234\tbest: 0.8769018 (25)\ttotal: 4.98s\tremaining: 8.48s\n",
      "74:\ttest: 0.8768576\tbest: 0.8769018 (25)\ttotal: 5.04s\tremaining: 8.4s\n",
      "75:\ttest: 0.8770101\tbest: 0.8770101 (75)\ttotal: 5.1s\tremaining: 8.32s\n",
      "76:\ttest: 0.8770262\tbest: 0.8770262 (76)\ttotal: 5.16s\tremaining: 8.24s\n",
      "77:\ttest: 0.8769459\tbest: 0.8770262 (76)\ttotal: 5.23s\tremaining: 8.18s\n",
      "78:\ttest: 0.8774033\tbest: 0.8774033 (78)\ttotal: 5.29s\tremaining: 8.1s\n",
      "79:\ttest: 0.8772228\tbest: 0.8774033 (78)\ttotal: 5.34s\tremaining: 8.01s\n",
      "80:\ttest: 0.8771746\tbest: 0.8774033 (78)\ttotal: 5.4s\tremaining: 7.93s\n",
      "81:\ttest: 0.8767092\tbest: 0.8774033 (78)\ttotal: 5.46s\tremaining: 7.86s\n",
      "82:\ttest: 0.8770462\tbest: 0.8774033 (78)\ttotal: 5.53s\tremaining: 7.79s\n",
      "83:\ttest: 0.8760753\tbest: 0.8774033 (78)\ttotal: 5.6s\tremaining: 7.73s\n",
      "84:\ttest: 0.8765969\tbest: 0.8774033 (78)\ttotal: 5.66s\tremaining: 7.66s\n",
      "85:\ttest: 0.8766931\tbest: 0.8774033 (78)\ttotal: 5.76s\tremaining: 7.63s\n",
      "86:\ttest: 0.8761515\tbest: 0.8774033 (78)\ttotal: 5.83s\tremaining: 7.58s\n",
      "87:\ttest: 0.8762598\tbest: 0.8774033 (78)\ttotal: 5.89s\tremaining: 7.5s\n",
      "88:\ttest: 0.8759950\tbest: 0.8774033 (78)\ttotal: 5.95s\tremaining: 7.41s\n",
      "89:\ttest: 0.8760351\tbest: 0.8774033 (78)\ttotal: 6.01s\tremaining: 7.34s\n",
      "90:\ttest: 0.8759509\tbest: 0.8774033 (78)\ttotal: 6.08s\tremaining: 7.28s\n",
      "91:\ttest: 0.8757262\tbest: 0.8774033 (78)\ttotal: 6.15s\tremaining: 7.21s\n",
      "92:\ttest: 0.8753210\tbest: 0.8774033 (78)\ttotal: 6.22s\tremaining: 7.15s\n",
      "93:\ttest: 0.8753531\tbest: 0.8774033 (78)\ttotal: 6.29s\tremaining: 7.09s\n",
      "94:\ttest: 0.8753731\tbest: 0.8774033 (78)\ttotal: 6.34s\tremaining: 7.01s\n",
      "95:\ttest: 0.8753651\tbest: 0.8774033 (78)\ttotal: 6.4s\tremaining: 6.93s\n",
      "96:\ttest: 0.8753771\tbest: 0.8774033 (78)\ttotal: 6.46s\tremaining: 6.86s\n",
      "97:\ttest: 0.8754092\tbest: 0.8774033 (78)\ttotal: 6.52s\tremaining: 6.78s\n",
      "98:\ttest: 0.8755938\tbest: 0.8774033 (78)\ttotal: 6.59s\tremaining: 6.72s\n",
      "99:\ttest: 0.8753330\tbest: 0.8774033 (78)\ttotal: 6.67s\tremaining: 6.67s\n",
      "100:\ttest: 0.8755537\tbest: 0.8774033 (78)\ttotal: 6.77s\tremaining: 6.64s\n",
      "101:\ttest: 0.8758225\tbest: 0.8774033 (78)\ttotal: 6.89s\tremaining: 6.62s\n",
      "102:\ttest: 0.8760351\tbest: 0.8774033 (78)\ttotal: 6.97s\tremaining: 6.56s\n",
      "103:\ttest: 0.8764685\tbest: 0.8774033 (78)\ttotal: 7.06s\tremaining: 6.52s\n",
      "104:\ttest: 0.8767734\tbest: 0.8774033 (78)\ttotal: 7.14s\tremaining: 6.46s\n",
      "105:\ttest: 0.8764965\tbest: 0.8774033 (78)\ttotal: 7.21s\tremaining: 6.39s\n",
      "106:\ttest: 0.8764524\tbest: 0.8774033 (78)\ttotal: 7.27s\tremaining: 6.32s\n",
      "107:\ttest: 0.8763521\tbest: 0.8774033 (78)\ttotal: 7.33s\tremaining: 6.25s\n",
      "108:\ttest: 0.8762077\tbest: 0.8774033 (78)\ttotal: 7.4s\tremaining: 6.18s\n",
      "109:\ttest: 0.8760713\tbest: 0.8774033 (78)\ttotal: 7.5s\tremaining: 6.13s\n",
      "110:\ttest: 0.8761635\tbest: 0.8774033 (78)\ttotal: 7.56s\tremaining: 6.06s\n",
      "111:\ttest: 0.8764685\tbest: 0.8774033 (78)\ttotal: 7.63s\tremaining: 6s\n",
      "112:\ttest: 0.8764524\tbest: 0.8774033 (78)\ttotal: 7.71s\tremaining: 5.94s\n",
      "113:\ttest: 0.8767694\tbest: 0.8774033 (78)\ttotal: 7.77s\tremaining: 5.86s\n",
      "114:\ttest: 0.8765286\tbest: 0.8774033 (78)\ttotal: 7.83s\tremaining: 5.79s\n",
      "115:\ttest: 0.8767975\tbest: 0.8774033 (78)\ttotal: 7.91s\tremaining: 5.73s\n",
      "116:\ttest: 0.8766570\tbest: 0.8774033 (78)\ttotal: 7.98s\tremaining: 5.66s\n",
      "117:\ttest: 0.8767092\tbest: 0.8774033 (78)\ttotal: 8.04s\tremaining: 5.59s\n",
      "118:\ttest: 0.8768456\tbest: 0.8774033 (78)\ttotal: 8.11s\tremaining: 5.52s\n",
      "119:\ttest: 0.8767935\tbest: 0.8774033 (78)\ttotal: 8.19s\tremaining: 5.46s\n",
      "120:\ttest: 0.8771184\tbest: 0.8774033 (78)\ttotal: 8.24s\tremaining: 5.38s\n",
      "121:\ttest: 0.8775156\tbest: 0.8775156 (121)\ttotal: 8.32s\tremaining: 5.32s\n",
      "122:\ttest: 0.8775437\tbest: 0.8775437 (122)\ttotal: 8.37s\tremaining: 5.24s\n",
      "123:\ttest: 0.8774916\tbest: 0.8775437 (122)\ttotal: 8.4s\tremaining: 5.15s\n",
      "124:\ttest: 0.8774474\tbest: 0.8775437 (122)\ttotal: 8.46s\tremaining: 5.08s\n",
      "125:\ttest: 0.8774595\tbest: 0.8775437 (122)\ttotal: 8.53s\tremaining: 5.01s\n",
      "126:\ttest: 0.8774354\tbest: 0.8775437 (122)\ttotal: 8.6s\tremaining: 4.94s\n",
      "127:\ttest: 0.8772067\tbest: 0.8775437 (122)\ttotal: 8.66s\tremaining: 4.87s\n",
      "128:\ttest: 0.8771786\tbest: 0.8775437 (122)\ttotal: 8.73s\tremaining: 4.81s\n",
      "129:\ttest: 0.8769981\tbest: 0.8775437 (122)\ttotal: 8.79s\tremaining: 4.73s\n",
      "130:\ttest: 0.8769900\tbest: 0.8775437 (122)\ttotal: 8.84s\tremaining: 4.66s\n",
      "131:\ttest: 0.8772308\tbest: 0.8775437 (122)\ttotal: 8.9s\tremaining: 4.59s\n",
      "132:\ttest: 0.8771345\tbest: 0.8775437 (122)\ttotal: 8.96s\tremaining: 4.51s\n",
      "133:\ttest: 0.8772589\tbest: 0.8775437 (122)\ttotal: 9.01s\tremaining: 4.44s\n",
      "134:\ttest: 0.8773431\tbest: 0.8775437 (122)\ttotal: 9.07s\tremaining: 4.37s\n",
      "135:\ttest: 0.8774515\tbest: 0.8775437 (122)\ttotal: 9.14s\tremaining: 4.3s\n",
      "136:\ttest: 0.8774515\tbest: 0.8775437 (122)\ttotal: 9.16s\tremaining: 4.21s\n",
      "137:\ttest: 0.8775919\tbest: 0.8775919 (137)\ttotal: 9.22s\tremaining: 4.14s\n",
      "138:\ttest: 0.8776681\tbest: 0.8776681 (138)\ttotal: 9.29s\tremaining: 4.08s\n",
      "139:\ttest: 0.8776360\tbest: 0.8776681 (138)\ttotal: 9.36s\tremaining: 4.01s\n",
      "140:\ttest: 0.8774795\tbest: 0.8776681 (138)\ttotal: 9.43s\tremaining: 3.95s\n",
      "141:\ttest: 0.8773873\tbest: 0.8776681 (138)\ttotal: 9.49s\tremaining: 3.88s\n",
      "142:\ttest: 0.8777082\tbest: 0.8777082 (142)\ttotal: 9.55s\tremaining: 3.81s\n",
      "143:\ttest: 0.8779811\tbest: 0.8779811 (143)\ttotal: 9.61s\tremaining: 3.74s\n",
      "144:\ttest: 0.8779209\tbest: 0.8779811 (143)\ttotal: 9.68s\tremaining: 3.67s\n",
      "145:\ttest: 0.8778687\tbest: 0.8779811 (143)\ttotal: 9.78s\tremaining: 3.62s\n",
      "146:\ttest: 0.8776601\tbest: 0.8779811 (143)\ttotal: 9.87s\tremaining: 3.56s\n",
      "147:\ttest: 0.8778045\tbest: 0.8779811 (143)\ttotal: 9.97s\tremaining: 3.5s\n",
      "148:\ttest: 0.8775879\tbest: 0.8779811 (143)\ttotal: 10s\tremaining: 3.43s\n",
      "149:\ttest: 0.8774715\tbest: 0.8779811 (143)\ttotal: 10.1s\tremaining: 3.37s\n",
      "150:\ttest: 0.8776320\tbest: 0.8779811 (143)\ttotal: 10.2s\tremaining: 3.31s\n",
      "151:\ttest: 0.8778928\tbest: 0.8779811 (143)\ttotal: 10.3s\tremaining: 3.25s\n",
      "152:\ttest: 0.8777805\tbest: 0.8779811 (143)\ttotal: 10.3s\tremaining: 3.18s\n",
      "153:\ttest: 0.8777283\tbest: 0.8779811 (143)\ttotal: 10.4s\tremaining: 3.11s\n",
      "154:\ttest: 0.8777845\tbest: 0.8779811 (143)\ttotal: 10.5s\tremaining: 3.04s\n",
      "155:\ttest: 0.8777805\tbest: 0.8779811 (143)\ttotal: 10.5s\tremaining: 2.97s\n",
      "156:\ttest: 0.8778567\tbest: 0.8779811 (143)\ttotal: 10.6s\tremaining: 2.9s\n",
      "157:\ttest: 0.8779610\tbest: 0.8779811 (143)\ttotal: 10.7s\tremaining: 2.84s\n",
      "158:\ttest: 0.8780854\tbest: 0.8780854 (158)\ttotal: 10.7s\tremaining: 2.77s\n",
      "159:\ttest: 0.8779289\tbest: 0.8780854 (158)\ttotal: 10.8s\tremaining: 2.7s\n",
      "160:\ttest: 0.8778647\tbest: 0.8780854 (158)\ttotal: 10.8s\tremaining: 2.63s\n",
      "161:\ttest: 0.8780412\tbest: 0.8780854 (158)\ttotal: 10.9s\tremaining: 2.56s\n",
      "162:\ttest: 0.8779450\tbest: 0.8780854 (158)\ttotal: 11s\tremaining: 2.49s\n",
      "163:\ttest: 0.8780854\tbest: 0.8780854 (158)\ttotal: 11s\tremaining: 2.42s\n",
      "164:\ttest: 0.8781335\tbest: 0.8781335 (164)\ttotal: 11.1s\tremaining: 2.35s\n",
      "165:\ttest: 0.8781616\tbest: 0.8781616 (165)\ttotal: 11.1s\tremaining: 2.28s\n",
      "166:\ttest: 0.8780132\tbest: 0.8781616 (165)\ttotal: 11.2s\tremaining: 2.21s\n",
      "167:\ttest: 0.8779730\tbest: 0.8781616 (165)\ttotal: 11.3s\tremaining: 2.14s\n",
      "168:\ttest: 0.8778808\tbest: 0.8781616 (165)\ttotal: 11.3s\tremaining: 2.07s\n",
      "169:\ttest: 0.8779490\tbest: 0.8781616 (165)\ttotal: 11.4s\tremaining: 2s\n",
      "170:\ttest: 0.8780372\tbest: 0.8781616 (165)\ttotal: 11.4s\tremaining: 1.94s\n",
      "171:\ttest: 0.8780453\tbest: 0.8781616 (165)\ttotal: 11.5s\tremaining: 1.88s\n",
      "172:\ttest: 0.8780412\tbest: 0.8781616 (165)\ttotal: 11.6s\tremaining: 1.81s\n",
      "173:\ttest: 0.8780974\tbest: 0.8781616 (165)\ttotal: 11.6s\tremaining: 1.74s\n",
      "174:\ttest: 0.8779771\tbest: 0.8781616 (165)\ttotal: 11.7s\tremaining: 1.67s\n",
      "175:\ttest: 0.8779129\tbest: 0.8781616 (165)\ttotal: 11.8s\tremaining: 1.6s\n",
      "176:\ttest: 0.8779650\tbest: 0.8781616 (165)\ttotal: 11.8s\tremaining: 1.54s\n",
      "177:\ttest: 0.8777323\tbest: 0.8781616 (165)\ttotal: 11.9s\tremaining: 1.47s\n",
      "178:\ttest: 0.8775437\tbest: 0.8781616 (165)\ttotal: 12s\tremaining: 1.41s\n",
      "179:\ttest: 0.8775718\tbest: 0.8781616 (165)\ttotal: 12s\tremaining: 1.34s\n",
      "180:\ttest: 0.8776119\tbest: 0.8781616 (165)\ttotal: 12.1s\tremaining: 1.27s\n",
      "181:\ttest: 0.8775678\tbest: 0.8781616 (165)\ttotal: 12.1s\tremaining: 1.2s\n",
      "182:\ttest: 0.8775798\tbest: 0.8781616 (165)\ttotal: 12.3s\tremaining: 1.14s\n",
      "183:\ttest: 0.8776882\tbest: 0.8781616 (165)\ttotal: 12.3s\tremaining: 1.07s\n",
      "184:\ttest: 0.8776801\tbest: 0.8781616 (165)\ttotal: 12.4s\tremaining: 1.01s\n",
      "185:\ttest: 0.8774876\tbest: 0.8781616 (165)\ttotal: 12.5s\tremaining: 943ms\n",
      "186:\ttest: 0.8774113\tbest: 0.8781616 (165)\ttotal: 12.6s\tremaining: 876ms\n",
      "187:\ttest: 0.8773271\tbest: 0.8781616 (165)\ttotal: 12.7s\tremaining: 808ms\n",
      "188:\ttest: 0.8775076\tbest: 0.8781616 (165)\ttotal: 12.7s\tremaining: 740ms\n",
      "189:\ttest: 0.8775477\tbest: 0.8781616 (165)\ttotal: 12.8s\tremaining: 673ms\n",
      "190:\ttest: 0.8774956\tbest: 0.8781616 (165)\ttotal: 12.8s\tremaining: 605ms\n",
      "191:\ttest: 0.8775638\tbest: 0.8781616 (165)\ttotal: 12.9s\tremaining: 537ms\n",
      "192:\ttest: 0.8776440\tbest: 0.8781616 (165)\ttotal: 12.9s\tremaining: 469ms\n",
      "193:\ttest: 0.8777484\tbest: 0.8781616 (165)\ttotal: 13s\tremaining: 402ms\n",
      "194:\ttest: 0.8777805\tbest: 0.8781616 (165)\ttotal: 13.1s\tremaining: 335ms\n",
      "195:\ttest: 0.8779570\tbest: 0.8781616 (165)\ttotal: 13.1s\tremaining: 268ms\n",
      "196:\ttest: 0.8777644\tbest: 0.8781616 (165)\ttotal: 13.2s\tremaining: 201ms\n",
      "197:\ttest: 0.8776440\tbest: 0.8781616 (165)\ttotal: 13.3s\tremaining: 134ms\n",
      "198:\ttest: 0.8773190\tbest: 0.8781616 (165)\ttotal: 13.3s\tremaining: 66.9ms\n",
      "199:\ttest: 0.8772910\tbest: 0.8781616 (165)\ttotal: 13.4s\tremaining: 0us\n",
      "\n",
      "bestTest = 0.8781616113\n",
      "bestIteration = 165\n",
      "\n",
      "Shrink model to first 166 iterations.\n",
      "[0.8740486177388179, 0.8572986758844146, 0.878161611298347]\n"
     ]
    }
   ],
   "source": [
    "kfold = StratifiedKFold(n_splits=3, shuffle=False)\n",
    "\n",
    "model = CatBoostClassifier(\n",
    "    iterations=200,\n",
    "    learning_rate=0.01,\n",
    "    loss_function='Logloss',\n",
    "    eval_metric='AUC',\n",
    "    depth=6,\n",
    "    bagging_temperature = 0.2,\n",
    "    border_count=254,\n",
    "    l2_leaf_reg=3,\n",
    "    )\n",
    "\n",
    "result = []\n",
    "\n",
    "for train, valid in kfold.split(train_x, train_y):\n",
    "    X_train, Y_train = train_x[train], train_y[train]\n",
    "    X_valid, Y_valid = train_x[valid], train_y[valid]\n",
    "    model.fit(X_train,Y_train, eval_set=(X_valid, Y_valid),use_best_model=True)\n",
    "    Y_valid_pred_prob = model.predict_proba(X_valid)\n",
    "    result.append(roc_auc_score(Y_valid, Y_valid_pred_prob[:,1]))\n",
    "    submission['hepatitis'] += model.predict_proba(test_x)[:,1] / 2\n",
    "\n",
    "print(result)"
   ],
   "metadata": {
    "collapsed": false,
    "pycharm": {
     "name": "#%%\n"
    }
   }
  },
  {
   "cell_type": "code",
   "execution_count": 123,
   "outputs": [],
   "source": [
    "submission.to_csv('submission.csv',index=False)\n",
    "# !wget -nv -O kesci_submit https://cdn.kesci.com/submit_tool/v4/kesci_submit&&chmod +x kesci_submit\n",
    "# !./kesci_submit -token f3de41fac72af731 -file '/home/kesci/work/submission.csv'\n"
   ],
   "metadata": {
    "collapsed": false,
    "pycharm": {
     "name": "#%%\n"
    }
   }
  }
 ],
 "metadata": {
  "kernelspec": {
   "name": "pycharm-1afc687d",
   "language": "python",
   "display_name": "PyCharm (DiseasePrediction)"
  },
  "language_info": {
   "codemirror_mode": {
    "name": "ipython",
    "version": 2
   },
   "file_extension": ".py",
   "mimetype": "text/x-python",
   "name": "python",
   "nbconvert_exporter": "python",
   "pygments_lexer": "ipython2",
   "version": "2.7.6"
  }
 },
 "nbformat": 4,
 "nbformat_minor": 0
}