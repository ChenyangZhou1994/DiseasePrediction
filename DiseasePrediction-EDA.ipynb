{
 "cells": [
  {
   "cell_type": "markdown",
   "metadata": {
    "collapsed": true,
    "pycharm": {
     "name": "#%% md\n"
    }
   },
   "source": [
    "# EDA"
   ]
  },
  {
   "cell_type": "code",
   "source": [
    "import numpy as np\n",
    "import pandas as pd\n",
    "\n",
    "#preprocessing\n",
    "from sklearn.preprocessing import MinMaxScaler, StandardScaler\n",
    "from sklearn.preprocessing import LabelEncoder\n",
    "from sklearn.model_selection import train_test_split\n",
    "from pandas.plotting import scatter_matrix\n",
    "from tqdm import tqdm\n",
    "from imblearn.over_sampling import SMOTE\n",
    "\n",
    "#visualizations\n",
    "import seaborn as sns\n",
    "from matplotlib import pyplot as plt\n",
    "%matplotlib inline\n",
    "\n",
    "plt.rcParams['font.sans-serif']=['SimHei']\n",
    "plt.rcParams['axes.unicode_minus']=False\n",
    "\n",
    "pd.set_option('display.max_rows', None)\n",
    "pd.set_option('display.max_columns', None)\n",
    "\n",
    "#algorithms\n",
    "from xgboost import XGBClassifier\n",
    "from lightgbm import LGBMClassifier\n",
    "from catboost import CatBoostClassifier\n",
    "\n",
    "#score metrics\n",
    "from sklearn.model_selection import StratifiedKFold\n",
    "from sklearn.metrics import confusion_matrix\n",
    "from sklearn.model_selection import GridSearchCV\n",
    "from sklearn.metrics import roc_auc_score\n",
    "from sklearn.metrics import roc_curve, auc"
   ],
   "metadata": {
    "collapsed": false,
    "pycharm": {
     "name": "#%%\n"
    }
   },
   "execution_count": 1,
   "outputs": []
  },
  {
   "cell_type": "code",
   "execution_count": 2,
   "outputs": [
    {
     "name": "stdout",
     "output_type": "stream",
     "text": [
      "Train Shape:(6000, 31)\n",
      "Test Shape:(2785, 30)\n"
     ]
    },
    {
     "data": {
      "text/plain": "   年龄 性别    区域     体重     身高   体重指数  肥胖腰围     腰围   最高血压  最低血压  好胆固醇   坏胆固醇  \\\n0  58  F  east   75.6  174.9  24.71   0.0   94.8  100.0  52.0  35.0   95.0   \n1  85  F  east   66.3  166.1  24.03   0.0   89.6  134.0  84.0  59.0  153.0   \n2  32  F  east  109.9  173.2  36.64   1.0  111.7  124.0  84.0  39.0  133.0   \n3  22  M  east   58.7  171.3  20.00   0.0   78.0  104.0  56.0  48.0   98.0   \n4  44  F  west   79.7  172.1  26.91   0.0   93.8  114.0  60.0  34.0  195.0   \n\n    总胆固醇  血脂异常  PVD  体育活动   教育   未婚   收入              护理来源  视力不佳  饮酒  高血压  \\\n0  130.0     0    0   1.0  0.0  0.0  0.0  Private Hospital   0.0   0  1.0   \n1  212.0     0    0   2.0  0.0  0.0  0.0  Private Hospital   0.0   1  0.0   \n2  172.0     0    0   2.0  1.0  0.0  1.0  Private Hospital   0.0   0  0.0   \n3  146.0     0    0   2.0  1.0  1.0  0.0  Never Counsulted   0.0   0  0.0   \n4  229.0     0    0   2.0  0.0  0.0  0.0  Private Hospital   0.0   0  0.0   \n\n   家庭高血压  糖尿病  家族糖尿病   肝炎  家族肝炎  慢性疲劳  ALF    ID  \n0      1    0      1  1.0   0.0   1.0  0.0  4379  \n1      0    0      0  0.0   0.0   0.0  NaN  7623  \n2      0    0      0  0.0   0.0   0.0  0.0  1764  \n3      0    0      0  0.0   0.0   0.0  0.0  5450  \n4      0    0      0  0.0   0.0   0.0  0.0  5196  ",
      "text/html": "<div>\n<style scoped>\n    .dataframe tbody tr th:only-of-type {\n        vertical-align: middle;\n    }\n\n    .dataframe tbody tr th {\n        vertical-align: top;\n    }\n\n    .dataframe thead th {\n        text-align: right;\n    }\n</style>\n<table border=\"1\" class=\"dataframe\">\n  <thead>\n    <tr style=\"text-align: right;\">\n      <th></th>\n      <th>年龄</th>\n      <th>性别</th>\n      <th>区域</th>\n      <th>体重</th>\n      <th>身高</th>\n      <th>体重指数</th>\n      <th>肥胖腰围</th>\n      <th>腰围</th>\n      <th>最高血压</th>\n      <th>最低血压</th>\n      <th>好胆固醇</th>\n      <th>坏胆固醇</th>\n      <th>总胆固醇</th>\n      <th>血脂异常</th>\n      <th>PVD</th>\n      <th>体育活动</th>\n      <th>教育</th>\n      <th>未婚</th>\n      <th>收入</th>\n      <th>护理来源</th>\n      <th>视力不佳</th>\n      <th>饮酒</th>\n      <th>高血压</th>\n      <th>家庭高血压</th>\n      <th>糖尿病</th>\n      <th>家族糖尿病</th>\n      <th>肝炎</th>\n      <th>家族肝炎</th>\n      <th>慢性疲劳</th>\n      <th>ALF</th>\n      <th>ID</th>\n    </tr>\n  </thead>\n  <tbody>\n    <tr>\n      <th>0</th>\n      <td>58</td>\n      <td>F</td>\n      <td>east</td>\n      <td>75.6</td>\n      <td>174.9</td>\n      <td>24.71</td>\n      <td>0.0</td>\n      <td>94.8</td>\n      <td>100.0</td>\n      <td>52.0</td>\n      <td>35.0</td>\n      <td>95.0</td>\n      <td>130.0</td>\n      <td>0</td>\n      <td>0</td>\n      <td>1.0</td>\n      <td>0.0</td>\n      <td>0.0</td>\n      <td>0.0</td>\n      <td>Private Hospital</td>\n      <td>0.0</td>\n      <td>0</td>\n      <td>1.0</td>\n      <td>1</td>\n      <td>0</td>\n      <td>1</td>\n      <td>1.0</td>\n      <td>0.0</td>\n      <td>1.0</td>\n      <td>0.0</td>\n      <td>4379</td>\n    </tr>\n    <tr>\n      <th>1</th>\n      <td>85</td>\n      <td>F</td>\n      <td>east</td>\n      <td>66.3</td>\n      <td>166.1</td>\n      <td>24.03</td>\n      <td>0.0</td>\n      <td>89.6</td>\n      <td>134.0</td>\n      <td>84.0</td>\n      <td>59.0</td>\n      <td>153.0</td>\n      <td>212.0</td>\n      <td>0</td>\n      <td>0</td>\n      <td>2.0</td>\n      <td>0.0</td>\n      <td>0.0</td>\n      <td>0.0</td>\n      <td>Private Hospital</td>\n      <td>0.0</td>\n      <td>1</td>\n      <td>0.0</td>\n      <td>0</td>\n      <td>0</td>\n      <td>0</td>\n      <td>0.0</td>\n      <td>0.0</td>\n      <td>0.0</td>\n      <td>NaN</td>\n      <td>7623</td>\n    </tr>\n    <tr>\n      <th>2</th>\n      <td>32</td>\n      <td>F</td>\n      <td>east</td>\n      <td>109.9</td>\n      <td>173.2</td>\n      <td>36.64</td>\n      <td>1.0</td>\n      <td>111.7</td>\n      <td>124.0</td>\n      <td>84.0</td>\n      <td>39.0</td>\n      <td>133.0</td>\n      <td>172.0</td>\n      <td>0</td>\n      <td>0</td>\n      <td>2.0</td>\n      <td>1.0</td>\n      <td>0.0</td>\n      <td>1.0</td>\n      <td>Private Hospital</td>\n      <td>0.0</td>\n      <td>0</td>\n      <td>0.0</td>\n      <td>0</td>\n      <td>0</td>\n      <td>0</td>\n      <td>0.0</td>\n      <td>0.0</td>\n      <td>0.0</td>\n      <td>0.0</td>\n      <td>1764</td>\n    </tr>\n    <tr>\n      <th>3</th>\n      <td>22</td>\n      <td>M</td>\n      <td>east</td>\n      <td>58.7</td>\n      <td>171.3</td>\n      <td>20.00</td>\n      <td>0.0</td>\n      <td>78.0</td>\n      <td>104.0</td>\n      <td>56.0</td>\n      <td>48.0</td>\n      <td>98.0</td>\n      <td>146.0</td>\n      <td>0</td>\n      <td>0</td>\n      <td>2.0</td>\n      <td>1.0</td>\n      <td>1.0</td>\n      <td>0.0</td>\n      <td>Never Counsulted</td>\n      <td>0.0</td>\n      <td>0</td>\n      <td>0.0</td>\n      <td>0</td>\n      <td>0</td>\n      <td>0</td>\n      <td>0.0</td>\n      <td>0.0</td>\n      <td>0.0</td>\n      <td>0.0</td>\n      <td>5450</td>\n    </tr>\n    <tr>\n      <th>4</th>\n      <td>44</td>\n      <td>F</td>\n      <td>west</td>\n      <td>79.7</td>\n      <td>172.1</td>\n      <td>26.91</td>\n      <td>0.0</td>\n      <td>93.8</td>\n      <td>114.0</td>\n      <td>60.0</td>\n      <td>34.0</td>\n      <td>195.0</td>\n      <td>229.0</td>\n      <td>0</td>\n      <td>0</td>\n      <td>2.0</td>\n      <td>0.0</td>\n      <td>0.0</td>\n      <td>0.0</td>\n      <td>Private Hospital</td>\n      <td>0.0</td>\n      <td>0</td>\n      <td>0.0</td>\n      <td>0</td>\n      <td>0</td>\n      <td>0</td>\n      <td>0.0</td>\n      <td>0.0</td>\n      <td>0.0</td>\n      <td>0.0</td>\n      <td>5196</td>\n    </tr>\n  </tbody>\n</table>\n</div>"
     },
     "execution_count": 2,
     "metadata": {},
     "output_type": "execute_result"
    }
   ],
   "source": [
    "# path = '/home/kesci/data/competition_A/'\n",
    "path = './data/competition_A/'\n",
    "train_df = pd.read_csv(path+'train_set.csv')\n",
    "test_df  = pd.read_csv(path+'test_set.csv')\n",
    "submission  =  pd.read_csv(path+'submission_example.csv')\n",
    "print('Train Shape:{}\\nTest Shape:{}'.format(train_df.shape,test_df.shape))\n",
    "train_df.head(5)"
   ],
   "metadata": {
    "collapsed": false,
    "pycharm": {
     "name": "#%%\n"
    }
   }
  },
  {
   "cell_type": "markdown",
   "source": [
    "## 1.1 各列与肝炎的关系\n"
   ],
   "metadata": {
    "collapsed": false
   }
  },
  {
   "cell_type": "code",
   "execution_count": null,
   "outputs": [],
   "source": [],
   "metadata": {
    "collapsed": false,
    "pycharm": {
     "name": "#%%\n"
    }
   }
  }
 ],
 "metadata": {
  "kernelspec": {
   "name": "pycharm-1afc687d",
   "language": "python",
   "display_name": "PyCharm (DiseasePrediction)"
  },
  "language_info": {
   "codemirror_mode": {
    "name": "ipython",
    "version": 2
   },
   "file_extension": ".py",
   "mimetype": "text/x-python",
   "name": "python",
   "nbconvert_exporter": "python",
   "pygments_lexer": "ipython2",
   "version": "2.7.6"
  }
 },
 "nbformat": 4,
 "nbformat_minor": 0
}