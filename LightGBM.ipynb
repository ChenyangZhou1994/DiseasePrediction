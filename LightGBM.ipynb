{
 "cells": [
  {
   "cell_type": "markdown",
   "metadata": {
    "collapsed": true,
    "pycharm": {
     "name": "#%% md\n"
    }
   },
   "source": [
    "# LightGBM\n"
   ]
  },
  {
   "cell_type": "markdown",
   "source": [
    "## 1.导入相关库"
   ],
   "metadata": {
    "collapsed": false,
    "pycharm": {
     "name": "#%% md\n"
    }
   }
  },
  {
   "cell_type": "code",
   "execution_count": 1,
   "outputs": [],
   "source": [
    "import numpy as np\n",
    "import pandas as pd\n",
    "\n",
    "#preprocessing\n",
    "from sklearn.preprocessing import MinMaxScaler, StandardScaler\n",
    "from sklearn.preprocessing import LabelEncoder\n",
    "from sklearn.model_selection import train_test_split\n",
    "from pandas.plotting import scatter_matrix\n",
    "from tqdm import tqdm\n",
    "\n",
    "#visualizations\n",
    "import seaborn as sns\n",
    "from matplotlib import pyplot as plt\n",
    "%matplotlib inline\n",
    "\n",
    "plt.rcParams['font.sans-serif']=['SimHei']\n",
    "plt.rcParams['axes.unicode_minus']=False\n",
    "\n",
    "pd.set_option('display.max_rows', None)\n",
    "pd.set_option('display.max_columns', None)\n",
    "\n",
    "#algorithms\n",
    "from xgboost import XGBClassifier\n",
    "from lightgbm import LGBMClassifier\n",
    "from catboost import CatBoostClassifier\n",
    "\n",
    "#score metrics\n",
    "from sklearn.model_selection import StratifiedKFold\n",
    "from sklearn.metrics import confusion_matrix\n",
    "from sklearn.model_selection import GridSearchCV\n",
    "from sklearn.metrics import roc_auc_score\n",
    "\n"
   ],
   "metadata": {
    "collapsed": false,
    "pycharm": {
     "name": "#%%\n"
    }
   }
  },
  {
   "cell_type": "markdown",
   "source": [
    "## 2.读取数据"
   ],
   "metadata": {
    "collapsed": false,
    "pycharm": {
     "name": "#%% md\n"
    }
   }
  },
  {
   "cell_type": "code",
   "execution_count": 2,
   "outputs": [
    {
     "name": "stdout",
     "output_type": "stream",
     "text": [
      "Train Shape:(6000, 31)\n",
      "Test Shape:(2785, 30)\n"
     ]
    },
    {
     "data": {
      "text/plain": "   年龄 性别    区域     体重     身高   体重指数  肥胖腰围     腰围   最高血压  最低血压  好胆固醇   坏胆固醇  \\\n0  58  F  east   75.6  174.9  24.71   0.0   94.8  100.0  52.0  35.0   95.0   \n1  85  F  east   66.3  166.1  24.03   0.0   89.6  134.0  84.0  59.0  153.0   \n2  32  F  east  109.9  173.2  36.64   1.0  111.7  124.0  84.0  39.0  133.0   \n3  22  M  east   58.7  171.3  20.00   0.0   78.0  104.0  56.0  48.0   98.0   \n4  44  F  west   79.7  172.1  26.91   0.0   93.8  114.0  60.0  34.0  195.0   \n\n    总胆固醇  血脂异常  PVD  体育活动   教育   未婚   收入              护理来源  视力不佳  饮酒  高血压  \\\n0  130.0     0    0   1.0  0.0  0.0  0.0  Private Hospital   0.0   0  1.0   \n1  212.0     0    0   2.0  0.0  0.0  0.0  Private Hospital   0.0   1  0.0   \n2  172.0     0    0   2.0  1.0  0.0  1.0  Private Hospital   0.0   0  0.0   \n3  146.0     0    0   2.0  1.0  1.0  0.0  Never Counsulted   0.0   0  0.0   \n4  229.0     0    0   2.0  0.0  0.0  0.0  Private Hospital   0.0   0  0.0   \n\n   家庭高血压  糖尿病  家族糖尿病   肝炎  家族肝炎  慢性疲劳  ALF    ID  \n0      1    0      1  1.0   0.0   1.0  0.0  4379  \n1      0    0      0  0.0   0.0   0.0  NaN  7623  \n2      0    0      0  0.0   0.0   0.0  0.0  1764  \n3      0    0      0  0.0   0.0   0.0  0.0  5450  \n4      0    0      0  0.0   0.0   0.0  0.0  5196  ",
      "text/html": "<div>\n<style scoped>\n    .dataframe tbody tr th:only-of-type {\n        vertical-align: middle;\n    }\n\n    .dataframe tbody tr th {\n        vertical-align: top;\n    }\n\n    .dataframe thead th {\n        text-align: right;\n    }\n</style>\n<table border=\"1\" class=\"dataframe\">\n  <thead>\n    <tr style=\"text-align: right;\">\n      <th></th>\n      <th>年龄</th>\n      <th>性别</th>\n      <th>区域</th>\n      <th>体重</th>\n      <th>身高</th>\n      <th>体重指数</th>\n      <th>肥胖腰围</th>\n      <th>腰围</th>\n      <th>最高血压</th>\n      <th>最低血压</th>\n      <th>好胆固醇</th>\n      <th>坏胆固醇</th>\n      <th>总胆固醇</th>\n      <th>血脂异常</th>\n      <th>PVD</th>\n      <th>体育活动</th>\n      <th>教育</th>\n      <th>未婚</th>\n      <th>收入</th>\n      <th>护理来源</th>\n      <th>视力不佳</th>\n      <th>饮酒</th>\n      <th>高血压</th>\n      <th>家庭高血压</th>\n      <th>糖尿病</th>\n      <th>家族糖尿病</th>\n      <th>肝炎</th>\n      <th>家族肝炎</th>\n      <th>慢性疲劳</th>\n      <th>ALF</th>\n      <th>ID</th>\n    </tr>\n  </thead>\n  <tbody>\n    <tr>\n      <th>0</th>\n      <td>58</td>\n      <td>F</td>\n      <td>east</td>\n      <td>75.6</td>\n      <td>174.9</td>\n      <td>24.71</td>\n      <td>0.0</td>\n      <td>94.8</td>\n      <td>100.0</td>\n      <td>52.0</td>\n      <td>35.0</td>\n      <td>95.0</td>\n      <td>130.0</td>\n      <td>0</td>\n      <td>0</td>\n      <td>1.0</td>\n      <td>0.0</td>\n      <td>0.0</td>\n      <td>0.0</td>\n      <td>Private Hospital</td>\n      <td>0.0</td>\n      <td>0</td>\n      <td>1.0</td>\n      <td>1</td>\n      <td>0</td>\n      <td>1</td>\n      <td>1.0</td>\n      <td>0.0</td>\n      <td>1.0</td>\n      <td>0.0</td>\n      <td>4379</td>\n    </tr>\n    <tr>\n      <th>1</th>\n      <td>85</td>\n      <td>F</td>\n      <td>east</td>\n      <td>66.3</td>\n      <td>166.1</td>\n      <td>24.03</td>\n      <td>0.0</td>\n      <td>89.6</td>\n      <td>134.0</td>\n      <td>84.0</td>\n      <td>59.0</td>\n      <td>153.0</td>\n      <td>212.0</td>\n      <td>0</td>\n      <td>0</td>\n      <td>2.0</td>\n      <td>0.0</td>\n      <td>0.0</td>\n      <td>0.0</td>\n      <td>Private Hospital</td>\n      <td>0.0</td>\n      <td>1</td>\n      <td>0.0</td>\n      <td>0</td>\n      <td>0</td>\n      <td>0</td>\n      <td>0.0</td>\n      <td>0.0</td>\n      <td>0.0</td>\n      <td>NaN</td>\n      <td>7623</td>\n    </tr>\n    <tr>\n      <th>2</th>\n      <td>32</td>\n      <td>F</td>\n      <td>east</td>\n      <td>109.9</td>\n      <td>173.2</td>\n      <td>36.64</td>\n      <td>1.0</td>\n      <td>111.7</td>\n      <td>124.0</td>\n      <td>84.0</td>\n      <td>39.0</td>\n      <td>133.0</td>\n      <td>172.0</td>\n      <td>0</td>\n      <td>0</td>\n      <td>2.0</td>\n      <td>1.0</td>\n      <td>0.0</td>\n      <td>1.0</td>\n      <td>Private Hospital</td>\n      <td>0.0</td>\n      <td>0</td>\n      <td>0.0</td>\n      <td>0</td>\n      <td>0</td>\n      <td>0</td>\n      <td>0.0</td>\n      <td>0.0</td>\n      <td>0.0</td>\n      <td>0.0</td>\n      <td>1764</td>\n    </tr>\n    <tr>\n      <th>3</th>\n      <td>22</td>\n      <td>M</td>\n      <td>east</td>\n      <td>58.7</td>\n      <td>171.3</td>\n      <td>20.00</td>\n      <td>0.0</td>\n      <td>78.0</td>\n      <td>104.0</td>\n      <td>56.0</td>\n      <td>48.0</td>\n      <td>98.0</td>\n      <td>146.0</td>\n      <td>0</td>\n      <td>0</td>\n      <td>2.0</td>\n      <td>1.0</td>\n      <td>1.0</td>\n      <td>0.0</td>\n      <td>Never Counsulted</td>\n      <td>0.0</td>\n      <td>0</td>\n      <td>0.0</td>\n      <td>0</td>\n      <td>0</td>\n      <td>0</td>\n      <td>0.0</td>\n      <td>0.0</td>\n      <td>0.0</td>\n      <td>0.0</td>\n      <td>5450</td>\n    </tr>\n    <tr>\n      <th>4</th>\n      <td>44</td>\n      <td>F</td>\n      <td>west</td>\n      <td>79.7</td>\n      <td>172.1</td>\n      <td>26.91</td>\n      <td>0.0</td>\n      <td>93.8</td>\n      <td>114.0</td>\n      <td>60.0</td>\n      <td>34.0</td>\n      <td>195.0</td>\n      <td>229.0</td>\n      <td>0</td>\n      <td>0</td>\n      <td>2.0</td>\n      <td>0.0</td>\n      <td>0.0</td>\n      <td>0.0</td>\n      <td>Private Hospital</td>\n      <td>0.0</td>\n      <td>0</td>\n      <td>0.0</td>\n      <td>0</td>\n      <td>0</td>\n      <td>0</td>\n      <td>0.0</td>\n      <td>0.0</td>\n      <td>0.0</td>\n      <td>0.0</td>\n      <td>5196</td>\n    </tr>\n  </tbody>\n</table>\n</div>"
     },
     "execution_count": 2,
     "metadata": {},
     "output_type": "execute_result"
    }
   ],
   "source": [
    "# path = '/home/kesci/data/competition_A/'\n",
    "path = './data/competition_A/'\n",
    "train_df = pd.read_csv(path+'train_set.csv')\n",
    "test_df  = pd.read_csv(path+'test_set.csv')\n",
    "submission  =  pd.read_csv(path+'submission_example.csv')\n",
    "print('Train Shape:{}\\nTest Shape:{}'.format(train_df.shape,test_df.shape))\n",
    "train_df.head(5)\n"
   ],
   "metadata": {
    "collapsed": false,
    "pycharm": {
     "name": "#%%\n"
    }
   }
  },
  {
   "cell_type": "markdown",
   "source": [
    "## 3.数据EDA"
   ],
   "metadata": {
    "collapsed": false,
    "pycharm": {
     "name": "#%% md\n"
    }
   }
  },
  {
   "cell_type": "code",
   "source": [
    "train_df.describe()\n",
    "\n",
    "# total_missingvalues = train_df.isnull().sum()\n",
    "# total_missingvalues"
   ],
   "metadata": {
    "collapsed": false,
    "pycharm": {
     "name": "#%%\n"
    }
   },
   "execution_count": 3,
   "outputs": [
    {
     "data": {
      "text/plain": "                年龄           体重           身高         体重指数         肥胖腰围  \\\ncount  6000.000000  5860.000000  5864.000000  5791.000000  5791.000000   \nmean     49.331000    79.140884   167.037142    28.306374     0.317044   \nstd      18.784868    19.293747    10.124373     6.136871     0.465365   \nmin      20.000000    33.700000   130.400000    14.420000     0.000000   \n25%      33.000000    65.600000   159.700000    24.080000     0.000000   \n50%      47.000000    76.700000   166.600000    27.390000     0.000000   \n75%      65.000000    89.525000   174.200000    31.390000     1.000000   \nmax      85.000000   191.100000   200.100000    66.440000     1.000000   \n\n                腰围         最高血压         最低血压         好胆固醇         坏胆固醇  \\\ncount  5776.000000  5781.000000  5727.000000  5994.000000  5993.000000   \nmean     96.837846   125.582944    71.469356    51.627794   152.999166   \nstd      14.928330    21.004949    12.663285    15.518744    42.745425   \nmin      58.600000    72.000000    10.000000    12.000000    27.000000   \n25%      86.300000   111.000000    64.000000    41.000000   124.000000   \n50%      96.300000   122.000000    72.000000    49.000000   150.000000   \n75%     106.100000   136.000000    79.000000    60.000000   178.000000   \nmax     166.000000   233.000000   132.000000   160.000000   684.000000   \n\n              总胆固醇         血脂异常         PVD         体育活动           教育  \\\ncount  5993.000000  6000.000000  6000.00000  5992.000000  5986.000000   \nmean    204.628066     0.105833     0.04150     2.017190     0.434347   \nstd      42.707270     0.307650     0.19946     0.812113     0.495712   \nmin      72.000000     0.000000     0.00000     1.000000     0.000000   \n25%     176.000000     0.000000     0.00000     1.000000     0.000000   \n50%     201.000000     0.000000     0.00000     2.000000     0.000000   \n75%     230.000000     0.000000     0.00000     2.000000     1.000000   \nmax     727.000000     1.000000     1.00000     4.000000     1.000000   \n\n                未婚           收入         视力不佳           饮酒          高血压  \\\ncount  5692.000000  5237.000000  5598.000000  6000.000000  5951.000000   \nmean      0.366831     0.418178     0.065916     0.301000     0.401613   \nstd       0.481982     0.493307     0.248158     0.458731     0.490266   \nmin       0.000000     0.000000     0.000000     0.000000     0.000000   \n25%       0.000000     0.000000     0.000000     0.000000     0.000000   \n50%       0.000000     0.000000     0.000000     0.000000     0.000000   \n75%       1.000000     1.000000     0.000000     1.000000     1.000000   \nmax       1.000000     1.000000     1.000000     1.000000     1.000000   \n\n             家庭高血压          糖尿病        家族糖尿病           肝炎         家族肝炎  \\\ncount  6000.000000  6000.000000  6000.000000  5984.000000  5995.000000   \nmean      0.239500     0.110333     0.314500     0.067179     0.020684   \nstd       0.426814     0.313331     0.464355     0.250353     0.142336   \nmin       0.000000     0.000000     0.000000     0.000000     0.000000   \n25%       0.000000     0.000000     0.000000     0.000000     0.000000   \n50%       0.000000     0.000000     0.000000     0.000000     0.000000   \n75%       0.000000     0.000000     1.000000     0.000000     0.000000   \nmax       1.000000     1.000000     1.000000     1.000000     1.000000   \n\n              慢性疲劳          ALF           ID  \ncount  5974.000000  4119.000000  6000.000000  \nmean      0.031637     0.074775  4362.312833  \nstd       0.175047     0.263061  2538.515901  \nmin       0.000000     0.000000     0.000000  \n25%       0.000000     0.000000  2142.750000  \n50%       0.000000     0.000000  4363.500000  \n75%       0.000000     0.000000  6558.250000  \nmax       1.000000     1.000000  8784.000000  ",
      "text/html": "<div>\n<style scoped>\n    .dataframe tbody tr th:only-of-type {\n        vertical-align: middle;\n    }\n\n    .dataframe tbody tr th {\n        vertical-align: top;\n    }\n\n    .dataframe thead th {\n        text-align: right;\n    }\n</style>\n<table border=\"1\" class=\"dataframe\">\n  <thead>\n    <tr style=\"text-align: right;\">\n      <th></th>\n      <th>年龄</th>\n      <th>体重</th>\n      <th>身高</th>\n      <th>体重指数</th>\n      <th>肥胖腰围</th>\n      <th>腰围</th>\n      <th>最高血压</th>\n      <th>最低血压</th>\n      <th>好胆固醇</th>\n      <th>坏胆固醇</th>\n      <th>总胆固醇</th>\n      <th>血脂异常</th>\n      <th>PVD</th>\n      <th>体育活动</th>\n      <th>教育</th>\n      <th>未婚</th>\n      <th>收入</th>\n      <th>视力不佳</th>\n      <th>饮酒</th>\n      <th>高血压</th>\n      <th>家庭高血压</th>\n      <th>糖尿病</th>\n      <th>家族糖尿病</th>\n      <th>肝炎</th>\n      <th>家族肝炎</th>\n      <th>慢性疲劳</th>\n      <th>ALF</th>\n      <th>ID</th>\n    </tr>\n  </thead>\n  <tbody>\n    <tr>\n      <th>count</th>\n      <td>6000.000000</td>\n      <td>5860.000000</td>\n      <td>5864.000000</td>\n      <td>5791.000000</td>\n      <td>5791.000000</td>\n      <td>5776.000000</td>\n      <td>5781.000000</td>\n      <td>5727.000000</td>\n      <td>5994.000000</td>\n      <td>5993.000000</td>\n      <td>5993.000000</td>\n      <td>6000.000000</td>\n      <td>6000.00000</td>\n      <td>5992.000000</td>\n      <td>5986.000000</td>\n      <td>5692.000000</td>\n      <td>5237.000000</td>\n      <td>5598.000000</td>\n      <td>6000.000000</td>\n      <td>5951.000000</td>\n      <td>6000.000000</td>\n      <td>6000.000000</td>\n      <td>6000.000000</td>\n      <td>5984.000000</td>\n      <td>5995.000000</td>\n      <td>5974.000000</td>\n      <td>4119.000000</td>\n      <td>6000.000000</td>\n    </tr>\n    <tr>\n      <th>mean</th>\n      <td>49.331000</td>\n      <td>79.140884</td>\n      <td>167.037142</td>\n      <td>28.306374</td>\n      <td>0.317044</td>\n      <td>96.837846</td>\n      <td>125.582944</td>\n      <td>71.469356</td>\n      <td>51.627794</td>\n      <td>152.999166</td>\n      <td>204.628066</td>\n      <td>0.105833</td>\n      <td>0.04150</td>\n      <td>2.017190</td>\n      <td>0.434347</td>\n      <td>0.366831</td>\n      <td>0.418178</td>\n      <td>0.065916</td>\n      <td>0.301000</td>\n      <td>0.401613</td>\n      <td>0.239500</td>\n      <td>0.110333</td>\n      <td>0.314500</td>\n      <td>0.067179</td>\n      <td>0.020684</td>\n      <td>0.031637</td>\n      <td>0.074775</td>\n      <td>4362.312833</td>\n    </tr>\n    <tr>\n      <th>std</th>\n      <td>18.784868</td>\n      <td>19.293747</td>\n      <td>10.124373</td>\n      <td>6.136871</td>\n      <td>0.465365</td>\n      <td>14.928330</td>\n      <td>21.004949</td>\n      <td>12.663285</td>\n      <td>15.518744</td>\n      <td>42.745425</td>\n      <td>42.707270</td>\n      <td>0.307650</td>\n      <td>0.19946</td>\n      <td>0.812113</td>\n      <td>0.495712</td>\n      <td>0.481982</td>\n      <td>0.493307</td>\n      <td>0.248158</td>\n      <td>0.458731</td>\n      <td>0.490266</td>\n      <td>0.426814</td>\n      <td>0.313331</td>\n      <td>0.464355</td>\n      <td>0.250353</td>\n      <td>0.142336</td>\n      <td>0.175047</td>\n      <td>0.263061</td>\n      <td>2538.515901</td>\n    </tr>\n    <tr>\n      <th>min</th>\n      <td>20.000000</td>\n      <td>33.700000</td>\n      <td>130.400000</td>\n      <td>14.420000</td>\n      <td>0.000000</td>\n      <td>58.600000</td>\n      <td>72.000000</td>\n      <td>10.000000</td>\n      <td>12.000000</td>\n      <td>27.000000</td>\n      <td>72.000000</td>\n      <td>0.000000</td>\n      <td>0.00000</td>\n      <td>1.000000</td>\n      <td>0.000000</td>\n      <td>0.000000</td>\n      <td>0.000000</td>\n      <td>0.000000</td>\n      <td>0.000000</td>\n      <td>0.000000</td>\n      <td>0.000000</td>\n      <td>0.000000</td>\n      <td>0.000000</td>\n      <td>0.000000</td>\n      <td>0.000000</td>\n      <td>0.000000</td>\n      <td>0.000000</td>\n      <td>0.000000</td>\n    </tr>\n    <tr>\n      <th>25%</th>\n      <td>33.000000</td>\n      <td>65.600000</td>\n      <td>159.700000</td>\n      <td>24.080000</td>\n      <td>0.000000</td>\n      <td>86.300000</td>\n      <td>111.000000</td>\n      <td>64.000000</td>\n      <td>41.000000</td>\n      <td>124.000000</td>\n      <td>176.000000</td>\n      <td>0.000000</td>\n      <td>0.00000</td>\n      <td>1.000000</td>\n      <td>0.000000</td>\n      <td>0.000000</td>\n      <td>0.000000</td>\n      <td>0.000000</td>\n      <td>0.000000</td>\n      <td>0.000000</td>\n      <td>0.000000</td>\n      <td>0.000000</td>\n      <td>0.000000</td>\n      <td>0.000000</td>\n      <td>0.000000</td>\n      <td>0.000000</td>\n      <td>0.000000</td>\n      <td>2142.750000</td>\n    </tr>\n    <tr>\n      <th>50%</th>\n      <td>47.000000</td>\n      <td>76.700000</td>\n      <td>166.600000</td>\n      <td>27.390000</td>\n      <td>0.000000</td>\n      <td>96.300000</td>\n      <td>122.000000</td>\n      <td>72.000000</td>\n      <td>49.000000</td>\n      <td>150.000000</td>\n      <td>201.000000</td>\n      <td>0.000000</td>\n      <td>0.00000</td>\n      <td>2.000000</td>\n      <td>0.000000</td>\n      <td>0.000000</td>\n      <td>0.000000</td>\n      <td>0.000000</td>\n      <td>0.000000</td>\n      <td>0.000000</td>\n      <td>0.000000</td>\n      <td>0.000000</td>\n      <td>0.000000</td>\n      <td>0.000000</td>\n      <td>0.000000</td>\n      <td>0.000000</td>\n      <td>0.000000</td>\n      <td>4363.500000</td>\n    </tr>\n    <tr>\n      <th>75%</th>\n      <td>65.000000</td>\n      <td>89.525000</td>\n      <td>174.200000</td>\n      <td>31.390000</td>\n      <td>1.000000</td>\n      <td>106.100000</td>\n      <td>136.000000</td>\n      <td>79.000000</td>\n      <td>60.000000</td>\n      <td>178.000000</td>\n      <td>230.000000</td>\n      <td>0.000000</td>\n      <td>0.00000</td>\n      <td>2.000000</td>\n      <td>1.000000</td>\n      <td>1.000000</td>\n      <td>1.000000</td>\n      <td>0.000000</td>\n      <td>1.000000</td>\n      <td>1.000000</td>\n      <td>0.000000</td>\n      <td>0.000000</td>\n      <td>1.000000</td>\n      <td>0.000000</td>\n      <td>0.000000</td>\n      <td>0.000000</td>\n      <td>0.000000</td>\n      <td>6558.250000</td>\n    </tr>\n    <tr>\n      <th>max</th>\n      <td>85.000000</td>\n      <td>191.100000</td>\n      <td>200.100000</td>\n      <td>66.440000</td>\n      <td>1.000000</td>\n      <td>166.000000</td>\n      <td>233.000000</td>\n      <td>132.000000</td>\n      <td>160.000000</td>\n      <td>684.000000</td>\n      <td>727.000000</td>\n      <td>1.000000</td>\n      <td>1.00000</td>\n      <td>4.000000</td>\n      <td>1.000000</td>\n      <td>1.000000</td>\n      <td>1.000000</td>\n      <td>1.000000</td>\n      <td>1.000000</td>\n      <td>1.000000</td>\n      <td>1.000000</td>\n      <td>1.000000</td>\n      <td>1.000000</td>\n      <td>1.000000</td>\n      <td>1.000000</td>\n      <td>1.000000</td>\n      <td>1.000000</td>\n      <td>8784.000000</td>\n    </tr>\n  </tbody>\n</table>\n</div>"
     },
     "execution_count": 3,
     "metadata": {},
     "output_type": "execute_result"
    }
   ]
  },
  {
   "cell_type": "markdown",
   "source": [
    "### 3.1 根据训练集的列可以得到大致如下三种特征：数字列、二值列（0或1）、字符列"
   ],
   "metadata": {
    "collapsed": false
   }
  },
  {
   "cell_type": "code",
   "execution_count": 4,
   "outputs": [],
   "source": [
    "# 数字列\n",
    "num_columns = ['年龄','体重','身高','体重指数', '腰围', '最高血压', '最低血压',\n",
    "                '好胆固醇', '坏胆固醇', '总胆固醇','收入']\n",
    "# 二值列\n",
    "zero_to_one_columns = ['肥胖腰围','血脂异常','PVD']\n",
    "\n",
    "# 字符列\n",
    "str_columns = ['性别','区域','体育活动','教育','未婚','护理来源','视力不佳','饮酒','高血压',\n",
    "                '家庭高血压', '糖尿病', '家族糖尿病','家族肝炎', '慢性疲劳','ALF']\n"
   ],
   "metadata": {
    "collapsed": false,
    "pycharm": {
     "name": "#%%\n"
    }
   }
  },
  {
   "cell_type": "markdown",
   "source": [
    "#### 3.1.1 肝炎与年龄"
   ],
   "metadata": {
    "collapsed": false,
    "pycharm": {
     "name": "#%% md\n"
    }
   }
  },
  {
   "cell_type": "code",
   "execution_count": 5,
   "outputs": [
    {
     "data": {
      "text/plain": "<seaborn.axisgrid.FacetGrid at 0x15691e81f98>"
     },
     "execution_count": 5,
     "metadata": {},
     "output_type": "execute_result"
    },
    {
     "data": {
      "text/plain": "<Figure size 432x216 with 2 Axes>",
      "image/png": "[encoded data removed]"
     },
     "metadata": {
      "needs_background": "light"
     },
     "output_type": "display_data"
    }
   ],
   "source": [
    "g = sns.FacetGrid(train_df, col='肝炎')\n",
    "g.map(plt.hist, '年龄', bins=20)"
   ],
   "metadata": {
    "collapsed": false,
    "pycharm": {
     "name": "#%%\n"
    }
   }
  },
  {
   "cell_type": "markdown",
   "source": [
    "### 3.2 特征工程"
   ],
   "metadata": {
    "collapsed": false,
    "pycharm": {
     "name": "#%% md\n"
    }
   }
  },
  {
   "cell_type": "code",
   "execution_count": 6,
   "outputs": [
    {
     "data": {
      "text/plain": "年龄         int64\n性别        object\n区域        object\n体重       float64\n身高       float64\n体重指数     float64\n肥胖腰围     float64\n腰围       float64\n最高血压     float64\n最低血压     float64\n好胆固醇     float64\n坏胆固醇     float64\n总胆固醇     float64\n血脂异常       int64\nPVD        int64\n体育活动     float64\n教育       float64\n未婚       float64\n收入       float64\n护理来源      object\n视力不佳     float64\n饮酒         int64\n高血压      float64\n家庭高血压      int64\n糖尿病        int64\n家族糖尿病      int64\n肝炎       float64\n家族肝炎     float64\n慢性疲劳     float64\nALF      float64\nID         int64\ndtype: object"
     },
     "execution_count": 6,
     "metadata": {},
     "output_type": "execute_result"
    }
   ],
   "source": [
    "train_df.dtypes"
   ],
   "metadata": {
    "collapsed": false,
    "pycharm": {
     "name": "#%%\n"
    }
   }
  },
  {
   "cell_type": "code",
   "execution_count": 7,
   "outputs": [],
   "source": [
    "# 处理缺失值\n",
    "train_df.fillna(method='ffill', inplace=True)\n",
    "test_df.fillna(0, inplace=True)\n",
    "\n",
    "# One-hot编码\n",
    "train_df = pd.get_dummies(train_df)\n",
    "test_df = pd.get_dummies(test_df)\n",
    "\n",
    "\n",
    "# 字符编码\n",
    "# for i in tqdm(str_columns):\n",
    "#     lbl = LabelEncoder()\n",
    "#     train_df[i] = lbl.fit_transform(train_df[i].astype(str))\n",
    "#     test_df[i] = lbl.fit_transform(test_df[i].astype(str))\n",
    "#\n",
    "\n",
    "# 字符列\n",
    "\n",
    "features = num_columns\n",
    "\n",
    "#数值归一化\n",
    "train_df[features] = MinMaxScaler().fit_transform(train_df[features])\n",
    "test_df[features] = MinMaxScaler().fit_transform(test_df[features])\n",
    "\n"
   ],
   "metadata": {
    "collapsed": false,
    "pycharm": {
     "name": "#%%\n"
    }
   }
  },
  {
   "cell_type": "markdown",
   "source": [
    "## 4.模型"
   ],
   "metadata": {
    "collapsed": false,
    "pycharm": {
     "name": "#%% md\n"
    }
   }
  },
  {
   "cell_type": "markdown",
   "source": [
    "### 4.1 准备数据集"
   ],
   "metadata": {
    "collapsed": false,
    "pycharm": {
     "name": "#%% md\n"
    }
   }
  },
  {
   "cell_type": "code",
   "execution_count": 8,
   "outputs": [],
   "source": [
    "all_columns = [i for i in train_df.columns if i not in ['肝炎','ID']]\n",
    "\n",
    "train_x, train_y = train_df[all_columns].values, train_df['肝炎'].values\n",
    "test_x  = test_df[all_columns].values\n",
    "submission['hepatitis'] = 0"
   ],
   "metadata": {
    "collapsed": false,
    "pycharm": {
     "name": "#%%\n"
    }
   }
  },
  {
   "cell_type": "markdown",
   "source": [
    "### 4.2 训练模型"
   ],
   "metadata": {
    "collapsed": false,
    "pycharm": {
     "name": "#%% md\n"
    }
   }
  },
  {
   "cell_type": "code",
   "execution_count": 9,
   "outputs": [
    {
     "name": "stdout",
     "output_type": "stream",
     "text": [
      "[1]\tvalid_0's binary_logloss: 0.239528\n",
      "[2]\tvalid_0's binary_logloss: 0.233958\n",
      "[3]\tvalid_0's binary_logloss: 0.22991\n",
      "[4]\tvalid_0's binary_logloss: 0.22707\n",
      "[5]\tvalid_0's binary_logloss: 0.22524\n",
      "[6]\tvalid_0's binary_logloss: 0.223755\n",
      "[7]\tvalid_0's binary_logloss: 0.221266\n",
      "[8]\tvalid_0's binary_logloss: 0.218959\n",
      "[9]\tvalid_0's binary_logloss: 0.216793\n",
      "[10]\tvalid_0's binary_logloss: 0.214971\n",
      "[11]\tvalid_0's binary_logloss: 0.213941\n",
      "[12]\tvalid_0's binary_logloss: 0.212761\n",
      "[13]\tvalid_0's binary_logloss: 0.211317\n",
      "[14]\tvalid_0's binary_logloss: 0.209672\n",
      "[15]\tvalid_0's binary_logloss: 0.208142\n",
      "[16]\tvalid_0's binary_logloss: 0.207343\n",
      "[17]\tvalid_0's binary_logloss: 0.206528\n",
      "[18]\tvalid_0's binary_logloss: 0.205116\n",
      "[19]\tvalid_0's binary_logloss: 0.204225\n",
      "[20]\tvalid_0's binary_logloss: 0.203597\n",
      "[21]\tvalid_0's binary_logloss: 0.20338\n",
      "[22]\tvalid_0's binary_logloss: 0.2026\n",
      "[23]\tvalid_0's binary_logloss: 0.201445\n",
      "[24]\tvalid_0's binary_logloss: 0.201139\n",
      "[25]\tvalid_0's binary_logloss: 0.199805\n",
      "[26]\tvalid_0's binary_logloss: 0.19882\n",
      "[27]\tvalid_0's binary_logloss: 0.198298\n",
      "[28]\tvalid_0's binary_logloss: 0.198574\n",
      "[29]\tvalid_0's binary_logloss: 0.197813\n",
      "[30]\tvalid_0's binary_logloss: 0.196791\n",
      "[31]\tvalid_0's binary_logloss: 0.195841\n",
      "[32]\tvalid_0's binary_logloss: 0.195637\n",
      "[33]\tvalid_0's binary_logloss: 0.194981\n",
      "[34]\tvalid_0's binary_logloss: 0.194487\n",
      "[35]\tvalid_0's binary_logloss: 0.193183\n",
      "[36]\tvalid_0's binary_logloss: 0.192606\n",
      "[37]\tvalid_0's binary_logloss: 0.192237\n",
      "[38]\tvalid_0's binary_logloss: 0.192442\n",
      "[39]\tvalid_0's binary_logloss: 0.19195\n",
      "[40]\tvalid_0's binary_logloss: 0.191214\n",
      "[41]\tvalid_0's binary_logloss: 0.190707\n",
      "[42]\tvalid_0's binary_logloss: 0.190483\n",
      "[43]\tvalid_0's binary_logloss: 0.189556\n",
      "[44]\tvalid_0's binary_logloss: 0.189202\n",
      "[45]\tvalid_0's binary_logloss: 0.188897\n",
      "[46]\tvalid_0's binary_logloss: 0.189048\n",
      "[47]\tvalid_0's binary_logloss: 0.188921\n",
      "[48]\tvalid_0's binary_logloss: 0.188862\n",
      "[49]\tvalid_0's binary_logloss: 0.188655\n",
      "[50]\tvalid_0's binary_logloss: 0.188741\n",
      "[51]\tvalid_0's binary_logloss: 0.188572\n",
      "[52]\tvalid_0's binary_logloss: 0.188182\n",
      "[53]\tvalid_0's binary_logloss: 0.188022\n",
      "[54]\tvalid_0's binary_logloss: 0.188\n",
      "[55]\tvalid_0's binary_logloss: 0.188181\n",
      "[56]\tvalid_0's binary_logloss: 0.188203\n",
      "[57]\tvalid_0's binary_logloss: 0.187595\n",
      "[58]\tvalid_0's binary_logloss: 0.187415\n",
      "[59]\tvalid_0's binary_logloss: 0.187383\n",
      "[60]\tvalid_0's binary_logloss: 0.1874\n",
      "[61]\tvalid_0's binary_logloss: 0.187351\n",
      "[62]\tvalid_0's binary_logloss: 0.187016\n",
      "[63]\tvalid_0's binary_logloss: 0.186978\n",
      "[64]\tvalid_0's binary_logloss: 0.186991\n",
      "[65]\tvalid_0's binary_logloss: 0.18733\n",
      "[66]\tvalid_0's binary_logloss: 0.187336\n",
      "[67]\tvalid_0's binary_logloss: 0.187191\n",
      "[68]\tvalid_0's binary_logloss: 0.186692\n",
      "[69]\tvalid_0's binary_logloss: 0.186502\n",
      "[70]\tvalid_0's binary_logloss: 0.18666\n",
      "[71]\tvalid_0's binary_logloss: 0.18679\n",
      "[72]\tvalid_0's binary_logloss: 0.187149\n",
      "[73]\tvalid_0's binary_logloss: 0.187091\n"
     ]
    },
    {
     "ename": "KeyboardInterrupt",
     "evalue": "",
     "output_type": "error",
     "traceback": [
      "\u001B[1;31m---------------------------------------------------------------------------\u001B[0m",
      "\u001B[1;31mKeyboardInterrupt\u001B[0m                         Traceback (most recent call last)",
      "\u001B[1;32m<ipython-input-9-0a7c5e3fac1f>\u001B[0m in \u001B[0;36m<module>\u001B[1;34m\u001B[0m\n\u001B[0;32m     14\u001B[0m     \u001B[0mX_train\u001B[0m\u001B[1;33m,\u001B[0m \u001B[0mY_train\u001B[0m \u001B[1;33m=\u001B[0m \u001B[0mtrain_x\u001B[0m\u001B[1;33m[\u001B[0m\u001B[0mtrain\u001B[0m\u001B[1;33m]\u001B[0m\u001B[1;33m,\u001B[0m \u001B[0mtrain_y\u001B[0m\u001B[1;33m[\u001B[0m\u001B[0mtrain\u001B[0m\u001B[1;33m]\u001B[0m\u001B[1;33m\u001B[0m\u001B[1;33m\u001B[0m\u001B[0m\n\u001B[0;32m     15\u001B[0m     \u001B[0mX_valid\u001B[0m\u001B[1;33m,\u001B[0m \u001B[0mY_valid\u001B[0m \u001B[1;33m=\u001B[0m \u001B[0mtrain_x\u001B[0m\u001B[1;33m[\u001B[0m\u001B[0mvalid\u001B[0m\u001B[1;33m]\u001B[0m\u001B[1;33m,\u001B[0m \u001B[0mtrain_y\u001B[0m\u001B[1;33m[\u001B[0m\u001B[0mvalid\u001B[0m\u001B[1;33m]\u001B[0m\u001B[1;33m\u001B[0m\u001B[1;33m\u001B[0m\u001B[0m\n\u001B[1;32m---> 16\u001B[1;33m     \u001B[0mmodel\u001B[0m\u001B[1;33m.\u001B[0m\u001B[0mfit\u001B[0m\u001B[1;33m(\u001B[0m\u001B[0mX_train\u001B[0m\u001B[1;33m,\u001B[0m\u001B[0mY_train\u001B[0m\u001B[1;33m,\u001B[0m \u001B[0meval_set\u001B[0m\u001B[1;33m=\u001B[0m\u001B[1;33m(\u001B[0m\u001B[0mX_valid\u001B[0m\u001B[1;33m,\u001B[0m \u001B[0mY_valid\u001B[0m\u001B[1;33m)\u001B[0m\u001B[1;33m)\u001B[0m\u001B[1;33m\u001B[0m\u001B[1;33m\u001B[0m\u001B[0m\n\u001B[0m\u001B[0;32m     17\u001B[0m     \u001B[0mY_valid_pred_prob\u001B[0m \u001B[1;33m=\u001B[0m \u001B[0mmodel\u001B[0m\u001B[1;33m.\u001B[0m\u001B[0mpredict_proba\u001B[0m\u001B[1;33m(\u001B[0m\u001B[0mX_valid\u001B[0m\u001B[1;33m)\u001B[0m\u001B[1;33m\u001B[0m\u001B[1;33m\u001B[0m\u001B[0m\n\u001B[0;32m     18\u001B[0m     \u001B[0mresult\u001B[0m\u001B[1;33m.\u001B[0m\u001B[0mappend\u001B[0m\u001B[1;33m(\u001B[0m\u001B[0mroc_auc_score\u001B[0m\u001B[1;33m(\u001B[0m\u001B[0mY_valid\u001B[0m\u001B[1;33m,\u001B[0m \u001B[0mY_valid_pred_prob\u001B[0m\u001B[1;33m[\u001B[0m\u001B[1;33m:\u001B[0m\u001B[1;33m,\u001B[0m \u001B[1;36m1\u001B[0m\u001B[1;33m]\u001B[0m\u001B[1;33m)\u001B[0m\u001B[1;33m)\u001B[0m\u001B[1;33m\u001B[0m\u001B[1;33m\u001B[0m\u001B[0m\n",
      "\u001B[1;32m~\\.conda\\envs\\python36\\lib\\site-packages\\lightgbm\\sklearn.py\u001B[0m in \u001B[0;36mfit\u001B[1;34m(self, X, y, sample_weight, init_score, eval_set, eval_names, eval_sample_weight, eval_class_weight, eval_init_score, eval_metric, early_stopping_rounds, verbose, feature_name, categorical_feature, callbacks)\u001B[0m\n\u001B[0;32m    742\u001B[0m                                         \u001B[0mverbose\u001B[0m\u001B[1;33m=\u001B[0m\u001B[0mverbose\u001B[0m\u001B[1;33m,\u001B[0m \u001B[0mfeature_name\u001B[0m\u001B[1;33m=\u001B[0m\u001B[0mfeature_name\u001B[0m\u001B[1;33m,\u001B[0m\u001B[1;33m\u001B[0m\u001B[1;33m\u001B[0m\u001B[0m\n\u001B[0;32m    743\u001B[0m                                         \u001B[0mcategorical_feature\u001B[0m\u001B[1;33m=\u001B[0m\u001B[0mcategorical_feature\u001B[0m\u001B[1;33m,\u001B[0m\u001B[1;33m\u001B[0m\u001B[1;33m\u001B[0m\u001B[0m\n\u001B[1;32m--> 744\u001B[1;33m                                         callbacks=callbacks)\n\u001B[0m\u001B[0;32m    745\u001B[0m         \u001B[1;32mreturn\u001B[0m \u001B[0mself\u001B[0m\u001B[1;33m\u001B[0m\u001B[1;33m\u001B[0m\u001B[0m\n\u001B[0;32m    746\u001B[0m \u001B[1;33m\u001B[0m\u001B[0m\n",
      "\u001B[1;32m~\\.conda\\envs\\python36\\lib\\site-packages\\lightgbm\\sklearn.py\u001B[0m in \u001B[0;36mfit\u001B[1;34m(self, X, y, sample_weight, init_score, group, eval_set, eval_names, eval_sample_weight, eval_class_weight, eval_init_score, eval_group, eval_metric, early_stopping_rounds, verbose, feature_name, categorical_feature, callbacks)\u001B[0m\n\u001B[0;32m    542\u001B[0m                               \u001B[0mverbose_eval\u001B[0m\u001B[1;33m=\u001B[0m\u001B[0mverbose\u001B[0m\u001B[1;33m,\u001B[0m \u001B[0mfeature_name\u001B[0m\u001B[1;33m=\u001B[0m\u001B[0mfeature_name\u001B[0m\u001B[1;33m,\u001B[0m\u001B[1;33m\u001B[0m\u001B[1;33m\u001B[0m\u001B[0m\n\u001B[0;32m    543\u001B[0m                               \u001B[0mcategorical_feature\u001B[0m\u001B[1;33m=\u001B[0m\u001B[0mcategorical_feature\u001B[0m\u001B[1;33m,\u001B[0m\u001B[1;33m\u001B[0m\u001B[1;33m\u001B[0m\u001B[0m\n\u001B[1;32m--> 544\u001B[1;33m                               callbacks=callbacks)\n\u001B[0m\u001B[0;32m    545\u001B[0m \u001B[1;33m\u001B[0m\u001B[0m\n\u001B[0;32m    546\u001B[0m         \u001B[1;32mif\u001B[0m \u001B[0mevals_result\u001B[0m\u001B[1;33m:\u001B[0m\u001B[1;33m\u001B[0m\u001B[1;33m\u001B[0m\u001B[0m\n",
      "\u001B[1;32m~\\.conda\\envs\\python36\\lib\\site-packages\\lightgbm\\engine.py\u001B[0m in \u001B[0;36mtrain\u001B[1;34m(params, train_set, num_boost_round, valid_sets, valid_names, fobj, feval, init_model, feature_name, categorical_feature, early_stopping_rounds, evals_result, verbose_eval, learning_rates, keep_training_booster, callbacks)\u001B[0m\n\u001B[0;32m    216\u001B[0m                                     evaluation_result_list=None))\n\u001B[0;32m    217\u001B[0m \u001B[1;33m\u001B[0m\u001B[0m\n\u001B[1;32m--> 218\u001B[1;33m         \u001B[0mbooster\u001B[0m\u001B[1;33m.\u001B[0m\u001B[0mupdate\u001B[0m\u001B[1;33m(\u001B[0m\u001B[0mfobj\u001B[0m\u001B[1;33m=\u001B[0m\u001B[0mfobj\u001B[0m\u001B[1;33m)\u001B[0m\u001B[1;33m\u001B[0m\u001B[1;33m\u001B[0m\u001B[0m\n\u001B[0m\u001B[0;32m    219\u001B[0m \u001B[1;33m\u001B[0m\u001B[0m\n\u001B[0;32m    220\u001B[0m         \u001B[0mevaluation_result_list\u001B[0m \u001B[1;33m=\u001B[0m \u001B[1;33m[\u001B[0m\u001B[1;33m]\u001B[0m\u001B[1;33m\u001B[0m\u001B[1;33m\u001B[0m\u001B[0m\n",
      "\u001B[1;32m~\\.conda\\envs\\python36\\lib\\site-packages\\lightgbm\\basic.py\u001B[0m in \u001B[0;36mupdate\u001B[1;34m(self, train_set, fobj)\u001B[0m\n\u001B[0;32m   1800\u001B[0m             _safe_call(_LIB.LGBM_BoosterUpdateOneIter(\n\u001B[0;32m   1801\u001B[0m                 \u001B[0mself\u001B[0m\u001B[1;33m.\u001B[0m\u001B[0mhandle\u001B[0m\u001B[1;33m,\u001B[0m\u001B[1;33m\u001B[0m\u001B[1;33m\u001B[0m\u001B[0m\n\u001B[1;32m-> 1802\u001B[1;33m                 ctypes.byref(is_finished)))\n\u001B[0m\u001B[0;32m   1803\u001B[0m             \u001B[0mself\u001B[0m\u001B[1;33m.\u001B[0m\u001B[0m__is_predicted_cur_iter\u001B[0m \u001B[1;33m=\u001B[0m \u001B[1;33m[\u001B[0m\u001B[1;32mFalse\u001B[0m \u001B[1;32mfor\u001B[0m \u001B[0m_\u001B[0m \u001B[1;32min\u001B[0m \u001B[0mrange_\u001B[0m\u001B[1;33m(\u001B[0m\u001B[0mself\u001B[0m\u001B[1;33m.\u001B[0m\u001B[0m__num_dataset\u001B[0m\u001B[1;33m)\u001B[0m\u001B[1;33m]\u001B[0m\u001B[1;33m\u001B[0m\u001B[1;33m\u001B[0m\u001B[0m\n\u001B[0;32m   1804\u001B[0m             \u001B[1;32mreturn\u001B[0m \u001B[0mis_finished\u001B[0m\u001B[1;33m.\u001B[0m\u001B[0mvalue\u001B[0m \u001B[1;33m==\u001B[0m \u001B[1;36m1\u001B[0m\u001B[1;33m\u001B[0m\u001B[1;33m\u001B[0m\u001B[0m\n",
      "\u001B[1;31mKeyboardInterrupt\u001B[0m: "
     ]
    }
   ],
   "source": [
    "kfold = StratifiedKFold(n_splits=5, shuffle=False)\n",
    "\n",
    "\n",
    "model = LGBMClassifier(\n",
    "    boosting_type=\"gbdt\", num_leaves=120, reg_alpha=0, reg_lambda=0.,\n",
    "    max_depth=-1, n_estimators=600, objective='binary',\n",
    "    subsample=0.9, colsample_bytree=0.5, subsample_freq=1,\n",
    "    learning_rate=0.035, random_state=2018\n",
    "    )\n",
    "\n",
    "result = []\n",
    "\n",
    "for train, valid in kfold.split(train_x, train_y):\n",
    "    X_train, Y_train = train_x[train], train_y[train]\n",
    "    X_valid, Y_valid = train_x[valid], train_y[valid]\n",
    "    model.fit(X_train,Y_train, eval_set=(X_valid, Y_valid))\n",
    "    Y_valid_pred_prob = model.predict_proba(X_valid)\n",
    "    result.append(roc_auc_score(Y_valid, Y_valid_pred_prob[:, 1]))\n",
    "    submission['hepatitis'] += model.predict_proba(test_x)[:,1] / 5\n",
    "\n",
    "print(result)"
   ],
   "metadata": {
    "collapsed": false,
    "pycharm": {
     "name": "#%%\n"
    }
   }
  },
  {
   "cell_type": "code",
   "execution_count": null,
   "outputs": [],
   "source": [
    "submission.to_csv('submission.csv',index=False)\n",
    "# !wget -nv -O kesci_submit https://cdn.kesci.com/submit_tool/v4/kesci_submit&&chmod +x kesci_submit\n",
    "# !./kesci_submit -token f3de41fac72af731 -file '/home/kesci/work/submission.csv'\n"
   ],
   "metadata": {
    "collapsed": false,
    "pycharm": {
     "name": "#%%\n"
    }
   }
  }
 ],
 "metadata": {
  "kernelspec": {
   "name": "pycharm-1afc687d",
   "language": "python",
   "display_name": "PyCharm (DiseasePrediction)"
  },
  "language_info": {
   "codemirror_mode": {
    "name": "ipython",
    "version": 2
   },
   "file_extension": ".py",
   "mimetype": "text/x-python",
   "name": "python",
   "nbconvert_exporter": "python",
   "pygments_lexer": "ipython2",
   "version": "2.7.6"
  }
 },
 "nbformat": 4,
 "nbformat_minor": 0
}